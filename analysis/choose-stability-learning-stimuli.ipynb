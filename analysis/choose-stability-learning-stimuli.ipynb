{
 "metadata": {
  "name": "choose-stability-learning-stimuli"
 },
 "nbformat": 3,
 "nbformat_minor": 0,
 "worksheets": [
  {
   "cells": [
    {
     "cell_type": "code",
     "collapsed": false,
     "input": [
      "import numpy as np\n",
      "import pickle\n",
      "import os\n",
      "import yaml\n",
      "\n",
      "import model_observer as mo\n",
      "import analysis_tools as at\n",
      "from stats_tools import normalize"
     ],
     "language": "python",
     "outputs": [],
     "prompt_number": 1
    },
    {
     "cell_type": "markdown",
     "source": [
      "## Configuration"
     ]
    },
    {
     "cell_type": "code",
     "collapsed": false,
     "input": [
      "listpath = \"../stimuli/lists\"\n",
      "confdir = \"../stimuli/meta\"\n",
      "exp_ver = \"F\"\n",
      "stim_ratios = [0.1, 10]\n",
      "nsamps = 300\n",
      "nexp = 40\n",
      "ntrain = 6"
     ],
     "language": "python",
     "outputs": [],
     "prompt_number": 2
    },
    {
     "cell_type": "markdown",
     "source": [
      "## Load Data"
     ]
    },
    {
     "cell_type": "code",
     "collapsed": false,
     "input": [
      "out = at.load_model('mass-prediction-stability', nthresh0=0.0, nthresh=0.4)\n",
      "rawipe, ipe_samps, rawtruth, feedback, kappas, stimuli = out\n",
      "\n",
      "n_kappas = len(kappas)\n",
      "ratios = 10 ** kappas\n",
      "ratios[kappas < 0] = np.round(ratios[kappas < 0], decimals=2)\n",
      "ratios[kappas >= 0] = np.round(ratios[kappas >= 0], decimals=1)\n",
      "\n",
      "# find indices of the ratios that we want\n",
      "ridx = [int(np.nonzero(ratios==r)[0][0]) for r in stim_ratios]\n"
     ],
     "language": "python",
     "outputs": [],
     "prompt_number": 3
    },
    {
     "cell_type": "markdown",
     "source": [
      "## Compute informativeness\n",
      "### Calculate stimuli fall probabilities"
     ]
    },
    {
     "cell_type": "code",
     "collapsed": false,
     "input": [
      "model_lh = np.log(mo.IPE(feedback, ipe_samps, kappas, True))"
     ],
     "language": "python",
     "outputs": [],
     "prompt_number": 4
    },
    {
     "cell_type": "code",
     "collapsed": false,
     "input": [
      "def KL(qi, idx):\n",
      "    \"\"\"Compute the KL divergence between qi and pi, where pi is a\n",
      "    multinomial centered around idx.\n",
      "\n",
      "    \"\"\"\n",
      "    pi = (np.eye(n_kappas) + (1./n_kappas))[idx][:, None]\n",
      "    for i, ix in enumerate(idx):\n",
      "\tpi[i, :, ix] += nsamps\n",
      "    pi /= nsamps + 1\n",
      "    kl = np.sum(np.log(pi / qi)*pi, axis=-1)\n",
      "    return kl"
     ],
     "language": "python",
     "outputs": [],
     "prompt_number": 5
    },
    {
     "cell_type": "markdown",
     "source": [
      "### Order by KL divergence"
     ]
    },
    {
     "cell_type": "code",
     "collapsed": false,
     "input": [
      "# figure out the starting stimulus (minimum entropy=most information)\n",
      "fb = feedback[ridx]\n",
      "lh = model_lh[ridx].copy()\n",
      "p = normalize(lh, axis=-1)[1]\n",
      "H = KL(np.exp(p), ridx)\n",
      "\n",
      "order = [np.argmin(np.sum(H**2, axis=0))]\n",
      "nums = [stimuli[order[0]].split(\"_\")[1]]\n",
      "    \n",
      "joint = lh[:, order[0]].copy()\n",
      "allJoint = [joint.copy()]\n",
      "allH = [H[:, order[0]]]\n",
      "\n",
      "T = 48\n",
      "for t in xrange(T-1):\n",
      "    # calculate possible posterior values for each stimulus\n",
      "    p = normalize(joint[:, None] + lh, axis=-1)[1]\n",
      "    # compute entropies\n",
      "    H = KL(np.exp(p), ridx)\n",
      "    # choose stimulus that would result in the lowest entropy, without\n",
      "    # repeating stimuli\n",
      "    for s in np.argsort(np.prod(H, axis=0)):\n",
      "        num = stimuli[s].split(\"_\")[1]\n",
      "        if (s not in order) and (num not in nums):\n",
      "            order.append(s)\n",
      "            nums.append(num)\n",
      "            allH.append(H[:, s])\n",
      "            joint += lh[:, order[-1]]\n",
      "            allJoint.append(joint.copy())\n",
      "            break\n",
      "\n",
      "order = np.array(order)\n",
      "nums = np.array(nums)\n",
      "allJoint = np.array(allJoint)\n",
      "allH = np.array(allH)    "
     ],
     "language": "python",
     "outputs": [],
     "prompt_number": 6
    },
    {
     "cell_type": "markdown",
     "source": [
      "### Plot model belief, ordered by informativeness"
     ]
    },
    {
     "cell_type": "code",
     "collapsed": false,
     "input": [
      "plt.close('all')\n",
      "cmap = at.make_cmap(\"lh\", (0, 0, 0), (.55, .55, .55), (1, 1, 1))\n",
      "for i, ix in enumerate(ridx):\n",
      "    plt.figure()\n",
      "    plt.clf()\n",
      "    plt.suptitle(ratios[ix])\n",
      "    plt.subplot(1, 2, 1)\n",
      "    plt.plot(allH[:, i])\n",
      "    plt.ylim(0, 3)\n",
      "\n",
      "    at.plot_theta(\n",
      "\t1, 2, 2,\n",
      "\tnp.exp(normalize(allJoint[:, i], axis=-1)[1]),\n",
      "\t\"\",\n",
      "\texp=np.e,\n",
      "\tcmap=cmap,\n",
      "\tfontsize=14)"
     ],
     "language": "python",
     "outputs": [
      {
       "output_type": "display_data",
       "png": "[encoded data removed]"
      },
      {
       "output_type": "display_data",
       "png": "[encoded data removed]"
      }
     ],
     "prompt_number": 7
    },
    {
     "cell_type": "markdown",
     "source": [
      "## Choose stimuli\n",
      "### Experiment stimuli\n",
      "\n",
      "Make sure there are (approximately) equal number of stable and\n",
      "unstable stimuli with high informativeness."
     ]
    },
    {
     "cell_type": "code",
     "collapsed": false,
     "input": [
      "# all stimuli that have opposite feedback\n",
      "exp = list(order[np.nonzero(fb[0, order] != fb[1, order])[0]][:nexp])\n",
      "# all other stimuli\n",
      "newexp = order[np.nonzero(fb[0, order] == fb[1, order])[0]]\n",
      "# number of each stimulus type (stable/unstable)\n",
      "fbexp = np.array([np.sum(fb[:, exp], axis=1), np.sum(1-fb[:, exp], axis=1)]).T\n",
      "\n",
      "# add to the list of stimuli from stimuli that have the same feedback,\n",
      "# until we get a list of nexp stimuli\n",
      "for i in xrange(len(newexp)):\n",
      "    newfb = np.array([fb[:, newexp[i]], 1-fb[:, newexp[i]]]).T\n",
      "    if (fbexp==(nexp/2)).all():\n",
      "        break\n",
      "    if len(exp) == nexp:\n",
      "        break\n",
      "    if ((fbexp + newfb) > (nexp/2)).any():\n",
      "        continue\n",
      "    fbexp += newfb\n",
      "    exp.append(newexp[i])\n",
      "for i in xrange(len(newexp)):\n",
      "    if newexp[i] in exp:\n",
      "        continue\n",
      "    if len(exp) == nexp:\n",
      "        break\n",
      "    exp.append(newexp[i])\n",
      "\n",
      "# make sure we actually have nexp stimuli\n",
      "assert len(exp) == nexp\n",
      "\n",
      "exp = np.array(exp)\n",
      "print stimuli[exp]\n",
      "print zip([\"stable\", \"unstable\"], np.sum(fb[:, exp], axis=1))\n"
     ],
     "language": "python",
     "outputs": [
      {
       "output_type": "stream",
       "stream": "stdout",
       "text": [
        "['mass-tower_00629_1101010001' 'mass-tower_00524_1011001010'\n",
        " 'mass-tower_00013_0110110010' 'mass-tower_00418_0010001111'\n",
        " 'mass-tower_00075_0000011111' 'mass-tower_00057_0111000101'\n",
        " 'mass-tower_00495_1011100010' 'mass-tower_00118_0100001111'\n",
        " 'mass-tower_00328_1110011000' 'mass-tower_00309_0001110101'\n",
        " 'mass-tower_00304_0100110110' 'mass-tower_00767_1011001001'\n",
        " 'mass-tower_00134_1000111001' 'mass-tower_00035_0110101001'\n",
        " 'mass-tower_00114_0001011110' 'mass-tower_00174_1001101100'\n",
        " 'mass-tower_00358_1001011100' 'mass-tower_00144_1010101001'\n",
        " 'mass-tower_00295_1010011100' 'mass-tower_00107_1001100101'\n",
        " 'mass-tower_00343_1100001110' 'mass-tower_00359_1011000101'\n",
        " 'mass-tower_00385_1000111001' 'mass-tower_00392_0000111110'\n",
        " 'mass-tower_00231_0111100010' 'mass-tower_00050_1001010110'\n",
        " 'mass-tower_00647_0010111001' 'mass-tower_00525_1000101011'\n",
        " 'mass-tower_00388_0011101001' 'mass-tower_00086_1001001110'\n",
        " 'mass-tower_00200_1111100000' 'mass-tower_00313_0011110100'\n",
        " 'mass-tower_00357_0100110110' 'mass-tower_01736_0000101111'\n",
        " 'mass-tower_01833_0110001101' 'mass-tower_00345_0001001111'\n",
        " 'mass-tower_00260_0001011110' 'mass-tower_00527_0101011001'\n",
        " 'mass-tower_00263_0010100111' 'mass-tower_00450_1100111000']\n",
        "[('stable', 20), ('unstable', 20)]\n"
       ]
      }
     ],
     "prompt_number": 8
    },
    {
     "cell_type": "markdown",
     "source": [
      "### Mass example stimulus"
     ]
    },
    {
     "cell_type": "code",
     "collapsed": false,
     "input": [
      "# choose a (stable) mass example\n",
      "mfall = np.nonzero((fb[:, order] == 0).all(axis=0))[0]\n",
      "assert order[mfall[-1]] not in exp\n",
      "mass_example = order[mfall[-1]]\n",
      "print stimuli[mass_example]\n"
     ],
     "language": "python",
     "outputs": [
      {
       "output_type": "stream",
       "stream": "stdout",
       "text": [
        "mass-tower_00202_0000011111\n"
       ]
      }
     ],
     "prompt_number": 9
    },
    {
     "cell_type": "markdown",
     "source": [
      "### Used stimuli numbers"
     ]
    },
    {
     "cell_type": "code",
     "collapsed": false,
     "input": [
      "used = list(stimuli[exp]) + [stimuli[mass_example]]\n",
      "used_nums = [x.split(\"_\")[1] for x in used]"
     ],
     "language": "python",
     "outputs": [],
     "prompt_number": 10
    },
    {
     "cell_type": "markdown",
     "source": [
      "### Training stimuli\n",
      "\n",
      "We want to pick training towers that are half and half, and are really\n",
      "obvious to people (based on previous sameheight experiment results)."
     ]
    },
    {
     "cell_type": "code",
     "collapsed": false,
     "input": [
      "# load sameheight model and human data\n",
      "reload(at)\n",
      "model_sh = at.load_model('stability-sameheight')\n",
      "rawipe_sh, ipe_sh, rawtruth_sh, fb_sh, kappas_sh, sstimuli = model_sh\n",
      "human, rawhuman_sh, stim_sh = at.load_old_human('stability-sameheight')\n",
      "\n",
      "sh_nums = [x[len('stability'):] for x in stim_sh]\n",
      "ok = np.array([x not in used_nums for x in sh_nums])\n",
      "\n",
      "tstable = ~fb_sh[0] & ok\n",
      "tunstable = fb_sh[0] & ok\n",
      "\n",
      "hstable = 1 - human.copy()\n",
      "hsort = np.argsort(hstable)\n",
      "unstable = hsort[np.nonzero(tunstable[hsort])[0]]\n",
      "stable = hsort[np.nonzero(tstable[hsort])[0]][::-1]"
     ],
     "language": "python",
     "outputs": [],
     "prompt_number": 11
    },
    {
     "cell_type": "code",
     "collapsed": false,
     "input": [
      "# examples\n",
      "stable_example = stable[0]\n",
      "unstable_example = unstable[0]\n",
      "print stim_sh[stable_example]\n",
      "print stim_sh[unstable_example]"
     ],
     "language": "python",
     "outputs": [
      {
       "output_type": "stream",
       "stream": "stdout",
       "text": [
        "stability00846\n",
        "stability01798\n"
       ]
      }
     ],
     "prompt_number": 12
    },
    {
     "cell_type": "code",
     "collapsed": false,
     "input": [
      "# training stimuli\n",
      "train = np.hstack([\n",
      "    unstable[1:(ntrain/2)+1],\n",
      "    stable[1:(ntrain/2)+1]])\n",
      "train_stims = np.sort(stim_sh[train])\n",
      "print train_stims"
     ],
     "language": "python",
     "outputs": [
      {
       "output_type": "stream",
       "stream": "stdout",
       "text": [
        "['stability01023' 'stability01178' 'stability01491' 'stability01654'\n",
        " 'stability01893' 'stability01967']\n"
       ]
      }
     ],
     "prompt_number": 13
    },
    {
     "cell_type": "markdown",
     "source": [
      "## Save stimuli lists to file\n",
      "### Unstable example"
     ]
    },
    {
     "cell_type": "code",
     "collapsed": false,
     "input": [
      "l = os.path.join(listpath, \"stability-example-unstable\")\n",
      "print l\n",
      "with open(l, \"w\") as fh:\n",
      "    lines = \"\\n\".join([stim_sh[unstable_example]])\n",
      "    fh.write(lines)"
     ],
     "language": "python",
     "outputs": [
      {
       "output_type": "stream",
       "stream": "stdout",
       "text": [
        "../stimuli/lists/stability-example-unstable\n"
       ]
      }
     ],
     "prompt_number": 14
    },
    {
     "cell_type": "markdown",
     "source": [
      "### Stable example"
     ]
    },
    {
     "cell_type": "code",
     "collapsed": false,
     "input": [
      "l = os.path.join(listpath, \"stability-example-stable\")\n",
      "print l\n",
      "with open(l, \"w\") as fh:\n",
      "    lines = \"\\n\".join([stim_sh[stable_example]])\n",
      "    fh.write(lines)"
     ],
     "language": "python",
     "outputs": [
      {
       "output_type": "stream",
       "stream": "stdout",
       "text": [
        "../stimuli/lists/stability-example-stable\n"
       ]
      }
     ],
     "prompt_number": 15
    },
    {
     "cell_type": "markdown",
     "source": [
      "### Training stimuli"
     ]
    },
    {
     "cell_type": "code",
     "collapsed": false,
     "input": [
      "l = os.path.join(listpath, \"mass-learning-training\")\n",
      "print l\n",
      "with open(l, \"w\") as fh:\n",
      "    lines = \"\\n\".join(train_stims)\n",
      "    fh.write(lines)"
     ],
     "language": "python",
     "outputs": [
      {
       "output_type": "stream",
       "stream": "stdout",
       "text": [
        "../stimuli/lists/mass-learning-training\n"
       ]
      }
     ],
     "prompt_number": 16
    },
    {
     "cell_type": "markdown",
     "source": [
      "### Mass example"
     ]
    },
    {
     "cell_type": "code",
     "collapsed": false,
     "input": [
      "for i, ix in enumerate(ridx):\n",
      "    l = os.path.join(listpath, \"mass-example~kappa-%s\" % kappas[ix])\n",
      "    print l\n",
      "    with open(l, \"w\") as fh:\n",
      "        lines = \"\\n\".join([\"%s~kappa-%s\" % (stimuli[mass_example], kappas[ix])])\n",
      "        fh.write(lines)\n"
     ],
     "language": "python",
     "outputs": [
      {
       "output_type": "stream",
       "stream": "stdout",
       "text": [
        "../stimuli/lists/mass-example~kappa--1.0\n",
        "../stimuli/lists/mass-example~kappa-1.0\n"
       ]
      }
     ],
     "prompt_number": 17
    },
    {
     "cell_type": "markdown",
     "source": [
      "### Experiment stimuli"
     ]
    },
    {
     "cell_type": "code",
     "collapsed": false,
     "input": [
      "for i, ix in enumerate(ridx):\n",
      "    exp_stims = [\"%s~kappa-%s\" % (x, kappas[ix]) for x in np.sort(stimuli[exp])]\n",
      "    l = os.path.join(listpath, \"mass-learning-%s~kappa-%s\" % (exp_ver, kappas[ix]))\n",
      "    print l\n",
      "    with open(l, \"w\") as fh:\n",
      "        lines = \"\\n\".join(exp_stims)\n",
      "        fh.write(lines)    "
     ],
     "language": "python",
     "outputs": [
      {
       "output_type": "stream",
       "stream": "stdout",
       "text": [
        "../stimuli/lists/mass-learning-F~kappa--1.0\n",
        "../stimuli/lists/mass-learning-F~kappa-1.0\n"
       ]
      }
     ],
     "prompt_number": 18
    },
    {
     "cell_type": "markdown",
     "source": [
      "## Save stimuli metadata\n",
      "\n",
      "For example, stability."
     ]
    },
    {
     "cell_type": "code",
     "collapsed": false,
     "input": [
      "infofile = \"mass-learning-%s-stiminfo.csv\" % exp_ver\n",
      "fh = open(os.path.join(confdir, infofile), \"w\")\n",
      "fh.write(\"stimulus,stable,catch\\n\")\n",
      "for i in exp:\n",
      "    for ix in ridx:\n",
      "        fh.write(\",\".join(\n",
      "            [\"%s~kappa-%s_cb-0\" % (stimuli[i], kappas[ix]),\n",
      "             str(not(bool(feedback[ix,i]))),\n",
      "             str(False)]\n",
      "             ) + \"\\n\")\n",
      "        fh.write(\",\".join(\n",
      "            [\"%s~kappa-%s_cb-1\" % (stimuli[i], kappas[ix]),\n",
      "             str(not(bool(feedback[ix,i]))),\n",
      "             str(False)]\n",
      "             ) + \"\\n\")\n",
      "\n",
      "for i in train:\n",
      "    fh.write(\",\".join(\n",
      "        [stim_sh[i],\n",
      "         str(not(bool(fb_sh[0, i]))),\n",
      "         str(False)]\n",
      "         ) + \"\\n\")\n",
      "\n",
      "fh.close()"
     ],
     "language": "python",
     "outputs": [],
     "prompt_number": 19
    }
   ]
  }
 ]
}