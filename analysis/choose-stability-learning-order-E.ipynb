{
 "metadata": {
  "name": "choose-stability-learning-order-E"
 },
 "nbformat": 3,
 "nbformat_minor": 0,
 "worksheets": [
  {
   "cells": [
    {
     "cell_type": "markdown",
     "source": [
      "# Mass Learning Experiment: Choose Diagnostic Stimuli Order"
     ]
    },
    {
     "cell_type": "code",
     "collapsed": false,
     "input": [
      "import numpy as np\n",
      "\n",
      "import model_observer as mo\n",
      "import analysis_tools as at\n",
      "from stats_tools import normalize"
     ],
     "language": "python",
     "outputs": [],
     "prompt_number": 1
    },
    {
     "cell_type": "markdown",
     "source": [
      "## Configuration"
     ]
    },
    {
     "cell_type": "code",
     "collapsed": false,
     "input": [
      "rso = np.random.RandomState(0)\n",
      "stim_ratios = [0.1, 10]\n",
      "cmap = at.make_cmap(\"lh\", (0, 0, 0), (.55, .55, .55), (1, 1, 1))"
     ],
     "language": "python",
     "outputs": [],
     "prompt_number": 2
    },
    {
     "cell_type": "markdown",
     "source": [
      "## Load Data\n",
      "### Human Data"
     ]
    },
    {
     "cell_type": "code",
     "collapsed": false,
     "input": [
      "# conditions and suffixes we want to load\n",
      "conds = ['C-vfb-10', 'C-vfb-0.1', 'C-fb-10', 'C-fb-0.1', 'C-nfb-10']\n",
      "suffixes = ['-cb0', '-cb1']\n",
      "\n",
      "# load the data\n",
      "training, posttest, experiment, queries = at.load_turk(conds, suffixes, thresh=1)"
     ],
     "language": "python",
     "outputs": [
      {
       "output_type": "stream",
       "stream": "stdout",
       "text": [
        "15 failed posttest\n",
        "14 ineligible\n"
       ]
      }
     ],
     "prompt_number": 3
    },
    {
     "cell_type": "markdown",
     "source": [
      "#### Stimuli"
     ]
    },
    {
     "cell_type": "code",
     "collapsed": false,
     "input": [
      "# stimuli seen by participants\n",
      "Stims = np.array([\n",
      "    x.split(\"~\")[0] for x in zip(*experiment[experiment.keys()[0]].columns)[1]])\n",
      "n_trial = Stims.size\n",
      "print Stims"
     ],
     "language": "python",
     "outputs": [
      {
       "output_type": "stream",
       "stream": "stdout",
       "text": [
        "['mass-tower_00013_0110110010' 'mass-tower_00035_0110101001'\n",
        " 'mass-tower_00050_1001010110' 'mass-tower_00057_1001011010'\n",
        " 'mass-tower_00075_0000011111' 'mass-tower_00086_1001001110'\n",
        " 'mass-tower_00107_1001100101' 'mass-tower_00114_0001011110'\n",
        " 'mass-tower_00118_0100001111' 'mass-tower_00134_1000111001'\n",
        " 'mass-tower_00144_1010101001' 'mass-tower_00174_0011000111'\n",
        " 'mass-tower_00200_1111100000' 'mass-tower_00231_0111100010'\n",
        " 'mass-tower_00260_0001011110' 'mass-tower_00263_0010100111'\n",
        " 'mass-tower_00295_1010011100' 'mass-tower_00304_0100110110'\n",
        " 'mass-tower_00309_0001110101' 'mass-tower_00313_0011110100'\n",
        " 'mass-tower_00328_1110011000' 'mass-tower_00343_1100001110'\n",
        " 'mass-tower_00345_0001001111' 'mass-tower_00352_0010011011'\n",
        " 'mass-tower_00357_0111011000' 'mass-tower_00358_1001011100'\n",
        " 'mass-tower_00359_0100111100' 'mass-tower_00385_1110001010'\n",
        " 'mass-tower_00388_0011101001' 'mass-tower_00392_0100110011'\n",
        " 'mass-tower_00418_0111100100' 'mass-tower_00495_1011100010'\n",
        " 'mass-tower_00524_0000110111' 'mass-tower_00525_1010110100'\n",
        " 'mass-tower_00527_0101011001' 'mass-tower_00629_1101010001'\n",
        " 'mass-tower_00647_0010111001' 'mass-tower_00767_1011001001'\n",
        " 'mass-tower_01736_0000101111' 'mass-tower_01833_0001110101']\n"
       ]
      }
     ],
     "prompt_number": 4
    },
    {
     "cell_type": "markdown",
     "source": [
      "### Model Simulation Data"
     ]
    },
    {
     "cell_type": "code",
     "collapsed": false,
     "input": [
      "# thresholds for what counts as 'fall'\n",
      "nthresh0 = 0\n",
      "nthresh = 0.4\n",
      "\n",
      "# load the data\n",
      "rawipe, ipe_samps, rawtruth, feedback, kappas = at.load_model(\n",
      "    \"mass-prediction-stability\", nthresh0=nthresh0, nthresh=nthresh, fstim=Stims)\n",
      "nofeedback = np.empty(feedback.shape[1])*np.nan\n",
      "n_kappas = len(kappas)"
     ],
     "language": "python",
     "outputs": [],
     "prompt_number": 5
    },
    {
     "cell_type": "markdown",
     "source": [
      "#### Ratios and Kappas"
     ]
    },
    {
     "cell_type": "code",
     "collapsed": false,
     "input": [
      "# round to two or one decimal places, depending on value\n",
      "kappas = np.array(kappas)\n",
      "ratios = 10 ** kappas\n",
      "ratios[kappas < 0] = np.round(ratios[kappas < 0], decimals=2)\n",
      "ratios[kappas >= 0] = np.round(ratios[kappas >= 0], decimals=1)\n",
      "\n",
      "# convert ratios and kappas to lists, so we can index\n",
      "ratios = list(ratios)\n",
      "kappas = list(kappas)\n",
      "\n",
      "# find indices of the ratios that we want\n",
      "ridx = [ratios.index(r) for r in stim_ratios]\n",
      "r1 = ratios.index(1.0)"
     ],
     "language": "python",
     "outputs": [],
     "prompt_number": 6
    },
    {
     "cell_type": "markdown",
     "source": [
      "## Compute diagnosticity"
     ]
    },
    {
     "cell_type": "code",
     "collapsed": false,
     "input": [
      "# compute feedback likelihood for mass ratios and stimuli\n",
      "model_lh = mo.IPE(\n",
      "    feedback[ridx],\n",
      "    ipe_samps,\n",
      "    kappas,\n",
      "    smooth=True)"
     ],
     "language": "python",
     "outputs": [],
     "prompt_number": 7
    },
    {
     "cell_type": "markdown",
     "source": [
      "Compute likelihood ratios of feedback $r_0=0.1$ and $r_0=10$"
     ]
    },
    {
     "cell_type": "code",
     "collapsed": false,
     "input": [
      "# likelihood for r < 1 when r0 = 0.1\n",
      "low01_lh = model_lh[0, :, :r1].sum(axis=-1)\n",
      "# likelihood for r > 1 when r0 = 0.1\n",
      "high01_lh = model_lh[0, :, r1+1:].sum(axis=-1)\n",
      "# likelihood ratio for r0 = 0.1\n",
      "lhr01 = low01_lh / high01_lh\n",
      "\n",
      "# likelihood for r < 1 when r0 = 10\n",
      "low10_lh = model_lh[1, :, :r1].sum(axis=-1)\n",
      "# likelihood for r > 1 when r0 = 10\n",
      "high10_lh = model_lh[1, :, r1+1:].sum(axis=-1)\n",
      "# likelihood ratio for r0 = 10\n",
      "lhr10 = high10_lh / low10_lh"
     ],
     "language": "python",
     "outputs": [],
     "prompt_number": 8
    },
    {
     "cell_type": "markdown",
     "source": [
      "We want to choose stimuli for which the likelihood ratio of feedback\n",
      "is greater than one -- this indicates that the feedback provides more\n",
      "evidence for the correct mass ratio than for the incorrect mass ratio."
     ]
    },
    {
     "cell_type": "code",
     "collapsed": false,
     "input": [
      "# find stimuli that have a high likelihood ratio under both values of\n",
      "# r0 and randomly order them\n",
      "match = (lhr01 >= 1.5) & (lhr10 >= 1.5)\n",
      "idx0 = np.nonzero(match)[0]\n",
      "rso.shuffle(idx0)\n",
      "# randomly order the remaining stimuli\n",
      "idx1 = np.nonzero(~match)[0]\n",
      "rso.shuffle(idx1)\n",
      "\n",
      "# concatenate the two lists of stimuli into an ordering\n",
      "order = np.hstack([idx0, idx1])\n",
      "print order"
     ],
     "language": "python",
     "outputs": [
      {
       "output_type": "stream",
       "stream": "stdout",
       "text": [
        "[13 32  8 30  2 24  1 20 25  4  0 10 35 34 36 26 23 18 31 39 17 38  6 28 29\n",
        " 33  3  7  9 16 15 21 11 27 22 14 12  5 19 37]\n"
       ]
      }
     ],
     "prompt_number": 9
    },
    {
     "cell_type": "markdown",
     "source": [
      "### Plot model results of diagnostic order"
     ]
    },
    {
     "cell_type": "code",
     "collapsed": false,
     "input": [
      "plt.clf()\n",
      "\n",
      "for i, idx in enumerate(ridx):\n",
      "    # compute model belief\n",
      "    model_joint, model_theta = mo.ModelObserver(\n",
      "\tfeedback[:, order][idx],\n",
      "\tipe_samps[order],\n",
      "\tkappas,\n",
      "\tprior=None, p_ignore=0, smooth=True)\n",
      "\n",
      "    # compute probability of choosing the correct ratio\n",
      "    if i == 0:\n",
      "\tlow = np.exp(model_theta[:, :r1]).sum(axis=1)\n",
      "    elif i == 1:\n",
      "\thigh = np.exp(model_theta[:, r1+1:]).sum(axis=1)\n",
      "\n",
      "    # plot model belief\n",
      "    at.plot_theta(\n",
      "\t2, 2, i+1,\n",
      "\tnp.exp(model_theta),\n",
      "\t\"fb-%s\" % ratios[idx],\n",
      "\texp=np.e,\n",
      "\tcmap=cmap,\n",
      "\tfontsize=14)\n",
      "\n",
      "# plot probability of choosing correct ratio\n",
      "plt.subplot(2, 2, 3)\n",
      "plt.plot(low, label=\"r=0.1, p(r<1)\")\n",
      "plt.plot(high, label=\"r=10, p(r>1)\")\n",
      "plt.legend()\n",
      "plt.title(\"Model probability of correct ratio\")\n",
      "plt.xlabel(\"Trial\")\n",
      "\n",
      "# plot likelihood ratios\n",
      "plt.subplot(2, 2, 4)\n",
      "plt.plot(lhr01[order], label=\"r=0.1, p(r<1)/p(r>1)\")\n",
      "plt.plot(lhr10[order], label=\"r=10, p(r>1)/p(r<1)\")\n",
      "plt.legend()\n",
      "plt.title(\"Likelihood ratio of feedback on each trial\")\n",
      "plt.xlabel(\"Trial\")\n",
      "\n",
      "fig = plt.gcf()\n",
      "fig.set_figwidth(10)\n",
      "fig.set_figheight(8)\n",
      "\n",
      "# save figure to file\n",
      "at.savefig(\"images/model_belief_order-E.png\", close=False)\n"
     ],
     "language": "python",
     "outputs": [
      {
       "output_type": "display_data",
       "png": "[encoded data removed]"
      }
     ],
     "prompt_number": 10
    },
    {
     "cell_type": "markdown",
     "source": [
      "### Save the diagnostic ordering"
     ]
    },
    {
     "cell_type": "code",
     "collapsed": false,
     "input": [
      "with open(\"../experiment/config/trial-order-E.txt\", \"w\") as fh:\n",
      "    for stim in Stims[order]:\n",
      "        fh.write(stim + \"\\n\")"
     ],
     "language": "python",
     "outputs": [],
     "prompt_number": 11
    }
   ]
  }
 ]
}