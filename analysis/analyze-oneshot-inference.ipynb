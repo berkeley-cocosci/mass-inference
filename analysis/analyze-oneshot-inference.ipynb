{
 "metadata": {
  "name": "analyze-oneshot-inference"
 },
 "nbformat": 3,
 "nbformat_minor": 0,
 "worksheets": [
  {
   "cells": [
    {
     "cell_type": "markdown",
     "source": [
      "# Mass Oneshot Inference Analysis"
     ]
    },
    {
     "cell_type": "code",
     "collapsed": false,
     "input": [
      "import numpy as np\n",
      "import pandas as pd\n",
      "import scipy.stats\n",
      "\n",
      "from stats_tools import normalize\n",
      "import analysis_tools as at\n",
      "import model_observer as mo"
     ],
     "language": "python",
     "outputs": [],
     "prompt_number": 1
    },
    {
     "cell_type": "markdown",
     "source": [
      "## Load Data\n",
      "### Human Data"
     ]
    },
    {
     "cell_type": "code",
     "collapsed": false,
     "input": [
      "# # conditions and suffixes we want to load\n",
      "# conds = []\n",
      "# suffixes = ['-cb0', '-cb1']\n",
      "\n",
      "# # load the data\n",
      "# training, posttest, experiment, queries = at.load_turk(conds, suffixes, thresh=1)"
     ],
     "language": "python",
     "outputs": [],
     "prompt_number": 2
    },
    {
     "cell_type": "markdown",
     "source": [
      "#### Number of participants in each condition"
     ]
    },
    {
     "cell_type": "code",
     "collapsed": false,
     "input": [
      "# print out information about the number of participants\n",
      "# hconds = sorted(experiment.keys())\n",
      "# total = 0\n",
      "# for cond in hconds:\n",
      "#     print \"%s: n=%d\" % (cond, experiment[cond].shape[0])\n",
      "#     total += experiment[cond].shape[0]\n",
      "# print \"All: n=%d\" % total"
     ],
     "language": "python",
     "outputs": [],
     "prompt_number": 3
    },
    {
     "cell_type": "markdown",
     "source": [
      "#### Stimuli"
     ]
    },
    {
     "cell_type": "code",
     "collapsed": false,
     "input": [
      "# stimuli seen by participants\n",
      "# Stims = np.array([\n",
      "#     x.split(\"~\")[0] for x in zip(*experiment[experiment.keys()[0]].columns)[1]])\n",
      "# n_trial = Stims.size\n",
      "# print Stims"
     ],
     "language": "python",
     "outputs": [],
     "prompt_number": 4
    },
    {
     "cell_type": "markdown",
     "source": [
      "### Model Simulation Data"
     ]
    },
    {
     "cell_type": "code",
     "collapsed": false,
     "input": [
      "# thresholds for what counts as 'fall'\n",
      "nthresh0 = 0\n",
      "nthresh = 0.4\n",
      "\n",
      "# load the data\n",
      "rawipe, ipe_samps, rawtruth, feedback, kappas, Stims = at.load_model(\n",
      "    \"mass-oneshot-F:nfell\", nthresh0=nthresh0, nthresh=nthresh)\n",
      "nofeedback = np.empty(feedback.shape[1])*np.nan\n",
      "n_kappas = len(kappas)"
     ],
     "language": "python",
     "outputs": [],
     "prompt_number": 5
    },
    {
     "cell_type": "code",
     "collapsed": false,
     "input": [
      "n_kappas = len(kappas)\n",
      "ratios = 10 ** kappas\n",
      "ratios[kappas < 0] = np.round(ratios[kappas < 0], decimals=2)\n",
      "ratios[kappas >= 0] = np.round(ratios[kappas >= 0], decimals=1)\n",
      "\n",
      "# find indices of the ratios that we want\n",
      "stim_ratio = 10\n",
      "ridx = int(np.nonzero(ratios==stim_ratio)[0][0])\n",
      "r1 = list(ratios).index(1.0)"
     ],
     "language": "python",
     "outputs": [],
     "prompt_number": 6
    },
    {
     "cell_type": "code",
     "collapsed": false,
     "input": [
      "model_lh = mo.IPE(feedback, ipe_samps, kappas, smooth=True)\n",
      "model_prior = np.log(np.ones(n_kappas) / n_kappas)[None]\n",
      "# model_prior[:, r1] = -5\n",
      "model_prior = normalize(model_prior, axis=1)[1]\n",
      "model_joint = model_prior + np.log(model_lh)"
     ],
     "language": "python",
     "outputs": [],
     "prompt_number": 39
    },
    {
     "cell_type": "code",
     "collapsed": false,
     "input": [
      "fb = feedback[ridx]\n",
      "lh = model_lh[ridx].copy()\n",
      "pfell1 = lh * fb[..., None]\n",
      "pfell0 = (1-lh) * (1-fb[..., None])\n",
      "pfell = pfell0 + pfell1\n",
      "prior = np.exp(model_prior)\n",
      "post = np.exp(normalize(model_joint, axis=-1)[1])[ridx]"
     ],
     "language": "python",
     "outputs": [],
     "prompt_number": 40
    },
    {
     "cell_type": "code",
     "collapsed": false,
     "input": [
      "hyps = [\n",
      "    slice(None, r1),\n",
      "    slice(r1 + 1, None)\n",
      "    ]\n",
      "\n",
      "hyp_lh = np.empty((lh.shape[0], len(hyps),))\n",
      "for hi, h in enumerate(hyps):\n",
      "    hyp_lh[:, hi] = lh[:, h].sum(axis=-1)\n",
      "\n",
      "lhr = (np.log(hyp_lh[:, 1] / hyp_lh[:, 0]))"
     ],
     "language": "python",
     "outputs": [],
     "prompt_number": 41
    },
    {
     "cell_type": "code",
     "collapsed": false,
     "input": [
      "# compute information gain\n",
      "I0 = np.sum(prior * np.log(1. / prior), axis=-1)\n",
      "I1 = np.sum(post * np.log(1. / post), axis=-1)\n",
      "gain = I0 - I1\n",
      "gain[gain < 0] = np.nan"
     ],
     "language": "python",
     "outputs": [],
     "prompt_number": 42
    },
    {
     "cell_type": "code",
     "collapsed": false,
     "input": [
      "expF0 = np.nonzero(fb == 0)[0]\n",
      "expF1 = np.nonzero(fb == 1)[0]"
     ],
     "language": "python",
     "outputs": [],
     "prompt_number": 43
    },
    {
     "cell_type": "code",
     "collapsed": false,
     "input": [
      "plt.plot(lhr[expF0], gain[expF0], 'bo', label='F=0')\n",
      "plt.plot(lhr[expF1], gain[expF1], 'ro', label='F=1')\n",
      "plt.xlabel(\"Likelihood ratio\")\n",
      "plt.ylabel(\"Information gain\")\n",
      "plt.title(\"Experimental stimuli\")\n",
      "plt.legend(loc=0)"
     ],
     "language": "python",
     "outputs": [
      {
       "output_type": "pyout",
       "prompt_number": 44,
       "text": [
        "<matplotlib.legend.Legend at 0x10b914550>"
       ]
      },
      {
       "output_type": "display_data",
       "png": "[encoded data removed]"
      }
     ],
     "prompt_number": 44
    },
    {
     "cell_type": "code",
     "collapsed": false,
     "input": [
      "stimsort0 = np.argsort(lhr[expF0])\n",
      "stimsort1 = np.argsort(lhr[expF1])\n",
      "sortidx = np.array([expF0[stimsort0], expF1[stimsort1]]).T.ravel()\n",
      "\n",
      "for sidx in sortidx:\n",
      "    print Stims[sidx], fb[sidx]\n",
      "    print \"\\t lhr   = %s\" % lhr[sidx]\n",
      "    print \"\\t gain  = %s\" % gain[sidx]\n",
      "    # print \"\\t err   = %s\" % guess_err[sidx]\n",
      "    # print \"\\t light = %s\" % color_pairs_hr[sidx, 0]\n",
      "    # print \"\\t heavy = %s\" % color_pairs_hr[sidx, 1]\n",
      "    print\n"
     ],
     "language": "python",
     "outputs": [
      {
       "output_type": "stream",
       "stream": "stdout",
       "text": [
        "mass-tower_00279_1110000011 0.0\n",
        "\t lhr   = -0.433124843154\n",
        "\t gain  = 0.0294573322826\n",
        "\n",
        "mass-tower_00117_0110111000 1.0\n",
        "\t lhr   = -0.415269655659\n",
        "\t gain  = 0.0235524656589\n",
        "\n",
        "mass-tower_00410_1010000111 0.0\n",
        "\t lhr   = -0.191966910839\n",
        "\t gain  = 0.00636166245191\n",
        "\n",
        "mass-tower_00105_1101010100 1.0\n",
        "\t lhr   = -0.227671770312\n",
        "\t gain  = 0.00968950451815\n",
        "\n",
        "mass-tower_00077_1100001101 0.0\n",
        "\t lhr   = -0.111183425883\n",
        "\t gain  = 0.00188890530726\n",
        "\n",
        "mass-tower_00009_1100010110 1.0\n",
        "\t lhr   = -0.122221687034\n",
        "\t gain  = 0.00214299488281\n",
        "\n",
        "mass-tower_00483_1010010011 0.0\n",
        "\t lhr   = -0.0374099972468\n",
        "\t gain  = 0.00074057517281\n",
        "\n",
        "mass-tower_00018_0001011101 1.0\n",
        "\t lhr   = 0.00121811372845\n",
        "\t gain  = 4.07439056271e-07\n",
        "\n",
        "mass-tower_00160_0011011100 0.0\n",
        "\t lhr   = 0.014582837324\n",
        "\t gain  = 0.000123724196269\n",
        "\n",
        "mass-tower_00015_0110001011 1.0\n",
        "\t lhr   = 0.0240676514458\n",
        "\t gain  = 0.000126205045698\n",
        "\n",
        "mass-tower_00260_0110110100 0.0\n",
        "\t lhr   = 0.107715749377\n",
        "\t gain  = 0.00201921625011\n",
        "\n",
        "mass-tower_00271_1011000101 1.0\n",
        "\t lhr   = 0.212693727721\n",
        "\t gain  = 0.00614448038969\n",
        "\n",
        "mass-tower_00222_1001101001 0.0\n",
        "\t lhr   = 0.355431432471\n",
        "\t gain  = 0.0254252545153\n",
        "\n",
        "mass-tower_00021_1010010110 1.0\n",
        "\t lhr   = 0.37419156098\n",
        "\t gain  = 0.0179809113255\n",
        "\n",
        "mass-tower_01264_0011111000 0.0\n",
        "\t lhr   = 0.419649165036\n",
        "\t gain  = 0.0240457768982\n",
        "\n",
        "mass-tower_00357_1010000111 1.0\n",
        "\t lhr   = 0.73944259482\n",
        "\t gain  = 0.0674435653986\n",
        "\n",
        "mass-tower_00193_1010101010 0.0\n",
        "\t lhr   = 0.902063048231\n",
        "\t gain  = 0.112009732921\n",
        "\n",
        "mass-tower_00102_0001011011 1.0\n",
        "\t lhr   = 0.908841106709\n",
        "\t gain  = 0.100632568682\n",
        "\n",
        "mass-tower_00524_1101001010 0.0\n",
        "\t lhr   = 1.03461015348\n",
        "\t gain  = 0.126527185273\n",
        "\n",
        "mass-tower_01441_1100100101 1.0\n",
        "\t lhr   = 0.952018700586\n",
        "\t gain  = 0.114761960128\n",
        "\n"
       ]
      }
     ],
     "prompt_number": 45
    },
    {
     "cell_type": "code",
     "collapsed": false,
     "input": [
      "highF0 = []\n",
      "highF1 = []\n",
      "\n",
      "for sidx in xrange(len(Stims)):\n",
      "    model_joint, model_theta = mo.ModelObserver(\n",
      "\tfb[[sidx]],\n",
      "\tipe_samps[[sidx]],\n",
      "\tkappas,\n",
      "\tprior=None, \n",
      "\tp_ignore=0, \n",
      "\tsmooth=True)\n",
      "    r1theta = np.exp(model_theta[1, r1]) / 2.\n",
      "    lowtheta = np.exp(model_theta[1, hyps[0]]).sum() + r1theta\n",
      "    hightheta = np.exp(model_theta[1, hyps[1]]).sum() + r1theta\n",
      "    Z = lowtheta + hightheta\n",
      "    high = hightheta / Z\n",
      "    if fb[sidx] == 0:\n",
      "\thighF0.append(high)\n",
      "    else:\n",
      "\thighF1.append(high)\n",
      "\n",
      "highF0 = np.array(highF0)\n",
      "highF1 = np.array(highF1)\n",
      "\n",
      "plt.clf()\n",
      "plt.subplot(1, 2, 1)\n",
      "plt.plot(lhr[expF0][stimsort0], highF0[stimsort0], 'b-', label=\"stable\")\n",
      "plt.plot(lhr[expF0][stimsort0], highF0[stimsort0], 'bo')\n",
      "plt.plot(lhr[expF1][stimsort1], highF1[stimsort1], 'r-', label=\"unstable\")\n",
      "plt.plot(lhr[expF1][stimsort1], highF1[stimsort1], 'ro')\n",
      "plt.xlabel(\"Log likelihood ratio\")\n",
      "plt.ylabel(\"Probability of correct ratio\")\n",
      "plt.ylim(0.0, 1.0)\n",
      "plt.legend(loc=4)\n",
      "\n",
      "plt.subplot(1, 2, 2)\n",
      "plt.plot(gain[expF0][stimsort0], highF0[stimsort0], 'b-', label=\"stable\")\n",
      "plt.plot(gain[expF0][stimsort0], highF0[stimsort0], 'bo')\n",
      "plt.plot(gain[expF1][stimsort1], highF1[stimsort1], 'r-', label=\"unstable\")\n",
      "plt.plot(gain[expF1][stimsort1], highF1[stimsort1], 'ro')\n",
      "plt.xlabel(\"Information gain\")\n",
      "plt.ylabel(\"Probability of correct ratio\")\n",
      "plt.ylim(0.0, 1.0)\n",
      "plt.legend(loc=4)\n",
      "\n",
      "plt.suptitle(\"Effect of log likelihood and information on model mass judgments\",\n",
      "\t     fontsize=16)\n",
      "\n",
      "fig = plt.gcf()\n",
      "fig.set_figwidth(10)\n",
      "fig.set_figheight(4)\n",
      "\n",
      "at.savefig(\"images/stimuli-metrics.png\", close=False)"
     ],
     "language": "python",
     "outputs": [
      {
       "output_type": "display_data",
       "png": "[encoded data removed]"
      }
     ],
     "prompt_number": 46
    },
    {
     "cell_type": "code",
     "collapsed": false,
     "input": [
      "i = 0\n",
      "at.plot_smoothing(ipe_samps, Stims, [sortidx[i]], kappas)\n",
      "print Stims[sortidx[i]], fb[sortidx[i]], lhr[sortidx[i]]\n",
      "fig = plt.gcf()\n",
      "fig.set_figwidth(6)\n",
      "fig.set_figheight(4)\n"
     ],
     "language": "python",
     "outputs": [
      {
       "output_type": "stream",
       "stream": "stdout",
       "text": [
        "mass-tower_00279_1110000011 0.0 -0.433124843154\n"
       ]
      },
      {
       "output_type": "display_data",
       "png": "[encoded data removed]"
      }
     ],
     "prompt_number": 47
    },
    {
     "cell_type": "code",
     "collapsed": false,
     "input": [],
     "language": "python",
     "outputs": []
    }
   ]
  }
 ]
}