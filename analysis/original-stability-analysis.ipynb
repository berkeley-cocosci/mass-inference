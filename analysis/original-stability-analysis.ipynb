{
 "metadata": {
  "name": ""
 },
 "nbformat": 3,
 "nbformat_minor": 0,
 "worksheets": [
  {
   "cells": [
    {
     "cell_type": "code",
     "collapsed": false,
     "input": [
      "import numpy as np\n",
      "import pandas as pd\n",
      "from itertools import product, izip\n",
      "from path import path\n",
      "from snippets import datapackage as dpkg\n",
      "from mass import DATA_PATH"
     ],
     "language": "python",
     "outputs": [],
     "prompt_number": 1
    },
    {
     "cell_type": "code",
     "collapsed": false,
     "input": [
      "def normalize(arr, vmin=None, vmax=None, axis=0):\n",
      "    \"\"\"Normalize array values to lie between 0 and 1\"\"\"\n",
      "    if vmin is None:\n",
      "        vmin = arr.min(axis=axis)\n",
      "    if vmax is None:\n",
      "        vmax = arr.max(axis=axis)\n",
      "    return (arr - vmin) / (vmax - vmin)\n",
      "\n",
      "\n",
      "def process_human_fall(dp):\n",
      "    human = dp.load_resource('experiment.csv')\n",
      "    hresp_raw = human.set_index(['pid', 'trial', 'stimulus'])['fall? response']\n",
      "    hresp = normalize(hresp_raw, vmin=1, vmax=7).unstack('stimulus')\n",
      "    return hresp"
     ],
     "language": "python",
     "outputs": [],
     "prompt_number": 2
    },
    {
     "cell_type": "code",
     "collapsed": false,
     "input": [
      "PARAMS = ['sigma', 'phi', 'kappa']"
     ],
     "language": "python",
     "outputs": [],
     "prompt_number": 3
    },
    {
     "cell_type": "code",
     "collapsed": false,
     "input": [
      "human_dp = dpkg.DataPackage.load(\n",
      "    DATA_PATH.joinpath(\"human\", \"stability.dpkg\"))\n",
      "\n",
      "# we need to flip people's responses, because the scale they responded\n",
      "# on was unstable-->stable but the model is stable-->unstable\n",
      "hresp = 1 - process_human_fall(human_dp)\n",
      "hresp_mean = hresp.mean()"
     ],
     "language": "python",
     "outputs": [],
     "prompt_number": 4
    },
    {
     "cell_type": "code",
     "collapsed": false,
     "input": [
      "ipe_dp = dpkg.DataPackage.load(\n",
      "    DATA_PATH.joinpath(\"model\", \"stability_original_ipe_fall.dpkg\"))\n",
      "mresp_ipe = ipe_dp.load_resource('model.csv').pivot_table(\n",
      "    rows=PARAMS + ['sample'],\n",
      "    cols='stimulus',\n",
      "    values='nfell') / 10.\n",
      "mresp_ipe_mean = mresp_ipe.groupby(level=PARAMS).mean().stack()\n",
      "\n",
      "corrs_ipe = mresp_ipe_mean\\\n",
      "    .groupby(level=PARAMS)\\\n",
      "    .apply(lambda x: np.corrcoef(hresp_mean, x)[0, 1])\n",
      "\n",
      "# sigma, phi, kappa\n",
      "iparam = (0.04, 0.2, 0.0)\n",
      "print corrs_ipe.ix[iparam]"
     ],
     "language": "python",
     "outputs": [
      {
       "output_type": "stream",
       "stream": "stdout",
       "text": [
        "0.865027156394\n"
       ]
      }
     ],
     "prompt_number": 5
    },
    {
     "cell_type": "code",
     "collapsed": false,
     "input": [
      "truth_dp = dpkg.DataPackage.load(\n",
      "    DATA_PATH.joinpath(\"model\", \"stability_original_truth_fall.dpkg\"))\n",
      "mresp_fb = truth_dp.load_resource('model.csv').pivot_table(\n",
      "    rows=PARAMS + ['sample'],\n",
      "    cols='stimulus',\n",
      "    values='nfell') / 10.\n",
      "mresp_fb_mean = mresp_fb.groupby(level=PARAMS).mean().stack()\n",
      "\n",
      "corrs_fb = mresp_fb_mean\\\n",
      "    .groupby(level=PARAMS)\\\n",
      "    .apply(lambda x: np.corrcoef(hresp_mean, x)[0, 1])\n",
      "\n",
      "iparam = (0.0, 0.0, 0.0)\n",
      "print corrs_fb.ix[iparam]"
     ],
     "language": "python",
     "outputs": [
      {
       "output_type": "stream",
       "stream": "stdout",
       "text": [
        "0.556568569398\n"
       ]
      }
     ],
     "prompt_number": 6
    }
   ]
  }
 ]
}