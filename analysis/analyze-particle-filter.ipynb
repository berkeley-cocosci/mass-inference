{
 "metadata": {
  "name": "experimenter-analysis"
 },
 "nbformat": 3,
 "nbformat_minor": 0,
 "worksheets": [
  {
   "cells": [
    {
     "cell_type": "code",
     "collapsed": false,
     "input": [
      "# imports\n",
      "import collections\n",
      "import matplotlib.cm as cm\n",
      "import matplotlib.gridspec as gridspec\n",
      "import numpy as np\n",
      "import pdb\n",
      "import pickle\n",
      "import scipy.stats\n",
      "import os\n",
      "import time\n",
      "import cogphysics\n",
      "import cogphysics.lib.circ as circ\n",
      "import cogphysics.lib.nplib as npl\n",
      "import cogphysics.lib.rvs as rvs\n",
      "\n",
      "import cogphysics.tower.analysis_tools as tat\n",
      "import cogphysics.tower.mass.model_observer as mo\n",
      "import cogphysics.tower.mass.learning_analysis_tools as lat\n",
      "\n",
      "from cogphysics.lib.corr import xcorr"
     ],
     "language": "python",
     "outputs": [],
     "prompt_number": 16
    },
    {
     "cell_type": "code",
     "collapsed": false,
     "input": [
      "# nicknames\n",
      "normalize = rvs.util.normalize\n",
      "weightedSample = rvs.util.weightedSample\n",
      "rso = np.random.RandomState(0)"
     ],
     "language": "python",
     "outputs": [],
     "prompt_number": 17
    },
    {
     "cell_type": "code",
     "collapsed": false,
     "input": [
      "###############################\n",
      "##### LOAD AND ORDER DATA #####\n",
      "###############################\n",
      "\n",
      "# load stability data\n",
      "out = lat.load('stability')\n",
      "rawhuman0, rawhstim0, raworder0, rawtruth0, rawipe0, kappas = out\n"
     ],
     "language": "python",
     "outputs": [],
     "prompt_number": 18
    },
    {
     "cell_type": "code",
     "collapsed": false,
     "input": [
      "######################################################################\n",
      "## Load and process new data\n",
      "hdata = np.load(\"../../turk-experiment/data.npz\")\n",
      "rawhuman = hdata['data']['response'][..., None]\n",
      "rawhstim = np.array([x.split(\"~\")[0] for x in hdata['stims']])\n",
      "raworder = hdata['data']['trial'][..., None]\n",
      "\n",
      "idx = np.nonzero((rawhstim0[:, None] == rawhstim[None, :]))[0]\n",
      "rawtruth = rawtruth0[idx].copy()\n",
      "rawipe = rawipe0[idx].copy()\n"
     ],
     "language": "python",
     "outputs": [],
     "prompt_number": 19
    },
    {
     "cell_type": "code",
     "collapsed": false,
     "input": [
      "# order data by trial\n",
      "human, stimuli, sort, truth, ipe = lat.order_by_trial(\n",
      "    rawhuman, rawhstim, raworder, rawtruth, rawipe)\n",
      "truth = truth[0]\n",
      "ipe = ipe[0]\n",
      "print \"truth\", truth.shape\n",
      "print \"ipe\", ipe.shape\n"
     ],
     "language": "python",
     "outputs": [
      {
       "output_type": "stream",
       "stream": "stdout",
       "text": [
        "truth (20, 27, 1)\n",
        "ipe (20, 27, 300)\n"
       ]
      }
     ],
     "prompt_number": 20
    },
    {
     "cell_type": "code",
     "collapsed": false,
     "input": [
      "# compute ratios (from kappa values)\n",
      "ratios = 10 ** kappas\n",
      "ratios[kappas < 0] = np.round(ratios[kappas < 0], decimals=2)\n",
      "ratios[kappas >= 0] = np.round(ratios[kappas >= 0], decimals=1)\n",
      "print ratios.shape; ratios\n",
      " "
     ],
     "language": "python",
     "outputs": [
      {
       "output_type": "stream",
       "stream": "stdout",
       "text": [
        "(27,)\n"
       ]
      },
      {
       "output_type": "pyout",
       "prompt_number": 21,
       "text": [
        "memmap([  0.05,   0.06,   0.08,   0.1 ,   0.13,   0.16,   0.2 ,   0.25,\n",
        "         0.32,   0.4 ,   0.5 ,   0.63,   0.79,   1.  ,   1.3 ,   1.6 ,\n",
        "         2.  ,   2.5 ,   3.2 ,   4.  ,   5.  ,   6.3 ,   7.9 ,  10.  ,\n",
        "        12.6 ,  15.8 ,  20.  ])"
       ]
      }
     ],
     "prompt_number": 21
    },
    {
     "cell_type": "code",
     "collapsed": false,
     "input": [
      "#------------#\n",
      "# Parameters #\n",
      "#------------#\n",
      "\n",
      "# plotting parameters\n",
      "cmap = lat.make_cmap(                            # colormap for plotting\n",
      "    \"lh\", \n",
      "    (0, 0, 0),    # black for low values\n",
      "    (.5, .5, .5), # grey for mid values\n",
      "    (1, 0, 0))    # red for high values\n",
      "\n",
      "# global parameters\n",
      "outcomes     = np.array([0, 1])                  # possible outcomes\n",
      "responses    = np.array([0, 1])                  # possible responses\n",
      "n_trial      = stimuli.shape[1]                  # number of trials\n",
      "n_kappas     = len(kappas)                       # number of mass ratios to consider\n",
      "n_responses  = responses.size                    # number of possible responses\n",
      "n_outcomes   = outcomes.size                     # number of possible outcomes\n",
      "kappa0       = 1.0                               # value of the true log mass ratio\n",
      "ikappa0      = np.nonzero(kappas==1.0)[0][0]     # index for the true mass ratio\n"
     ],
     "language": "python",
     "outputs": [],
     "prompt_number": 22
    },
    {
     "cell_type": "code",
     "collapsed": false,
     "input": [
      "#-----------------#\n",
      "# Human responses #\n",
      "#-----------------#\n",
      "\n",
      "# ifell = human > 3\n",
      "# istable = human < 3\n",
      "# ichance = human == 3\n",
      "# h_responses = np.empty(human.shape)\n",
      "# h_responses[ifell] = 1\n",
      "# h_responses[istable] = 0\n",
      "# h_responses[ichance] = rso.randint(0, 2, h_responses[ichance].shape)\n",
      "h_responses = human.astype('i8')\n",
      "\n",
      "plt.figure()\n",
      "plt.bar(np.arange(h_responses.shape[0]),\n",
      "        np.mean(h_responses, axis=1), align='center')\n",
      "plt.title(\"Probability of human responding \\\"fall\\\"\")\n",
      "plt.ylim(0, 1)\n",
      "plt.xlim(-1, 11)\n"
     ],
     "language": "python",
     "outputs": [
      {
       "output_type": "pyout",
       "prompt_number": 23,
       "text": [
        "(-1, 11)"
       ]
      },
      {
       "output_type": "display_data",
       "png": "[encoded data removed]"
      }
     ],
     "prompt_number": 23
    },
    {
     "cell_type": "code",
     "collapsed": false,
     "input": [
      "##########################\n",
      "##### MODEL OBSERVER #####\n",
      "##########################\n",
      "\n",
      "# model observer parameters\n",
      "nthresh0          = 1                            # feedback threshold for \"fall\"\n",
      "nthresh           = 4                            # ipe threshold for \"fall\"\n",
      "nsamps            = 300                          # number of ipe samples\n",
      "f_smooth          = True                         # smooth ipe likelihoods\n",
      "p_ignore_stimulus = 0.1                          # probability of ignoring stimulus\n"
     ],
     "language": "python",
     "outputs": [],
     "prompt_number": 42
    },
    {
     "cell_type": "code",
     "collapsed": false,
     "input": [
      "# get feedback and IPE model data\n",
      "feedback, ipe_samps = lat.make_observer_data(\n",
      "    nthresh0, nthresh, nsamps)\n",
      "print \"feedback\", feedback.shape\n",
      "print \"ipe     \", ipe_samps.shape"
     ],
     "language": "python",
     "outputs": [
      {
       "output_type": "stream",
       "stream": "stdout",
       "text": [
        "feedback (20, 27, 1)\n",
        "ipe      (20, 27, 300, 1)\n"
       ]
      }
     ],
     "prompt_number": 43
    },
    {
     "cell_type": "code",
     "collapsed": false,
     "input": [
      "# compute belief for model observer\n",
      "m_lh, m_joint, m_kappas, m_responses = mo.ModelObserver(\n",
      "    ipe_samps,\n",
      "    feedback[:, None],\n",
      "    outcomes=outcomes[:, None],\n",
      "    respond=True,\n",
      "    p_ignore_stimulus=p_ignore_stimulus,\n",
      "    smooth=f_smooth)\n",
      "\n",
      "print \"P_t(k)\", m_kappas.shape; m_kappas\n",
      "\n",
      "exp = np.exp(np.log(0.5) / np.log(1. / n_kappas))\n",
      "logcticks = np.array([0, 0.001, 0.05, 0.25, 1])\n",
      "cticks = np.exp(np.log(logcticks) * np.log(exp))\n",
      "\n",
      "# plt.figure()\n",
      "# plt.imshow(exp**normalize(m_kappas[:, -1].T, axis=0)[1], cmap=cmap, interpolation='nearest', vmin=0, vmax=1, origin='lower')\n",
      "# plt.xlabel(\"Feedback condition\")\n",
      "# plt.ylabel(\"Mass ratio\")\n",
      "# plt.title(\"Model observer belief as a function of feedback\")\n",
      "# cb = plt.colorbar(ticks=cticks)\n",
      "# cb.set_ticklabels(logcticks)\n",
      "\n",
      "plt.figure()\n",
      "plt.plot(kappas, np.mean(m_responses, axis=1))\n",
      "plt.xticks(plt.xticks()[0], np.round(10**plt.xticks()[0], decimals=2))\n",
      "plt.title(\"Probability of model responding \\\"fall\\\"\")\n",
      "plt.xlabel(\"Feedback condition\")\n",
      "plt.ylim(0, 1)\n"
     ],
     "language": "python",
     "outputs": [
      {
       "output_type": "stream",
       "stream": "stdout",
       "text": [
        "P_t(k) (27, 21, 27)\n"
       ]
      },
      {
       "output_type": "pyout",
       "prompt_number": 44,
       "text": [
        "(0, 1)"
       ]
      },
      {
       "output_type": "display_data",
       "png": "[encoded data removed]"
      }
     ],
     "prompt_number": 44
    },
    {
     "cell_type": "code",
     "collapsed": false,
     "input": [
      "##################################\n",
      "##### EXPERIMENTER INFERENCE #####\n",
      "##################################\n",
      "\n",
      "# particle filter parameters\n",
      "n_part       = 500                               # number of particles\n",
      "neffthresh   = n_part * 0.75                     # number of effective particles threshold\n",
      "kw           = 0.1                               # kernel width for smoothing\n",
      "pn           = 2.0                               # noise\n",
      "f_use_model  = True                              # if True, use responses from model observer,\n",
      "                                                 # if False, use responses from human data\n",
      "f_plot_particle = True\n",
      "\n",
      "# for smoothing likelihoods\n",
      "smoother = mo.make_kde_smoother(np.arange(0, n_kappas*0.1, 0.1), kw)\n",
      "# randomness\n",
      "rso = np.random.RandomState(50)\n"
     ],
     "language": "python",
     "outputs": [],
     "prompt_number": 45
    },
    {
     "cell_type": "code",
     "collapsed": false,
     "input": [
      "# \"true\" responses (for the purposes of inference)\n",
      "\n",
      "if f_use_model:\n",
      "    true_responses = m_responses.copy().astype('i8')\n",
      "    # true_responses = mo.responses(\n",
      "    #     m_kappas[:, [-1]]*np.ones(m_kappas.shape),\n",
      "    #     outcomes[:, None], ipe_samps, p_ignore_stimulus, f_smooth)\n",
      "    sidxs = [0, 3, 6, 8, 10, 13, 16, 18, 20, 23, 26]\n",
      "    #sidxs = [0]#, 13, 26]\n",
      "\n",
      "else:\n",
      "    true_responses = h_responses.copy()\n",
      "    sidxs = np.arange(true_responses.shape[0])\n",
      "\n",
      "n_subj = len(sidxs)\n",
      "print \"Running inference on %d subjects\" % n_subj\n"
     ],
     "language": "python",
     "outputs": [
      {
       "output_type": "stream",
       "stream": "stdout",
       "text": [
        "Running inference on 11 subjects\n"
       ]
      }
     ],
     "prompt_number": 46
    },
    {
     "cell_type": "code",
     "collapsed": false,
     "input": [
      "# arrays to hold particles and weights\n",
      "thetas = np.empty((n_subj, n_part, n_trial+1, n_kappas)) * np.nan\n",
      "weights = np.empty((n_subj, n_part, n_trial+1)) * np.nan\n",
      "mle_alphas = np.empty((n_subj, n_trial+1, n_kappas)) * np.nan\n",
      "\n",
      "thetas[:, :, 0] = np.log(smoother(\n",
      "    rso.dirichlet(np.ones(n_kappas), (n_subj, n_part))[..., None, :]))\n",
      "#thetas[:, :, 0] = np.log(1. / n_kappas)\n",
      "weights[:, :, 0] = np.log(np.ones((n_subj, n_part)) / n_part)\n",
      "mle_alphas[:, 0] = np.ones((n_subj, n_kappas)) / n_kappas\n"
     ],
     "language": "python",
     "outputs": [],
     "prompt_number": 47
    },
    {
     "cell_type": "code",
     "collapsed": false,
     "input": [
      "###########################\n",
      "##### PARTICLE FILTER #####\n",
      "###########################\n",
      "\n",
      "if f_plot_particle:\n",
      "    x = np.arange(n_kappas)\n",
      "    plt.close('all')\n",
      "    plt.figure(1)\n",
      "    n = 4\n",
      "    pp = []\n",
      "    pl = []\n",
      "    for i in xrange(n):\n",
      "        plt.subplot(1, n, i+1)\n",
      "        pp.append(plt.plot(x, np.zeros(n_kappas), 'b.')[0])\n",
      "        pl.append(plt.plot(x, np.zeros(n_kappas), 'b-')[0])\n",
      "        plt.ylim(0, 1)\n",
      "    plt.show()\n",
      "    plt.draw()\n",
      "    plt.draw()\n",
      "\n",
      "for idx, sidx in enumerate(sidxs):\n",
      "\n",
      "    print idx\n",
      "    rso.seed(100)\n",
      "        \n",
      "    for t in xrange(0, n_trial):\n",
      "\n",
      "        thetas_t = thetas[idx, :, t].copy()\n",
      "        weights_t = weights[idx, :, t].copy()\n",
      "        samps_t = ipe_samps[t]\n",
      "\n",
      "        # compute likelihood of outcomes\n",
      "        p_outcomes = np.exp(mo.predict(\n",
      "            thetas_t, outcomes[:, None], samps_t, f_smooth))\n",
      "\n",
      "        # observe response\n",
      "        response_t = int(true_responses[sidx, t])\n",
      "\n",
      "        # compute likelihood of response\n",
      "        p_response = (p_outcomes[:, response_t]*(1-p_ignore_stimulus) + \n",
      "                      (1./n_responses)*(p_ignore_stimulus))\n",
      "\n",
      "        # observe feedback\n",
      "        #obs_t = feedback[t, sidx]\n",
      "        #obs_t = feedback[t, ikappa0]\n",
      "        obs_t = feedback[t, -1]\n",
      "\n",
      "        # update mass ratio belief\n",
      "        ef = mo.evaluateFeedback(obs_t, samps_t, f_smooth)\n",
      "        us_noise = pn*rso.dirichlet(np.ones(n_kappas), (n_part,))\n",
      "        noise = smoother(us_noise[:, None, :])\n",
      "        v = np.exp(normalize(thetas_t + ef + np.log(noise), axis=-1)[1])\n",
      "        #m_theta = normalize(np.log(smoother(v[:, None])), axis=-1)[1]\n",
      "        #m_theta = np.log(smoother(v[:, None]))\n",
      "        m_theta = np.log(v)\n",
      "\n",
      "        # weight particles\n",
      "        weights_t = normalize(np.log(p_response) + weights_t)[1]\n",
      "        \n",
      "        # compute number of effective particles\n",
      "        neff = 1. / np.sum(np.exp(weights_t)**2)\n",
      "\n",
      "        # resample particles\n",
      "        if neff < neffthresh:\n",
      "            tidx = weightedSample(\n",
      "                np.exp(weights_t), n_part, rso=rso)\n",
      "            thetas[idx, :, t+1] = m_theta[tidx]\n",
      "            weights[idx, :, t+1] = np.log(\n",
      "                np.ones(n_part, dtype='f8') / n_part)\n",
      "        else:\n",
      "            thetas[idx, :, t+1] = m_theta\n",
      "            weights[idx, :, t+1] = weights_t\n",
      "\n",
      "        # plot\n",
      "        if f_plot_particle:\n",
      "            pp[0].set_ydata(np.exp(thetas_t)[0])\n",
      "            pl[0].set_ydata(np.exp(thetas_t)[0])\n",
      "            pp[1].set_ydata(np.exp(ef)[0])\n",
      "            pl[1].set_ydata(np.exp(ef)[0])\n",
      "            pp[2].set_ydata(us_noise[0])\n",
      "            pl[2].set_ydata(noise[0])\n",
      "            pp[3].set_ydata(v[0])\n",
      "            pl[3].set_ydata(v[0])\n",
      "            plt.draw()\n",
      "\n"
     ],
     "language": "python",
     "outputs": [
      {
       "output_type": "display_data",
       "png": "[encoded data removed]"
      },
      {
       "output_type": "stream",
       "stream": "stdout",
       "text": [
        "0\n",
        "1"
       ]
      },
      {
       "output_type": "stream",
       "stream": "stdout",
       "text": [
        "\n",
        "2"
       ]
      },
      {
       "output_type": "stream",
       "stream": "stdout",
       "text": [
        "\n",
        "3"
       ]
      },
      {
       "output_type": "stream",
       "stream": "stdout",
       "text": [
        "\n",
        "4"
       ]
      },
      {
       "output_type": "stream",
       "stream": "stdout",
       "text": [
        "\n",
        "5"
       ]
      },
      {
       "output_type": "stream",
       "stream": "stdout",
       "text": [
        "\n",
        "6"
       ]
      },
      {
       "output_type": "stream",
       "stream": "stdout",
       "text": [
        "\n",
        "7"
       ]
      },
      {
       "output_type": "stream",
       "stream": "stdout",
       "text": [
        "\n",
        "8"
       ]
      },
      {
       "output_type": "stream",
       "stream": "stdout",
       "text": [
        "\n",
        "9"
       ]
      },
      {
       "output_type": "stream",
       "stream": "stdout",
       "text": [
        "\n",
        "10"
       ]
      },
      {
       "output_type": "stream",
       "stream": "stdout",
       "text": [
        "\n"
       ]
      }
     ],
     "prompt_number": 48
    },
    {
     "cell_type": "code",
     "collapsed": false,
     "input": [
      "plt.close('all')\n",
      "fig = plt.figure(3)\n",
      "plt.clf()\n",
      "#fig.set_figwidth(9)\n",
      "#fig.set_figheight(3)\n",
      "#r, c = 1, 3\n",
      "r, c = 3, 4\n",
      "n = r*c\n",
      "exp = np.exp(np.log(0.5) / np.log(1./27))    \n",
      "gs = gridspec.GridSpec(r, c+1, width_ratios=[1]*c + [0.1])\n",
      "plt.suptitle(\"MLE P(kappa)\")\n",
      "plt.subplots_adjust(wspace=0.3, hspace=0.2, left=0.1, right=0.9, top=0.9, bottom=0.1)\n",
      "\n",
      "for i, sidx in enumerate(sidxs):\n",
      "    irow, icol = np.unravel_index(i, (r, c))\n",
      "    ax = plt.subplot(gs[irow, icol])\n",
      "    kappa = kappas[sidx]\n",
      "    subjname = \"Observed $\\kappa=%s$\" % float(ratios[sidx])\n",
      "    img = lat.plot_theta(\n",
      "        None, None, ax,\n",
      "        np.sum(np.exp(thetas[i]) * np.exp(weights[i,...,None]), axis=0),\n",
      "        subjname,\n",
      "        exp=exp,\n",
      "        cmap=cmap,\n",
      "        fontsize=14)\n",
      "    yticks = np.round(\n",
      "        np.linspace(0, n_kappas-1, 5)).astype('i8')\n",
      "    if (i%c) == 0:\n",
      "        plt.yticks(yticks, ratios[yticks], fontsize=14)\n",
      "        plt.ylabel(\"Mass ratio ($\\kappa$)\", fontsize=14)\n",
      "    else:\n",
      "        plt.yticks(yticks, [])\n",
      "        plt.ylabel(\"\")\n",
      "    xticks = np.linspace(0, n_trial, 4).astype('i8')\n",
      "    if (n-i) <= c:\n",
      "        plt.xticks(xticks, xticks, fontsize=14)\n",
      "        plt.xlabel(\"Trial number ($t$)\", fontsize=14)\n",
      "    else:\n",
      "        plt.xticks(xticks, [])\n",
      "\n",
      "logcticks = np.array([0, 0.001, 0.05, 0.25, 1])\n",
      "cticks = np.exp(np.log(logcticks) * np.log(exp))\n",
      "cax = plt.subplot(gs[:, -1])\n",
      "cb = fig.colorbar(img, ax=ax, cax=cax, ticks=cticks)\n",
      "cb.set_ticklabels(logcticks)\n",
      "cax.set_title(\"$P_t(\\kappa)$\", fontsize=14)\n",
      "plt.draw()\n",
      "plt.draw()\n",
      "\n",
      "    # subjname = \"Model Subj. r=%.1f\" % ratios[sidx]\n",
      "    # print subjname\n",
      "    # mle_theta = np.mean(np.exp(thetas[sidx]), axis=0)\n",
      "    # plt.figure(2)\n",
      "    # lat.plot_theta(\n",
      "    #     3, 4, sidx+1,\n",
      "    #     mle_theta, subjname, exp=np.e, ratios=ratios)\n"
     ],
     "language": "python",
     "outputs": [
      {
       "output_type": "display_data",
       "png": "[encoded data removed]"
      }
     ],
     "prompt_number": 49
    },
    {
     "cell_type": "code",
     "collapsed": false,
     "input": [
      "print thetas.shape\n",
      "print weights.shape"
     ],
     "language": "python",
     "outputs": [
      {
       "output_type": "stream",
       "stream": "stdout",
       "text": [
        "(1, 500, 385, 27)\n",
        "(1, 500, 385)\n"
       ]
      }
     ],
     "prompt_number": 74
    }
   ]
  }
 ]
}