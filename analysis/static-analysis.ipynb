{
 "metadata": {
  "name": "static-analysis"
 },
 "nbformat": 3,
 "nbformat_minor": 0,
 "worksheets": [
  {
   "cells": [
    {
     "cell_type": "code",
     "collapsed": false,
     "input": [
      "# imports\n",
      "import collections\n",
      "import matplotlib.cm as cm\n",
      "import matplotlib.gridspec as gridspec\n",
      "import numpy as np\n",
      "import pandas as pd\n",
      "import pdb\n",
      "import pickle\n",
      "import scipy.stats\n",
      "import os\n",
      "import time\n",
      "\n",
      "import cogphysics\n",
      "import cogphysics.lib.circ as circ\n",
      "import cogphysics.lib.nplib as npl\n",
      "import cogphysics.lib.rvs as rvs\n",
      "\n",
      "import cogphysics.tower.analysis_tools as tat\n",
      "import cogphysics.tower.mass.model_observer as mo\n",
      "import cogphysics.tower.mass.learning_analysis_tools as lat\n",
      "\n",
      "from cogphysics.lib.corr import xcorr, partialcorr\n",
      "\n",
      "normalize = rvs.util.normalize\n",
      "weightedSample = rvs.util.weightedSample\n",
      "\n",
      "pd.set_option('line_width', 195)\n",
      "LINE = \"-\"*195\n"
     ],
     "language": "python",
     "outputs": [],
     "prompt_number": 1
    },
    {
     "cell_type": "code",
     "collapsed": false,
     "input": [
      "######################################################################\n",
      "## Load human data\n",
      "######################################################################\n",
      "\n",
      "reload(lat)\n",
      "training, posttest, experiment, queries = lat.load_turk_static(thresh=1)\n",
      "conds = experiment.keys()\n"
     ],
     "language": "python",
     "outputs": [
      {
       "output_type": "stream",
       "stream": "stdout",
       "text": [
        "Bad pids (15): ['042', '047', '051', '052', '058', '066', '069', '075', '085', '095', '109', '115', '121', '131', '143']\n",
        "Bad pids (15): ['042', '047', '051', '052', '058', '066', '069', '075', '085', '095', '109', '115', '121', '131', '143']"
       ]
      },
      {
       "output_type": "stream",
       "stream": "stdout",
       "text": [
        "\n",
        "C-vfb-10"
       ]
      },
      {
       "output_type": "stream",
       "stream": "stdout",
       "text": [
        " 2\n",
        "C-vfb-0.1 2\n",
        "C-fb-10 2\n",
        "C-fb-0.1 2\n",
        "C-nfb-10 2\n"
       ]
      }
     ],
     "prompt_number": 2
    },
    {
     "cell_type": "code",
     "collapsed": false,
     "input": [
      "######################################################################\n",
      "## Load stimuli\n",
      "######################################################################\n",
      "\n",
      "# listpath = os.path.join(cogphysics.CPOBJ_LIST_PATH,\n",
      "# \t\t\t\"mass-towers-stability-learning~kappa-1.0\")\n",
      "# with open(listpath, \"r\") as fh:\n",
      "#     Stims = np.array([x.split(\"~\")[0] for x in fh.read().strip().split(\"\\n\") if x != \"\"])\n",
      "\n",
      "Stims = np.array([x.split(\"~\")[0] for x in zip(*experiment[experiment.keys()[0]].columns)[1]])\n"
     ],
     "language": "python",
     "outputs": [],
     "prompt_number": 3
    },
    {
     "cell_type": "code",
     "collapsed": false,
     "input": [
      "######################################################################\n",
      "## Load old human data\n",
      "######################################################################\n",
      "\n",
      "out = lat.load_human('stability')\n",
      "rawoldhuman, rawoldhstim, rawoldorder = out\n",
      "idx = np.nonzero(Stims[None, :] == rawoldhstim[:, None])[0]\n",
      "oldhuman_all = pd.DataFrame(\n",
      "    (7-rawoldhuman.reshape((rawoldhuman.shape[0], -1)).T)/7.,\n",
      "    columns=rawoldhstim)\n",
      "oldhuman = pd.DataFrame(\n",
      "    (7-rawoldhuman[idx].reshape((idx.shape[0], -1)).T)/7.,\n",
      "    columns=Stims)\n",
      "experiment['old-fb-10'] = oldhuman\n",
      "experiment['old-all-10'] = oldhuman_all\n"
     ],
     "language": "python",
     "outputs": [],
     "prompt_number": 4
    },
    {
     "cell_type": "code",
     "collapsed": false,
     "input": [
      "######################################################################\n",
      "## Load model data\n",
      "######################################################################\n",
      "\n",
      "reload(lat)\n",
      "\n",
      "nthresh0 = 0\n",
      "nthresh = 0.4\n",
      "rawipe, ipe_samps, rawtruth, feedback, kappas = lat.process_model_turk(\n",
      "    Stims, nthresh0, nthresh)\n",
      "nofeedback = np.empty((feedback.shape[1]))*np.nan\n",
      "\n",
      "fig = plt.figure(1)\n",
      "plt.clf()\n",
      "lat.plot_smoothing(ipe_samps, Stims, 6, kappas)\n",
      "fig.set_figheight(6)\n",
      "fig.set_figwidth(8)\n",
      "\n",
      "lat.save(\"images/likelihood_smoothing.png\", close=True)\n"
     ],
     "language": "python",
     "outputs": [
      {
       "output_type": "stream",
       "stream": "stdout",
       "text": [
        "Saving figure to images/likelihood_smoothing.png...' "
       ]
      },
      {
       "output_type": "stream",
       "stream": "stdout",
       "text": [
        "Done\n"
       ]
      }
     ],
     "prompt_number": 5
    },
    {
     "cell_type": "code",
     "collapsed": false,
     "input": [
      "######################################################################\n",
      "## Global parameters\n",
      "######################################################################\n",
      "\n",
      "n_kappas = len(kappas)\n",
      "ratios = 10 ** kappas\n",
      "ratios[kappas < 0] = np.round(ratios[kappas < 0], decimals=2)\n",
      "ratios[kappas >= 0] = np.round(ratios[kappas >= 0], decimals=1)\n",
      "ratios = list(ratios)\n",
      "kappas = list(kappas)\n",
      "\n",
      "outcomes     = np.array([0, 1])                  # possible outcomes\n",
      "n_trial      = Stims.size\n",
      "n_outcomes   = outcomes.size                     # number of possible outcomes\n",
      "\n",
      "f_smooth = True\n",
      "p_ignore = 0.0\n",
      "\n",
      "cmap = lat.make_cmap(\"lh\", (0, 0, 0), (.5, .5, .5), (1, 0, 0))\n",
      "alpha = 0.2\n"
     ],
     "language": "python",
     "outputs": [],
     "prompt_number": 6
    },
    {
     "cell_type": "code",
     "collapsed": false,
     "input": [
      "######################################################################\n",
      "## Generate fake human data\n",
      "######################################################################\n",
      "\n",
      "fig = plt.figure(2)\n",
      "plt.clf()\n",
      "plt.suptitle(\"Ideal Observer Beliefs\")\n",
      "cidx = 0\n",
      "\n",
      "reload(mo)\n",
      "nfake = 2000\n",
      "for cond in sorted(experiment.keys()):\n",
      "\n",
      "    group, fbtype, ratio, cb = lat.parse_condition(cond)\n",
      "    if group in (\"MO\", \"old\"):\n",
      "\tcontinue\n",
      "    if fbtype == \"vfb\":\n",
      "\tfbtype == \"fb\"\n",
      "\n",
      "    cols = experiment[cond].columns\n",
      "    order = np.argsort(cols)\n",
      "    undo_order = np.argsort(order)\n",
      "\n",
      "    # determine what feedback to give\n",
      "    if fbtype == \"nfb\":\n",
      "\t#ridx = range(kappas.index(0.0)) + range(kappas.index(0.0)+1, n_kappas)\n",
      "\t#ridx = ratios.index(1.0)\n",
      "\tridx = np.arange(n_kappas)\n",
      "    else:\n",
      "\tridx = ratios.index(ratio)\n",
      "\t\n",
      "    fb = nofeedback[..., order]\n",
      "    prior = np.zeros((n_kappas))\n",
      "    prior[ridx] = 1\n",
      "    prior = normalize(np.log(prior))[1]\n",
      "    \n",
      "    # learning model beliefs\n",
      "    model_joint, model_theta = mo.ModelObserver(\n",
      "\tfb, ipe_samps[order], kappas, prior=prior, smooth=f_smooth)\n",
      "\n",
      "    # compute probability of falling\n",
      "    newcond = \"%s-%s-%s\" % (\"MO\", fbtype, cond.split(\"-\")[2])\n",
      "    # newcond = \"-\".join([\"MO\"] + cond.split(\"-\")[1:])\n",
      "    p_outcomes = np.exp(mo.predict(\n",
      "\tmodel_theta[:-1], ipe_samps[order], kappas, f_smooth))\n",
      "\n",
      "    # sample responses\n",
      "    responses = np.random.rand(nfake, n_trial) < p_outcomes\n",
      "    experiment[newcond] = pd.DataFrame(\n",
      "\tresponses[:, undo_order], \n",
      "\tcolumns=cols)\n",
      "\n",
      "    lat.plot_theta(\n",
      "\t2, 3, cidx+1,\n",
      "\tnp.exp(model_theta),\n",
      "\tcond,\n",
      "\texp=1.3,\n",
      "\tcmap=cmap,\n",
      "\tfontsize=14)\n",
      "    cidx += 1\n",
      "\n",
      "conds = sorted(experiment.keys())\n",
      "lat.save(\"images/ideal_observer_static_beliefs.png\", close=True)\n"
     ],
     "language": "python",
     "outputs": [
      {
       "output_type": "stream",
       "stream": "stdout",
       "text": [
        "Saving figure to images/ideal_observer_static_beliefs.png...' "
       ]
      },
      {
       "output_type": "stream",
       "stream": "stdout",
       "text": [
        "Done\n"
       ]
      }
     ],
     "prompt_number": 9
    },
    {
     "cell_type": "code",
     "collapsed": false,
     "input": [
      "reload(lat)\n",
      "\n",
      "nboot = 1000\n",
      "nsamp_wc = 8\n",
      "nsamp = 15\n",
      "with_replacement = False\n",
      "\n",
      "for cidx1, cond1 in enumerate(conds):\n",
      "    arr1 = np.asarray(experiment[cond1])\n",
      "    corrs = lat.bootcorr_wc(\n",
      "\tnp.asarray(arr1), \n",
      "\tnboot=nboot,\n",
      "\tnsamp=nsamp_wc,\n",
      "\twith_replacement=with_replacement)\n",
      "    meancorr = np.mean(corrs)\n",
      "    semcorr = scipy.stats.sem(corrs)\n",
      "    print \"(bootstrap) %-15s v %-15s: rho = %.4f +/- %.4f\" % (\n",
      "\tcond1, cond1, meancorr, semcorr)\n",
      "\n",
      "    if cond1 == \"old-all-10\":\n",
      "\tcontinue\n",
      "\n",
      "    for cidx2, cond2 in enumerate(conds[cidx1+1:]):\n",
      "\tif cond2 == \"old-all-10\":\n",
      "\t    continue\n",
      "\tif cond1.split(\"-\")[-2:] != cond2.split(\"-\")[-2:]:\n",
      "\t    continue\n",
      "\tarr2 = np.asarray(experiment[cond2])\n",
      "\n",
      "\tcorrs = lat.bootcorr(\n",
      "\t    np.asarray(arr1), np.asarray(arr2), \n",
      "\t    nboot=nboot, \n",
      "\t    nsamp=nsamp,\n",
      "\t    with_replacement=with_replacement)\n",
      "\tmeancorr = np.mean(corrs)\n",
      "\tsemcorr = scipy.stats.sem(corrs)\n",
      "\tprint \"(bootstrap) %-15s v %-15s: rho = %.4f +/- %.4f\" % (\n",
      "\t    cond1, cond2, meancorr, semcorr)\n"
     ],
     "language": "python",
     "outputs": [
      {
       "output_type": "stream",
       "stream": "stdout",
       "text": [
        "\n",
        "(bootstrap) MO-fb-10        v MO-fb-10       : rho = 0.7138 +/- 0.0021"
       ]
      },
      {
       "output_type": "stream",
       "stream": "stdout",
       "text": [
        "\n",
        "(bootstrap) MO-fb-10        v old-fb-10      : rho = 0.6184 +/- 0.0024"
       ]
      },
      {
       "output_type": "stream",
       "stream": "stdout",
       "text": [
        "\n",
        "(bootstrap) MO-nfb-10       v MO-nfb-10      : rho = 0.5506 +/- 0.0030"
       ]
      },
      {
       "output_type": "stream",
       "stream": "stdout",
       "text": [
        "\n",
        "(bootstrap) MO-vfb-0.1      v MO-vfb-0.1     : rho = 0.7029 +/- 0.0022"
       ]
      },
      {
       "output_type": "stream",
       "stream": "stdout",
       "text": [
        "\n",
        "(bootstrap) MO-vfb-10       v MO-vfb-10      : rho = 0.7050 +/- 0.0022"
       ]
      },
      {
       "output_type": "stream",
       "stream": "stdout",
       "text": [
        "\n",
        "(bootstrap) old-all-10      v old-all-10     : rho = 0.7694 +/- 0.0014"
       ]
      },
      {
       "output_type": "stream",
       "stream": "stdout",
       "text": [
        "\n",
        "(bootstrap) old-fb-10       v old-fb-10      : rho = 0.7353 +/- 0.0023"
       ]
      },
      {
       "output_type": "stream",
       "stream": "stdout",
       "text": [
        "\n"
       ]
      },
      {
       "output_type": "stream",
       "stream": "stdout",
       "text": [
        "(bootstrap) C-fb-0.1        v C-fb-0.1       : rho = 0.6344 +/- 0.0024\n",
        "(bootstrap) C-fb-0.1        v MO-fb-0.1      : rho = 0.3394 +/- 0.0025"
       ]
      },
      {
       "output_type": "stream",
       "stream": "stdout",
       "text": [
        "\n",
        "(bootstrap) C-fb-10         v C-fb-10        : rho = 0.6261 +/- 0.0026"
       ]
      },
      {
       "output_type": "stream",
       "stream": "stdout",
       "text": [
        "\n",
        "(bootstrap) C-fb-10         v MO-fb-10       : rho = 0.5461 +/- 0.0023"
       ]
      },
      {
       "output_type": "stream",
       "stream": "stdout",
       "text": [
        "\n",
        "(bootstrap) C-fb-10         v old-fb-10      : rho = 0.7033 +/- 0.0015"
       ]
      },
      {
       "output_type": "stream",
       "stream": "stdout",
       "text": [
        "\n",
        "(bootstrap) C-nfb-10        v C-nfb-10       : rho = 0.6014 +/- 0.0026"
       ]
      },
      {
       "output_type": "stream",
       "stream": "stdout",
       "text": [
        "\n",
        "(bootstrap) C-nfb-10        v MO-nfb-10      : rho = 0.4267 +/- 0.0029"
       ]
      },
      {
       "output_type": "stream",
       "stream": "stdout",
       "text": [
        "\n",
        "(bootstrap) C-vfb-0.1       v C-vfb-0.1      : rho = 0.6589 +/- 0.0024"
       ]
      },
      {
       "output_type": "stream",
       "stream": "stdout",
       "text": [
        "\n",
        "(bootstrap) C-vfb-0.1       v MO-vfb-0.1     : rho = 0.5459 +/- 0.0021"
       ]
      },
      {
       "output_type": "stream",
       "stream": "stdout",
       "text": [
        "\n",
        "(bootstrap) C-vfb-10        v C-vfb-10       : rho = 0.7365 +/- 0.0018"
       ]
      },
      {
       "output_type": "stream",
       "stream": "stdout",
       "text": [
        "\n",
        "(bootstrap) C-vfb-10        v MO-vfb-10      : rho = 0.5192 +/- 0.0023"
       ]
      },
      {
       "output_type": "stream",
       "stream": "stdout",
       "text": [
        "\n",
        "(bootstrap) MO-fb-0.1       v MO-fb-0.1      : rho = 0.7056 +/- 0.0020"
       ]
      },
      {
       "output_type": "stream",
       "stream": "stdout",
       "text": [
        "\n",
        "(bootstrap) MO-fb-10        v MO-fb-10       : rho = 0.7095 +/- 0.0022"
       ]
      },
      {
       "output_type": "stream",
       "stream": "stdout",
       "text": [
        "\n",
        "(bootstrap) MO-fb-10        v old-fb-10      : rho = 0.6170 +/- 0.0022"
       ]
      },
      {
       "output_type": "stream",
       "stream": "stdout",
       "text": [
        "\n",
        "(bootstrap) MO-nfb-10       v MO-nfb-10      : rho = 0.5330 +/- 0.0031"
       ]
      },
      {
       "output_type": "stream",
       "stream": "stdout",
       "text": [
        "\n",
        "(bootstrap) MO-vfb-0.1      v MO-vfb-0.1     : rho = 0.7027 +/- 0.0022"
       ]
      },
      {
       "output_type": "stream",
       "stream": "stdout",
       "text": [
        "\n",
        "(bootstrap) MO-vfb-10       v MO-vfb-10      : rho = 0.7137 +/- 0.0021"
       ]
      },
      {
       "output_type": "stream",
       "stream": "stdout",
       "text": [
        "\n",
        "(bootstrap) old-all-10      v old-all-10     : rho = 0.7731 +/- 0.0014"
       ]
      },
      {
       "output_type": "stream",
       "stream": "stdout",
       "text": [
        "\n",
        "(bootstrap) old-fb-10       v old-fb-10      : rho = 0.7323 +/- 0.0024"
       ]
      },
      {
       "output_type": "stream",
       "stream": "stdout",
       "text": [
        "\n"
       ]
      }
     ],
     "prompt_number": 10
    },
    {
     "cell_type": "code",
     "collapsed": false,
     "input": [
      "rawipe0 = lat.load_model(\"stability\")[1]\n",
      "idx = np.nonzero(Stims[None, :] == rawoldhstim[:, None])[0]\n",
      "nfell = (rawipe0[idx]['nfellA'] + rawipe0[idx]['nfellB']) / 10.\n",
      "\n",
      "nanmean = scipy.stats.nanmean\n",
      "nanstd = scipy.stats.nanstd\n",
      "\n",
      "hdata = np.asarray(experiment['C-vfb-10'])\n",
      "hmean = nanmean(hdata, axis=0)\n",
      "hsem = nanstd(hdata, axis=0) / np.sqrt(hdata.shape[0])\n",
      "\n",
      "sdata = np.asarray(experiment['MO-fb-10'])\n",
      "smean = nanmean(sdata, axis=0)\n",
      "ssem = nanstd(sdata, axis=0) / np.sqrt(sdata.shape[0])\n",
      "\n",
      "print xcorr(hmean, smean)\n",
      "\n",
      "plt.figure(3)\n",
      "plt.clf()\n",
      "plt.errorbar(hmean, smean, xerr=hsem, yerr=ssem, \n",
      "\t     linestyle='', marker='o')\n",
      "plt.xlabel(\"Human n=%d (visual feedback)\" % hdata.shape[0])\n",
      "plt.ylabel(\"Model n=%d (uniform prior, no learning)\" % sdata.shape[0])\n",
      "plt.title(\"Human vs. model judgments\")\n",
      "\n",
      "lat.save(\"images/human_v_model.png\", close=False)\n"
     ],
     "language": "python",
     "outputs": [
      {
       "output_type": "stream",
       "stream": "stdout",
       "text": [
        "0.599680758381\n",
        "Saving figure to images/human_v_model.png...'"
       ]
      },
      {
       "output_type": "stream",
       "stream": "stdout",
       "text": [
        " Done\n"
       ]
      }
     ],
     "prompt_number": 11
    },
    {
     "cell_type": "code",
     "collapsed": false,
     "input": [
      "plt.figure(10)\n",
      "plt.clf()\n",
      "\n",
      "allarr = []\n",
      "allconds = []\n",
      "\n",
      "for cond in conds:\n",
      "    if cond.startswith(\"MO\"):\n",
      "\tcontinue\n",
      "    if cond.startswith(\"old\"):\n",
      "\tcontinue\n",
      "    if cond.endswith(\"nfb-10\"):\n",
      "\tcontinue\n",
      "\n",
      "    ratio = float(cond.split(\"-\")[-1])\n",
      "    arr = np.asarray(queries[cond]) == ratio\n",
      "    index = np.array(queries[cond].columns, dtype='i8')\n",
      "    idx = np.array(index)-6-np.arange(len(index))-1\n",
      "    print idx\n",
      "    allarr.append(arr)\n",
      "    allconds.append(cond)\n",
      "    binom = [scipy.stats.binom_test(x, arr.shape[0], 0.5) for x in np.sum(arr, axis=0)]\n",
      "    print np.round(binom, decimals=8)\n",
      "    mean = np.mean(arr, axis=0)\n",
      "    sem = scipy.stats.sem(arr, axis=0, ddof=1)\n",
      "    plt.errorbar(idx, mean, yerr=sem, \n",
      "\t\t label=\"%s r=%s (n=%d)\"% (\n",
      "\t\t     cond.split(\"-\")[1],\n",
      "\t\t     cond.split(\"-\")[-1], \n",
      "\t\t     arr.shape[0]))\n",
      "\n",
      "arr = np.concatenate(allarr, axis=0)\n",
      "binom = [scipy.stats.binom_test(x, arr.shape[0], 0.5) for x in np.sum(arr, axis=0)]\n",
      "print np.round(binom, decimals=8)\n",
      "mean = np.mean(arr, axis=0)\n",
      "sem = scipy.stats.sem(arr, axis=0)\n",
      "plt.errorbar(idx, mean, yerr=sem, \n",
      "\t     label=\"all (n=%d)\"% (arr.shape[0]))\n",
      "\n",
      "plt.xlim(idx.min(), idx.max())\n",
      "plt.xticks(idx, idx)\n",
      "plt.xlabel(\"Trial\")\n",
      "plt.ylabel(\"P(judge correct mass ratio)\")\n",
      "plt.title(\"Explicit mass judgments\")\n",
      "plt.legend(loc=0)\n",
      "\n",
      "lat.save(\"images/explicit_mass_judgments.png\", close=False)\n",
      "    "
     ],
     "language": "python",
     "outputs": [
      {
       "output_type": "stream",
       "stream": "stdout",
       "text": [
        "[ 1  2  3  5  8 14 24 40]\n",
        "[ 0.55719709  0.16863754  0.32693958  0.55719709  1.          0.84501898\n",
        "  0.32693958  0.32693958]\n",
        "[ 1  2  3  5  8 14 24 40]"
       ]
      },
      {
       "output_type": "stream",
       "stream": "stdout",
       "text": [
        "\n",
        "[  1.51589630e-01   6.39146600e-02   3.07456250e-01   1.51589630e-01\n",
        "   1.54388000e-03   1.54388000e-03   2.77160000e-04   1.54388000e-03]\n",
        "[ 1  2  3  5  8 14 24 40]\n",
        "[  5.92461000e-03   4.42068340e-01   4.42068340e-01   1.22078120e-01\n",
        "   1.91572900e-02   5.92461000e-03   5.65000000e-06   4.20000000e-07]\n",
        "[ 1  2  3  5  8 14 24 40]\n",
        "[  9.35531000e-03   9.35531000e-03   2.89592700e-02   7.55187000e-02\n",
        "   5.33520000e-04   3.00000000e-08   3.00000000e-08   3.00000000e-08]\n",
        "[  1.48967000e-03   4.82336500e-02   1.14468240e-01   2.96822100e-02\n",
        "   4.03000000e-06   0.00000000e+00   0.00000000e+00   0.00000000e+00]\n",
        "Saving figure to images/explicit_mass_judgments.png...'"
       ]
      },
      {
       "output_type": "stream",
       "stream": "stdout",
       "text": [
        " Done\n"
       ]
      }
     ],
     "prompt_number": 12
    },
    {
     "cell_type": "code",
     "collapsed": false,
     "input": [
      "arr = np.concatenate(allarr, axis=0)\n",
      "df = pd.DataFrame(\n",
      "    np.array([np.sum(1-arr, axis=0), np.sum(arr, axis=0)]).T,\n",
      "    index=idx,\n",
      "    columns=[\"incorrect\", \"correct\"])\n",
      "print df\n",
      "\n",
      "chi2, p, dof, ex = scipy.stats.chi2_contingency(df)\n",
      "print (chi2, p)\n"
     ],
     "language": "python",
     "outputs": [
      {
       "output_type": "stream",
       "stream": "stdout",
       "text": [
        "    incorrect  correct\n",
        "1          35       68\n",
        "2          41       62\n",
        "3          43       60\n",
        "5          40       63\n",
        "8          28       75\n",
        "14         22       81\n",
        "24         15       88\n",
        "40         15       88\n",
        "(43.983206379859098, 2.1531509611365374e-07)\n"
       ]
      }
     ],
     "prompt_number": 13
    },
    {
     "cell_type": "code",
     "collapsed": false,
     "input": [
      "queries['C-fb-0.1']"
     ],
     "language": "python",
     "outputs": [
      {
       "html": [
        "<div style=\"max-height:1000px;max-width:1500px;overflow:auto;\">\n",
        "<table border=\"1\" class=\"dataframe\">\n",
        "  <thead>\n",
        "    <tr style=\"text-align: right;\">\n",
        "      <th>trial</th>\n",
        "      <th>8</th>\n",
        "      <th>10</th>\n",
        "      <th>12</th>\n",
        "      <th>15</th>\n",
        "      <th>19</th>\n",
        "      <th>26</th>\n",
        "      <th>37</th>\n",
        "      <th>54</th>\n",
        "    </tr>\n",
        "    <tr>\n",
        "      <th>pid</th>\n",
        "      <th></th>\n",
        "      <th></th>\n",
        "      <th></th>\n",
        "      <th></th>\n",
        "      <th></th>\n",
        "      <th></th>\n",
        "      <th></th>\n",
        "      <th></th>\n",
        "    </tr>\n",
        "  </thead>\n",
        "  <tbody>\n",
        "    <tr>\n",
        "      <td><strong>084</strong></td>\n",
        "      <td> 10.0</td>\n",
        "      <td> 10.0</td>\n",
        "      <td> 10.0</td>\n",
        "      <td> 10.0</td>\n",
        "      <td> 10.0</td>\n",
        "      <td> 10.0</td>\n",
        "      <td> 10.0</td>\n",
        "      <td> 10.0</td>\n",
        "    </tr>\n",
        "    <tr>\n",
        "      <td><strong>086</strong></td>\n",
        "      <td>  0.1</td>\n",
        "      <td> 10.0</td>\n",
        "      <td>  0.1</td>\n",
        "      <td>  0.1</td>\n",
        "      <td>  0.1</td>\n",
        "      <td>  0.1</td>\n",
        "      <td>  0.1</td>\n",
        "      <td>  0.1</td>\n",
        "    </tr>\n",
        "    <tr>\n",
        "      <td><strong>088</strong></td>\n",
        "      <td> 10.0</td>\n",
        "      <td> 10.0</td>\n",
        "      <td> 10.0</td>\n",
        "      <td> 10.0</td>\n",
        "      <td> 10.0</td>\n",
        "      <td> 10.0</td>\n",
        "      <td> 10.0</td>\n",
        "      <td> 10.0</td>\n",
        "    </tr>\n",
        "    <tr>\n",
        "      <td><strong>089</strong></td>\n",
        "      <td>  0.1</td>\n",
        "      <td> 10.0</td>\n",
        "      <td> 10.0</td>\n",
        "      <td>  0.1</td>\n",
        "      <td>  0.1</td>\n",
        "      <td>  0.1</td>\n",
        "      <td>  0.1</td>\n",
        "      <td>  0.1</td>\n",
        "    </tr>\n",
        "    <tr>\n",
        "      <td><strong>091</strong></td>\n",
        "      <td>  0.1</td>\n",
        "      <td>  0.1</td>\n",
        "      <td>  0.1</td>\n",
        "      <td>  0.1</td>\n",
        "      <td>  0.1</td>\n",
        "      <td>  0.1</td>\n",
        "      <td>  0.1</td>\n",
        "      <td>  0.1</td>\n",
        "    </tr>\n",
        "    <tr>\n",
        "      <td><strong>100</strong></td>\n",
        "      <td>  0.1</td>\n",
        "      <td>  0.1</td>\n",
        "      <td>  0.1</td>\n",
        "      <td>  0.1</td>\n",
        "      <td>  0.1</td>\n",
        "      <td>  0.1</td>\n",
        "      <td>  0.1</td>\n",
        "      <td>  0.1</td>\n",
        "    </tr>\n",
        "    <tr>\n",
        "      <td><strong>101</strong></td>\n",
        "      <td> 10.0</td>\n",
        "      <td>  0.1</td>\n",
        "      <td>  0.1</td>\n",
        "      <td>  0.1</td>\n",
        "      <td>  0.1</td>\n",
        "      <td>  0.1</td>\n",
        "      <td> 10.0</td>\n",
        "      <td> 10.0</td>\n",
        "    </tr>\n",
        "    <tr>\n",
        "      <td><strong>102</strong></td>\n",
        "      <td>  0.1</td>\n",
        "      <td> 10.0</td>\n",
        "      <td> 10.0</td>\n",
        "      <td> 10.0</td>\n",
        "      <td> 10.0</td>\n",
        "      <td> 10.0</td>\n",
        "      <td> 10.0</td>\n",
        "      <td> 10.0</td>\n",
        "    </tr>\n",
        "    <tr>\n",
        "      <td><strong>117</strong></td>\n",
        "      <td>  0.1</td>\n",
        "      <td>  0.1</td>\n",
        "      <td>  0.1</td>\n",
        "      <td>  0.1</td>\n",
        "      <td>  0.1</td>\n",
        "      <td>  0.1</td>\n",
        "      <td>  0.1</td>\n",
        "      <td>  0.1</td>\n",
        "    </tr>\n",
        "    <tr>\n",
        "      <td><strong>127</strong></td>\n",
        "      <td>  0.1</td>\n",
        "      <td>  0.1</td>\n",
        "      <td> 10.0</td>\n",
        "      <td> 10.0</td>\n",
        "      <td>  0.1</td>\n",
        "      <td>  0.1</td>\n",
        "      <td>  0.1</td>\n",
        "      <td>  0.1</td>\n",
        "    </tr>\n",
        "    <tr>\n",
        "      <td><strong>132</strong></td>\n",
        "      <td>  0.1</td>\n",
        "      <td>  0.1</td>\n",
        "      <td>  0.1</td>\n",
        "      <td>  0.1</td>\n",
        "      <td>  0.1</td>\n",
        "      <td>  0.1</td>\n",
        "      <td>  0.1</td>\n",
        "      <td>  0.1</td>\n",
        "    </tr>\n",
        "    <tr>\n",
        "      <td><strong>156</strong></td>\n",
        "      <td> 10.0</td>\n",
        "      <td> 10.0</td>\n",
        "      <td> 10.0</td>\n",
        "      <td> 10.0</td>\n",
        "      <td> 10.0</td>\n",
        "      <td> 10.0</td>\n",
        "      <td> 10.0</td>\n",
        "      <td>  0.1</td>\n",
        "    </tr>\n",
        "    <tr>\n",
        "      <td><strong>158</strong></td>\n",
        "      <td>  0.1</td>\n",
        "      <td> 10.0</td>\n",
        "      <td> 10.0</td>\n",
        "      <td> 10.0</td>\n",
        "      <td> 10.0</td>\n",
        "      <td> 10.0</td>\n",
        "      <td> 10.0</td>\n",
        "      <td> 10.0</td>\n",
        "    </tr>\n",
        "    <tr>\n",
        "      <td><strong>092</strong></td>\n",
        "      <td>  0.1</td>\n",
        "      <td> 10.0</td>\n",
        "      <td> 10.0</td>\n",
        "      <td> 10.0</td>\n",
        "      <td> 10.0</td>\n",
        "      <td> 10.0</td>\n",
        "      <td> 10.0</td>\n",
        "      <td> 10.0</td>\n",
        "    </tr>\n",
        "    <tr>\n",
        "      <td><strong>093</strong></td>\n",
        "      <td>  0.1</td>\n",
        "      <td>  0.1</td>\n",
        "      <td>  0.1</td>\n",
        "      <td>  0.1</td>\n",
        "      <td>  0.1</td>\n",
        "      <td>  0.1</td>\n",
        "      <td>  0.1</td>\n",
        "      <td>  0.1</td>\n",
        "    </tr>\n",
        "    <tr>\n",
        "      <td><strong>094</strong></td>\n",
        "      <td> 10.0</td>\n",
        "      <td> 10.0</td>\n",
        "      <td> 10.0</td>\n",
        "      <td> 10.0</td>\n",
        "      <td> 10.0</td>\n",
        "      <td> 10.0</td>\n",
        "      <td>  0.1</td>\n",
        "      <td> 10.0</td>\n",
        "    </tr>\n",
        "    <tr>\n",
        "      <td><strong>097</strong></td>\n",
        "      <td> 10.0</td>\n",
        "      <td> 10.0</td>\n",
        "      <td> 10.0</td>\n",
        "      <td> 10.0</td>\n",
        "      <td> 10.0</td>\n",
        "      <td>  0.1</td>\n",
        "      <td>  0.1</td>\n",
        "      <td>  0.1</td>\n",
        "    </tr>\n",
        "    <tr>\n",
        "      <td><strong>107</strong></td>\n",
        "      <td> 10.0</td>\n",
        "      <td> 10.0</td>\n",
        "      <td> 10.0</td>\n",
        "      <td> 10.0</td>\n",
        "      <td>  0.1</td>\n",
        "      <td>  0.1</td>\n",
        "      <td>  0.1</td>\n",
        "      <td>  0.1</td>\n",
        "    </tr>\n",
        "    <tr>\n",
        "      <td><strong>112</strong></td>\n",
        "      <td> 10.0</td>\n",
        "      <td> 10.0</td>\n",
        "      <td> 10.0</td>\n",
        "      <td> 10.0</td>\n",
        "      <td> 10.0</td>\n",
        "      <td> 10.0</td>\n",
        "      <td> 10.0</td>\n",
        "      <td> 10.0</td>\n",
        "    </tr>\n",
        "    <tr>\n",
        "      <td><strong>114</strong></td>\n",
        "      <td> 10.0</td>\n",
        "      <td> 10.0</td>\n",
        "      <td> 10.0</td>\n",
        "      <td> 10.0</td>\n",
        "      <td>  0.1</td>\n",
        "      <td>  0.1</td>\n",
        "      <td>  0.1</td>\n",
        "      <td>  0.1</td>\n",
        "    </tr>\n",
        "    <tr>\n",
        "      <td><strong>116</strong></td>\n",
        "      <td> 10.0</td>\n",
        "      <td> 10.0</td>\n",
        "      <td> 10.0</td>\n",
        "      <td> 10.0</td>\n",
        "      <td> 10.0</td>\n",
        "      <td>  0.1</td>\n",
        "      <td> 10.0</td>\n",
        "      <td> 10.0</td>\n",
        "    </tr>\n",
        "    <tr>\n",
        "      <td><strong>118</strong></td>\n",
        "      <td> 10.0</td>\n",
        "      <td> 10.0</td>\n",
        "      <td> 10.0</td>\n",
        "      <td> 10.0</td>\n",
        "      <td> 10.0</td>\n",
        "      <td> 10.0</td>\n",
        "      <td> 10.0</td>\n",
        "      <td>  0.1</td>\n",
        "    </tr>\n",
        "    <tr>\n",
        "      <td><strong>119</strong></td>\n",
        "      <td> 10.0</td>\n",
        "      <td> 10.0</td>\n",
        "      <td>  0.1</td>\n",
        "      <td> 10.0</td>\n",
        "      <td> 10.0</td>\n",
        "      <td> 10.0</td>\n",
        "      <td>  0.1</td>\n",
        "      <td>  0.1</td>\n",
        "    </tr>\n",
        "    <tr>\n",
        "      <td><strong>125</strong></td>\n",
        "      <td> 10.0</td>\n",
        "      <td> 10.0</td>\n",
        "      <td>  0.1</td>\n",
        "      <td>  0.1</td>\n",
        "      <td>  0.1</td>\n",
        "      <td>  0.1</td>\n",
        "      <td>  0.1</td>\n",
        "      <td>  0.1</td>\n",
        "    </tr>\n",
        "    <tr>\n",
        "      <td><strong>167</strong></td>\n",
        "      <td> 10.0</td>\n",
        "      <td>  0.1</td>\n",
        "      <td>  0.1</td>\n",
        "      <td>  0.1</td>\n",
        "      <td> 10.0</td>\n",
        "      <td> 10.0</td>\n",
        "      <td>  0.1</td>\n",
        "      <td> 10.0</td>\n",
        "    </tr>\n",
        "    <tr>\n",
        "      <td><strong>174</strong></td>\n",
        "      <td> 10.0</td>\n",
        "      <td>  0.1</td>\n",
        "      <td> 10.0</td>\n",
        "      <td>  0.1</td>\n",
        "      <td>  0.1</td>\n",
        "      <td> 10.0</td>\n",
        "      <td>  0.1</td>\n",
        "      <td>  0.1</td>\n",
        "    </tr>\n",
        "  </tbody>\n",
        "</table>\n",
        "</div>"
       ],
       "output_type": "pyout",
       "prompt_number": 14,
       "text": [
        "trial    8     10    12    15    19    26    37    54\n",
        "pid                                                  \n",
        "084    10.0  10.0  10.0  10.0  10.0  10.0  10.0  10.0\n",
        "086     0.1  10.0   0.1   0.1   0.1   0.1   0.1   0.1\n",
        "088    10.0  10.0  10.0  10.0  10.0  10.0  10.0  10.0\n",
        "089     0.1  10.0  10.0   0.1   0.1   0.1   0.1   0.1\n",
        "091     0.1   0.1   0.1   0.1   0.1   0.1   0.1   0.1\n",
        "100     0.1   0.1   0.1   0.1   0.1   0.1   0.1   0.1\n",
        "101    10.0   0.1   0.1   0.1   0.1   0.1  10.0  10.0\n",
        "102     0.1  10.0  10.0  10.0  10.0  10.0  10.0  10.0\n",
        "117     0.1   0.1   0.1   0.1   0.1   0.1   0.1   0.1\n",
        "127     0.1   0.1  10.0  10.0   0.1   0.1   0.1   0.1\n",
        "132     0.1   0.1   0.1   0.1   0.1   0.1   0.1   0.1\n",
        "156    10.0  10.0  10.0  10.0  10.0  10.0  10.0   0.1\n",
        "158     0.1  10.0  10.0  10.0  10.0  10.0  10.0  10.0\n",
        "092     0.1  10.0  10.0  10.0  10.0  10.0  10.0  10.0\n",
        "093     0.1   0.1   0.1   0.1   0.1   0.1   0.1   0.1\n",
        "094    10.0  10.0  10.0  10.0  10.0  10.0   0.1  10.0\n",
        "097    10.0  10.0  10.0  10.0  10.0   0.1   0.1   0.1\n",
        "107    10.0  10.0  10.0  10.0   0.1   0.1   0.1   0.1\n",
        "112    10.0  10.0  10.0  10.0  10.0  10.0  10.0  10.0\n",
        "114    10.0  10.0  10.0  10.0   0.1   0.1   0.1   0.1\n",
        "116    10.0  10.0  10.0  10.0  10.0   0.1  10.0  10.0\n",
        "118    10.0  10.0  10.0  10.0  10.0  10.0  10.0   0.1\n",
        "119    10.0  10.0   0.1  10.0  10.0  10.0   0.1   0.1\n",
        "125    10.0  10.0   0.1   0.1   0.1   0.1   0.1   0.1\n",
        "167    10.0   0.1   0.1   0.1  10.0  10.0   0.1  10.0\n",
        "174    10.0   0.1  10.0   0.1   0.1  10.0   0.1   0.1"
       ]
      }
     ],
     "prompt_number": 14
    },
    {
     "cell_type": "code",
     "collapsed": false,
     "input": [],
     "language": "python",
     "outputs": []
    }
   ]
  }
 ]
}