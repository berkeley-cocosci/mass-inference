{
 "metadata": {
  "name": "experimenter-analysis"
 },
 "nbformat": 3,
 "nbformat_minor": 0,
 "worksheets": [
  {
   "cells": [
    {
     "cell_type": "code",
     "collapsed": false,
     "input": [
      "# imports\n",
      "import collections\n",
      "import matplotlib.cm as cm\n",
      "import matplotlib.gridspec as gridspec\n",
      "import numpy as np\n",
      "import pdb\n",
      "import pickle\n",
      "import scipy.stats\n",
      "import os\n",
      "import time\n",
      "import cogphysics\n",
      "import cogphysics.lib.circ as circ\n",
      "import cogphysics.lib.nplib as npl\n",
      "import cogphysics.lib.rvs as rvs\n",
      "\n",
      "import cogphysics.tower.analysis_tools as tat\n",
      "import cogphysics.tower.mass.model_observer as mo\n",
      "import cogphysics.tower.mass.learning_analysis_tools as lat\n",
      "\n",
      "from cogphysics.lib.corr import xcorr"
     ],
     "language": "python",
     "outputs": [],
     "prompt_number": 1
    },
    {
     "cell_type": "code",
     "collapsed": false,
     "input": [
      "# nicknames\n",
      "normalize = rvs.util.normalize\n",
      "weightedSample = rvs.util.weightedSample\n",
      "rso = np.random.RandomState(0)"
     ],
     "language": "python",
     "outputs": [],
     "prompt_number": 2
    },
    {
     "cell_type": "code",
     "collapsed": false,
     "input": [
      "# load stability data\n",
      "out = lat.load('stability')\n",
      "rawhuman, rawhstim, raworder, rawtruth, rawipe, kappas = out\n"
     ],
     "language": "python",
     "outputs": [
      {
       "output_type": "stream",
       "stream": "stderr",
       "text": [
        "/usr/lib/pymodules/python2.7/numpy/lib/utils.py:1133: DeprecationWarning: The compiler package is deprecated and removed in Python 3.x.\n",
        "  import compiler\n"
       ]
      }
     ],
     "prompt_number": 3
    },
    {
     "cell_type": "code",
     "collapsed": false,
     "input": [
      "# order data by trial\n",
      "human, stimuli, sort, truth, ipe = lat.order_by_trial(\n",
      "    rawhuman, rawhstim, raworder, rawtruth, rawipe)\n",
      "truth = truth[0]\n",
      "ipe = ipe[0]\n",
      "print \"truth\", truth.shape\n",
      "print \"ipe\", ipe.shape\n"
     ],
     "language": "python",
     "outputs": [
      {
       "output_type": "stream",
       "stream": "stdout",
       "text": [
        "truth (384, 27, 1)\n",
        "ipe (384, 27, 300)\n"
       ]
      }
     ],
     "prompt_number": 4
    },
    {
     "cell_type": "code",
     "collapsed": false,
     "input": [
      "# human responses\n",
      "ifell = human > 3\n",
      "istable = human < 3\n",
      "ichance = human == 3\n",
      "h_responses = np.empty(human.shape)\n",
      "h_responses[ifell] = 1\n",
      "h_responses[istable] = 0\n",
      "h_responses[ichance] = rso.randint(0, 2, h_responses[ichance].shape)\n",
      "\n",
      "plt.figure()\n",
      "plt.bar(np.arange(h_responses.shape[0]),\n",
      "        np.mean(h_responses, axis=1), align='center')\n",
      "plt.title(\"Probability of human responding \\\"fall\\\"\")\n",
      "plt.ylim(0, 1)\n",
      "plt.xlim(-1, 11)\n"
     ],
     "language": "python",
     "outputs": [
      {
       "output_type": "pyout",
       "prompt_number": 5,
       "text": [
        "(-1, 11)"
       ]
      },
      {
       "output_type": "display_data",
       "png": "[encoded data removed]",
       "text": [
        "<matplotlib.figure.Figure at 0x7f93d83f8550>"
       ]
      }
     ],
     "prompt_number": 5
    },
    {
     "cell_type": "code",
     "collapsed": false,
     "input": [
      "# compute ratios (from kappa values)\n",
      "ratios = 10 ** kappas\n",
      "ratios[kappas < 0] = np.round(ratios[kappas < 0], decimals=2)\n",
      "ratios[kappas >= 0] = np.round(ratios[kappas >= 0], decimals=1)\n",
      "print ratios.shape; ratios\n",
      " "
     ],
     "language": "python",
     "outputs": [
      {
       "output_type": "stream",
       "stream": "stdout",
       "text": [
        "(27,)\n"
       ]
      },
      {
       "output_type": "pyout",
       "prompt_number": 6,
       "text": [
        "memmap([  0.05,   0.06,   0.08,   0.1 ,   0.13,   0.16,   0.2 ,   0.25,\n",
        "         0.32,   0.4 ,   0.5 ,   0.63,   0.79,   1.  ,   1.3 ,   1.6 ,\n",
        "         2.  ,   2.5 ,   3.2 ,   4.  ,   5.  ,   6.3 ,   7.9 ,  10.  ,\n",
        "        12.6 ,  15.8 ,  20.  ])"
       ]
      }
     ],
     "prompt_number": 6
    },
    {
     "cell_type": "code",
     "collapsed": false,
     "input": [
      "# plotting parameters\n",
      "cmap = lat.make_cmap(                            # colormap for plotting\n",
      "    \"lh\", \n",
      "    (0, 0, 0),    # black for low values\n",
      "    (.5, .5, .5), # grey for mid values\n",
      "    (1, 0, 0))    # red for high values\n",
      "\n",
      "# global parameters\n",
      "outcomes     = np.array([0, 1])                  # possible outcomes\n",
      "responses    = np.array([0, 1])                  # possible responses\n",
      "n_trial      = stimuli.shape[1]                  # number of trials\n",
      "n_kappas     = len(kappas)                       # number of mass ratios to consider\n",
      "n_responses  = responses.size                    # number of possible responses\n",
      "n_outcomes   = outcomes.size                     # number of possible outcomes\n",
      "kappa0       = 1.0                               # value of the true log mass ratio\n",
      "ikappa0      = np.nonzero(kappas==1.0)[0][0]     # index for the true mass ratio\n",
      "\n",
      "# model observer parameters\n",
      "nthresh0          = 1                            # feedback threshold for \"fall\"\n",
      "nthresh           = 4                            # ipe threshold for \"fall\"\n",
      "nsamps            = 300                          # number of ipe samples\n",
      "f_smooth          = True                         # smooth ipe likelihoods\n",
      "p_ignore_stimulus = 0.0                          # probability of ignoring stimulus\n",
      "\n",
      "# particle filter parameters\n",
      "n_part       = 200                               # number of particles\n",
      "neffthresh   = n_part * 0.75                     # number of effective particles threshold\n",
      "kw           = 0.1                               # kernel width for smoothing\n",
      "pn           = 0.1                               # noise\n",
      "# B            = 1                                 # \n",
      "# rand         = 0.5                               # \n",
      "\n",
      "def make_smoother(kw):\n",
      "    x = np.arange(0, n_kappas*0.1, 0.1)\n",
      "    dists = np.abs(x[:, None] - x[None, :]) / kw\n",
      "    pdist = np.exp(-0.5 * dists**2) / np.sqrt(2)\n",
      "    sum_pdist = np.sum(pdist, axis=-1)\n",
      "    def smoother(v):\n",
      "        return np.sum(pdist * v, axis=-1) / sum_pdist\n",
      "    return smoother\n",
      "\n",
      "smoother = make_smoother(kw)"
     ],
     "language": "python",
     "outputs": [],
     "prompt_number": 253
    },
    {
     "cell_type": "code",
     "collapsed": false,
     "input": [
      "# get feedback and IPE model data\n",
      "feedback, ipe_samps = lat.make_observer_data(\n",
      "    nthresh0, nthresh, nsamps)\n",
      "print \"feedback\", feedback.shape\n",
      "print \"ipe     \", ipe_samps.shape"
     ],
     "language": "python",
     "outputs": [
      {
       "output_type": "stream",
       "stream": "stdout",
       "text": [
        "feedback (384, 27, 1)\n",
        "ipe      (384, 27, 300, 1)\n"
       ]
      }
     ],
     "prompt_number": 254
    },
    {
     "cell_type": "code",
     "collapsed": false,
     "input": [
      "# compute belief for model observer\n",
      "m_lh, m_joint, m_kappas, m_responses = mo.ModelObserver(\n",
      "    ipe_samps,\n",
      "    feedback[:, None],\n",
      "    outcomes=outcomes[:, None],\n",
      "    respond=True,\n",
      "    p_ignore_stimulus=p_ignore_stimulus,\n",
      "    smooth=f_smooth)\n",
      "\n",
      "print \"P_t(k)\", m_kappas.shape; m_kappas\n",
      "\n",
      "exp = np.exp(np.log(0.5) / np.log(1. / n_kappas))\n",
      "logcticks = np.array([0, 0.001, 0.05, 0.25, 1])\n",
      "cticks = np.exp(np.log(logcticks) * np.log(exp))\n",
      "\n",
      "plt.figure()\n",
      "plt.imshow(exp**normalize(m_kappas[:, -1].T, axis=0)[1], cmap=cmap, interpolation='nearest', vmin=0, vmax=1, origin='lower')\n",
      "plt.xlabel(\"Feedback condition\")\n",
      "plt.ylabel(\"Mass ratio\")\n",
      "plt.title(\"Model observer belief as a function of feedback\")\n",
      "cb = plt.colorbar(ticks=cticks)\n",
      "cb.set_ticklabels(logcticks)\n"
     ],
     "language": "python",
     "outputs": [
      {
       "output_type": "stream",
       "stream": "stdout",
       "text": [
        "P_t(k) (27, 385, 27)\n"
       ]
      },
      {
       "output_type": "display_data",
       "png": "[encoded data removed]",
       "text": [
        "<matplotlib.figure.Figure at 0x7f93618f1690>"
       ]
      }
     ],
     "prompt_number": 255
    },
    {
     "cell_type": "code",
     "collapsed": false,
     "input": [
      "plt.figure()\n",
      "plt.plot(kappas, np.mean(m_responses, axis=1))\n",
      "plt.xticks(plt.xticks()[0], np.round(10**plt.xticks()[0], decimals=2))\n",
      "plt.title(\"Probability of model responding \\\"fall\\\"\")\n",
      "plt.xlabel(\"Feedback condition\")\n",
      "plt.ylim(0, 1)\n"
     ],
     "language": "python",
     "outputs": [
      {
       "output_type": "pyout",
       "prompt_number": 256,
       "text": [
        "(0, 1)"
       ]
      },
      {
       "output_type": "display_data",
       "png": "[encoded data removed]",
       "text": [
        "<matplotlib.figure.Figure at 0x7f9361901c10>"
       ]
      }
     ],
     "prompt_number": 256
    },
    {
     "cell_type": "code",
     "collapsed": false,
     "input": [
      "\n",
      "# \"true\" responses (for the purposes of inference)\n",
      "\n",
      "true_responses = m_responses.copy().astype('i8')\n",
      "# true_responses = mo.responses(\n",
      "#     m_kappas[:, [-1]]*np.ones(m_kappas.shape),\n",
      "#     outcomes[:, None], ipe_samps, loss, f_smooth)\n",
      "#sidxs = [0, 3, 6, 8, 10, 13, 16, 18, 20, 23, 26]\n",
      "sidxs = [0, 13, 26]\n",
      "\n",
      "# true_responses = h_responses.copy()\n",
      "# sidxs = np.arange(true_responses.shape[0])\n",
      "\n",
      "n_subj = len(sidxs)\n",
      "print \"Running inference on %d subjects\" % n_subj\n"
     ],
     "language": "python",
     "outputs": [
      {
       "output_type": "stream",
       "stream": "stdout",
       "text": [
        "Running inference on 3 subjects\n"
       ]
      }
     ],
     "prompt_number": 257
    },
    {
     "cell_type": "code",
     "collapsed": false,
     "input": [
      "##########################\n",
      "##### INITIALIZATION #####\n",
      "##########################\n",
      "\n",
      "# arrays to hold particles and weights\n",
      "thetas = np.empty((n_subj, n_part, n_trial+1, n_kappas)) * np.nan\n",
      "weights = np.empty((n_subj, n_part, n_trial+1)) * np.nan\n",
      "mle_alphas = np.empty((n_subj, n_trial+1, n_kappas)) * np.nan\n",
      "\n",
      "rso = np.random.RandomState(50)\n",
      "def make_prior(alpha=5, ell=0.2, eps=0.0005):\n",
      "    kernel = mo.make_rbf_kernel(alpha=alpha, ell=ell)\n",
      "    K = kernel(kappas[:, None], kappas[None, :]) + (eps * np.eye(n_kappas))\n",
      "    def draw(n):\n",
      "        f = rso.multivariate_normal(np.zeros(n_kappas), K, n)\n",
      "        sf = normalize(np.log(1. / (1. + np.exp(-f))), axis=-1)[1]\n",
      "        return sf\n",
      "    return draw\n",
      "\n",
      "thetas[:, :, 0] = np.log(np.random.dirichlet(np.ones(n_kappas), (n_subj, n_part)))\n",
      "#thetas[:, :, 0] = sf\n",
      "#thetas[:, :, 0] = np.log(1. / n_kappas)\n",
      "weights[:, :, 0] = np.log(np.ones((n_subj, n_part)) / n_part)\n",
      "mle_alphas[:, 0] = np.ones((n_subj, n_kappas)) / n_kappas\n",
      "\n"
     ],
     "language": "python",
     "outputs": [],
     "prompt_number": 258
    },
    {
     "cell_type": "code",
     "collapsed": false,
     "input": [
      "###########################\n",
      "##### PARTICLE FILTER #####\n",
      "###########################\n",
      "\n",
      "for idx, sidx in enumerate(sidxs):\n",
      "\n",
      "    print idx\n",
      "    rso.seed(100)\n",
      "        \n",
      "    for t in xrange(0, n_trial):\n",
      "\n",
      "        thetas_t = thetas[idx, :, t].copy()\n",
      "        weights_t = weights[idx, :, t].copy()\n",
      "        samps_t = ipe_samps[t]\n",
      "        #obs_t = feedback[t, sidx]\n",
      "        obs_t = feedback[t, ikappa0]\n",
      "        response_t = true_responses[sidx, t]\n",
      "\n",
      "        if not np.isnan(response_t):\n",
      "            response_t = int(response_t)\n",
      "             \n",
      "            # propagate particles\n",
      "            ef = mo.evaluateFeedback(obs_t, samps_t, f_smooth)\n",
      "            noise = np.random.dirichlet(np.ones(n_kappas), (n_part,))\n",
      "            #noise = np.zeros(thetas_t.shape)\n",
      "            v = np.exp(normalize(np.log((1-pn)*np.exp(thetas_t + ef) + pn*noise), axis=-1)[1])\n",
      "            m_theta = normalize(np.log(smoother(v[:, None])), axis=-1)[1]\n",
      "            #m_theta = normalize(thetas_t + ef + noise, axis=-1)[1]\n",
      "\n",
      "            # compute new weights\n",
      "            p_outcomes = np.exp(mo.predict(\n",
      "                thetas_t, outcomes[:, None], samps_t, f_smooth))\n",
      "            p_response = (p_outcomes[:, response_t]*(1-p_ignore_stimulus) + \n",
      "                          (1./n_responses)*(p_ignore_stimulus))\n",
      "            weights_t = normalize(np.log(p_response) + weights_t)[1]\n",
      "            \n",
      "            # compute number of effective particles\n",
      "            neff = 1. / np.sum(np.exp(weights_t)**2)\n",
      "            #print neff\n",
      "            if neff < neffthresh:\n",
      "                # sample new particles\n",
      "                tidx = weightedSample(\n",
      "                    np.exp(weights_t), n_part, rso=rso)\n",
      "\n",
      "                # update\n",
      "                thetas[idx, :, t+1] = m_theta[tidx]\n",
      "                weights[idx, :, t+1] = np.log(\n",
      "                    np.ones(n_part, dtype='f8') / n_part)\n",
      "            else:\n",
      "                thetas[idx, :, t+1] = m_theta\n",
      "                weights[idx, :, t+1] = weights_t\n",
      "\n",
      "        else:\n",
      "            thetas[idx, :, t+1] = thetas_t\n",
      "            weights[idx, :, t+1] = weights_t\n"
     ],
     "language": "python",
     "outputs": [
      {
       "output_type": "stream",
       "stream": "stdout",
       "text": [
        "0\n",
        "1"
       ]
      },
      {
       "output_type": "stream",
       "stream": "stdout",
       "text": [
        "\n",
        "2"
       ]
      },
      {
       "output_type": "stream",
       "stream": "stdout",
       "text": [
        "\n"
       ]
      }
     ],
     "prompt_number": 259
    },
    {
     "cell_type": "code",
     "collapsed": false,
     "input": [
      "fig = plt.figure(3)\n",
      "plt.clf()\n",
      "fig.set_figwidth(9)\n",
      "fig.set_figheight(3)\n",
      "r, c = 1, 3\n",
      "n = r*c\n",
      "exp = np.exp(np.log(0.5) / np.log(1./27))    \n",
      "gs = gridspec.GridSpec(r, c+1, width_ratios=[1]*c + [0.1])\n",
      "plt.suptitle(\"MLE P(kappa)\")\n",
      "plt.subplots_adjust(wspace=0.3, hspace=0.2, left=0.1, right=0.9, top=0.9, bottom=0.1)\n",
      "\n",
      "for i, sidx in enumerate(sidxs):\n",
      "    irow, icol = np.unravel_index(i, (r, c))\n",
      "    ax = plt.subplot(gs[irow, icol])\n",
      "    kappa = kappas[sidx]\n",
      "    subjname = \"Observed $\\kappa=%s$\" % float(ratios[sidx])\n",
      "    img = lat.plot_theta(\n",
      "        None, None, ax,\n",
      "        np.mean(np.exp(thetas[i]), axis=0),\n",
      "        subjname,\n",
      "        exp=exp,\n",
      "        cmap=cmap,\n",
      "        fontsize=14)\n",
      "    yticks = np.round(\n",
      "        np.linspace(0, n_kappas-1, 5)).astype('i8')\n",
      "    if (i%c) == 0:\n",
      "        plt.yticks(yticks, ratios[yticks], fontsize=14)\n",
      "        plt.ylabel(\"Mass ratio ($\\kappa$)\", fontsize=14)\n",
      "    else:\n",
      "        plt.yticks(yticks, [])\n",
      "        plt.ylabel(\"\")\n",
      "    xticks = np.linspace(0, n_trial, 4).astype('i8')\n",
      "    if (n-i) <= c:\n",
      "        plt.xticks(xticks, xticks, fontsize=14)\n",
      "        plt.xlabel(\"Trial number ($t$)\", fontsize=14)\n",
      "    else:\n",
      "        plt.xticks(xticks, [])\n",
      "\n",
      "logcticks = np.array([0, 0.001, 0.05, 0.25, 1])\n",
      "cticks = np.exp(np.log(logcticks) * np.log(exp))\n",
      "cax = plt.subplot(gs[:, -1])\n",
      "cb = fig.colorbar(img, ax=ax, cax=cax, ticks=cticks)\n",
      "cb.set_ticklabels(logcticks)\n",
      "cax.set_title(\"$P_t(\\kappa)$\", fontsize=14)\n",
      "\n",
      "    # subjname = \"Model Subj. r=%.1f\" % ratios[sidx]\n",
      "    # print subjname\n",
      "    # mle_theta = np.mean(np.exp(thetas[sidx]), axis=0)\n",
      "    # plt.figure(2)\n",
      "    # lat.plot_theta(\n",
      "    #     3, 4, sidx+1,\n",
      "    #     mle_theta, subjname, exp=np.e, ratios=ratios)\n"
     ],
     "language": "python",
     "outputs": [
      {
       "output_type": "pyout",
       "prompt_number": 260,
       "text": [
        "<matplotlib.text.Text at 0x7f9361e08710>"
       ]
      },
      {
       "output_type": "display_data",
       "png": "[encoded data removed]",
       "text": [
        "<matplotlib.figure.Figure at 0x7f93d8756f50>"
       ]
      }
     ],
     "prompt_number": 260
    },
    {
     "cell_type": "code",
     "collapsed": false,
     "input": [],
     "language": "python",
     "outputs": [],
     "prompt_number": 54
    }
   ]
  }
 ]
}