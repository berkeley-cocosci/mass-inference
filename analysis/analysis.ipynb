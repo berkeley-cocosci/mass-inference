{
 "metadata": {
  "name": "",
  "signature": "sha256:c812b00fc5a5a921487231a48a7f641165dc56c0eac60e0c07fb71fc00fed0bb"
 },
 "nbformat": 3,
 "nbformat_minor": 0,
 "worksheets": [
  {
   "cells": [
    {
     "cell_type": "heading",
     "level": 1,
     "metadata": {},
     "source": [
      "Mass Inference Project"
     ]
    },
    {
     "cell_type": "markdown",
     "metadata": {},
     "source": [
      "We've previously shown that people can make physical predictions that are sensitive to underlying physical attributes in a manner computationall consistent with \"noisy Newton\" and by a mechanism of approximate probabilistic simulation.  Can these same computational and mechanistic accounts also explain how people infer and learn about the underlying physical attributes of scenes? We ran an experiment in which we asked people to make physical predictions and physical inferences, and found they agreed with noisy Newton and approximate probabilistic simulation. We then examined how they learn about physical attributes through experience and found again that their patterns of learning could be explained in similar terms."
     ]
    },
    {
     "cell_type": "code",
     "collapsed": false,
     "input": [
      "from snippets import datapackage as dpkg\n",
      "from mass import DATA_PATH\n",
      "\n",
      "exp_dp = dpkg.DataPackage.load(DATA_PATH.joinpath(\n",
      "    \"human/mass_inference-G.dpkg\"))\n",
      "exp_all = exp_dp.load_resource(\"experiment.csv\")"
     ],
     "language": "python",
     "metadata": {},
     "outputs": [],
     "prompt_number": 2
    },
    {
     "cell_type": "heading",
     "level": 2,
     "metadata": {},
     "source": [
      "Experiment"
     ]
    },
    {
     "cell_type": "markdown",
     "metadata": {},
     "source": [
      "We ran an experiment in which participants made judgments about the stability an mass of towers of building blocks. The experiment was organized as follows:\n",
      "\n",
      "* Pretest: \"will it fall?\" judgments on 6 original (non-mass) towers\n",
      "* Block A: \"will it fall?\" judgments on 10 red/blue mass towers, with visual feedback\n",
      "* Block B: \"will it fall?\" judgments on 20 red/blue mass towers, with no feedback\n",
      "* Block C: \"which is heavier?\" judgments on the same towers as in Block B (but with green/purple colors), with visual feedback\n",
      "\n",
      "The mass ratio was always the same for blocks A and B, but could be different for Block C, giving four conditions:\n",
      "\n",
      "* Condition 0: A, B: $r=0.1$, C: $r=0.1$\n",
      "* Condition 1: A, B: $r=0.1$, C: $r=10$\n",
      "* Condition 2: A, B: $r=10$, C: $r=0.1$\n",
      "* Condition 3: A, B: $r=10$, C: $r=10$\n",
      "\n",
      "Additionally, we counterbalanced the colors, resulting in a total of eight conditions. We ran the following number of participants in each condition:"
     ]
    },
    {
     "cell_type": "code",
     "collapsed": false,
     "input": [
      "# compute how many participants we have for each condition\n",
      "print exp_all.groupby(['condition'])['pid'].apply(lambda x: len(x.unique()))"
     ],
     "language": "python",
     "metadata": {},
     "outputs": [
      {
       "output_type": "stream",
       "stream": "stdout",
       "text": [
        "condition\n",
        "0            15\n",
        "1            15\n",
        "2            18\n",
        "3            21\n",
        "dtype: int64\n"
       ]
      }
     ],
     "prompt_number": 5
    },
    {
     "cell_type": "heading",
     "level": 2,
     "metadata": {},
     "source": [
      "Analysis"
     ]
    },
    {
     "cell_type": "heading",
     "level": 3,
     "metadata": {},
     "source": [
      "Can people infer mass?"
     ]
    },
    {
     "cell_type": "markdown",
     "metadata": {},
     "source": [
      "Before we can make an argument that people infer mass in a manner consistent with the \"noisy Newton\" approach, we must first demonstrate that people can make inferences about mass at all. Recent research (Sanborn2013) has explained how previous results suggesting people do not make sophisticated inferences about mass (Todd1982, Gilden1994) can be explained using Bayesian inference. However, no one has yet shown whether this also holds true in more complicated, realistic scenes."
     ]
    },
    {
     "cell_type": "heading",
     "level": 3,
     "metadata": {},
     "source": [
      "Are people running simulations to compute the likelihood term?"
     ]
    },
    {
     "cell_type": "code",
     "collapsed": false,
     "input": [],
     "language": "python",
     "metadata": {},
     "outputs": []
    },
    {
     "cell_type": "heading",
     "level": 3,
     "metadata": {},
     "source": [
      "Do people integrate information over multiple trials?"
     ]
    },
    {
     "cell_type": "code",
     "collapsed": false,
     "input": [],
     "language": "python",
     "metadata": {},
     "outputs": []
    },
    {
     "cell_type": "heading",
     "level": 3,
     "metadata": {},
     "source": [
      "Do they integrate information in a manner consistent with Bayes' rule?"
     ]
    },
    {
     "cell_type": "code",
     "collapsed": false,
     "input": [],
     "language": "python",
     "metadata": {},
     "outputs": []
    }
   ],
   "metadata": {}
  }
 ]
}