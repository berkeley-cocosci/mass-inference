{
 "metadata": {
  "name": "",
  "signature": "sha256:b5555b3a05abab2d6ffa8f1cfaae4eac33c676f754bfa693563e1b10d58b4e2b"
 },
 "nbformat": 3,
 "nbformat_minor": 0,
 "worksheets": [
  {
   "cells": [
    {
     "cell_type": "heading",
     "level": 1,
     "metadata": {},
     "source": [
      "Mass Inference Project"
     ]
    },
    {
     "cell_type": "markdown",
     "metadata": {},
     "source": [
      "We've previously shown that people can make physical predictions that are sensitive to underlying physical attributes in a manner computationall consistent with \"noisy Newton\" and by a mechanism of approximate probabilistic simulation.  Can these same computational and mechanistic accounts also explain how people infer and learn about the underlying physical attributes of scenes? We ran an experiment in which we asked people to make physical predictions and physical inferences, and found they agreed with noisy Newton and approximate probabilistic simulation. We then examined how they learn about physical attributes through experience and found again that their patterns of learning could be explained in similar terms."
     ]
    },
    {
     "cell_type": "code",
     "collapsed": false,
     "input": [
      "%matplotlib inline\n",
      "%load_ext autoreload\n",
      "%autoreload 2"
     ],
     "language": "python",
     "metadata": {},
     "outputs": [],
     "prompt_number": 11
    },
    {
     "cell_type": "code",
     "collapsed": false,
     "input": [
      "import analyses\n",
      "import analyses.util as util\n",
      "import pandas as pd\n",
      "from path import path\n",
      "\n",
      "results_path = path(\"../results\")\n",
      "data_path = path(\"../data\")\n",
      "seed = 923012\n",
      "version = 'G'\n",
      "\n",
      "exp_all, exp_data = util.load_human(version, data_path)"
     ],
     "language": "python",
     "metadata": {},
     "outputs": [],
     "prompt_number": 12
    },
    {
     "cell_type": "heading",
     "level": 2,
     "metadata": {},
     "source": [
      "Experiment"
     ]
    },
    {
     "cell_type": "markdown",
     "metadata": {},
     "source": [
      "We ran an experiment in which participants made judgments about the stability an mass of towers of building blocks. The experiment was organized as follows:\n",
      "\n",
      "* Pretest: \"will it fall?\" judgments on 6 original (non-mass) towers\n",
      "* Block A: \"will it fall?\" judgments on 10 red/blue mass towers, with visual feedback\n",
      "* Block B: \"will it fall?\" judgments on 20 red/blue mass towers, with no feedback\n",
      "* Block C: \"which is heavier?\" judgments on the same towers as in Block B (but with green/purple colors), with visual feedback\n",
      "\n",
      "The mass ratio was always the same for blocks A and B, but could be different for Block C, giving four conditions:\n",
      "\n",
      "* Condition 0: A, B: $r=0.1$, C: $r=0.1$\n",
      "* Condition 1: A, B: $r=0.1$, C: $r=10$\n",
      "* Condition 2: A, B: $r=10$, C: $r=0.1$\n",
      "* Condition 3: A, B: $r=10$, C: $r=10$\n",
      "\n",
      "Additionally, we counterbalanced the colors, resulting in a total of eight conditions. We ran the following number of participants in each condition:"
     ]
    },
    {
     "cell_type": "code",
     "collapsed": false,
     "input": [
      "pth = analyses.condition_counts.run(exp_data, results_path, seed)\n",
      "pd.read_csv(pth).set_index(['condition', 'counterbalance'])"
     ],
     "language": "python",
     "metadata": {},
     "outputs": [
      {
       "html": [
        "<div style=\"max-height:1000px;max-width:1500px;overflow:auto;\">\n",
        "<table border=\"1\" class=\"dataframe\">\n",
        "  <thead>\n",
        "    <tr style=\"text-align: right;\">\n",
        "      <th></th>\n",
        "      <th></th>\n",
        "      <th>num_participants</th>\n",
        "    </tr>\n",
        "    <tr>\n",
        "      <th>condition</th>\n",
        "      <th>counterbalance</th>\n",
        "      <th></th>\n",
        "    </tr>\n",
        "  </thead>\n",
        "  <tbody>\n",
        "    <tr>\n",
        "      <th rowspan=\"2\" valign=\"top\">0</th>\n",
        "      <th>0</th>\n",
        "      <td>  6</td>\n",
        "    </tr>\n",
        "    <tr>\n",
        "      <th>1</th>\n",
        "      <td>  9</td>\n",
        "    </tr>\n",
        "    <tr>\n",
        "      <th rowspan=\"2\" valign=\"top\">1</th>\n",
        "      <th>0</th>\n",
        "      <td>  9</td>\n",
        "    </tr>\n",
        "    <tr>\n",
        "      <th>1</th>\n",
        "      <td>  6</td>\n",
        "    </tr>\n",
        "    <tr>\n",
        "      <th rowspan=\"2\" valign=\"top\">2</th>\n",
        "      <th>0</th>\n",
        "      <td>  9</td>\n",
        "    </tr>\n",
        "    <tr>\n",
        "      <th>1</th>\n",
        "      <td>  9</td>\n",
        "    </tr>\n",
        "    <tr>\n",
        "      <th rowspan=\"2\" valign=\"top\">3</th>\n",
        "      <th>0</th>\n",
        "      <td> 11</td>\n",
        "    </tr>\n",
        "    <tr>\n",
        "      <th>1</th>\n",
        "      <td> 10</td>\n",
        "    </tr>\n",
        "  </tbody>\n",
        "</table>\n",
        "<p>8 rows \u00d7 1 columns</p>\n",
        "</div>"
       ],
       "metadata": {},
       "output_type": "pyout",
       "prompt_number": 13,
       "text": [
        "                          num_participants\n",
        "condition counterbalance                  \n",
        "0         0                              6\n",
        "          1                              9\n",
        "1         0                              9\n",
        "          1                              6\n",
        "2         0                              9\n",
        "          1                              9\n",
        "3         0                             11\n",
        "          1                             10\n",
        "\n",
        "[8 rows x 1 columns]"
       ]
      }
     ],
     "prompt_number": 13
    },
    {
     "cell_type": "heading",
     "level": 2,
     "metadata": {},
     "source": [
      "Analysis"
     ]
    },
    {
     "cell_type": "heading",
     "level": 3,
     "metadata": {},
     "source": [
      "Can people infer mass?"
     ]
    },
    {
     "cell_type": "markdown",
     "metadata": {},
     "source": [
      "Before we can make an argument that people infer mass in a manner consistent with the \"noisy Newton\" approach, we must first demonstrate that people can make inferences about mass at all. Recent research (Sanborn2013) has explained how previous results suggesting people do not make sophisticated inferences about mass (Todd1982, Gilden1994) can be explained using Bayesian inference. However, no one has yet shown whether this also holds true in more complicated, realistic scenes."
     ]
    },
    {
     "cell_type": "heading",
     "level": 3,
     "metadata": {},
     "source": [
      "Are people running simulations to compute the likelihood term?"
     ]
    },
    {
     "cell_type": "code",
     "collapsed": false,
     "input": [],
     "language": "python",
     "metadata": {},
     "outputs": []
    },
    {
     "cell_type": "heading",
     "level": 3,
     "metadata": {},
     "source": [
      "Do people integrate information over multiple trials?"
     ]
    },
    {
     "cell_type": "code",
     "collapsed": false,
     "input": [],
     "language": "python",
     "metadata": {},
     "outputs": []
    },
    {
     "cell_type": "heading",
     "level": 3,
     "metadata": {},
     "source": [
      "Do they integrate information in a manner consistent with Bayes' rule?"
     ]
    },
    {
     "cell_type": "code",
     "collapsed": false,
     "input": [],
     "language": "python",
     "metadata": {},
     "outputs": []
    }
   ],
   "metadata": {}
  }
 ]
}