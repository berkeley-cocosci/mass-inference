{
 "metadata": {
  "name": "",
  "signature": "sha256:21561b815b795e39bba0839d0a78418080f05e5977ed8b8c8bdfc50a5a29a2c3"
 },
 "nbformat": 3,
 "nbformat_minor": 0,
 "worksheets": [
  {
   "cells": [
    {
     "cell_type": "heading",
     "level": 1,
     "metadata": {},
     "source": [
      "Mass Inference Project"
     ]
    },
    {
     "cell_type": "markdown",
     "metadata": {},
     "source": [
      "We've previously shown that people can make physical predictions that are sensitive to underlying physical attributes in a manner computationall consistent with \"noisy Newton\" and by a mechanism of approximate probabilistic simulation.  Can these same computational and mechanistic accounts also explain how people infer and learn about the underlying physical attributes of scenes? We ran an experiment in which we asked people to make physical predictions and physical inferences, and found they agreed with noisy Newton and approximate probabilistic simulation. We then examined how they learn about physical attributes through experience and found again that their patterns of learning could be explained in similar terms."
     ]
    },
    {
     "cell_type": "code",
     "collapsed": false,
     "input": [
      "%matplotlib inline\n",
      "%load_ext autoreload\n",
      "%autoreload 2"
     ],
     "language": "python",
     "metadata": {},
     "outputs": [],
     "prompt_number": 1
    },
    {
     "cell_type": "code",
     "collapsed": false,
     "input": [
      "import analyses\n",
      "import analyses.util as util\n",
      "import pandas as pd\n",
      "from datetime import timedelta\n",
      "from path import path\n",
      "\n",
      "results_path = path(\"../results\")\n",
      "data_path = path(\"../data\")\n",
      "seed = 923012\n",
      "version = 'G'\n",
      "\n",
      "exp_all, human = util.load_human(version, data_path)\n",
      "data = util.load_all(version, data_path, human=human)"
     ],
     "language": "python",
     "metadata": {},
     "outputs": [
      {
       "output_type": "stream",
       "stream": "stdout",
       "text": [
        "Couldn't import dot_parser, loading of dot files will not be possible.\n"
       ]
      }
     ],
     "prompt_number": 2
    },
    {
     "cell_type": "heading",
     "level": 2,
     "metadata": {},
     "source": [
      "Experiment"
     ]
    },
    {
     "cell_type": "markdown",
     "metadata": {},
     "source": [
      "We ran an experiment in which participants made judgments about the stability an mass of towers of building blocks. The experiment was organized as follows:\n",
      "\n",
      "* Pretest: \"will it fall?\" judgments on 6 original (non-mass) towers\n",
      "* Block A: \"will it fall?\" judgments on 10 red/blue mass towers, with visual feedback\n",
      "* Block B: \"will it fall?\" judgments on 20 red/blue mass towers, with no feedback\n",
      "* Block C: \"which is heavier?\" judgments on the same towers as in Block B (but with green/purple colors), with visual feedback\n",
      "\n",
      "The mass ratio was always the same for blocks A and B, but could be different for Block C, giving four conditions:\n",
      "\n",
      "* Condition 0: A, B: $r=0.1$, C: $r=0.1$\n",
      "* Condition 1: A, B: $r=0.1$, C: $r=10$\n",
      "* Condition 2: A, B: $r=10$, C: $r=0.1$\n",
      "* Condition 3: A, B: $r=10$, C: $r=10$\n",
      "\n",
      "Additionally, we counterbalanced the colors, resulting in a total of eight conditions. We ran the following number of participants in each condition:"
     ]
    },
    {
     "cell_type": "code",
     "collapsed": false,
     "input": [
      "pth = analyses.condition_counts.run(data, results_path, seed)\n",
      "pd.read_csv(pth).set_index(['condition', 'counterbalance'])"
     ],
     "language": "python",
     "metadata": {},
     "outputs": [
      {
       "html": [
        "<div style=\"max-height:1000px;max-width:1500px;overflow:auto;\">\n",
        "<table border=\"1\" class=\"dataframe\">\n",
        "  <thead>\n",
        "    <tr style=\"text-align: right;\">\n",
        "      <th></th>\n",
        "      <th></th>\n",
        "      <th>num_participants</th>\n",
        "    </tr>\n",
        "    <tr>\n",
        "      <th>condition</th>\n",
        "      <th>counterbalance</th>\n",
        "      <th></th>\n",
        "    </tr>\n",
        "  </thead>\n",
        "  <tbody>\n",
        "    <tr>\n",
        "      <th rowspan=\"2\" valign=\"top\">0</th>\n",
        "      <th>0</th>\n",
        "      <td>  6</td>\n",
        "    </tr>\n",
        "    <tr>\n",
        "      <th>1</th>\n",
        "      <td>  9</td>\n",
        "    </tr>\n",
        "    <tr>\n",
        "      <th rowspan=\"2\" valign=\"top\">1</th>\n",
        "      <th>0</th>\n",
        "      <td>  9</td>\n",
        "    </tr>\n",
        "    <tr>\n",
        "      <th>1</th>\n",
        "      <td>  6</td>\n",
        "    </tr>\n",
        "    <tr>\n",
        "      <th rowspan=\"2\" valign=\"top\">2</th>\n",
        "      <th>0</th>\n",
        "      <td>  9</td>\n",
        "    </tr>\n",
        "    <tr>\n",
        "      <th>1</th>\n",
        "      <td>  9</td>\n",
        "    </tr>\n",
        "    <tr>\n",
        "      <th rowspan=\"2\" valign=\"top\">3</th>\n",
        "      <th>0</th>\n",
        "      <td> 11</td>\n",
        "    </tr>\n",
        "    <tr>\n",
        "      <th>1</th>\n",
        "      <td> 10</td>\n",
        "    </tr>\n",
        "  </tbody>\n",
        "</table>\n",
        "<p>8 rows \u00d7 1 columns</p>\n",
        "</div>"
       ],
       "metadata": {},
       "output_type": "pyout",
       "prompt_number": 4,
       "text": [
        "                          num_participants\n",
        "condition counterbalance                  \n",
        "0         0                              6\n",
        "          1                              9\n",
        "1         0                              9\n",
        "          1                              6\n",
        "2         0                              9\n",
        "          1                              9\n",
        "3         0                             11\n",
        "          1                             10\n",
        "\n",
        "[8 rows x 1 columns]"
       ]
      }
     ],
     "prompt_number": 4
    },
    {
     "cell_type": "markdown",
     "metadata": {},
     "source": [
      "We paid participants $1 for about 15 minutes of work:"
     ]
    },
    {
     "cell_type": "code",
     "collapsed": false,
     "input": [
      "exp_all['timestamp'] = pd.to_datetime(exp_all['timestamp'])\n",
      "starttime = exp_all.groupby('pid').apply(lambda x: x.sort('timestamp')['timestamp'].min())\n",
      "endtime = exp_all.groupby('pid').apply(lambda x: x.sort('timestamp')['timestamp'].max())\n",
      "exptime = endtime - starttime\n",
      "medtime = timedelta(seconds=float(exptime.median()) / 1e9)\n",
      "payrate = (1.0 / (exptime.astype(int) / (1e9 * 60 * 60))).mean()\n",
      "print \"Median time: %s\" % medtime\n",
      "print \"Average pay: $%.2f / hour\" % payrate"
     ],
     "language": "python",
     "metadata": {},
     "outputs": [
      {
       "output_type": "stream",
       "stream": "stdout",
       "text": [
        "Median time: 0:16:16.478000\n",
        "Average pay: $3.54 / hour\n"
       ]
      }
     ],
     "prompt_number": 5
    },
    {
     "cell_type": "heading",
     "level": 2,
     "metadata": {},
     "source": [
      "IPE"
     ]
    },
    {
     "cell_type": "markdown",
     "metadata": {},
     "source": [
      "We ran 100 IPE samples for each stimulus for 27 different values of $\\kappa=\\log_{10}(r)$:"
     ]
    },
    {
     "cell_type": "code",
     "collapsed": false,
     "input": [
      "kappas = np.asarray(data['ipe']['B'].data['kappa'].drop_duplicates())\n",
      "print \"Unique kappa values:\", kappas"
     ],
     "language": "python",
     "metadata": {},
     "outputs": [
      {
       "output_type": "stream",
       "stream": "stdout",
       "text": [
        "Unique kappa values: [-1.3 -1.2 -1.1 -1.  -0.9 -0.8 -0.7 -0.6 -0.5 -0.4 -0.3 -0.2 -0.1  0.   0.1\n",
        "  0.2  0.3  0.4  0.5  0.6  0.7  0.8  0.9  1.   1.1  1.2  1.3]\n"
       ]
      }
     ],
     "prompt_number": 35
    },
    {
     "cell_type": "markdown",
     "metadata": {},
     "source": [
      "From these IPE samples, we can compute estimates of $p(\\mathrm{fall}\\ \\vert\\ \\kappa, S)$ for each stimulus $S$. In order to enforce that this curve is continuous in the domain of $\\kappa$, we apply a kernel smoothing procedure. For example, the following plot shows the raw estimates of $p(\\mathrm{fall}\\ \\vert\\ \\kappa, S)$ for one particular $S$ (blue dots), as well as the final smoothed estimate (black line)."
     ]
    },
    {
     "cell_type": "code",
     "collapsed": false,
     "input": [
      "data['ipe']['B'].plot(0)"
     ],
     "language": "python",
     "metadata": {},
     "outputs": [
      {
       "metadata": {},
       "output_type": "display_data",
       "png": "[encoded data removed]",
       "text": [
        "<matplotlib.figure.Figure at 0x106fe3450>"
       ]
      }
     ],
     "prompt_number": 6
    },
    {
     "cell_type": "heading",
     "level": 2,
     "metadata": {},
     "source": [
      "Analysis"
     ]
    },
    {
     "cell_type": "heading",
     "level": 3,
     "metadata": {},
     "source": [
      "Can people reason with mass?"
     ]
    },
    {
     "cell_type": "markdown",
     "metadata": {},
     "source": [
      "Previous research (Battaglia2013) indicated that people can take information about the mass of objects into account when reasoning about physical properties like stability. The first parts of our experiment (Block A and Block B) were essentially the same design as that from Battalia2013, so we should see the same trends as in Battaliga2013.\n",
      "\n",
      "First, we can take a look at how well the IPE estimates of $p(\\mathrm{fall}\\ \\vert\\ \\kappa_0, S)$ predict human judgments of stability:"
     ]
    },
    {
     "cell_type": "heading",
     "level": 3,
     "metadata": {},
     "source": [
      "Can people infer mass?"
     ]
    },
    {
     "cell_type": "markdown",
     "metadata": {},
     "source": [
      "Before we can make an argument that people infer mass in a manner consistent with the \"noisy Newton\" approach, we must first demonstrate that people can make inferences about mass at all. Recent research (Sanborn2013) has explained how previous results suggesting people do not make sophisticated inferences about mass (Todd1982, Gilden1994) can be explained using Bayesian inference. However, no one has yet shown whether this also holds true in more complicated, realistic scenes."
     ]
    },
    {
     "cell_type": "heading",
     "level": 3,
     "metadata": {},
     "source": [
      "Are people running simulations to compute the likelihood term?"
     ]
    },
    {
     "cell_type": "code",
     "collapsed": false,
     "input": [],
     "language": "python",
     "metadata": {},
     "outputs": []
    },
    {
     "cell_type": "heading",
     "level": 3,
     "metadata": {},
     "source": [
      "Do people integrate information over multiple trials?"
     ]
    },
    {
     "cell_type": "code",
     "collapsed": false,
     "input": [],
     "language": "python",
     "metadata": {},
     "outputs": []
    },
    {
     "cell_type": "heading",
     "level": 3,
     "metadata": {},
     "source": [
      "Do they integrate information in a manner consistent with Bayes' rule?"
     ]
    },
    {
     "cell_type": "code",
     "collapsed": false,
     "input": [],
     "language": "python",
     "metadata": {},
     "outputs": []
    }
   ],
   "metadata": {}
  }
 ]
}