{
 "metadata": {
  "name": "learning-analysis"
 },
 "nbformat": 3,
 "nbformat_minor": 0,
 "worksheets": [
  {
   "cells": [
    {
     "cell_type": "code",
     "collapsed": false,
     "input": [
      "# imports\n",
      "import collections\n",
      "import matplotlib.cm as cm\n",
      "import matplotlib.gridspec as gridspec\n",
      "import numpy as np\n",
      "import pandas as pd\n",
      "import pdb\n",
      "import pickle\n",
      "import scipy.stats\n",
      "import os\n",
      "import time\n",
      "\n",
      "import cogphysics\n",
      "import cogphysics.lib.circ as circ\n",
      "import cogphysics.lib.nplib as npl\n",
      "import cogphysics.lib.rvs as rvs\n",
      "\n",
      "import cogphysics.tower.analysis_tools as tat\n",
      "import cogphysics.tower.mass.model_observer as mo\n",
      "import cogphysics.tower.mass.learning_analysis_tools as lat\n",
      "\n",
      "from cogphysics.lib.corr import xcorr, partialcorr\n",
      "\n",
      "normalize = rvs.util.normalize\n",
      "weightedSample = rvs.util.weightedSample\n",
      "\n",
      "pd.set_option('line_width', 195)\n",
      "LINE = \"-\"*195\n"
     ],
     "language": "python",
     "outputs": [],
     "prompt_number": 198
    },
    {
     "cell_type": "code",
     "collapsed": false,
     "input": [
      "######################################################################\n",
      "## Load human data\n",
      "######################################################################\n",
      "\n",
      "reload(lat)\n",
      "training, posttest, experiment, queries = lat.load_turk_static(thresh=1)\n"
     ],
     "language": "python",
     "outputs": [
      {
       "output_type": "stream",
       "stream": "stdout",
       "text": [
        "Bad pids (15): ['042', '047', '051', '052', '058', '066', '069', '075', '085', '095', '109', '115', '121', '131', '143']\n",
        "Bad pids (15): ['042', '047', '051', '052', '058', '066', '069', '075', '085', '095', '109', '115', '121', '131', '143']"
       ]
      },
      {
       "output_type": "stream",
       "stream": "stdout",
       "text": [
        "\n"
       ]
      }
     ],
     "prompt_number": 199
    },
    {
     "cell_type": "code",
     "collapsed": false,
     "input": [
      "######################################################################\n",
      "## Load stimuli\n",
      "######################################################################\n",
      "\n",
      "# listpath = os.path.join(cogphysics.CPOBJ_LIST_PATH,\n",
      "# \t\t\t\"mass-towers-stability-learning~kappa-1.0\")\n",
      "# with open(listpath, \"r\") as fh:\n",
      "#     Stims = np.array(sorted([\n",
      "# \tx.split(\"~\")[0] for x in fh.read().strip().split(\"\\n\") if x != \"\"]))\n",
      "\n",
      "Stims = np.array([\n",
      "    x.split(\"~\")[0] for x in experiment[experiment.keys()[0]].columns])\n"
     ],
     "language": "python",
     "outputs": [],
     "prompt_number": 200
    },
    {
     "cell_type": "code",
     "collapsed": false,
     "input": [
      "######################################################################\n",
      "## Load model data\n",
      "######################################################################\n",
      "reload(lat)\n",
      "\n",
      "nthresh0 = 0\n",
      "nthresh = 0.4\n",
      "rawipe, ipe_samps, rawtruth, feedback, kappas = lat.process_model_turk(\n",
      "    Stims, nthresh0, nthresh)\n",
      "nofeedback = np.empty(feedback.shape[1])*np.nan\n"
     ],
     "language": "python",
     "outputs": [],
     "prompt_number": 201
    },
    {
     "cell_type": "code",
     "collapsed": false,
     "input": [
      "reload(lat)\n",
      "fig = plt.figure(1)\n",
      "plt.clf()\n",
      "lat.plot_smoothing(ipe_samps, Stims, 6, kappas)\n",
      "fig.set_figheight(6), \n",
      "fig.set_figwidth(8)\n",
      "\n",
      "lat.save(\"images/likelihood_smoothing.png\", close=False)\n"
     ],
     "language": "python",
     "outputs": [
      {
       "output_type": "stream",
       "stream": "stdout",
       "text": [
        "Saving figure to images/likelihood_smoothing.png...' "
       ]
      },
      {
       "output_type": "stream",
       "stream": "stdout",
       "text": [
        "Done\n"
       ]
      }
     ],
     "prompt_number": 202
    },
    {
     "cell_type": "code",
     "collapsed": false,
     "input": [
      "######################################################################\n",
      "## Global parameters\n",
      "######################################################################\n",
      "\n",
      "n_kappas = len(kappas)\n",
      "kappas = np.array(kappas)\n",
      "ratios = 10 ** kappas\n",
      "ratios[kappas < 0] = np.round(ratios[kappas < 0], decimals=2)\n",
      "ratios[kappas >= 0] = np.round(ratios[kappas >= 0], decimals=1)\n",
      "ratios = list(ratios)\n",
      "kappas = list(kappas)\n",
      "\n",
      "outcomes     = np.array([0, 1])                  # possible outcomes\n",
      "n_trial      = Stims.size\n",
      "n_outcomes   = outcomes.size                     # number of possible outcomes\n",
      "\n",
      "f_smooth = True\n",
      "p_ignore = 0.0\n",
      "\n",
      "cmap = lat.make_cmap(\"lh\", (0, 0, 0), (.5, .5, .5), (1, 0, 0))\n",
      "alpha = 0.2\n",
      "colors = ['c', 'm', 'y']#'#FF9966', '#AAAA00', 'g', 'c', 'b', 'm']\n",
      "#colors = cm.hsv(np.round(np.linspace(0, 220, n_cond)).astype('i8'))\n"
     ],
     "language": "python",
     "outputs": [],
     "prompt_number": 270
    },
    {
     "cell_type": "code",
     "collapsed": false,
     "input": [
      "######################################################################\n",
      "## Generate fake human data\n",
      "######################################################################\n",
      "\n",
      "fig = plt.figure(2)\n",
      "plt.clf()\n",
      "plt.suptitle(\"Ideal Observer Beliefs\")\n",
      "cidx = 0\n",
      "\n",
      "reload(mo)\n",
      "nfake = 2000\n",
      "for cond in sorted(experiment.keys()):\n",
      "\n",
      "    group, fbtype, ratio, cb = lat.parse_condition(cond)\n",
      "    if group == \"MO\":\n",
      "\tcontinue\n",
      "    if fbtype == \"vfb\":\n",
      "\tfbtype = \"fb\"\n",
      "\n",
      "    cols = experiment[cond].columns\n",
      "    order = np.argsort(zip(*cols)[0])\n",
      "    undo_order = np.argsort(order)\n",
      "    #nfake = experiment[cond].shape[0]\n",
      "\n",
      "    # determine what feedback to give\n",
      "    if fbtype == 'nfb':\n",
      "\tfb = nofeedback[..., order]\n",
      "\t# prior = np.zeros((n_kappas,))\n",
      "\t# prior[kappas.index(0.0)] = 1\n",
      "\t# prior = normalize(np.log(prior))[1]\n",
      "\tprior = None\n",
      "    else:\n",
      "\tridx = ratios.index(ratio)\n",
      "\tfb = feedback[:, order][ridx]\n",
      "\tprior = None\n",
      "\n",
      "    #newcond = \"-\".join([\"MO\"] + cond.split(\"-\")[1:])\n",
      "    newcond = \"%s-%s-%s\" % (\"MO\", fbtype, cond.split(\"-\")[2])\n",
      "    responses, model_theta = mo.simulateResponses(\n",
      "\tnfake, fb, ipe_samps[order], kappas, \n",
      "\tprior=prior, p_ignore=p_ignore, smooth=f_smooth)\n",
      "    experiment[newcond] = pd.DataFrame(\n",
      "\tresponses[:, undo_order], \n",
      "\tcolumns=cols)\n",
      "\n",
      "    lat.plot_theta(\n",
      "\t3, 2, cidx+1,\n",
      "\tnp.exp(model_theta),\n",
      "\tcond,\n",
      "\texp=1.3,\n",
      "\tcmap=cmap,\n",
      "\tfontsize=14)\n",
      "    cidx += 1\n",
      "    \n",
      "lat.save(\"images/ideal_observer_beliefs.png\", close=False)\n"
     ],
     "language": "python",
     "outputs": [
      {
       "output_type": "stream",
       "stream": "stdout",
       "text": [
        "Saving figure to images/ideal_observer_beliefs.png...' "
       ]
      },
      {
       "output_type": "stream",
       "stream": "stdout",
       "text": [
        "Done\n"
       ]
      }
     ],
     "prompt_number": 271
    },
    {
     "cell_type": "code",
     "collapsed": false,
     "input": [
      "cond_labels = {\n",
      "    'C-nfb-10': 'No-feedback',\n",
      "    'C-vfb-0.1': 'Visual feedback (r=0.1)',\n",
      "    'C-vfb-10': 'Visual feedback (r=10)',\n",
      "    'C-fb-0.1': 'Text feedback (r=0.1)',\n",
      "    'C-fb-10': 'Text feedback (r=10)',\n",
      "    'MO-nfb-10': 'Uniform fixed observer',\n",
      "    'MO-fb-0.1': 'Learning observer (r=0.1)',\n",
      "    'MO-fb-10': 'Learning observer (r=10)',\n",
      "    }\n",
      "\n",
      "conds = [\n",
      "    'C-fb-0.1',\n",
      "    'C-vfb-0.1',\n",
      "    'MO-fb-0.1',\n",
      "    'C-fb-10',\n",
      "    'C-vfb-10',\n",
      "    'MO-fb-10',\n",
      "    'C-nfb-10',\n",
      "    'MO-nfb-10',\n",
      "    ]\n",
      "n_cond = len(conds)\n",
      "\n",
      "# cond_labels = dict([(c, c) for c in conds])\n",
      "# conds = sorted(np.unique([\"-\".join(c.split(\"-\")[:-1]) for c in conds]))\n",
      "    "
     ],
     "language": "python",
     "outputs": [],
     "prompt_number": 272
    },
    {
     "cell_type": "code",
     "collapsed": false,
     "input": [
      "# bootstrapped correlations\n",
      "reload(lat)\n",
      "\n",
      "nboot = 1000\n",
      "nsamp = 5\n",
      "with_replacement = False\n",
      "\n",
      "for cond in conds:\n",
      "\n",
      "    arr = np.asarray(experiment[cond])\n",
      "\n",
      "    corrs = lat.bootcorr_wc(\n",
      "\tarr,\n",
      "\tnboot=nboot,\n",
      "\tnsamp=nsamp,\n",
      "\twith_replacement=with_replacement)\n",
      "    meancorr = np.mean(corrs)\n",
      "    semcorr = scipy.stats.sem(corrs)\n",
      "    print \"(bootstrap) %-15s v %-15s: rho = %.4f +/- %.4f\" % (\n",
      "\tcond, cond, meancorr, semcorr)\n"
     ],
     "language": "python",
     "outputs": [
      {
       "output_type": "stream",
       "stream": "stdout",
       "text": [
        "(bootstrap) C-fb-0.1        v C-fb-0.1       : rho = 0.5153 +/- 0.0032\n",
        "(bootstrap) C-vfb-0.1       v C-vfb-0.1      : rho = 0.5388 +/- 0.0036"
       ]
      },
      {
       "output_type": "stream",
       "stream": "stdout",
       "text": [
        "\n",
        "(bootstrap) MO-fb-0.1       v MO-fb-0.1      : rho = 0.5269 +/- 0.0033"
       ]
      },
      {
       "output_type": "stream",
       "stream": "stdout",
       "text": [
        "\n",
        "(bootstrap) C-fb-10         v C-fb-10        : rho = 0.5051 +/- 0.0035"
       ]
      },
      {
       "output_type": "stream",
       "stream": "stdout",
       "text": [
        "\n",
        "(bootstrap) C-vfb-10        v C-vfb-10       : rho = 0.6381 +/- 0.0025"
       ]
      },
      {
       "output_type": "stream",
       "stream": "stdout",
       "text": [
        "\n",
        "(bootstrap) MO-fb-10        v MO-fb-10       : rho = 0.5633 +/- 0.0033"
       ]
      },
      {
       "output_type": "stream",
       "stream": "stdout",
       "text": [
        "\n",
        "(bootstrap) C-nfb-10        v C-nfb-10       : rho = 0.4787 +/- 0.0034"
       ]
      },
      {
       "output_type": "stream",
       "stream": "stdout",
       "text": [
        "\n",
        "(bootstrap) MO-nfb-10       v MO-nfb-10      : rho = 0.4236 +/- 0.0038"
       ]
      },
      {
       "output_type": "stream",
       "stream": "stdout",
       "text": [
        "\n"
       ]
      }
     ],
     "prompt_number": 273
    },
    {
     "cell_type": "code",
     "collapsed": false,
     "input": [
      "def CI(data):\n",
      "    bmvs = scipy.stats.bayes_mvs\n",
      "    stats = []\n",
      "    for cidx, cond in enumerate(conds):\n",
      "\tshape = data[cond].shape\n",
      "\tassert len(shape) == 2\n",
      "\tinfo = []\n",
      "\tfor i in xrange(shape[1]):\n",
      "\t    shape = data[cond][:, i].shape\n",
      "\t    if shape == (1,):\n",
      "\t\tmean = lower = upper = sum = np.log(data[cond][:, i][0])\n",
      "\t    else:\n",
      "\t\t#mean, (lower, upper) = bmvs(data[cond][:, i])[0]\n",
      "\t\tmean = np.mean(data[cond][:, i])\n",
      "\t\tsem = scipy.stats.sem(data[cond][:, i])\n",
      "\t\tlower = np.log(mean - sem)\n",
      "\t\tupper = np.log(mean + sem)\n",
      "\t\tmean = np.log(mean)\n",
      "\t\tsum = np.sum(np.log(data[cond][:, i]))\n",
      "\t    info.append([mean, lower, upper, sum])\n",
      "\tstats.append(info)\n",
      "    stats = np.swapaxes(np.array(stats), 0, 1)\n",
      "    return stats\n",
      "\t\n",
      "\t"
     ],
     "language": "python",
     "outputs": [],
     "prompt_number": 274
    },
    {
     "cell_type": "code",
     "collapsed": false,
     "input": [
      "ir1 = list(kappas).index(0.0)\n",
      "ir10 = list(kappas).index(1.0)\n",
      "ir01 = list(kappas).index(-1.0)\n",
      "reload(lat)\n",
      "\n",
      "# random model\n",
      "model_random, = CI(lat.random_model_lh(conds, n_trial))\n"
     ],
     "language": "python",
     "outputs": [],
     "prompt_number": 275
    },
    {
     "cell_type": "code",
     "collapsed": false,
     "input": [
      "reload(lat)\n",
      "\n",
      "# fixed models\n",
      "thetas = np.zeros((3, n_kappas))\n",
      "thetas[0, :] = 1\n",
      "thetas[1, ir10] = 1\n",
      "thetas[2, ir01] = 1\n",
      "thetas = normalize(np.log(thetas), axis=1)[1]\n",
      "fb = np.empty((3, n_trial))*np.nan\n",
      "\n",
      "model_uniform, model_true10, model_true01 = CI(lat.block_lh(\n",
      "    experiment, fb, ipe_samps, thetas, kappas, \n",
      "    f_smooth=f_smooth, p_ignore=p_ignore))\n",
      "\t"
     ],
     "language": "python",
     "outputs": [],
     "prompt_number": 276
    },
    {
     "cell_type": "code",
     "collapsed": false,
     "input": [
      "reload(lat)\n",
      "\n",
      "# learning models\n",
      "model_learn01, model_learn10 = CI(lat.block_lh(\n",
      "    experiment, feedback[[ir01, ir10]], ipe_samps, None, kappas, \n",
      "    f_smooth=f_smooth, p_ignore=p_ignore))\n"
     ],
     "language": "python",
     "outputs": [],
     "prompt_number": 277
    },
    {
     "cell_type": "code",
     "collapsed": false,
     "input": [
      "# all the models\n",
      "mnames = np.array([\n",
      "\t\"random\",\n",
      "\t\"fixed 0.1\",\n",
      "\t\"learning 0.1\",\n",
      "\t\"fixed uniform\",\n",
      "\t\"fixed 10\",\n",
      "\t\"learning 10\"\n",
      "\t])\n",
      "mparams = np.array([0, 1, 2, 1, 1, 2])\n",
      "\n",
      "models = np.concatenate([\n",
      "    model_random[None],\n",
      "    model_true01[None],\n",
      "    model_learn01[None],\n",
      "    model_uniform[None],\n",
      "    model_true10[None],\n",
      "    model_learn10[None]\n",
      "    ], axis=0).T\n"
     ],
     "language": "python",
     "outputs": [],
     "prompt_number": 278
    },
    {
     "cell_type": "code",
     "collapsed": false,
     "input": [
      "reload(lat)\n",
      "theta = np.log(np.eye(n_kappas))\n",
      "fb = np.empty((n_kappas, n_trial))*np.nan\n",
      "\n",
      "mean, lower, upper, sums = CI(lat.block_lh(\n",
      "    experiment, fb, ipe_samps, theta, kappas, f_smooth=f_smooth,\n",
      "    p_ignore=p_ignore)).T\n",
      "# sums, = CI(lat.block_lh(\n",
      "#     experiment, fb, ipe_samps, theta, kappas, f_smooth=f_smooth,\n",
      "#     f_average=False, f_round=False))\n",
      "\n",
      "x = np.arange(n_kappas)\n",
      "fig = plt.figure(3)\n",
      "plt.clf()\n",
      "\n",
      "for cidx, cond in enumerate(conds):\n",
      "    color = colors[(cidx/3) % len(colors)]\n",
      "    if cond.startswith(\"MO\"):\n",
      "\tlinestyle = '-'\n",
      "    elif cond.split(\"-\")[1] == \"fb\":\n",
      "\tlinestyle = '-.'\n",
      "    else:\n",
      "\tlinestyle = '--'\n",
      "    plt.fill_between(x, lower[cidx], upper[cidx], color=color, alpha=alpha)\n",
      "    plt.plot(x, mean[cidx], label=cond_labels[cond], color=color, linewidth=2,\n",
      "    \t     linestyle=linestyle)\n",
      "    # plt.plot(x, sums[cidx], label=cond_labels[cond], color=color, linewidth=2,\n",
      "    # \t     linestyle=linestyle)\n",
      "\n",
      "plt.xticks(x, ratios, rotation=90)\n",
      "plt.xlabel(\"Fixed model mass ratio\")\n",
      "plt.ylabel(\"Log likelihood of responses\")\n",
      "plt.legend(loc=4, ncol=2, fontsize=12)\n",
      "plt.xlim(x[0], x[-1])\n",
      "plt.ylim(-34, -20)\n",
      "plt.title(\"Likelihood of responses under fixed models\")\n",
      "fig.set_figwidth(8)\n",
      "fig.set_figheight(6)\n",
      "\n",
      "lat.save(\"images/fixed_model_performance.png\", close=False)\n"
     ],
     "language": "python",
     "outputs": [
      {
       "output_type": "stream",
       "stream": "stdout",
       "text": [
        "Saving figure to images/fixed_model_performance.png...' "
       ]
      },
      {
       "output_type": "stream",
       "stream": "stdout",
       "text": [
        "Done\n"
       ]
      }
     ],
     "prompt_number": 291
    },
    {
     "cell_type": "code",
     "collapsed": false,
     "input": [
      "reload(lat)\n",
      "\n",
      "mean, lower, upper, sums = CI(lat.block_lh(\n",
      "    experiment, feedback, ipe_samps, None, kappas, f_smooth=f_smooth,\n",
      "    p_ignore=p_ignore)).T\n",
      "# sums, = CI(lat.block_lh(\n",
      "#     experiment, fb, ipe_samps, theta, kappas, f_smooth=f_smooth,\n",
      "#     f_average=False, f_round=False))\n",
      "\n",
      "x = np.arange(n_kappas)\n",
      "fig = plt.figure(30)\n",
      "plt.clf()\n",
      "\n",
      "alpha = 0.2\n",
      "\n",
      "for cidx, cond in enumerate(conds):\n",
      "    color = colors[(cidx/3) % len(colors)]\n",
      "    if cond.startswith(\"MO\"):\n",
      "\tlinestyle = '-'\n",
      "    elif cond.split(\"-\")[1] == \"fb\":\n",
      "\tlinestyle = '-.'\n",
      "    else:\n",
      "\tlinestyle = '--'\n",
      "    plt.fill_between(x, lower[cidx], upper[cidx], color=color, alpha=alpha)\n",
      "    plt.plot(x, mean[cidx], label=cond_labels[cond], color=color, linewidth=2,\n",
      "    \t     linestyle=linestyle)\n",
      "    # plt.plot(x, sums[cidx], label=cond_labels[cond], color=color, linewidth=2,\n",
      "    # \t     linestyle=linestyle)\n",
      "\n",
      "plt.xticks(x, ratios, rotation=90)\n",
      "plt.xlabel(\"Learning model true mass ratio\")\n",
      "plt.ylabel(\"Log likelihood of responses\")\n",
      "plt.legend(loc=4, ncol=2, fontsize=12)\n",
      "plt.xlim(x[0], x[-1])\n",
      "plt.ylim(-34, -20)\n",
      "plt.title(\"Likelihood of responses under learning models\")\n",
      "fig.set_figwidth(8)\n",
      "fig.set_figheight(6)\n",
      "\n",
      "lat.save(\"images/learning_model_performance.png\", close=False)\n"
     ],
     "language": "python",
     "outputs": [
      {
       "output_type": "stream",
       "stream": "stdout",
       "text": [
        "Saving figure to images/learning_model_performance.png...' "
       ]
      },
      {
       "output_type": "stream",
       "stream": "stdout",
       "text": [
        "Done\n"
       ]
      }
     ],
     "prompt_number": 290
    },
    {
     "cell_type": "code",
     "collapsed": false,
     "input": [
      "# plot model performance\n",
      "x0 = np.arange(models.shape[2])\n",
      "height = models[0]\n",
      "err = np.abs(models[[0]] - models[[1,2]])\n",
      "width = 0.7 / n_cond\n",
      "fig = plt.figure(4)\n",
      "plt.clf()\n",
      "\n",
      "for cidx, cond in enumerate(conds):\n",
      "    color = colors[(cidx/3) % len(colors)]\n",
      "    if cond.startswith(\"MO\"):\n",
      "\talpha = 1.0\n",
      "    elif cond.split(\"-\")[1] == \"vfb\":\n",
      "\talpha = 0.4\n",
      "    else:\n",
      "\talpha = 0.2\n",
      "    x = x0 + width*(cidx-(n_cond/2.)) + (width/2.)\n",
      "    plt.bar(x, height[cidx], yerr=err[:, cidx], \n",
      "\t    color=color,\n",
      "\t    ecolor='k', align='center', width=width, \n",
      "\t    label=cond_labels[cond], alpha=alpha)\n",
      "\n",
      "plt.xticks(x0, [\n",
      "    \"Random\", \n",
      "    \"Fixed\\nr=0.1\",\n",
      "    \"Learning\\nr=0.1\",\n",
      "    \"Fixed\\nr=uniform\", \n",
      "    \"Fixed\\nr=10.0\", \n",
      "    \"Learning\\nr=10.0\"\n",
      "    ])\n",
      "#plt.ylim(int(np.min(height-err))-1, int(np.max(height))+1)\n",
      "plt.ylim(-34, -20)\n",
      "plt.xlim(x0.min()-0.5, x0.max()+0.5)\n",
      "plt.legend(loc=0, ncol=2, fontsize=12)\n",
      "plt.xlabel(\"Model\", fontsize=14)\n",
      "plt.ylabel(\"Log likelihood of responses, $\\Pr(J|S,B)$\", fontsize=14)\n",
      "plt.title(\"Likelihood of human and ideal observer judgments\", fontsize=16)\n",
      "\n",
      "fig.set_figwidth(8)\n",
      "fig.set_figheight(6)\n",
      "\n",
      "lat.save(\"images/model_performance.png\", close=False)\n"
     ],
     "language": "python",
     "outputs": [
      {
       "output_type": "stream",
       "stream": "stdout",
       "text": [
        "Saving figure to images/model_performance.png...' "
       ]
      },
      {
       "output_type": "stream",
       "stream": "stdout",
       "text": [
        "Done\n"
       ]
      }
     ],
     "prompt_number": 280
    },
    {
     "cell_type": "code",
     "collapsed": false,
     "input": [
      "# BIC: -2*ln(L) + k*ln(n)\n",
      "# L : maximized likelihood function\n",
      "# k : number of parameters\n",
      "# n : sample size\n",
      "\n",
      "def samplesize(data):\n",
      "    sizes = []\n",
      "    for cond in conds:\n",
      "\td = data[cond]\n",
      "\tsizes.append(d.shape[0])\n",
      "    return np.array(sizes)\n",
      "\n",
      "L = models[0]\n",
      "k = np.array(mparams)[None]\n",
      "#k = np.zeros(L.shape)\n",
      "n = samplesize(experiment)[:, None]\n",
      "\n",
      "BIC = -2*L + k*np.log(n)\n",
      "best = np.argmin(BIC, axis=1)\n",
      "zip(conds, mnames[best])\n",
      "\n"
     ],
     "language": "python",
     "outputs": [
      {
       "output_type": "pyout",
       "prompt_number": 281,
       "text": [
        "[('C-fb-0.1', 'fixed 0.1'),\n",
        " ('C-vfb-0.1', 'fixed 0.1'),\n",
        " ('MO-fb-0.1', 'fixed 0.1'),\n",
        " ('C-fb-10', 'fixed 10'),\n",
        " ('C-vfb-10', 'fixed 10'),\n",
        " ('MO-fb-10', 'fixed 10'),\n",
        " ('C-nfb-10', 'fixed uniform'),\n",
        " ('MO-nfb-10', 'fixed uniform')]"
       ]
      }
     ],
     "prompt_number": 281
    },
    {
     "cell_type": "code",
     "collapsed": false,
     "input": [
      "\n",
      "reload(lat)\n",
      "window = 10\n",
      "nsteps = n_trial / window\n",
      "\n",
      "lh = np.empty((n_trial, n_kappas, len(conds), 4))\n",
      "for t in xrange(1, n_trial):\n",
      "    t0 = max(0, t-window)\n",
      "    t1 = t\n",
      "    thetas = np.eye(n_kappas)\n",
      "    thetas = normalize(np.log(thetas), axis=1)[1]\n",
      "    fb = np.empty((n_kappas, n_trial)) * np.nan\n",
      "    lh[t] = CI(lat.block_lh(\n",
      "\texperiment, fb, ipe_samps, thetas, \n",
      "\tkappas, t0, t1, \n",
      "\tf_smooth=f_smooth, p_ignore=p_ignore))\n"
     ],
     "language": "python",
     "outputs": [],
     "prompt_number": 296
    },
    {
     "cell_type": "code",
     "collapsed": false,
     "input": [
      "# best = np.argmax(lh[..., -1], axis=1).T\n",
      "x = np.arange(0, n_trial, 1)\n",
      "\n",
      "plt.figure(100)\n",
      "plt.clf()\n",
      "\n",
      "for cidx, cond in enumerate(conds):\n",
      "    color = colors[(cidx/3) % len(colors)]\n",
      "    if cond.startswith(\"MO\"):\n",
      "\tlinestyle = '-'\n",
      "    elif cond.split(\"-\")[1] == \"fb\":\n",
      "\tlinestyle = '-.'\n",
      "    else:\n",
      "\tlinestyle = \"--\"\n",
      "    lat.plot_theta(\n",
      "\t3, 3, cidx+1, \n",
      "\tnp.exp(normalize(lh[:, :, cidx, -1], axis=1)[1]), \n",
      "\tcond_labels[conds[cidx]])\n",
      "    # plt.plot(x, np.array(kappas)[best[cidx]], label=cond_labels[cond], \n",
      "    # \t     color=color, linestyle=linestyle, linewidth=2)\n",
      "\n",
      "#plt.yticks(kappas, ratios)\n",
      "#plt.grid(True)\n",
      "#plt.legend()\n",
      "\n",
      "plt.suptitle(\"Fixed model log likelihoods over time (window of %d)\" % window)\n",
      "\n",
      "lat.save(\"images/sliding-windows.png\", close=False)\n"
     ],
     "language": "python",
     "outputs": [
      {
       "output_type": "stream",
       "stream": "stdout",
       "text": [
        "Saving figure to images/sliding-windows.png...' "
       ]
      },
      {
       "output_type": "stream",
       "stream": "stdout",
       "text": [
        "Done\n"
       ]
      }
     ],
     "prompt_number": 297
    },
    {
     "cell_type": "code",
     "collapsed": false,
     "input": [],
     "language": "python",
     "outputs": [],
     "prompt_number": 233
    },
    {
     "cell_type": "code",
     "collapsed": false,
     "input": [],
     "language": "python",
     "outputs": []
    }
   ]
  }
 ]
}