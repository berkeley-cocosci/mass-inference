{
 "metadata": {
  "name": "learning-analysis"
 },
 "nbformat": 3,
 "nbformat_minor": 0,
 "worksheets": [
  {
   "cells": [
    {
     "cell_type": "code",
     "collapsed": false,
     "input": [
      "# imports\n",
      "import collections\n",
      "import matplotlib.cm as cm\n",
      "import matplotlib.gridspec as gridspec\n",
      "import numpy as np\n",
      "import pandas as pd\n",
      "import pdb\n",
      "import pickle\n",
      "import scipy.stats\n",
      "import os\n",
      "import time\n",
      "\n",
      "import cogphysics\n",
      "import cogphysics.lib.circ as circ\n",
      "import cogphysics.lib.nplib as npl\n",
      "import cogphysics.lib.rvs as rvs\n",
      "\n",
      "import cogphysics.tower.analysis_tools as tat\n",
      "import cogphysics.tower.mass.model_observer as mo\n",
      "import cogphysics.tower.mass.learning_analysis_tools as lat\n",
      "\n",
      "from cogphysics.lib.corr import xcorr, partialcorr\n",
      "\n",
      "normalize = rvs.util.normalize\n",
      "weightedSample = rvs.util.weightedSample\n",
      "\n",
      "pd.set_option('line_width', 195)\n",
      "LINE = \"-\"*195\n"
     ],
     "language": "python",
     "outputs": [],
     "prompt_number": 1
    },
    {
     "cell_type": "code",
     "collapsed": false,
     "input": [
      "######################################################################\n",
      "## Load stimuli\n",
      "######################################################################\n",
      "\n",
      "listpath = os.path.join(cogphysics.CPOBJ_LIST_PATH,\n",
      "\t\t\t\"mass-towers-stability-learning~kappa-1.0\")\n",
      "with open(listpath, \"r\") as fh:\n",
      "    Stims = np.array(sorted([\n",
      "\tx.split(\"~\")[0] for x in fh.read().strip().split(\"\\n\") if x != \"\"]))\n"
     ],
     "language": "python",
     "outputs": [],
     "prompt_number": 2
    },
    {
     "cell_type": "code",
     "collapsed": false,
     "input": [
      "######################################################################\n",
      "## Load human data\n",
      "######################################################################\n",
      "\n",
      "reload(lat)\n",
      "training, posttest, experiment, queries = lat.load_turk_learning()\n"
     ],
     "language": "python",
     "outputs": [
      {
       "output_type": "stream",
       "stream": "stdout",
       "text": [
        "Loading '../../turk-experiment/data/consolidated_data/posttest_data~B-fb-10-cb0.npz'\n",
        "Loading '../../turk-experiment/data/consolidated_data/posttest_data~B-fb-10-cb1.npz'\n",
        "Loading '../../turk-experiment/data/consolidated_data/posttest_data~B-fb-0.1-cb0.npz'\n",
        "Loading '../../turk-experiment/data/consolidated_data/posttest_data~B-fb-0.1-cb1.npz'\n",
        "Loading '../../turk-experiment/data/consolidated_data/posttest_data~B-nfb-10-cb0.npz'\n",
        "Loading '../../turk-experiment/data/consolidated_data/posttest_data~B-nfb-10-cb1.npz'\n",
        "Loading '../../turk-experiment/data/consolidated_data/training_data~B-fb-10-cb0.npz'"
       ]
      },
      {
       "output_type": "stream",
       "stream": "stdout",
       "text": [
        "\n",
        "Loading '../../turk-experiment/data/consolidated_data/posttest_data~B-fb-10-cb0.npz'\n",
        "Loading '../../turk-experiment/data/consolidated_data/experiment_data~B-fb-10-cb0.npz'\n",
        "Loading '../../turk-experiment/data/consolidated_data/queries_data~B-fb-10-cb0.npz'\n",
        "Loading '../../turk-experiment/data/consolidated_data/training_data~B-fb-10-cb1.npz'\n",
        "Loading '../../turk-experiment/data/consolidated_data/posttest_data~B-fb-10-cb1.npz'\n",
        "Loading '../../turk-experiment/data/consolidated_data/experiment_data~B-fb-10-cb1.npz'\n",
        "Loading '../../turk-experiment/data/consolidated_data/queries_data~B-fb-10-cb1.npz'\n",
        "Loading '../../turk-experiment/data/consolidated_data/training_data~B-fb-0.1-cb0.npz'\n",
        "Loading '../../turk-experiment/data/consolidated_data/posttest_data~B-fb-0.1-cb0.npz'\n",
        "Loading '../../turk-experiment/data/consolidated_data/experiment_data~B-fb-0.1-cb0.npz'\n",
        "Loading '../../turk-experiment/data/consolidated_data/queries_data~B-fb-0.1-cb0.npz'\n",
        "Loading '../../turk-experiment/data/consolidated_data/training_data~B-fb-0.1-cb1.npz'\n",
        "Loading '../../turk-experiment/data/consolidated_data/posttest_data~B-fb-0.1-cb1.npz'\n",
        "Loading '../../turk-experiment/data/consolidated_data/experiment_data~B-fb-0.1-cb1.npz'\n",
        "Loading '../../turk-experiment/data/consolidated_data/queries_data~B-fb-0.1-cb1.npz'"
       ]
      },
      {
       "output_type": "stream",
       "stream": "stdout",
       "text": [
        "\n",
        "Loading '../../turk-experiment/data/consolidated_data/training_data~B-nfb-10-cb0.npz'\n",
        "Loading '../../turk-experiment/data/consolidated_data/posttest_data~B-nfb-10-cb0.npz'\n",
        "Loading '../../turk-experiment/data/consolidated_data/experiment_data~B-nfb-10-cb0.npz'\n",
        "Loading '../../turk-experiment/data/consolidated_data/training_data~B-nfb-10-cb1.npz'\n",
        "Loading '../../turk-experiment/data/consolidated_data/posttest_data~B-nfb-10-cb1.npz'\n",
        "Loading '../../turk-experiment/data/consolidated_data/experiment_data~B-nfb-10-cb1.npz'\n"
       ]
      }
     ],
     "prompt_number": 3
    },
    {
     "cell_type": "code",
     "collapsed": false,
     "input": [
      "######################################################################\n",
      "## Load model data\n",
      "######################################################################\n",
      "\n",
      "reload(lat)\n",
      "\n",
      "nthresh0 = 0\n",
      "nthresh = 0.4\n",
      "rawipe, ipe_samps, rawtruth, feedback, kappas = lat.process_model_turk(\n",
      "    Stims, nthresh0, nthresh)\n",
      "nofeedback = np.empty((feedback.shape[0], 1, 1))*np.nan\n",
      "\n",
      "fig = plt.figure(1)\n",
      "plt.clf()\n",
      "lat.plot_smoothing(rawipe, Stims, 6, nthresh, kappas)\n",
      "fig.set_figheight(6)\n",
      "fig.set_figwidth(8)\n",
      "\n",
      "lat.save(\"images/likelihood_smoothing.png\", close=False)\n"
     ],
     "language": "python",
     "outputs": [
      {
       "output_type": "stream",
       "stream": "stdout",
       "text": [
        "Saving figure to images/likelihood_smoothing.png...' "
       ]
      },
      {
       "output_type": "stream",
       "stream": "stdout",
       "text": [
        "Done\n"
       ]
      }
     ],
     "prompt_number": 20
    },
    {
     "cell_type": "code",
     "collapsed": false,
     "input": [
      "######################################################################\n",
      "## Global parameters\n",
      "######################################################################\n",
      "\n",
      "n_kappas = len(kappas)\n",
      "ratios = 10 ** kappas\n",
      "ratios[kappas < 0] = np.round(ratios[kappas < 0], decimals=2)\n",
      "ratios[kappas >= 0] = np.round(ratios[kappas >= 0], decimals=1)\n",
      "ratios = list(ratios)\n",
      "kappas = list(kappas)\n",
      "\n",
      "outcomes     = np.array([0, 1])                  # possible outcomes\n",
      "n_trial      = Stims.size\n",
      "n_outcomes   = outcomes.size                     # number of possible outcomes\n",
      "\n",
      "f_smooth = True\n",
      "p_ignore_stimulus = 0.0\n",
      "\n",
      "cmap = lat.make_cmap(\"lh\", (0, 0, 0), (.5, .5, .5), (1, 0, 0))\n",
      "alpha = 0.2\n"
     ],
     "language": "python",
     "outputs": [],
     "prompt_number": 21
    },
    {
     "cell_type": "code",
     "collapsed": false,
     "input": [
      "######################################################################\n",
      "## Generate fake human data\n",
      "######################################################################\n",
      "\n",
      "fig = plt.figure(2)\n",
      "plt.clf()\n",
      "plt.suptitle(\"Ideal Observer Beliefs\")\n",
      "cidx = 0\n",
      "\n",
      "reload(mo)\n",
      "nfake = 1000\n",
      "for cond in sorted(experiment.keys()):\n",
      "\n",
      "    group, fbtype, ratio, cb = lat.parse_condition(cond)\n",
      "    if group == \"MO\":\n",
      "\tcontinue\n",
      "\n",
      "    cols = experiment[cond].columns\n",
      "    order = np.argsort(zip(*cols)[0])\n",
      "    undo_order = np.argsort(order)\n",
      "\n",
      "    # determine what feedback to give\n",
      "    if fbtype == 'nfb':\n",
      "\tfb = nofeedback[order][:, None]\n",
      "    else:\n",
      "\tridx = ratios.index(ratio)\n",
      "\tfb = feedback[order][:, [ridx]][:, None]\n",
      "    \n",
      "    # learning model beliefs\n",
      "    model_lh, model_joint, model_theta = mo.ModelObserver(\n",
      "\tipe_samps[order], fb,\n",
      "\toutcomes=None,\n",
      "\tinitial=None,\n",
      "\trespond=False,\n",
      "\tp_ignore_stimulus=p_ignore_stimulus,\n",
      "\tsmooth=f_smooth)\n",
      "\n",
      "    # compute probability of falling\n",
      "    p_outcomes = np.empty((n_trial,))\n",
      "    for t in xrange(n_trial):\n",
      "\tnewcond = \"-\".join([\"MO\"] + cond.split(\"-\")[1:])\n",
      "\tp_outcomes[t] = np.exp(mo.predict(\n",
      "\t    model_theta[0, t][None],\n",
      "\t    outcomes[:, None], \n",
      "\t    ipe_samps[order][t],\n",
      "\t    f_smooth))[:, 1]\n",
      "\n",
      "    # sample responses\n",
      "    responses = np.random.rand(nfake)[:, None] < p_outcomes[None]\t\t\n",
      "    experiment[newcond] = pd.DataFrame(\n",
      "\tresponses[:, undo_order], \n",
      "\tcolumns=cols)\n",
      "\n",
      "    lat.plot_theta(\n",
      "\t1, 6, cidx+1,\n",
      "\tnp.exp(model_theta[0]),\n",
      "\tcond,\n",
      "\texp=1.3,\n",
      "\tcmap=cmap,\n",
      "\tfontsize=14)\n",
      "    cidx += 1\n",
      "    \n",
      "lat.save(\"images/ideal_observer_beliefs.png\", close=False)\n"
     ],
     "language": "python",
     "outputs": [
      {
       "output_type": "stream",
       "stream": "stdout",
       "text": [
        "Saving figure to images/ideal_observer_beliefs.png...' "
       ]
      },
      {
       "output_type": "stream",
       "stream": "stdout",
       "text": [
        "Done\n"
       ]
      }
     ],
     "prompt_number": 54
    },
    {
     "cell_type": "code",
     "collapsed": false,
     "input": [
      "cond_labels = {\n",
      "    # 'A-nfb': 'No feedback',\n",
      "    # 'A-fb': 'Feedback',\n",
      "    # 'A-fb-ideal0.1-mo': 'Learning observer, r=0.1',\n",
      "    # 'A-fb-ideal10-mo': 'Learning observer, r=10',\n",
      "    # 'A-fb-fixed0.1-mo': 'Fixed Observer, r=0.1',\n",
      "    # 'A-fb-fixed10-mo': 'Fixed Observer, r=10'\n",
      "    'B-nfb-10': 'Human no-feedback',\n",
      "    'B-fb-0.1': '(r=0.1) Human feedback',\n",
      "    'B-fb-10': '(r=10) Human feedback',\n",
      "    'MO-nfb-10': 'Uniform fixed observer',\n",
      "    # 'MO-nfb-1.0': '(r=1) Fixed observer',\n",
      "    'MO-fb-0.1': '(r=0.1) Learning observer',\n",
      "    'MO-fb-10': '(r=10) Learning observer',\n",
      "    # 'MO-nfb-0.1': '(r=0.1) Fixed observer',\n",
      "    # 'MO-nfb-10': '(r=10) Fixed observer',\n",
      "    }\n",
      "\n",
      "conds = experiment.keys()\n",
      "newconds = [\n",
      "    'B-fb-0.1',\n",
      "    'MO-fb-0.1',\n",
      "    # 'MO-nfb-0.1',\n",
      "    'B-fb-10',\n",
      "    'MO-fb-10',\n",
      "    'MO-nfb-10',\n",
      "    'B-nfb-10',\n",
      "    # 'MO-nfb',\n",
      "    # 'MO-nfb-1.0',\n",
      "    ]\n",
      "n_cond = len(newconds)\n",
      "\n",
      "# cond_labels = dict([(c, c) for c in conds])\n",
      "# newconds = sorted(np.unique([\"-\".join(c.split(\"-\")[:-1]) for c in conds]))\n",
      "    "
     ],
     "language": "python",
     "outputs": [],
     "prompt_number": 50
    },
    {
     "cell_type": "code",
     "collapsed": false,
     "input": [
      "# bootstrapped correlations\n",
      "reload(lat)\n",
      "\n",
      "nboot = 1000\n",
      "nsamp = 5\n",
      "with_replacement = False\n",
      "\n",
      "for cond in newconds:\n",
      "\n",
      "    arr1 = np.asarray(experiment[cond + '-cb0'])\n",
      "    arr2 = np.asarray(experiment[cond + '-cb1'])\n",
      "    arr3 = np.vstack([arr1, arr2])\n",
      "\n",
      "    corrs = lat.bootcorr(\n",
      "\tnp.asarray(arr1), np.asarray(arr2), \n",
      "\tnboot=nboot, \n",
      "\tnsamp=nsamp,\n",
      "\twith_replacement=with_replacement)\n",
      "    meancorr = np.mean(corrs)\n",
      "    semcorr = scipy.stats.sem(corrs)\n",
      "    print \"(bootstrap) %-15s v %-15s: rho = %.4f +/- %.4f\" % (\n",
      "\tcond+\"-cb0\", cond+\"-cb1\", meancorr, semcorr)\n",
      "\n",
      "    corrs = lat.bootcorr_wc(\n",
      "\tnp.asarray(arr3), \n",
      "\tnboot=nboot,\n",
      "\tnsamp=nsamp,\n",
      "\twith_replacement=with_replacement)\n",
      "    meancorr = np.mean(corrs)\n",
      "    semcorr = scipy.stats.sem(corrs)\n",
      "    print \"(bootstrap) %-15s v %-15s: rho = %.4f +/- %.4f\" % (\n",
      "\tcond, cond, meancorr, semcorr)\n"
     ],
     "language": "python",
     "outputs": [
      {
       "output_type": "stream",
       "stream": "stdout",
       "text": [
        "(bootstrap) B-fb-0.1-cb0    v B-fb-0.1-cb1   : rho = 0.0943 +/- 0.0037\n",
        "(bootstrap) B-fb-0.1        v B-fb-0.1       : rho = 0.2377 +/- 0.0056"
       ]
      },
      {
       "output_type": "stream",
       "stream": "stdout",
       "text": [
        "\n",
        "(bootstrap) MO-fb-0.1-cb0   v MO-fb-0.1-cb1  : rho = 0.7997 +/- 0.0034"
       ]
      },
      {
       "output_type": "stream",
       "stream": "stdout",
       "text": [
        "\n",
        "(bootstrap) MO-fb-0.1       v MO-fb-0.1      : rho = 0.8138 +/- 0.0034"
       ]
      },
      {
       "output_type": "stream",
       "stream": "stdout",
       "text": [
        "\n",
        "(bootstrap) B-fb-10-cb0     v B-fb-10-cb1    : rho = 0.2203 +/- 0.0047"
       ]
      },
      {
       "output_type": "stream",
       "stream": "stdout",
       "text": [
        "\n",
        "(bootstrap) B-fb-10         v B-fb-10        : rho = 0.4231 +/- 0.0053"
       ]
      },
      {
       "output_type": "stream",
       "stream": "stdout",
       "text": [
        "\n",
        "(bootstrap) MO-fb-10-cb0    v MO-fb-10-cb1   : rho = 0.8042 +/- 0.0038"
       ]
      },
      {
       "output_type": "stream",
       "stream": "stdout",
       "text": [
        "\n",
        "(bootstrap) MO-fb-10        v MO-fb-10       : rho = 0.7944 +/- 0.0039"
       ]
      },
      {
       "output_type": "stream",
       "stream": "stdout",
       "text": [
        "\n",
        "(bootstrap) MO-nfb-10-cb0   v MO-nfb-10-cb1  : rho = 0.8010 +/- 0.0044"
       ]
      },
      {
       "output_type": "stream",
       "stream": "stdout",
       "text": [
        "\n",
        "(bootstrap) MO-nfb-10       v MO-nfb-10      : rho = 0.7961 +/- 0.0041"
       ]
      },
      {
       "output_type": "stream",
       "stream": "stdout",
       "text": [
        "\n",
        "(bootstrap) B-nfb-10-cb0    v B-nfb-10-cb1   : rho = 0.5733 +/- 0.0041"
       ]
      },
      {
       "output_type": "stream",
       "stream": "stdout",
       "text": [
        "\n",
        "(bootstrap) B-nfb-10        v B-nfb-10       : rho = 0.5689 +/- 0.0044"
       ]
      },
      {
       "output_type": "stream",
       "stream": "stdout",
       "text": [
        "\n"
       ]
      }
     ],
     "prompt_number": 57
    },
    {
     "cell_type": "code",
     "collapsed": false,
     "input": [
      "def collapse(data):\n",
      "    stacked = [np.vstack([data[c] for c in conds if c.startswith(nc+\"-cb\")]) for nc in newconds]\n",
      "    means = np.array([np.mean(x, axis=0) for x in stacked])\n",
      "    sems = np.array([scipy.stats.sem(x, axis=0) for x in stacked])\n",
      "    sems[np.isnan(sems)] = 0\n",
      "    mean = np.log(means)\n",
      "    lower = np.log(means - sems)\n",
      "    upper = np.log(means + sems)\n",
      "    out = np.array([mean, lower, upper]).T\n",
      "    return out\n",
      "\t"
     ],
     "language": "python",
     "outputs": [],
     "prompt_number": 203
    },
    {
     "cell_type": "code",
     "collapsed": false,
     "input": [
      "ir1 = list(kappas).index(0.0)\n",
      "ir10 = list(kappas).index(1.0)\n",
      "ir01 = list(kappas).index(-1.0)\n",
      "reload(lat)\n",
      "\n",
      "# random model\n",
      "model_random = collapse(lat.random_model_lh(conds, n_trial))[0]\n"
     ],
     "language": "python",
     "outputs": [],
     "prompt_number": 204
    },
    {
     "cell_type": "code",
     "collapsed": false,
     "input": [
      "reload(lat)\n",
      "\n",
      "# fixed models\n",
      "thetas = np.zeros((3, n_trial+1, n_kappas))\n",
      "thetas[0, :, ir1] = 1\n",
      "thetas[1, :, ir10] = 1\n",
      "thetas[2, :, ir01] = 1\n",
      "model_same, model_true10, model_true01 = collapse(lat.fixed_model_lh(\n",
      "    conds, experiment, ipe_samps, np.log(thetas), f_smooth=f_smooth))\n",
      "\t"
     ],
     "language": "python",
     "outputs": [],
     "prompt_number": 205
    },
    {
     "cell_type": "code",
     "collapsed": false,
     "input": [
      "reload(lat)\n",
      "\n",
      "# learning models\n",
      "model_learn01, model_learn10 = collapse(lat.learning_model_lh(\n",
      "    conds, experiment, ipe_samps, feedback, [ir01, ir10], f_smooth=f_smooth))\n"
     ],
     "language": "python",
     "outputs": [],
     "prompt_number": 206
    },
    {
     "cell_type": "code",
     "collapsed": false,
     "input": [
      "# all the models\n",
      "models = np.array([\n",
      "    model_random,\n",
      "    model_true01,\n",
      "    model_learn01,\n",
      "    # model_same,\n",
      "    model_true10,\n",
      "    model_learn10\n",
      "    ]).T\n"
     ],
     "language": "python",
     "outputs": [],
     "prompt_number": 207
    },
    {
     "cell_type": "code",
     "collapsed": false,
     "input": [
      "theta = np.log(np.eye(n_kappas)[:, None] * np.ones((n_kappas, n_trial+1, n_kappas)))\n",
      "mean, upper, lower = collapse(lat.fixed_model_lh(\n",
      "    conds, experiment, ipe_samps, theta, f_smooth=f_smooth)).T\n",
      "\n",
      "x = np.arange(n_kappas)\n",
      "fig = plt.figure(3)\n",
      "plt.clf()\n",
      "\n",
      "colors = ['r', '#FF9966', '#AAAA00', 'g', 'c', 'b', 'm']\n",
      "for cidx, cond in enumerate(newconds):\n",
      "    color = colors[cidx % len(colors)]\n",
      "    if cidx >= len(colors):\n",
      "\tlinestyle = '--'\n",
      "    else:\n",
      "\tlinestyle = '-'\n",
      "    plt.fill_between(x, lower[cidx], upper[cidx], color=color, alpha=alpha)\n",
      "    plt.plot(x, mean[cidx], label=cond_labels[cond], color=color, linewidth=2,\n",
      "\t     linestyle=linestyle)\n",
      "\n",
      "plt.xticks(x, ratios, rotation=90)\n",
      "plt.xlabel(\"Fixed model mass ratio\")\n",
      "plt.ylabel(\"Log likelihood of responses\")\n",
      "plt.legend(loc=4, ncol=2)\n",
      "plt.xlim(x[0], x[-1])\n",
      "plt.ylim(-24, -8)\n",
      "plt.title(\"Likelihood of responses under fixed models\")\n",
      "fig.set_figwidth(8)\n",
      "fig.set_figheight(6)\n",
      "\n",
      "lat.save(\"images/fixed_model_performance.png\", close=False)\n"
     ],
     "language": "python",
     "outputs": [
      {
       "output_type": "stream",
       "stream": "stdout",
       "text": [
        "Saving figure to images/fixed_model_performance.png...' "
       ]
      },
      {
       "output_type": "stream",
       "stream": "stdout",
       "text": [
        "Done\n"
       ]
      }
     ],
     "prompt_number": 208
    },
    {
     "cell_type": "code",
     "collapsed": false,
     "input": [
      "# plot model performance\n",
      "x0 = np.arange(models.shape[2])\n",
      "height = models[0]\n",
      "err = np.abs(models[[0]] - models[1:])\n",
      "width = 0.7 / n_cond\n",
      "fig = plt.figure(4)\n",
      "plt.clf()\n",
      "\n",
      "for cidx, cond in enumerate(newconds):\n",
      "    color = colors[cidx % len(colors)]\n",
      "    x = x0 + width*(cidx-(n_cond/2.)) + (width/2.)\n",
      "    plt.bar(x, height[cidx], yerr=err[:, cidx], color=color,\n",
      "\t    ecolor='k', align='center', width=width, label=cond_labels[cond])\n",
      "\n",
      "plt.xticks(x0, [\n",
      "    \"Random\", \n",
      "    \"Fixed\\nr=0.1\",\n",
      "    \"Learning\\nr=0.1\",\n",
      "    # \"Fixed\\nr=1.0\", \n",
      "    \"Fixed\\nr=10.0\", \n",
      "    \"Learning\\nr=10.0\"\n",
      "    ])\n",
      "#plt.ylim(int(np.min(height-err))-1, int(np.max(height))+1)\n",
      "plt.ylim(-25, -5)\n",
      "plt.xlim(x0.min()-0.5, x0.max()+0.5)\n",
      "plt.legend(loc=0, ncol=2)\n",
      "plt.xlabel(\"Model\", fontsize=14)\n",
      "plt.ylabel(\"Log likelihood of responses, $\\Pr(J|S,B)$\", fontsize=14)\n",
      "plt.title(\"Likelihood of human and ideal observer judgments\", fontsize=16)\n",
      "\n",
      "fig.set_figwidth(8)\n",
      "fig.set_figheight(6)\n",
      "\n",
      "lat.save(\"images/model_performance.png\", close=False)\n"
     ],
     "language": "python",
     "outputs": [
      {
       "output_type": "stream",
       "stream": "stdout",
       "text": [
        "Saving figure to images/model_performance.png...' "
       ]
      },
      {
       "output_type": "stream",
       "stream": "stdout",
       "text": [
        "Done\n"
       ]
      }
     ],
     "prompt_number": 209
    },
    {
     "cell_type": "code",
     "collapsed": false,
     "input": [
      "thetas = normalize(np.log(np.ones((1, n_trial+1, n_kappas))), axis=2)[1]\n",
      "window = 5\n",
      "nsteps = n_trial / window\n",
      "lh = np.empty((nsteps, len(newconds), 3))\n",
      "x = np.arange(nsteps)\n",
      "for t in xrange(nsteps):\n",
      "    lh[t] = collapse(lat.fixed_model_lh(\n",
      "\tconds, experiment, ipe_samps, thetas, t*window, (t+1)*window, f_smooth))[0]\n"
     ],
     "language": "python",
     "outputs": [],
     "prompt_number": 210
    },
    {
     "cell_type": "code",
     "collapsed": false,
     "input": [
      "fig = plt.figure(5)\n",
      "plt.clf()\n",
      "\n",
      "for cidx, cond in enumerate(newconds):\n",
      "    color = colors[cidx % len(colors)]\n",
      "    if cidx >= len(colors):\n",
      "\tlinestyle = '--'\n",
      "    else:\n",
      "\tlinestyle = '-'\n",
      "    plt.fill_between(x, lh[:, cidx, 1], lh[:, cidx, 2],\n",
      "\t\t     color=color, alpha=alpha)\n",
      "    plt.plot(lh[:, cidx, 0], color=color, label=cond_labels[cond],\n",
      "\t     linestyle=linestyle)\n",
      "\n",
      "\t\n",
      "plt.legend(loc=0, ncol=2)\n",
      "fig.set_figwidth(8)\n",
      "fig.set_figheight(6)\n",
      "plt.xlim(0, nsteps-1)\n",
      "plt.xticks(np.arange(0, nsteps), np.linspace(window, n_trial, nsteps))\n",
      "plt.xlabel(\"Trial\")\n",
      "plt.ylabel(\"Likelihood\")\n",
      "plt.title(\"Likelihood of observer responses, averaged over trial blocks\")\n",
      "plt.ylim(-5.5, -1.5)\n"
     ],
     "language": "python",
     "outputs": [
      {
       "output_type": "pyout",
       "prompt_number": 211,
       "text": [
        "(-5.5, -1.5)"
       ]
      }
     ],
     "prompt_number": 211
    },
    {
     "cell_type": "code",
     "collapsed": false,
     "input": [
      "def calc_correct(kidx, window):\n",
      "\n",
      "    correct = {}\n",
      "    for cidx, cond in enumerate(conds):\n",
      "\torder = np.argsort(zip(*experiment[cond].columns)[0])\n",
      "\n",
      "\ttrue = feedback[:, kidx, 0][order]\n",
      "\tresp = np.asarray(experiment[cond])\n",
      "\n",
      "\tcorrect[cond] = np.mean(np.array(np.split((resp==true).T, n_trial/window)), axis=1).T\n",
      "\n",
      "    CC = collapse(correct)\n",
      "    return CC\n"
     ],
     "language": "python",
     "outputs": [],
     "prompt_number": 212
    },
    {
     "cell_type": "code",
     "collapsed": false,
     "input": [
      "\n",
      "\n",
      "window = 5\n",
      "\n",
      "for i, r in enumerate([['0.1', '1.0', 'nfb'], ['10', '1.0', 'nfb']]):\n",
      "    plt.figure(6+i)\n",
      "    plt.clf()\n",
      "\n",
      "    i = 0\n",
      "    for cidx, cond in enumerate(newconds):\n",
      "\tif cond.split(\"-\")[-1] not in r:\n",
      "\t    continue\n",
      "\tx = np.arange(window, n_trial+1, window)\n",
      "\tCC = calc_correct(list(ratios).index(float(r[0])), window)\n",
      "\tcolor = colors[i % len(colors)]\n",
      "\tif i >= len(colors):\n",
      "\t    linestyle = '--'\n",
      "\telse:\n",
      "\t    linestyle = '-'\n",
      "\tplt.fill_between(x, CC[:, cidx, 1], CC[:, cidx, 2],\n",
      "\t\t\t color=color, alpha=alpha)\n",
      "\tplt.plot(x, CC[:, cidx, 0], color=color, label=cond_labels[cond],\n",
      "\t\t linestyle=linestyle)\n",
      "\ti += 1\n",
      "\n",
      "\t\n",
      "    plt.legend(loc=0, ncol=2)\n",
      "    fig.set_figwidth(8)\n",
      "    fig.set_figheight(6)\n",
      "    plt.xlim(window, n_trial)\n",
      "    plt.xticks(x, x)\n",
      "    plt.xlabel(\"Trial\")\n",
      "    plt.ylabel(r\"$e^{L/n}$\")\n",
      "    plt.title(\"Likelihood of observer responses, averaged over trial blocks\")\n",
      "    #plt.ylim(0.5, 1)\n"
     ],
     "language": "python",
     "outputs": [],
     "prompt_number": 213
    },
    {
     "cell_type": "code",
     "collapsed": false,
     "input": [
      "p_response_mean = np.mean(p_responses, axis=2)\n",
      "p_response_sem = scipy.stats.sem(p_responses, axis=2)\n",
      "\n",
      "x = np.arange(n_trial)\n",
      "upper = p_response_mean + p_response_sem\n",
      "lower = p_response_mean - p_response_sem\n",
      "mean = p_response_mean\n",
      "\n",
      "#clr = ['r', 'b']\n",
      "k = 0 \n",
      "def plot(i, j, label):\n",
      "    global k\n",
      "    plt.fill_between(x, lower[i, j], upper[i, j], color=colors[k], alpha=alpha)\n",
      "    plt.plot(mean[i, j], color=colors[k], label=label)\n",
      "    k += 1\n",
      "\n",
      "plot(0, list(kappas).index(-1.0), \"learning, r=0.1\")\n",
      "plot(1, list(kappas).index(-1.0), \"fixed, r=0.1\")\n",
      "plot(2, 0, \"fixed, uniform\")\n",
      "plot(0, list(kappas).index(1.0), \"learning, r=10\")\n",
      "plot(1, list(kappas).index(1.0), \"fixed, r=10\")\n",
      "\t\n",
      "plt.legend(loc=0)\n",
      "fig = plt.gcf()\n",
      "fig.set_figwidth(8)\n",
      "fig.set_figheight(6)\n",
      "plt.xlim(0, n_trial-1)\n",
      "plt.xlabel(\"Trial\")\n",
      "plt.ylabel(\"Likelihood\")\n",
      "plt.title(\"Likelihood of observer responses, averaged over trial orderings\")\n",
      "plt.ylim(0.45, 0.6)\n",
      "\n",
      "lat.save(\"images/likelihoods_over_time.png\", close=False)\n"
     ],
     "language": "python",
     "outputs": [
      {
       "ename": "NameError",
       "evalue": "name 'p_responses' is not defined",
       "output_type": "pyerr",
       "traceback": [
        "\u001b[0;31m---------------------------------------------------------------------------\u001b[0m\n\u001b[0;31mNameError\u001b[0m                                 Traceback (most recent call last)",
        "\u001b[0;32m<ipython-input-85-085279fc50ca>\u001b[0m in \u001b[0;36m<module>\u001b[0;34m()\u001b[0m\n\u001b[0;32m----> 1\u001b[0;31m \u001b[0mp_response_mean\u001b[0m \u001b[0;34m=\u001b[0m \u001b[0mnp\u001b[0m\u001b[0;34m.\u001b[0m\u001b[0mmean\u001b[0m\u001b[0;34m(\u001b[0m\u001b[0mp_responses\u001b[0m\u001b[0;34m,\u001b[0m \u001b[0maxis\u001b[0m\u001b[0;34m=\u001b[0m\u001b[0;36m2\u001b[0m\u001b[0;34m)\u001b[0m\u001b[0;34m\u001b[0m\u001b[0m\n\u001b[0m\u001b[1;32m      2\u001b[0m \u001b[0mp_response_sem\u001b[0m \u001b[0;34m=\u001b[0m \u001b[0mscipy\u001b[0m\u001b[0;34m.\u001b[0m\u001b[0mstats\u001b[0m\u001b[0;34m.\u001b[0m\u001b[0msem\u001b[0m\u001b[0;34m(\u001b[0m\u001b[0mp_responses\u001b[0m\u001b[0;34m,\u001b[0m \u001b[0maxis\u001b[0m\u001b[0;34m=\u001b[0m\u001b[0;36m2\u001b[0m\u001b[0;34m)\u001b[0m\u001b[0;34m\u001b[0m\u001b[0m\n\u001b[1;32m      3\u001b[0m \u001b[0;34m\u001b[0m\u001b[0m\n\u001b[1;32m      4\u001b[0m \u001b[0mx\u001b[0m \u001b[0;34m=\u001b[0m \u001b[0mnp\u001b[0m\u001b[0;34m.\u001b[0m\u001b[0marange\u001b[0m\u001b[0;34m(\u001b[0m\u001b[0mn_trial\u001b[0m\u001b[0;34m)\u001b[0m\u001b[0;34m\u001b[0m\u001b[0m\n\u001b[1;32m      5\u001b[0m \u001b[0mupper\u001b[0m \u001b[0;34m=\u001b[0m \u001b[0mp_response_mean\u001b[0m \u001b[0;34m+\u001b[0m \u001b[0mp_response_sem\u001b[0m\u001b[0;34m\u001b[0m\u001b[0m\n",
        "\u001b[0;31mNameError\u001b[0m: name 'p_responses' is not defined"
       ]
      }
     ],
     "prompt_number": 85
    },
    {
     "cell_type": "code",
     "collapsed": false,
     "input": [
      "# model_thetas = np.empty((nsamp, n_kappas, n_trial+1, n_kappas))\n",
      "# for i in xrange(model_thetas.shape[0]):\n",
      "#     if i%10 == 0:\n",
      "# \tprint i\n",
      "#     model_lh, model_joint, model_theta = mo.ModelObserver(\n",
      "# \tipe_samps[orders[i]],\n",
      "# \tfeedback[orders[i]][:, None],\n",
      "# \toutcomes=None,\n",
      "# \trespond=False,\n",
      "# \tp_ignore_stimulus=p_ignore_stimulus,\n",
      "# \tsmooth=f_smooth)\n",
      "#     model_thetas[i] = model_theta\n"
     ],
     "language": "python",
     "outputs": [],
     "prompt_number": 60
    },
    {
     "cell_type": "code",
     "collapsed": false,
     "input": [
      "\n",
      "# p_responses = np.empty((3, n_kappas, nsamp, n_trial))\n",
      "# theta_fixed = np.log(np.eye(n_kappas))\n",
      "\n",
      "# theta_uniform = normalize(np.log(np.ones(n_kappas)))[1]\n",
      "# sdata = np.asarray(ipe)\n",
      "\n",
      "# for i in xrange(nsamp):\n",
      "#     if i%10 == 0:\n",
      "# \tprint i\n",
      "#     sd = sdata[ikappa, orders[i]]\n",
      "#     for t in xrange(n_trial):\n",
      "# \t# learning\n",
      "# \tp_outcomes = np.exp(mo.predict(\n",
      "# \t    model_thetas[i, :, t],\n",
      "# \t    outcomes[:, None], \n",
      "# \t    ipe_samps[orders[i]][t],\n",
      "# \t    f_smooth))[:, 1]\n",
      "# \tresp = np.random.rand() < p_outcomes\n",
      "# \tp_responses[0, :, i, t] = (resp * sd[t]) + ((1-resp) * (1-sd[t]))\n",
      "\n",
      "# \t# fixed at true ratio\n",
      "# \tp_outcomes = np.exp(mo.predict(\n",
      "# \t    theta_fixed,\n",
      "# \t    outcomes[:, None], \n",
      "# \t    ipe_samps[orders[i]][t],\n",
      "# \t    f_smooth))[:, 1]\n",
      "# \tresp = np.random.rand() < p_outcomes\n",
      "# \tp_responses[1, :, i, t] = (resp * sd[t]) + ((1-resp) * (1-sd[t]))\n",
      "\n",
      "# \t# fixed at uniform belief\n",
      "# \tp_outcomes = np.exp(mo.predict(\n",
      "# \t    theta_uniform[None],\n",
      "# \t    outcomes[:, None], \n",
      "# \t    ipe_samps[orders[i]][t],\n",
      "# \t    f_smooth))[:, 1]\n",
      "# \tresp = np.random.rand() < p_outcomes\n",
      "# \tp_responses[2, :, i, t] = (resp * sd[t]) + ((1-resp) * (1-sd[t]))\n",
      "\n"
     ],
     "language": "python",
     "outputs": [],
     "prompt_number": 61
    },
    {
     "cell_type": "code",
     "collapsed": false,
     "input": [],
     "language": "python",
     "outputs": []
    }
   ]
  }
 ]
}