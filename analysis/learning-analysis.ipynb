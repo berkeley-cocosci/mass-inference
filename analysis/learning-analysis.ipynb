{
 "metadata": {
  "name": "learning-analysis"
 },
 "nbformat": 3,
 "nbformat_minor": 0,
 "worksheets": [
  {
   "cells": [
    {
     "cell_type": "code",
     "collapsed": false,
     "input": [
      "# imports\n",
      "import collections\n",
      "import matplotlib.cm as cm\n",
      "import matplotlib.gridspec as gridspec\n",
      "import numpy as np\n",
      "import pandas as pd\n",
      "import pdb\n",
      "import pickle\n",
      "import scipy.stats\n",
      "import os\n",
      "import time\n",
      "\n",
      "import cogphysics\n",
      "import cogphysics.lib.circ as circ\n",
      "import cogphysics.lib.nplib as npl\n",
      "import cogphysics.lib.rvs as rvs\n",
      "\n",
      "import cogphysics.tower.analysis_tools as tat\n",
      "import cogphysics.tower.mass.model_observer as mo\n",
      "import cogphysics.tower.mass.learning_analysis_tools as lat\n",
      "\n",
      "from cogphysics.lib.corr import xcorr, partialcorr\n",
      "\n",
      "normalize = rvs.util.normalize\n",
      "weightedSample = rvs.util.weightedSample\n",
      "\n",
      "pd.set_option('line_width', 195)\n",
      "LINE = \"-\"*195\n"
     ],
     "language": "python",
     "outputs": [],
     "prompt_number": 1
    },
    {
     "cell_type": "code",
     "collapsed": false,
     "input": [
      "######################################################################\n",
      "## Load data\n",
      "######################################################################\n",
      "\n",
      "reload(lat)\n",
      "\n",
      "# human\n",
      "training, posttest, experiment, queries = lat.load_turk(thresh=1)\n",
      "hconds = sorted(experiment.keys())\n",
      "for cond in hconds:\n",
      "    print \"%s: n=%d\" % (cond, experiment[cond].shape[0])\n",
      "\n",
      "# stims\n",
      "Stims = np.array([\n",
      "    x.split(\"~\")[0] for x in zip(*experiment[experiment.keys()[0]].columns)[1]])\n",
      "\n",
      "# model\n",
      "nthresh0 = 0\n",
      "nthresh = 0.4\n",
      "rawipe, ipe_samps, rawtruth, feedback, kappas = lat.process_model_turk(\n",
      "    Stims, nthresh0, nthresh)\n",
      "nofeedback = np.empty(feedback.shape[1])*np.nan\n"
     ],
     "language": "python",
     "outputs": [
      {
       "output_type": "stream",
       "stream": "stdout",
       "text": [
        "Failed posttest (32): ['042', '047', '051', '052', '058', '066', '069', '075', '085', '095', '109', '115', '121', '131', '143', '214', '226', '245', '252', '265', '295', '305', '306', '317', '332', '376', '381', '387', '411', '419', '420', '456']\n",
        "Ineligible pids (36): ['018', '034', '035', '040', '044', '067', '103', '118', '140', '142', '157', '159', '161', '168', '221', '242', '255', '285', '294', '305', '306', '317', '329', '335', '345', '389', '405', '439', '449', '456', '457', '458', '460', '462', '463', '465']\n",
        "H-C-fb-0.1: n=25"
       ]
      },
      {
       "output_type": "stream",
       "stream": "stdout",
       "text": [
        "\n",
        "H-C-fb-10: n=21\n",
        "H-C-nfb-10: n=21\n",
        "H-C-vfb-0.1: n=23\n",
        "H-C-vfb-10: n=23\n",
        "H-E-fb-0.1: n=36\n",
        "H-E-fb-10: n=37\n",
        "H-E-nfb-10: n=26\n",
        "H-E-vfb-0.1: n=37\n",
        "H-E-vfb-10: n=27\n"
       ]
      }
     ],
     "prompt_number": 2
    },
    {
     "cell_type": "code",
     "collapsed": false,
     "input": [
      "######################################################################\n",
      "## Global parameters\n",
      "######################################################################\n",
      "\n",
      "n_kappas = len(kappas)\n",
      "kappas = np.array(kappas)\n",
      "ratios = 10 ** kappas\n",
      "ratios[kappas < 0] = np.round(ratios[kappas < 0], decimals=2)\n",
      "ratios[kappas >= 0] = np.round(ratios[kappas >= 0], decimals=1)\n",
      "ratios = list(ratios)\n",
      "kappas = list(kappas)\n",
      "\n",
      "n_trial      = Stims.size\n",
      "n_fake_data  = 2000\n",
      "\n",
      "f_smooth = True\n",
      "p_ignore = 0.0\n",
      "\n",
      "cmap = lat.make_cmap(\"lh\", (0, 0, 0), (.5, .5, .5), (1, 0, 0))\n",
      "alpha = 0.2\n",
      "#colors = ['r', '#AAAA00', 'g', 'c', 'b', 'm']\n",
      "colors = [\"r\", \"c\", \"k\"]\n",
      "#colors = cm.hsv(np.round(np.linspace(0, 220, n_cond)).astype('i8'))\n",
      "\n",
      "plot_ratios = [0.1, 0.2, 0.5, 1.0, 2.0, 5.0, 10.0]\n",
      "plot_ticks = [ratios.index(r) for r in plot_ratios]\n"
     ],
     "language": "python",
     "outputs": [],
     "prompt_number": 3
    },
    {
     "cell_type": "code",
     "collapsed": false,
     "input": [
      "######################################################################\n",
      "## Generate fake human data\n",
      "######################################################################\n",
      "\n",
      "reload(mo)\n",
      "model_belief = {}\n",
      "for cond in hconds:\n",
      "\n",
      "    obstype, group, fbtype, ratio, cb = lat.parse_condition(cond)\n",
      "    if obstype == \"M\" or fbtype == \"vfb\":\n",
      "\tcontinue\n",
      "\n",
      "    cols = experiment[cond].columns\n",
      "    order = np.argsort(zip(*cols)[0])\n",
      "    undo_order = np.argsort(order)\n",
      "    #nfake = experiment[cond].shape[0]\n",
      "    nfake = n_fake_data\n",
      "\n",
      "    # determine what feedback to give\n",
      "    if fbtype == 'nfb':\n",
      "\tfb = np.empty((3, n_trial))*np.nan\n",
      "\tprior = np.zeros((3, n_kappas,))\n",
      "\tprior[0, :] = 1 # uniform\n",
      "\tprior[1, kappas.index(-1.0)] = 1 # r=0.1\n",
      "\tprior[2, kappas.index(1.0)] = 1 # r=10\n",
      "\tprior = normalize(np.log(prior), axis=1)[1]\n",
      "\t# prior = None\n",
      "    else:\n",
      "\tridx = ratios.index(float(ratio))\n",
      "\tfb = feedback[:, order][ridx]\n",
      "\tprior = None\n",
      "\n",
      "    responses, model_theta = mo.simulateResponses(\n",
      "\tnfake, fb, ipe_samps[order], kappas, \n",
      "\tprior=prior, p_ignore=p_ignore, smooth=f_smooth)\n",
      "\n",
      "    if fbtype == \"nfb\":\n",
      "\tnewcond = \"M-%s-%s-0\" % (group, fbtype)\n",
      "\texperiment[newcond] = pd.DataFrame(\n",
      "\t    responses[:, 0][:, undo_order], \n",
      "\t    columns=cols)\n",
      "\tmodel_belief[newcond] = model_theta[0]\n",
      "\t\n",
      "\tnewcond = \"M-%s-%s-0.1\" % (group, fbtype)\n",
      "\texperiment[newcond] = pd.DataFrame(\n",
      "\t    responses[:, 1][:, undo_order], \n",
      "\t    columns=cols)\n",
      "\tmodel_belief[newcond] = model_theta[1]\n",
      "\n",
      "\tnewcond = \"M-%s-%s-10\" % (group, fbtype)\n",
      "\texperiment[newcond] = pd.DataFrame(\n",
      "\t    responses[:, 2][:, undo_order], \n",
      "\t    columns=cols)\n",
      "\tmodel_belief[newcond] = model_theta[2]\n",
      "\n",
      "\n",
      "    else:\n",
      "\tnewcond = \"M-%s-%s-%s\" % (group, fbtype, ratio)\n",
      "\texperiment[newcond] = pd.DataFrame(\n",
      "\t    responses[:, undo_order], \n",
      "\t    columns=cols)\n",
      "\tmodel_belief[newcond] = model_theta\n",
      "\n",
      "    # explicit judgments\n",
      "    if fbtype == \"fb\":\n",
      "\tcols = queries[cond].columns\n",
      "\tidx = np.array(cols)-6-np.arange(len(cols))-1\n",
      "\ttheta = np.exp(model_theta[idx])\n",
      "\tif float(ratio) > 1:\n",
      "\t    pcorrect = np.sum(theta[:, ratios.index(1.0)+1:], axis=1)\n",
      "\t    other = 0.1\n",
      "\telse:\n",
      "\t    pcorrect = np.sum(theta[:, :ratios.index(1.0)], axis=1)\n",
      "\t    other = 10\n",
      "\tr = np.random.rand(nfake, 1) < pcorrect[None]\n",
      "\tresponses = np.empty(r.shape)\n",
      "\tresponses[r] = float(ratio)\n",
      "\tresponses[~r] = other\n",
      "\tqueries[newcond] = pd.DataFrame(\n",
      "\t    responses, columns=cols)\n",
      "\t# print newcond, pcorrect\n",
      "\t\n"
     ],
     "language": "python",
     "outputs": [],
     "prompt_number": 4
    },
    {
     "cell_type": "code",
     "collapsed": false,
     "input": [
      "######################################################################\n",
      "## Conditions\n",
      "######################################################################\n",
      "\n",
      "groups = [\"C\", \"E\", \"all\"]\n",
      "\n",
      "cond_labels = dict([\n",
      "    (key % group, value % {'group': group}) \n",
      "    for group in groups\n",
      "    for key, value in {\n",
      "\t    'H-%s-nfb-10': 'No feedback condition',\n",
      "\t    'H-%s-vfb-0.1': 'Video $r_0=0.1$ feedback condition',\n",
      "\t    'H-%s-vfb-10': 'Video $r_0=10$ feedback condition',\n",
      "\t    'H-%s-fb-0.1': 'Text $r_0=0.1$ feedback condition',\n",
      "\t    'H-%s-fb-10': 'Text $r_0=10$ feedback condition',\n",
      "\t    \n",
      "\t    'M-%s-nfb-0': 'Ideal observer w/ fixed uniform belief',\n",
      "\t    'M-%s-nfb-0.1': 'Ideal observer w/ fixed belief that $r_0=0.1$',\n",
      "\t    #'M-%s-nfb-1': 'Ideal observer w/ fixed belief that $r_0=1.0$',\n",
      "\t    'M-%s-nfb-10': 'Ideal observer w/ fixed belief that $r_0=10$',\n",
      "\t    'M-%s-fb-0.1': 'Ideal observer w/ text feedback',\n",
      "\t    'M-%s-fb-10': 'Ideal observer w/ text feedback',\n",
      "\t    }.items()])\n",
      "\n",
      "conds = [cond % group \n",
      "\t for group in groups \n",
      "\t for cond in [\n",
      "\t\t 'H-%s-fb-0.1',\n",
      "\t\t 'H-%s-vfb-0.1',\n",
      "\t\t 'M-%s-fb-0.1',\n",
      "\t\t \n",
      "\t\t 'H-%s-fb-10',\n",
      "\t\t 'H-%s-vfb-10',\n",
      "\t\t 'M-%s-fb-10',\n",
      "\n",
      "\t\t 'H-%s-nfb-10',\n",
      "\t\t 'M-%s-nfb-0',\n",
      "\t\t 'M-%s-nfb-0.1',\n",
      "\t\t #'M-%s-nfb-1',\n",
      "\t\t 'M-%s-nfb-10',\n",
      "\t\t ]]\n",
      "n_cond = len(conds)\n",
      "\n",
      "    "
     ],
     "language": "python",
     "outputs": [],
     "prompt_number": 5
    },
    {
     "cell_type": "code",
     "collapsed": false,
     "input": [
      "######################################################################\n",
      "## Compute likelihoods under various models\n",
      "######################################################################\n",
      "\n",
      "reload(lat)\n",
      "\n",
      "ir1 = list(kappas).index(0.0)\n",
      "ir10 = list(kappas).index(1.0)\n",
      "ir01 = list(kappas).index(-1.0)\n",
      "\n",
      "# random model\n",
      "model_random = lat.CI(lat.random_model_lh(experiment, n_trial), conds)\n",
      "\n",
      "# fixed models\n",
      "theta = np.log(np.eye(n_kappas))\n",
      "fb = np.empty((n_kappas, n_trial))*np.nan\n",
      "model_fixed = lat.CI(lat.block_lh(\n",
      "    experiment, fb, ipe_samps, theta, kappas, \n",
      "    f_smooth=f_smooth, p_ignore=p_ignore), conds)\n",
      "# model_true01 = dict([(cond, model_fixed[cond][ir01]) for cond in model_fixed])\n",
      "model_true1 = dict([(cond, model_fixed[cond][ir1]) for cond in model_fixed])\n",
      "# model_true10 = dict([(cond, model_fixed[cond][ir10]) for cond in model_fixed])\n",
      "model_true = {}\n",
      "for cond in model_fixed:\n",
      "    obstype, group, fbtype, ratio, cb = lat.parse_condition(cond)\n",
      "    if ratio != \"0\":\n",
      "\tmodel_true[cond] = model_fixed[cond][ratios.index(float(ratio))]\n",
      "model_uniform = lat.CI(lat.block_lh(\n",
      "    experiment, nofeedback, ipe_samps, None, kappas,\n",
      "    f_smooth=f_smooth, p_ignore=p_ignore), conds)\n",
      "\t\n",
      "# learning models\n",
      "model_not_fixed = lat.CI(lat.block_lh(\n",
      "    experiment, feedback, ipe_samps, None, kappas, \n",
      "    f_smooth=f_smooth, p_ignore=p_ignore), conds)\n",
      "model_learn = {}\n",
      "for cond in model_not_fixed:\n",
      "    obstype, group, fbtype, ratio, cb = lat.parse_condition(cond)\n",
      "    if ratio != \"0\":\n",
      "\tmodel_learn[cond] = model_not_fixed[cond][ratios.index(float(ratio))]\n",
      "\n",
      "# model_learn01 = dict([(cond, model_learn[cond][0]) for cond in model_fixed])\n",
      "# model_learn10 = dict([(cond, model_learn[cond][1]) for cond in model_fixed])\n",
      "\n",
      "# all the models\n",
      "mnames = np.array([\n",
      "\t\"Random\",\n",
      "\t# \"fixed 0.1\",\n",
      "\t# \"learning 0.1\",\n",
      "\t# \"fixed 10\",\n",
      "\t# \"learning 10\",\n",
      "\t\"Uniform\",\n",
      "\t\"Equal\",\n",
      "\t\"Correct\",\n",
      "\t\"Learning\",\n",
      "\t# \"fixed uniform\",\n",
      "\t# \"fixed r=1\",\n",
      "\t])\n",
      "mparams = np.array([0, 1, 2, 1, 2, 1, 1])\n",
      "models = [\n",
      "    model_random,\n",
      "    # model_true01,\n",
      "    # model_learn01,\n",
      "    # model_true10,\n",
      "    # model_learn10,\n",
      "    model_uniform,\n",
      "    model_true1,\n",
      "    model_true,\n",
      "    model_learn,\n",
      "    ]\n"
     ],
     "language": "python",
     "outputs": [],
     "prompt_number": 6
    },
    {
     "cell_type": "code",
     "collapsed": false,
     "input": [
      "######################################################################\n",
      "## Plot explicit judgments\n",
      "######################################################################\n",
      "\n",
      "reload(lat)\n",
      "\n",
      "emjs = {}\n",
      "for cond in conds:\n",
      "    if cond not in queries:\n",
      "\tcontinue\n",
      "    obstype, group, fbtype, ratio, cb = lat.parse_condition(cond)\n",
      "    emjs[cond] = np.asarray(queries[cond]) == float(ratio)\n",
      "    index = np.array(queries[cond].columns, dtype='i8')\n",
      "    X = np.array(index)-6-np.arange(len(index))-1\n",
      "emj_stats = lat.CI(emjs, conds)\n",
      "\n",
      "for i, group in enumerate(groups):\n",
      "\n",
      "    fig = plt.figure(10+i)\n",
      "    plt.clf()\n",
      "    idx = 0\n",
      "\n",
      "    for cidx, cond in enumerate(conds):\n",
      "\tif cond not in emj_stats:\n",
      "\t    continue\n",
      "\tobstype, grp, fbtype, ratio, cb = lat.parse_condition(cond)\n",
      "\tif (grp != group):# or obstype == \"M\":\n",
      "\t    continue\n",
      "\tmean, lower, upper, sums, n = emj_stats[cond].T\n",
      "\tsem = np.array([np.abs(mean - lower), np.abs(mean-upper)]).T\n",
      "\n",
      "\t# color = colors[(idx/3) % len(colors)]\n",
      "\t# if obstype == \"M\":\n",
      "\t#     linestyle = '-'\n",
      "\t# elif fbtype == \"fb\":\n",
      "\t#     linestyle = ':'\n",
      "\t# elif fbtype in (\"vfb\", \"nfb\"):\n",
      "\t#     linestyle = '--'\n",
      "\n",
      "\t# if fbtype == \"nfb\":\n",
      "\t#     plt.subplot(1, 3, 3)\n",
      "\tif ratio == \"10\":\n",
      "\t    r10ax = plt.subplot(1, 2, 2)\n",
      "\t    r10title = \"$r_0=10$\"\n",
      "\telif ratio == \"0.1\":\n",
      "\t    r01ax = plt.subplot(1, 2, 1)\n",
      "\t    r01title = \"$r_0=0.1$\"\n",
      "\n",
      "\tif obstype == \"M\":\n",
      "\t    linestyle = \"-\"\n",
      "\telif fbtype == \"fb\":\n",
      "\t    linestyle = \":\"\n",
      "\telif fbtype == \"vfb\":\n",
      "\t    linestyle = \"--\"\n",
      "\n",
      "\tcolor = 'k'\n",
      "\n",
      "\t# label = \"%s %s r=%s (n=%d)\" % (\n",
      "\t#     obstype, fbtype, ratio, n[0])\n",
      "\t# plt.errorbar(X, mean, yerr=sem, label=label, \n",
      "\t# \t     linewidth=2, color=color, linestyle=linestyle)\n",
      "\tplt.fill_between(X, lower, upper, color=color, alpha=0.2)\n",
      "\tplt.plot(X, mean, label=cond_labels[cond], \n",
      "\t\t linewidth=4, color=color, linestyle=linestyle)\n",
      "\n",
      "\tidx += 1\n",
      "\n",
      "    # arr = np.concatenate(allarr, axis=0)\n",
      "    # lat.plot_explicit_judgments(idx, arr)\n",
      "\n",
      "    for ax, title in (r10ax, r10title), (r01ax, r01title):\n",
      "\tax.set_xlim(X.min(), X.max())\n",
      "\tax.set_ylim(0.3, 1.0)\n",
      "\tax.set_xticks(X)\n",
      "\tax.set_xticklabels(X)\n",
      "\tax.set_xlabel(\"Trial\")\n",
      "\tif ax == r01ax:\n",
      "\t    ax.set_ylabel(\"Proportion correct\")\n",
      "\telse:\n",
      "\t    ax.set_yticklabels([])\n",
      "\tax.legend(loc=4, fontsize=11)\n",
      "\tax.set_title(title)\n",
      "\n",
      "    title = \"Proportion of correct \\\"Which color is heavier?\\\" judgments\"\n",
      "    if group != \"all\":\n",
      "\ttitle += \" (%s)\" % group\n",
      "    plt.suptitle(title, fontsize=16)\n",
      "    fig = plt.gcf()\n",
      "    fig.set_figwidth(11)\n",
      "    fig.set_figheight(4)\n",
      "    plt.subplots_adjust(top=0.84, wspace=0.1, left=0.07, right=0.95)\n",
      "\n",
      "    if p_ignore > 0:\n",
      "\tlat.save(\"images/explicit_mass_judgments_%s_ignore\" % group, close=True, ext=['png', 'pdf', 'svg'])\n",
      "    else:\n",
      "\tlat.save(\"images/explicit_mass_judgments_%s\" % group, close=True, ext=['png', 'pdf', 'svg'])\n",
      "\t    "
     ],
     "language": "python",
     "outputs": [
      {
       "output_type": "stream",
       "stream": "stdout",
       "text": [
        "Saving figure to images/explicit_mass_judgments_C.png...' "
       ]
      },
      {
       "output_type": "stream",
       "stream": "stdout",
       "text": [
        "Done\n",
        "Saving figure to images/explicit_mass_judgments_C.pdf...' "
       ]
      },
      {
       "output_type": "stream",
       "stream": "stdout",
       "text": [
        "Done\n",
        "Saving figure to images/explicit_mass_judgments_C.svg...' "
       ]
      },
      {
       "output_type": "stream",
       "stream": "stdout",
       "text": [
        "Done\n",
        "Saving figure to images/explicit_mass_judgments_E.png...'"
       ]
      },
      {
       "output_type": "stream",
       "stream": "stdout",
       "text": [
        " Done\n",
        "Saving figure to images/explicit_mass_judgments_E.pdf...' "
       ]
      },
      {
       "output_type": "stream",
       "stream": "stdout",
       "text": [
        "Done\n",
        "Saving figure to images/explicit_mass_judgments_E.svg...' "
       ]
      },
      {
       "output_type": "stream",
       "stream": "stdout",
       "text": [
        "Done\n",
        "Saving figure to images/explicit_mass_judgments_all.png...'"
       ]
      },
      {
       "output_type": "stream",
       "stream": "stdout",
       "text": [
        " Done\n",
        "Saving figure to images/explicit_mass_judgments_all.pdf...' "
       ]
      },
      {
       "output_type": "stream",
       "stream": "stdout",
       "text": [
        "Done\n",
        "Saving figure to images/explicit_mass_judgments_all.svg...' "
       ]
      },
      {
       "output_type": "stream",
       "stream": "stdout",
       "text": [
        "Done\n"
       ]
      }
     ],
     "prompt_number": 7
    },
    {
     "cell_type": "code",
     "collapsed": false,
     "input": [
      "######################################################################\n",
      "## Binomial analysis of explicit judgments\n",
      "######################################################################\n",
      "\n",
      "reload(lat)\n",
      "for i, group in enumerate(groups):\n",
      "    allarr = []\n",
      "\n",
      "    for cidx, cond in enumerate(conds):\n",
      "\tif cond not in emj_stats:\n",
      "\t    continue\n",
      "\tobstype, grp, fbtype, ratio, cb = lat.parse_condition(cond)\n",
      "\tif (grp != group):\n",
      "\t    continue\n",
      "\tmean, lower, upper, sums, n = emj_stats[cond].T\n",
      "\n",
      "\t# arr = np.asarray(queries[cond]) == float(ratio)\n",
      "\tbinom = [scipy.stats.binom_test(x, n[0], 0.5) for x in sums]\n",
      "\n",
      "        print cond\n",
      "        print \"  \", np.round(binom, decimals=3)\n",
      "\n",
      "    # arr = np.concatenate(allarr, axis=0)\n",
      "    # binom = [scipy.stats.binom_test(x, arr.shape[0], 0.5) \n",
      "    # \t     for x in np.sum(arr, axis=0)]\n",
      "    # print \"All %s\" % group\n",
      "    # print \"  \", np.round(binom, decimals=3)\n",
      "    "
     ],
     "language": "python",
     "outputs": [
      {
       "output_type": "stream",
       "stream": "stdout",
       "text": [
        "H-C-fb-0.1\n",
        "   [ 0.69   0.23   0.424  0.69   0.845  0.69   0.23   0.424]\n",
        "H-C-vfb-0.1\n",
        "   [ 0.011  0.21   0.405  0.093  0.011  0.011  0.     0.   ]\n",
        "M-C-fb-0.1\n",
        "   [ 0.  0.  0.  0.  0.  0.  0.  0.]\n",
        "H-C-fb-10\n",
        "   [ 0.189  0.189  0.383  0.189  0.007  0.001  0.001  0.001]\n",
        "H-C-vfb-10\n",
        "   [ 0.035  0.035  0.035  0.035  0.003  0.     0.     0.   ]\n",
        "M-C-fb-10\n",
        "   [ 0.159  0.     0.     0.     0.     0.     0.     0.   ]\n",
        "H-E-fb-0.1"
       ]
      },
      {
       "output_type": "stream",
       "stream": "stdout",
       "text": [
        "\n",
        "   [ 0.243  0.243  0.132  0.004  0.     0.     0.     0.   ]\n",
        "H-E-vfb-0.1\n",
        "   [ 0.     0.047  0.     0.     0.     0.003  0.     0.   ]\n",
        "M-E-fb-0.1\n",
        "   [ 0.  0.  0.  0.  0.  0.  0.  0.]\n",
        "H-E-fb-10\n",
        "   [ 0.     0.     0.     0.001  0.     0.     0.     0.   ]\n",
        "H-E-vfb-10\n",
        "   [ 0.  0.  0.  0.  0.  0.  0.  0.]\n",
        "M-E-fb-10\n",
        "   [ 0.  0.  0.  0.  0.  0.  0.  0.]\n",
        "H-all-fb-0.1\n",
        "   [ 0.609  0.899  0.609  0.072  0.001  0.001  0.     0.   ]\n",
        "H-all-vfb-0.1\n",
        "   [ 0.     0.013  0.     0.     0.     0.     0.     0.   ]\n",
        "M-all-fb-0.1"
       ]
      },
      {
       "output_type": "stream",
       "stream": "stdout",
       "text": [
        "\n",
        "   [ 0.  0.  0.  0.  0.  0.  0.  0.]\n",
        "H-all-fb-10\n",
        "   [ 0.  0.  0.  0.  0.  0.  0.  0.]\n",
        "H-all-vfb-10\n",
        "   [ 0.  0.  0.  0.  0.  0.  0.  0.]\n",
        "M-all-fb-10\n",
        "   [ 0.  0.  0.  0.  0.  0.  0.  0.]\n"
       ]
      }
     ],
     "prompt_number": 8
    },
    {
     "cell_type": "code",
     "collapsed": false,
     "input": [
      "######################################################################\n",
      "## Chi-square analysis of explicit judgments\n",
      "######################################################################\n",
      "\n",
      "for i, group in enumerate(groups):\n",
      "    allarr = []\n",
      "\n",
      "    for cond in conds:\n",
      "\tif cond not in queries:\n",
      "\t    continue\n",
      "\tobstype, grp, fbtype, ratio, cb = lat.parse_condition(cond)\n",
      "\tif grp != group or obstype == \"M\":\n",
      "\t    continue\n",
      "\tprint cond\n",
      "\n",
      "\tarr = np.asarray(queries[cond]) == float(ratio)\n",
      "\tallarr.append(arr)\n",
      "\n",
      "    if allarr == []:\n",
      "\tcontinue\n",
      "\n",
      "    arr = np.concatenate(allarr, axis=0)\n",
      "    df = pd.DataFrame(\n",
      "\tnp.array([np.sum(1-arr, axis=0), np.sum(arr, axis=0)]).T,\n",
      "\tindex=X,\n",
      "\tcolumns=[\"incorrect\", \"correct\"])\n",
      "    print group\n",
      "    print df\n",
      "\n",
      "    chi2, p, dof, ex = scipy.stats.chi2_contingency(df)\n",
      "    print (chi2, p)\n",
      "    print\n"
     ],
     "language": "python",
     "outputs": [
      {
       "output_type": "stream",
       "stream": "stdout",
       "text": [
        "H-C-fb-0.1\n",
        "H-C-vfb-0.1\n",
        "H-C-fb-10\n",
        "H-C-vfb-10\n",
        "C\n",
        "    incorrect  correct\n",
        "1          32       60\n",
        "2          37       55\n",
        "3          38       54\n",
        "5          34       58\n",
        "8          25       67\n",
        "14         19       73\n",
        "24         13       79\n",
        "40         13       79\n",
        "(39.964251861882197, 1.2787767147533055e-06)\n",
        "\n",
        "H-E-fb-0.1\n",
        "H-E-vfb-0.1\n",
        "H-E-fb-10\n",
        "H-E-vfb-10\n",
        "E\n",
        "    incorrect  correct\n",
        "1          30      107\n",
        "2          31      106\n",
        "3          23      114\n",
        "5          25      112\n",
        "8          15      122\n",
        "14         20      117\n",
        "24         15      122\n",
        "40         13      124\n",
        "(18.536997885835095, 0.0097683781422883836)\n",
        "\n"
       ]
      }
     ],
     "prompt_number": 9
    },
    {
     "cell_type": "code",
     "collapsed": false,
     "input": [
      "######################################################################\n",
      "## Plot smoothed likelihoods\n",
      "######################################################################\n",
      "\n",
      "reload(lat)\n",
      "fig = plt.figure(1)\n",
      "plt.clf()\n",
      "istim = [\n",
      "    #list(Stims).index(\"mass-tower_00035_0110101001\"),\n",
      "    #list(Stims).index(\"mass-tower_00352_0010011011\"),\n",
      "    list(Stims).index(\"mass-tower_00357_0111011000\"),\n",
      "    list(Stims).index(\"mass-tower_00388_0011101001\")\n",
      "    ]\n",
      "    \n",
      "print Stims[istim]\n",
      "lat.plot_smoothing(ipe_samps, Stims, istim, kappas)\n",
      "plt.xticks([kappas[x] for x in plot_ticks], plot_ratios)\n",
      "fig.set_figwidth(8)\n",
      "fig.set_figheight(6)\n",
      "\n",
      "lat.save(\"images/likelihood_smoothing\", close=True, ext=['png', 'pdf', 'svg'])\n"
     ],
     "language": "python",
     "outputs": [
      {
       "output_type": "stream",
       "stream": "stdout",
       "text": [
        "['mass-tower_00357_0111011000' 'mass-tower_00388_0011101001']\n",
        "Saving figure to images/likelihood_smoothing.png...'"
       ]
      },
      {
       "output_type": "stream",
       "stream": "stdout",
       "text": [
        " Done\n",
        "Saving figure to images/likelihood_smoothing.pdf...' "
       ]
      },
      {
       "output_type": "stream",
       "stream": "stdout",
       "text": [
        "Done\n",
        "Saving figure to images/likelihood_smoothing.svg...' "
       ]
      },
      {
       "output_type": "stream",
       "stream": "stdout",
       "text": [
        "Done\n"
       ]
      }
     ],
     "prompt_number": 10
    },
    {
     "cell_type": "code",
     "collapsed": false,
     "input": [
      "######################################################################\n",
      "## Plot ideal learning observer beliefs\n",
      "######################################################################\n",
      "\n",
      "reload(lat)\n",
      "beliefs = {}\n",
      "for cond in conds:\n",
      "    if cond not in model_belief:\n",
      "\tcontinue\n",
      "    obstype, group, fbtype, ratio, cb = lat.parse_condition(cond)\n",
      "    if obstype == \"M\" and fbtype not in (\"vfb\", \"nfb\"):\n",
      "\tbeliefs[cond] = model_belief[cond]\n",
      "\n",
      "lat.plot_belief(2, 2, 2, beliefs, kappas, cmap, cond_labels)\n",
      "lat.save(\"images/ideal_observer_beliefs\", close=True, ext=['png', 'pdf', 'svg'])\n"
     ],
     "language": "python",
     "outputs": [
      {
       "output_type": "stream",
       "stream": "stdout",
       "text": [
        "Saving figure to images/ideal_observer_beliefs.png...' "
       ]
      },
      {
       "output_type": "stream",
       "stream": "stdout",
       "text": [
        "Done\n",
        "Saving figure to images/ideal_observer_beliefs.pdf...' "
       ]
      },
      {
       "output_type": "stream",
       "stream": "stdout",
       "text": [
        "Done\n",
        "Saving figure to images/ideal_observer_beliefs.svg...' "
       ]
      },
      {
       "output_type": "stream",
       "stream": "stdout",
       "text": [
        "Done\n"
       ]
      }
     ],
     "prompt_number": 11
    },
    {
     "cell_type": "code",
     "collapsed": false,
     "input": [
      "######################################################################\n",
      "## Plot likelihoods under fixed models\n",
      "######################################################################\n",
      "\n",
      "reload(lat)\n",
      "\n",
      "for i, group in enumerate(groups):\n",
      "    idx = 0\n",
      "    fig = plt.figure(30+i)\n",
      "    plt.clf()\n",
      "\n",
      "    for cidx, cond in enumerate(conds):\n",
      "\tobstype, grp, fbtype, ratio, cb = lat.parse_condition(cond)\n",
      "\t\n",
      "\tif grp != group:\n",
      "\t    continue\n",
      "\tif obstype == \"M\" and fbtype == \"fb\":\n",
      "\t    continue\n",
      "\n",
      "\tif obstype == \"H\" and fbtype == \"nfb\":\n",
      "\t    nfbax = plt.subplot(1, 3, 3)\n",
      "\t    nfbtitle = \"No feedback\"\n",
      "\telif ratio == \"10\":\n",
      "\t    r10ax = plt.subplot(1, 3, 2)\n",
      "\t    r10title = \"Feedback generated w/ $r_0=10$\"\n",
      "\telif ratio == \"0.1\":\n",
      "\t    r01ax = plt.subplot(1, 3, 1)\n",
      "\t    r01title = \"Feedback generated w/ $r_0=0.1$\"\n",
      "\telse:\n",
      "\t    nfbax = plt.subplot(1, 3, 3)\n",
      "\t    nfbtitle = \"No feedback\"\n",
      "\n",
      "\tif obstype == \"M\":\n",
      "\t    linestyle = \"-\"\n",
      "\telif fbtype == \"fb\":\n",
      "\t    linestyle = \":\"\n",
      "\telif fbtype == \"vfb\":\n",
      "\t    linestyle = \"--\"\n",
      "\telif fbtype == \"nfb\":\n",
      "\t    linestyle = \":\"\n",
      "\n",
      "\t# color = 'k'\n",
      "\t# color = colors[(idx/3) % len(colors)]\n",
      "\t# if obstype == \"M\":\n",
      "\t#     linestyle = '-'\n",
      "\t# elif fbtype == \"fb\":\n",
      "\t#     linestyle = ':'\n",
      "\t# else:\n",
      "\t#     linestyle = '--'\n",
      "\t# if obstype == \"M\" and fbtype == \"nfb\" and ratio == \"0\":\n",
      "\t#     color = \"#996600\"\n",
      "\t# else:\n",
      "\tcolor = 'k'\n",
      "\t    \n",
      "\tmean, lower, upper, sums, n = model_fixed[cond].T\n",
      "\t# mean = np.exp(mean)\n",
      "\t# lower = np.exp(lower)\n",
      "\t# upper = np.exp(upper)\n",
      "\tplt.fill_between(kappas, lower, upper, color=color, alpha=0.2)\n",
      "\tplt.plot(kappas, mean, label=cond_labels[cond], color=color, linewidth=4,\n",
      "\t\t linestyle=linestyle)\n",
      "\t# plt.plot(x, sums[cidx], label=cond_labels[cond], color=color, linewidth=2,\n",
      "\t# \t     linestyle=linestyle)\n",
      "\n",
      "\tidx += 1\n",
      "\n",
      "    for ax, title in [(nfbax, nfbtitle), (r10ax, r10title), (r01ax, r01title)]:\n",
      "\tfor k in (-1.0, 0.0, 1.0):\n",
      "\t    ax.plot([k]*2, [-40, -22], 'k', linestyle=':', alpha=1)\n",
      "\n",
      "\tax.set_xticks([kappas[x] for x in plot_ticks])\n",
      "\tax.set_xticklabels(plot_ratios, rotation=30)\n",
      "\tax.set_xlabel(\"Assumed mass ratio ($r$)\")\n",
      "\tax.set_xlim(min(kappas), max(kappas))\n",
      "\tax.set_ylim(-40, -22)\n",
      "\tif ax == r01ax:\n",
      "\t    ax.set_ylabel(\"Log likelihood of judgments\")\n",
      "\telse:\n",
      "\t    ax.set_yticklabels([])\n",
      "\tax.legend(loc=4, ncol=1, fontsize=12)\n",
      "\tax.set_title(title)\n",
      "\n",
      "    title = \"Likelihood of \\\"Will it fall?\\\" judgments under fixed belief models\"\n",
      "    if group != \"all\":\n",
      "\ttitle += \" (%s)\" % group\n",
      "    plt.suptitle(title , fontsize=20)\n",
      "    fig.set_figwidth(16)\n",
      "    fig.set_figheight(6)\n",
      "\n",
      "    plt.subplots_adjust(bottom=0.2, top=0.85, wspace=0.1, left=0.07, right=0.95)\n",
      "\t\n",
      "    if p_ignore > 0:\n",
      "\tlat.save(\"images/fixed_model_performance_%s_ignore\" % group, close=True, ext=['png', 'pdf', 'svg'])\n",
      "    else:\n",
      "\tlat.save(\"images/fixed_model_performance_%s\" % group, close=True, ext=['png', 'pdf', 'svg'])\n",
      "\t"
     ],
     "language": "python",
     "outputs": [
      {
       "output_type": "stream",
       "stream": "stdout",
       "text": [
        "Saving figure to images/fixed_model_performance_C.png...' "
       ]
      },
      {
       "output_type": "stream",
       "stream": "stdout",
       "text": [
        "Done\n",
        "Saving figure to images/fixed_model_performance_C.pdf...' "
       ]
      },
      {
       "output_type": "stream",
       "stream": "stdout",
       "text": [
        "Done\n",
        "Saving figure to images/fixed_model_performance_C.svg...' "
       ]
      },
      {
       "output_type": "stream",
       "stream": "stdout",
       "text": [
        "Done\n",
        "Saving figure to images/fixed_model_performance_E.png...'"
       ]
      },
      {
       "output_type": "stream",
       "stream": "stdout",
       "text": [
        " Done\n",
        "Saving figure to images/fixed_model_performance_E.pdf...' "
       ]
      },
      {
       "output_type": "stream",
       "stream": "stdout",
       "text": [
        "Done\n",
        "Saving figure to images/fixed_model_performance_E.svg...' "
       ]
      },
      {
       "output_type": "stream",
       "stream": "stdout",
       "text": [
        "Done\n",
        "Saving figure to images/fixed_model_performance_all.png...'"
       ]
      },
      {
       "output_type": "stream",
       "stream": "stdout",
       "text": [
        " Done\n",
        "Saving figure to images/fixed_model_performance_all.pdf...' "
       ]
      },
      {
       "output_type": "stream",
       "stream": "stdout",
       "text": [
        "Done\n",
        "Saving figure to images/fixed_model_performance_all.svg...' "
       ]
      },
      {
       "output_type": "stream",
       "stream": "stdout",
       "text": [
        "Done\n"
       ]
      }
     ],
     "prompt_number": 12
    },
    {
     "cell_type": "code",
     "collapsed": false,
     "input": [
      "######################################################################\n",
      "## Plot likelihoods under other models\n",
      "######################################################################\n",
      "\n",
      "n = 5#n_cond / len(groups)\n",
      "width = 0.7 / n\n",
      "x0 = np.arange(len(models))\n",
      "colors = [\"m\", \"r\", \"c\", \"b\", \"y\"]\n",
      "performance_table = []\n",
      "table_conds = []\n",
      "\n",
      "for i, group in enumerate(groups):\n",
      "    idx = 0\n",
      "    fig = plt.figure(40+i)\n",
      "    plt.clf()\n",
      "    performance_table.append([])\n",
      "    table_conds.append([])\n",
      "\n",
      "    #for midx, model in enumerate(mnames):\n",
      "    for cidx, cond in enumerate(conds):\n",
      "\t# height = []\n",
      "\t# err = []\n",
      "\t    \n",
      "\t# for cidx, cond in enumerate(conds):\n",
      "\t#     obstype, grp, fbtype, ratio, cb = lat.parse_condition(cond)\n",
      "\t#     if (obstype == \"M\") or (grp != group) or (cond not in models[midx]):\n",
      "\t# \tcontinue\n",
      "\t#     height.append(models[midx][cond][0])\n",
      "\t#     err.append(models[midx][cond][0] - models[midx][cond][[1,2]])\n",
      "\n",
      "\tobstype, grp, fbtype, ratio, cb = lat.parse_condition(cond)\n",
      "\tif (obstype == \"M\") or (grp != group):\n",
      "\t    continue\n",
      "\n",
      "\tdata = np.array([models[x][cond] for x in xrange(len(models))])\n",
      "\t# height = np.array([models[x][cond][0] for x in xrange(len(models))])\n",
      "\t# lower = np.array([models[x][cond][1] for x in xrange(len(models))])\n",
      "\t# upper = np.array([models[x][cond][2] for x in xrange(len(models))])\n",
      "\t# sums = np.array([models[x][cond][3] for x in xrange(len(models))])\n",
      "\t# ssize = np.array([models[x][cond][4] for x in xrange(len(models))])\n",
      "\theight = data[:, 0]\n",
      "\tlower = data[:, 1]\n",
      "\tupper = data[:, 2]\n",
      "\t# err = np.array([np.abs(models[x][cond][0] - models[x][cond][[1,2]])\n",
      "\t# \t\tfor x in xrange(len(models))])# if cond in models[x]])\n",
      "\terr = np.array([np.abs(height - lower), np.abs(height-upper)]).T\n",
      "\t#performance_table[-1].append([height, lower, upper])\n",
      "\ttable_conds[-1].append(cond)\n",
      "\n",
      "\t# performance_table[-1].append([\"%.2f [%.2f, %.2f]\" % (\n",
      "\t# \theight[x], lower[x], upper[x])\n",
      "\t# \tfor x in xrange(height.size)])\n",
      "\tperformance_table[-1].append(data.T)\n",
      "\n",
      "\t# height = np.array(height)\n",
      "\t# err = np.array(err)\n",
      "\t#n = height.size\n",
      "\t\n",
      "\t#color = colors[(idx/2) % len(colors)]\n",
      "\tcolor = colors[idx]\n",
      "\t# if obstype == \"M\":\n",
      "\t#     alpha = 1.0\n",
      "\t# elif fbtype == \"vfb\":\n",
      "\t#     alpha = 0.4\n",
      "\t# elif fbtype in (\"fb\", \"nfb\"):\n",
      "\t#     alpha = 0.2\n",
      "\t# if obstype == \"M\" and fbtype == \"nfb\" and ratio == \"1\":\n",
      "\t#     color = \"#996600\"\n",
      "\n",
      "\tx = x0 + width*(idx-(n/2.)) + (width/2.)\n",
      "\tplt.bar(x, height, yerr=err.T, \n",
      "\t\tcolor=color,\n",
      "\t\tecolor='k', align='center', width=width, \n",
      "\t\tlabel=cond_labels[cond], alpha=0.7)\n",
      "\n",
      "\tidx += 1\n",
      "\n",
      "    plt.xticks(x0, mnames)#, rotation=15)\n",
      "    plt.ylim(-34, -22)\n",
      "    plt.xlim(x0.min()-0.5, x0.max()+0.5)\n",
      "    plt.legend(loc=4, ncol=2, fontsize=10)\n",
      "    plt.xlabel(\"Model\", fontsize=14)\n",
      "    plt.ylabel(\"Log likelihood\", fontsize=14)\n",
      "\n",
      "    title = \"Likelihood of \\\"Will it fall?\\\" judgments under different models\"\n",
      "    if group != \"all\":\n",
      "\ttitle += \" (%s)\" % group\n",
      "    plt.suptitle(title, fontsize=16)\n",
      "    fig.set_figwidth(8)\n",
      "    fig.set_figheight(5)\n",
      "    plt.subplots_adjust(bottom=0.18, top = 0.9)\n",
      "\n",
      "    if p_ignore > 0:\n",
      "\tlat.save(\"images/model_performance_%s_ignore\" % group, close=True, ext=['png', 'pdf', 'svg'])\n",
      "    else:\n",
      "\tlat.save(\"images/model_performance_%s\" % group, close=True, ext=['png', 'pdf', 'svg'])\n",
      "\n",
      "performance_table = np.array(performance_table)\n"
     ],
     "language": "python",
     "outputs": [
      {
       "output_type": "stream",
       "stream": "stdout",
       "text": [
        "Saving figure to images/model_performance_C.png...' "
       ]
      },
      {
       "output_type": "stream",
       "stream": "stdout",
       "text": [
        "Done\n",
        "Saving figure to images/model_performance_C.pdf...' "
       ]
      },
      {
       "output_type": "stream",
       "stream": "stdout",
       "text": [
        "Done\n",
        "Saving figure to images/model_performance_C.svg...' "
       ]
      },
      {
       "output_type": "stream",
       "stream": "stdout",
       "text": [
        "Done\n",
        "Saving figure to images/model_performance_E.png...'"
       ]
      },
      {
       "output_type": "stream",
       "stream": "stdout",
       "text": [
        " Done\n",
        "Saving figure to images/model_performance_E.pdf...' "
       ]
      },
      {
       "output_type": "stream",
       "stream": "stdout",
       "text": [
        "Done\n",
        "Saving figure to images/model_performance_E.svg...' "
       ]
      },
      {
       "output_type": "stream",
       "stream": "stdout",
       "text": [
        "Done\n",
        "Saving figure to images/model_performance_all.png...'"
       ]
      },
      {
       "output_type": "stream",
       "stream": "stdout",
       "text": [
        " Done\n",
        "Saving figure to images/model_performance_all.pdf...' "
       ]
      },
      {
       "output_type": "stream",
       "stream": "stdout",
       "text": [
        "Done\n",
        "Saving figure to images/model_performance_all.svg...' "
       ]
      },
      {
       "output_type": "stream",
       "stream": "stdout",
       "text": [
        "Done\n"
       ]
      }
     ],
     "prompt_number": 13
    },
    {
     "cell_type": "code",
     "collapsed": false,
     "input": [
      "gidx = groups.index('all')\n",
      "# group, condition, model, stat\n",
      "table = performance_table[gidx, :, 3]\n",
      "samplesize = performance_table[gidx, :, 4]\n",
      "print \"& \" + \" & \".join(mnames) + r\"\\\\\\hline\"\n",
      "for lidx, line in enumerate(table):\n",
      "    midx = np.argmax(np.array(line, dtype='f8'))\n",
      "    cond = table_conds[gidx][lidx]\n",
      "    entries = [cond_labels[cond] + \" ($n=%d$)\" % samplesize[lidx][0]]\n",
      "    entries.extend([\n",
      "\t(r\"\\textbf{%d}\" if idx == midx else \"%d\") % float(line[idx])\n",
      "\tfor idx in xrange(len(line))])\n",
      "    print \" & \".join(entries) + r\"\\\\\"\n",
      "print \"\\hline\"\t    \n",
      "\n",
      "# table = pd.DataFrame(\n",
      "#     ptable[gidx],\n",
      "#     index=[cond_labels[x] + \" &\" for x in table_conds[gidx]],\n",
      "#     columns=[\"& \" + x for x in mnames]) + \" &\"\n"
     ],
     "language": "python",
     "outputs": [
      {
       "output_type": "stream",
       "stream": "stdout",
       "text": [
        "& Random & Uniform & Equal & Correct & Learning\\\\\\hline\n",
        "Text $r_0=0.1$ feedback condition ($n=61$) & -1691 & \\textbf{-1653} & -1683 & -1700 & -1674\\\\\n",
        "Video $r_0=0.1$ feedback condition ($n=60$) & -1663 & -1652 & -1703 & -1621 & \\textbf{-1608}\\\\\n",
        "Text $r_0=10$ feedback condition ($n=58$) & -1608 & -1545 & -1582 & -1586 & \\textbf{-1531}\\\\\n",
        "Video $r_0=10$ feedback condition ($n=50$) & -1386 & -1335 & -1396 & -1321 & \\textbf{-1290}\\\\\n",
        "No feedback condition ($n=47$) & -1303 & \\textbf{-1269} & -1291 & -1421 & -1366\\\\\n",
        "\\hline\n"
       ]
      }
     ],
     "prompt_number": 14
    },
    {
     "cell_type": "code",
     "collapsed": false,
     "input": [
      "print performance_table[gidx, 0, 0]\n",
      "print performance_table[gidx, 0, 3] / 56."
     ],
     "language": "python",
     "outputs": [
      {
       "output_type": "stream",
       "stream": "stdout",
       "text": [
        "[-27.72588722 -27.26053998 -27.75198466 -27.99230379 -27.58512905]\n",
        "[-27.72588722 -27.26053998 -27.75198466 -27.99230379 -27.58512905]\n"
       ]
      }
     ],
     "prompt_number": 36
    },
    {
     "cell_type": "code",
     "collapsed": false,
     "input": [
      "reload(lat)\n",
      "pr = lat.infer_CI(lat.infer_beliefs(\n",
      "    experiment, ipe_samps, feedback, kappas, f_smooth), conds)\n"
     ],
     "language": "python",
     "outputs": [
      {
       "output_type": "stream",
       "stream": "stdout",
       "text": [
        "[-3.29583687 -3.29583687 -3.29583687 -3.29583687 -3.29583687 -3.29583687\n",
        " -3.29583687 -3.29583687 -3.29583687 -3.29583687 -3.29583687 -3.29583687\n",
        " -3.29583687 -3.29583687 -3.29583687 -3.29583687 -3.29583687 -3.29583687\n",
        " -3.29583687 -3.29583687 -3.29583687 -3.29583687 -3.29583687 -3.29583687\n",
        " -3.29583687 -3.29583687 -3.29583687]\n"
       ]
      }
     ],
     "prompt_number": 37
    },
    {
     "cell_type": "code",
     "collapsed": false,
     "input": [
      "tidx = np.array([0] + list(X))\n",
      "T0 = tidx.copy()[:-1]\n",
      "T1 = tidx.copy()[1:]\n",
      "\n",
      "for i, group in enumerate(groups):\n",
      "    idx = 0\n",
      "    plt.figure(500+i)\n",
      "    plt.clf()\n",
      "    plt.figure(600+i)\n",
      "    plt.clf()\n",
      "\t\n",
      "    for cidx, cond in enumerate(conds):\n",
      "\tobstype, grp, fbtype, ratio, cb = lat.parse_condition(cond)\n",
      "\tif (grp != group) or (obstype == \"M\" and fbtype == \"nfb\" and ratio != \"0\"):\n",
      "\t    continue\n",
      "\tavgpr = np.mean(pr[cond], axis=0)\n",
      "\n",
      "\tif fbtype != \"nfb\":\n",
      "\t    if float(ratio) > 1:\n",
      "\t\tarr = pr[cond][:, :, ratios.index(1.0)+1:]\n",
      "\t    else:\n",
      "\t\tarr = pr[cond][:, :, :ratios.index(1.0)]\n",
      "\t    pcorrect = np.mean(np.sum(arr, axis=-1), axis=0)\n",
      "\t    \n",
      "\t    plt.figure(600+i)\n",
      "\t    plt.subplot(2, 3, idx+1)\n",
      "\t    plt.plot(T1, emj_stats[cond][:, 0], label=\"explicit mass judgments\")\n",
      "\t    plt.plot(pcorrect, label=\"P(correct | responses)\")\n",
      "\t    plt.title(cond_labels[cond], fontsize=12)\n",
      "\t    plt.ylim(0.3, 1)\n",
      "\t    plt.xticks(T1, T1)\n",
      "\t    plt.xlim(T1.min(), T1.max())\n",
      "\n",
      "\tplt.figure(500+i)\n",
      "\timg = lat.plot_theta(\n",
      "\t    3, 3, idx+1,\n",
      "\t    avgpr,\n",
      "\t    cond_labels[cond], \n",
      "\t    exp=np.e,\n",
      "\t    vmin=0, vmax=0.1,\n",
      "\t    cmap=cmap)\n",
      "\t\n",
      "\tidx += 1\n",
      "\n",
      "    plt.colorbar(img)\n",
      "    plt.suptitle(\"P(r | J) -- %s\" % group)\n",
      "    fig = plt.gcf()\n",
      "    fig.set_figwidth(8)\n",
      "    fig.set_figheight(6)\n",
      "    lat.save(\"images/inferred_belief_%s\" % group, close=False, ext=['png', 'pdf', 'svg'])\n",
      "\n",
      "    plt.figure(600+i)\n",
      "    plt.legend(loc=0, fontsize=9)\n",
      "    fig = plt.gcf()\n",
      "    fig.set_figwidth(8)\n",
      "    fig.set_figheight(6)\n",
      "    lat.save(\"images/estimated_mass_judgments_%s\" % group, close=False, ext=['png', 'pdf', 'svg'])\n"
     ],
     "language": "python",
     "outputs": [
      {
       "output_type": "stream",
       "stream": "stdout",
       "text": [
        "Saving figure to images/inferred_belief_C.png...' "
       ]
      },
      {
       "output_type": "stream",
       "stream": "stdout",
       "text": [
        "Done\n",
        "Saving figure to images/estimated_mass_judgments_C.png...' "
       ]
      },
      {
       "output_type": "stream",
       "stream": "stdout",
       "text": [
        "Done\n",
        "Saving figure to images/inferred_belief_E.png...'"
       ]
      },
      {
       "output_type": "stream",
       "stream": "stdout",
       "text": [
        " Done\n",
        "Saving figure to images/estimated_mass_judgments_E.png...' "
       ]
      },
      {
       "output_type": "stream",
       "stream": "stdout",
       "text": [
        "Done\n",
        "Saving figure to images/inferred_belief_all.png...'"
       ]
      },
      {
       "output_type": "stream",
       "stream": "stdout",
       "text": [
        " Done\n",
        "Saving figure to images/estimated_mass_judgments_all.png...' "
       ]
      },
      {
       "output_type": "stream",
       "stream": "stdout",
       "text": [
        "Done\n"
       ]
      }
     ],
     "prompt_number": 50
    },
    {
     "cell_type": "code",
     "collapsed": false,
     "input": [
      "hi"
     ],
     "language": "python",
     "outputs": []
    }
   ]
  }
 ]
}