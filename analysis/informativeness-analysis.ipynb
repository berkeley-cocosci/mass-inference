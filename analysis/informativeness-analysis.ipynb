{
 "metadata": {
  "name": "informativeness-analysis"
 },
 "nbformat": 3,
 "nbformat_minor": 0,
 "worksheets": [
  {
   "cells": [
    {
     "cell_type": "code",
     "collapsed": false,
     "input": [
      "# imports\n",
      "import collections\n",
      "import matplotlib.cm as cm\n",
      "import matplotlib.gridspec as gridspec\n",
      "import numpy as np\n",
      "import pdb\n",
      "import pickle\n",
      "import scipy.stats\n",
      "import os\n",
      "import time\n",
      "\n",
      "#import cogphysics\n",
      "#import cogphysics.lib.circ as circ\n",
      "#import cogphysics.lib.nplib as npl\n",
      "from cogphysics import path as cppath\n",
      "from cogphysics import CPOBJ_LIST_PATH\n",
      "import cogphysics.lib.rvs as rvs\n",
      "\n",
      "import cogphysics.tower.analysis_tools as tat\n",
      "import cogphysics.tower.mass.model_observer as mo\n",
      "import cogphysics.tower.mass.learning_analysis_tools as lat\n",
      "\n",
      "from cogphysics.lib.corr import xcorr"
     ],
     "language": "python",
     "outputs": [],
     "prompt_number": 1
    },
    {
     "cell_type": "code",
     "collapsed": false,
     "input": [
      "# global variables\n",
      "normalize = rvs.util.normalize\n",
      "weightedSample = rvs.util.weightedSample\n",
      "\n",
      "cmap = lat.make_cmap(\"lh\", (0, 0, 0), (.5, .5, .5), (1, 0, 0))\n",
      "\n",
      "listpath = cppath(CPOBJ_LIST_PATH, 'local')\n"
     ],
     "language": "python",
     "outputs": [],
     "prompt_number": 2
    },
    {
     "cell_type": "code",
     "collapsed": false,
     "input": [
      "######################################################################\n",
      "## Load and process data\n",
      "out = lat.load('stability')\n",
      "rawhuman, rawhstim, raworder, rawtruth, rawipe, kappas = out\n"
     ],
     "language": "python",
     "outputs": [],
     "prompt_number": 3
    },
    {
     "cell_type": "code",
     "collapsed": false,
     "input": [
      "ratios = 10 ** kappas\n",
      "ratios[kappas < 0] = np.round(ratios[kappas < 0], decimals=2)\n",
      "ratios[kappas >= 0] = np.round(ratios[kappas >= 0], decimals=1)\n",
      "\n",
      "# human, stimuli, sort, truth, ipe = lat.order_by_trial(\n",
      "#     rawhuman, rawhstim, raworder, rawtruth, rawipe)\n",
      "# truth = truth[0]\n",
      "# ipe = ipe[0]\n",
      "\n",
      "stimuli = rawhstim[None, :].copy()\n",
      "truth = rawtruth.copy()\n",
      "ipe = rawipe.copy()\n",
      "\n",
      "# variables\n",
      "n_trial      = stimuli.shape[1]\n",
      "n_kappas     = len(kappas)"
     ],
     "language": "python",
     "outputs": [],
     "prompt_number": 4
    },
    {
     "cell_type": "code",
     "collapsed": false,
     "input": [
      "nthresh0 = 1\n",
      "nthresh = 4\n",
      "nsamps = 300\n",
      "ext = ['png', 'pdf']\n",
      "f_save = False\n",
      "f_close = False\n",
      "smooth = True\n",
      "idx0 = int(np.nonzero(ratios==10)[0][0])\n",
      "idx1 = int(np.nonzero(ratios==0.1)[0][0])\n",
      "idx = [idx0, idx1]\n"
     ],
     "language": "python",
     "outputs": [],
     "prompt_number": 16
    },
    {
     "cell_type": "code",
     "collapsed": false,
     "input": [
      "feedback, ipe_samps = lat.make_observer_data(\n",
      "    nthresh0, nthresh, nsamps, order=False)\n",
      "model_lh, model_joint, model_theta = mo.ModelObserver(\n",
      "    ipe_samps,\n",
      "    feedback[:, None],\n",
      "    outcomes=None,\n",
      "    respond=False,\n",
      "    smooth=smooth)\n"
     ],
     "language": "python",
     "outputs": [],
     "prompt_number": 17
    },
    {
     "cell_type": "code",
     "collapsed": false,
     "input": [
      "def KL(qi, idx):\n",
      "    \"\"\"Compute the KL divergence between qi and pi, where pi is a\n",
      "    multinomial centered around idx.\n",
      "\n",
      "    \"\"\"\n",
      "    pi = (np.eye(n_kappas) + (1./n_kappas))[idx][:, None]\n",
      "    for i, ix in enumerate(idx):\n",
      "\tpi[i, :, ix] += nsamps\n",
      "    pi /= nsamps + 1\n",
      "    kl = np.sum(np.log(pi / qi)*pi, axis=-1)\n",
      "    return kl\n",
      "    "
     ],
     "language": "python",
     "outputs": [],
     "prompt_number": 61
    },
    {
     "cell_type": "code",
     "collapsed": false,
     "input": [
      "\n",
      "# figure out the starting stimulus (minimum entropy=most information)\n",
      "fb = feedback[:, idx, 0]\n",
      "lh = model_lh[idx][:, 1:].copy()\n",
      "p = normalize(lh, axis=-1)[1]\n",
      "H = KL(np.exp(p), idx)\n",
      "\n",
      "order = [np.argmin(np.sum(H**2, axis=0))]\n",
      "nums = [stimuli[0, order[0]].split(\"_\")[1]]\n",
      "    \n",
      "joint = lh[:, order[0]].copy()\n",
      "allJoint = [joint.copy()]\n",
      "allH = [H[:, order[0]]]\n",
      "\n",
      "T = 48\n",
      "for t in xrange(T-1):\n",
      "    # calculate possible posterior values for each stimulus\n",
      "    p = normalize(joint[:, None] + lh, axis=-1)[1]\n",
      "    # compute entropies\n",
      "    H = KL(np.exp(p), idx)\n",
      "    # choose stimulus that would result in the lowest entropy, without\n",
      "    # repeating stimuli\n",
      "    for s in np.argsort(np.sum(H**2, axis=0)):\n",
      "\tnum = stimuli[0, s].split(\"_\")[1]\n",
      "\tif (s not in order) and (num not in nums):\n",
      "\t    order.append(s)\n",
      "\t    nums.append(num)\n",
      "\t    allH.append(H[:, s])\n",
      "\t    joint += lh[:, order[-1]]\n",
      "\t    allJoint.append(joint.copy())\n",
      "\t    break\n",
      "\n",
      "order = np.array(order)\n",
      "nums = np.array(nums)\n",
      "allJoint = np.array(allJoint)\n",
      "allH = np.array(allH)    \n",
      "\n"
     ],
     "language": "python",
     "outputs": [],
     "prompt_number": 96
    },
    {
     "cell_type": "code",
     "collapsed": false,
     "input": [
      "plt.close('all')\n",
      "for i, ix in enumerate(idx):\n",
      "    plt.figure()\n",
      "    plt.clf()\n",
      "    plt.suptitle(ratios[ix])\n",
      "    plt.subplot(1, 2, 1)\n",
      "    plt.plot(allH[:, i])\n",
      "    plt.ylim(0, 3)\n",
      "\n",
      "    lat.plot_theta(\n",
      "\t1, 2, 2,\n",
      "        np.exp(normalize(allJoint[:, i], axis=-1)[1]),\n",
      "\t\"\",\n",
      "\texp=1.3,\n",
      "\tcmap=cmap,\n",
      "\tfontsize=14)\n"
     ],
     "language": "python",
     "outputs": [
      {
       "output_type": "display_data",
       "png": "[encoded data removed]"
      },
      {
       "output_type": "display_data",
       "png": "[encoded data removed]"
      }
     ],
     "prompt_number": 103
    },
    {
     "cell_type": "code",
     "collapsed": false,
     "input": [
      "N = 20\n",
      "C = 0\n",
      "yes = np.nonzero(feedback[:, :, 0][:, idx[0]][order] == 0)[0]\n",
      "no = np.nonzero(feedback[:, :, 0][:, idx[0]][order] == 1)[0]\n",
      "\n",
      "mass_example = stimuli[0, order[yes[-1]]]\n",
      "exp = order[np.sort(np.hstack([\n",
      "    yes[:N/2], \n",
      "    no[:N/2]]))]\n",
      "if C > 0:\n",
      "    catch = order[np.sort(np.hstack([  \n",
      "        yes[-(C/2)-1:-1],\n",
      "\tno[-C/2:]]))]\n",
      "else:\n",
      "    catch = np.array([], dtype='i8')\n",
      "eqorder = np.hstack([exp, catch])\n",
      "print eqorder\n",
      "print stimuli[0, eqorder]\n",
      "print fb[eqorder]\n",
      "print np.sum(fb[eqorder], axis=0)\n"
     ],
     "language": "python",
     "outputs": [
      {
       "output_type": "stream",
       "stream": "stdout",
       "text": [
        "[87  7 37 66 78  8 12 19 71 74 46 90  3 51 45 69 29 31 22 48]\n",
        "['mass-tower_00629_1101010001' 'mass-tower_00057_1001011010'\n",
        " 'mass-tower_00231_0111100010' 'mass-tower_00388_0011101001'\n",
        " 'mass-tower_00524_0000110111' 'mass-tower_00075_0000011111'\n",
        " 'mass-tower_00086_1001001110' 'mass-tower_00118_0100001111'\n",
        " 'mass-tower_00418_0111100100' 'mass-tower_00495_1011100010'\n",
        " 'mass-tower_00309_0001110101' 'mass-tower_00767_1011001001'\n",
        " 'mass-tower_00035_0110101001' 'mass-tower_00328_1110011000'\n",
        " 'mass-tower_00304_0100110110' 'mass-tower_00392_0100110011'\n",
        " 'mass-tower_00174_1001101100' 'mass-tower_00200_1111100000'\n",
        " 'mass-tower_00134_1000111001' 'mass-tower_00313_0011110100']\n",
        "[[1 0]\n",
        " [0 1]\n",
        " [0 1]\n",
        " [1 1]\n",
        " [1 0]\n",
        " [1 0]\n",
        " [1 1]\n",
        " [1 0]\n",
        " [0 1]\n",
        " [0 1]\n",
        " [1 0]\n",
        " [1 0]\n",
        " [1 0]\n",
        " [0 1]\n",
        " [0 1]\n",
        " [1 1]\n",
        " [0 1]\n",
        " [0 0]\n",
        " [0 1]\n",
        " [0 0]]\n",
        "[10 11]\n"
       ]
      }
     ],
     "prompt_number": 110
    },
    {
     "cell_type": "code",
     "collapsed": false,
     "input": [
      "np.random.shuffle(eqorder)\n",
      "print eqorder \n",
      "exp_ipe_samps = ipe_samps[eqorder]\n",
      "exp_feedback = feedback[eqorder][:, idx]\n",
      "\n",
      "exp_lh, exp_joint, exp_theta = mo.ModelObserver(\n",
      "    exp_ipe_samps,\n",
      "    exp_feedback[:, None],\n",
      "    outcomes=None,\n",
      "    respond=False,\n",
      "    smooth=smooth)\n",
      "\n",
      "close(\"all\")\n",
      "lat.plot_theta(\n",
      "    1, 2, 1,\n",
      "    np.exp(exp_theta[0]),\n",
      "    \"\",\n",
      "    exp=1.3,\n",
      "    cmap=cmap,\n",
      "    fontsize=14)\n",
      "plt.title(ratios[idx[0]])\n",
      "lat.plot_theta(\n",
      "    1, 2, 2,\n",
      "    np.exp(exp_theta[1]),\n",
      "    \"\",\n",
      "    exp=1.3,\n",
      "    cmap=cmap,\n",
      "    fontsize=14)\n",
      "plt.title(ratios[idx[1]])\n"
     ],
     "language": "python",
     "outputs": [
      {
       "output_type": "stream",
       "stream": "stdout",
       "text": [
        "[46 51 71 19 29 87 66  8 12 78 22 48 31 45  3 37 69 74 90  7]\n"
       ]
      },
      {
       "output_type": "pyout",
       "prompt_number": 109,
       "text": [
        "<matplotlib.text.Text at 0x114fc28d0>"
       ]
      },
      {
       "output_type": "display_data",
       "png": "[encoded data removed]"
      }
     ],
     "prompt_number": 109
    },
    {
     "cell_type": "code",
     "collapsed": false,
     "input": [
      "for i, ix in enumerate(idx):\n",
      "    exp_stims = [\"%s~kappa-%s\" % (x, kappas[ix]) for x in np.sort(stimuli[0, exp])]\n",
      "    catch_stims = [\"%s~kappa-%s\" % (x, kappas[ix]) for x in np.sort(stimuli[0, catch])]\n",
      "    l = os.path.join(listpath, \"mass-towers-stability-learning~kappa-%s\" % kappas[ix])\n",
      "    print l\n",
      "    with open(l, \"w\") as fh:\n",
      "\tlines = \"\\n\".join(exp_stims)\n",
      "\tfh.write(lines)\n",
      "    # l = os.path.join(listpath, \"mass-towers-stability-learning-catch~kappa-%s\" % kappas[ix])\n",
      "    # print l\n",
      "    # with open(l, \"w\") as fh:\n",
      "    # \tlines = \"\\n\".join(catch_stims)\n",
      "    # \tfh.write(lines)\n",
      "    "
     ],
     "language": "python",
     "outputs": [
      {
       "output_type": "stream",
       "stream": "stdout",
       "text": [
        "/Users/jhamrick/project/cogphysics/dev/resources/cpobj_lists/mass-towers-stability-learning~kappa-1.0\n",
        "/Users/jhamrick/project/cogphysics/dev/resources/cpobj_lists/mass-towers-stability-learning~kappa--1.0\n"
       ]
      }
     ],
     "prompt_number": 115
    },
    {
     "cell_type": "code",
     "collapsed": false,
     "input": [
      "uidx = np.hstack([exp, catch])\n",
      "used = stimuli[0, uidx]\n",
      "used_nums = [x.split(\"_\")[1] for x in used]\n"
     ],
     "language": "python",
     "outputs": [],
     "prompt_number": 114
    },
    {
     "cell_type": "code",
     "collapsed": false,
     "input": [
      "# want to pick training towers that are half and half, and are really\n",
      "# obvious to people (based on previous experiment results)\n",
      "\n",
      "rawhuman, hstimuli, hmeta = tat.load_human(2)#0)\n",
      "rawmodel, sstimuli, smeta = tat.load_model(1)#0)\n",
      "\n",
      "human, human_nonmean = tat.process_human_stability(rawhuman, zscore=False)\n",
      "pfell, nfell, fell_persample = tat.process_model_stability(\n",
      "    rawmodel, mthresh=0.095, zscore=False)\n"
     ],
     "language": "python",
     "outputs": [],
     "prompt_number": 116
    },
    {
     "cell_type": "code",
     "collapsed": false,
     "input": [
      "from cogphysics import RESOURCE_PATH\n",
      "pth = os.path.join(RESOURCE_PATH, 'cpobj_conv_stability.pkl')\n",
      "#pth = os.path.join(RESOURCE_PATH, 'cpobj_conv_sameheight.pkl')\n",
      "with open(pth, \"r\") as fh:\n",
      "    conv = pickle.load(fh)\n",
      "hstims = hmeta['dimvals']['stimulus']\n",
      "original = np.array([conv[x] for x in hstims])\n",
      "original_nums = [x[len('stability'):] for x in original]\n"
     ],
     "language": "python",
     "outputs": [],
     "prompt_number": 117
    },
    {
     "cell_type": "code",
     "collapsed": false,
     "input": [
      "original_nums\n",
      "ok = np.array([x not in used_nums for x in original_nums])\n"
     ],
     "language": "python",
     "outputs": [],
     "prompt_number": 118
    },
    {
     "cell_type": "code",
     "collapsed": false,
     "input": [
      "# 1 if stable, 0 if unstable\n",
      "ofb = (fell_persample[0,0,0,:,0] > 0)\n",
      "tstable = ~(fell_persample[0,0,0,:,0] > 0) & ok\n",
      "tunstable = (fell_persample[0,0,0,:,0] > 0) & ok\n",
      "hstable = 1 - human.copy()\n"
     ],
     "language": "python",
     "outputs": [],
     "prompt_number": 119
    },
    {
     "cell_type": "code",
     "collapsed": false,
     "input": [
      "hsort = np.argsort(hstable)\n",
      "unstable = hsort[np.nonzero(tunstable[hsort])[0]]\n",
      "stable = hsort[np.nonzero(tstable[hsort])[0]][::-1]\n",
      "\n",
      "stable_example = original[stable[0]]\n",
      "unstable_example = original[unstable[0]]\n",
      "\n",
      "ntrain = 6\n",
      "ntrain_catch = 0\n",
      "\n",
      "train = np.hstack([\n",
      "    unstable[1:(ntrain/2)+1],\n",
      "    stable[1:(ntrain/2)+1]])\n",
      "train_stims = np.sort(original[train])\n",
      "if ntrain_catch > 0:\n",
      "    train_catch = np.hstack([\n",
      "        unstable[(ntrain/2)+1:(ntrain/2)+(ntrain_catch/2)+1],\n",
      "\tstable[(ntrain/2)+1:(ntrain/2)+(ntrain_catch/2)+1]])\n",
      "    train_catch_stims = np.sort(original[train_catch])\n",
      "else:\n",
      "    train_catch = np.array([], dtype='S')\n",
      "    train_catch_stims = np.array([], dtype='S')\n",
      "\n",
      "print train_stims\n",
      "print train_catch_stims\n"
     ],
     "language": "python",
     "outputs": [
      {
       "output_type": "stream",
       "stream": "stdout",
       "text": [
        "['stability01023' 'stability01178' 'stability01491' 'stability01654'\n",
        " 'stability01893' 'stability01967']\n",
        "[]\n"
       ]
      }
     ],
     "prompt_number": 120
    },
    {
     "cell_type": "code",
     "collapsed": false,
     "input": [
      "l = os.path.join(listpath, \"mass-towers-stability-learning-training\")\n",
      "print l\n",
      "with open(l, \"w\") as fh:\n",
      "    lines = \"\\n\".join(train_stims)\n",
      "    fh.write(lines)\n",
      "# l = os.path.join(listpath, \"mass-towers-stability-learning-training-catch\")\n",
      "# with open(l, \"w\") as fh:\n",
      "#     lines = \"\\n\".join(train_catch_stims)\n",
      "#     fh.write(lines)\n"
     ],
     "language": "python",
     "outputs": [
      {
       "output_type": "stream",
       "stream": "stdout",
       "text": [
        "/Users/jhamrick/project/cogphysics/dev/resources/cpobj_lists/mass-towers-stability-learning-training\n"
       ]
      }
     ],
     "prompt_number": 121
    },
    {
     "cell_type": "code",
     "collapsed": false,
     "input": [
      "print \"mass:\", mass_example\n",
      "print \"stable:\", stable_example\n",
      "print \"unstable:\", unstable_example"
     ],
     "language": "python",
     "outputs": [
      {
       "output_type": "stream",
       "stream": "stdout",
       "text": [
        "mass: mass-tower_00202_0000011111\n",
        "stable: stability00846\n",
        "unstable: stability01798\n"
       ]
      }
     ],
     "prompt_number": 122
    },
    {
     "cell_type": "code",
     "collapsed": false,
     "input": [
      "l = os.path.join(listpath, \"stable-example\")\n",
      "print l\n",
      "with open(l, \"w\") as fh:\n",
      "    lines = \"\\n\".join([stable_example])\n",
      "    fh.write(lines)\n",
      "l = os.path.join(listpath, \"unstable-example\")\n",
      "print l\n",
      "with open(l, \"w\") as fh:\n",
      "    lines = \"\\n\".join([unstable_example])\n",
      "    fh.write(lines)\n",
      "for i, ix in enumerate(idx):\n",
      "    l = os.path.join(listpath, \"mass-example~kappa-%s\" % kappas[ix])\n",
      "    print l\n",
      "    with open(l, \"w\") as fh:\n",
      "\tlines = \"\\n\".join([\"%s~kappa-%s\" % (mass_example, kappas[ix])])\n",
      "\tfh.write(lines)\n",
      "# l = os.path.join(listpath, \"mass-example~kappa-%s\" % kappas[nidx])\n",
      "# with open(l, \"w\") as fh:\n",
      "#     lines = \"\\n\".join([\"%s~kappa-%s\" % (mass_example, kappas[nidx])])\n",
      "#     fh.write(lines)\n"
     ],
     "language": "python",
     "outputs": [
      {
       "output_type": "stream",
       "stream": "stdout",
       "text": [
        "/Users/jhamrick/project/cogphysics/dev/resources/cpobj_lists/stable-example\n",
        "/Users/jhamrick/project/cogphysics/dev/resources/cpobj_lists/unstable-example\n",
        "/Users/jhamrick/project/cogphysics/dev/resources/cpobj_lists/mass-example~kappa-1.0\n",
        "/Users/jhamrick/project/cogphysics/dev/resources/cpobj_lists/mass-example~kappa--1.0\n"
       ]
      }
     ],
     "prompt_number": 124
    },
    {
     "cell_type": "code",
     "collapsed": false,
     "input": [
      "import yaml\n",
      "fh = open(\"../../turk-experiment/www/config/stimuli-info.csv\", \"w\")\n",
      "fh.write(\"stimulus,stable,catch\\n\")\n",
      "for i in exp:\n",
      "    for ix in idx:\n",
      "\tfh.write(\",\".join(\n",
      "\t    [\"%s~kappa-%s_cb-0\" % (stimuli[0,i], kappas[ix]),\n",
      "\t     str(not(bool(feedback[i,ix,0]))),\n",
      "\t     str(False)]\n",
      "\t     ) + \"\\n\")\n",
      "\tfh.write(\",\".join(\n",
      "\t    [\"%s~kappa-%s_cb-1\" % (stimuli[0,i], kappas[ix]),\n",
      "\t     str(not(bool(feedback[i,ix,0]))),\n",
      "\t     str(False)]\n",
      "\t     ) + \"\\n\")\n",
      "    # fh.write(\",\".join(\n",
      "    # \t[\"%s~kappa-%s_cb-0\" % (stimuli[0,i], kappas[nidx]),\n",
      "    # \t str(not(bool(feedback[i,nidx,0]))),\n",
      "    # \t str(False)]\n",
      "    # \t ) + \"\\n\")\n",
      "    # fh.write(\",\".join(\n",
      "    # \t[\"%s~kappa-%s_cb-1\" % (stimuli[0,i], kappas[nidx]),\n",
      "    # \t str(not(bool(feedback[i,nidx,0]))),\n",
      "    # \t str(False)]\n",
      "    # \t ) + \"\\n\")\n",
      "\n",
      "for i in catch:\n",
      "    for ix in idx:\n",
      "\tfh.write(\",\".join(\n",
      "\t    [\"%s~kappa-%s_cb-0\" % (stimuli[0,i], kappas[ix]),\n",
      "\t     str(not(bool(feedback[i,ix,0]))),\n",
      "\t     str(True)]\n",
      "\t     ) + \"\\n\")\n",
      "\tfh.write(\",\".join(\n",
      "\t    [\"%s~kappa-%s_cb-1\" % (stimuli[0,i], kappas[ix]),\n",
      "\t     str(not(bool(feedback[i,ix,0]))),\n",
      "\t     str(True)]\n",
      "\t     ) + \"\\n\")\n",
      "    # fh.write(\",\".join(\n",
      "    # \t[\"%s~kappa-%s_cb-0\" % (stimuli[0,i], kappas[nidx]),\n",
      "    # \t str(not(bool(feedback[i,nidx,0]))),\n",
      "    # \t str(True)]\n",
      "    # \t ) + \"\\n\")\n",
      "    # fh.write(\",\".join(\n",
      "    # \t[\"%s~kappa-%s_cb-1\" % (stimuli[0,i], kappas[nidx]),\n",
      "    # \t str(not(bool(feedback[i,nidx,0]))),\n",
      "    # \t str(True)]\n",
      "    # \t ) + \"\\n\")\n",
      "\n",
      "for i in train:\n",
      "    fh.write(\",\".join(\n",
      "\t[original[i],\n",
      "\t str(not(bool(ofb[i]))),\n",
      "\t str(False)]\n",
      "\t ) + \"\\n\")\n",
      "for i in train_catch:\n",
      "    fh.write(\",\".join(\n",
      "\t[original[i],\n",
      "\t str(not(bool(ofb[i]))),\n",
      "\t str(True)]\n",
      "\t ) + \"\\n\")\n",
      "\n",
      "fh.close()\n"
     ],
     "language": "python",
     "outputs": [],
     "prompt_number": 109
    },
    {
     "cell_type": "code",
     "collapsed": false,
     "input": [],
     "language": "python",
     "outputs": []
    }
   ]
  }
 ]
}