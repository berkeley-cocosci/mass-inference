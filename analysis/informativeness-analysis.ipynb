{
 "metadata": {
  "name": "informativeness-analysis"
 },
 "nbformat": 3,
 "nbformat_minor": 0,
 "worksheets": [
  {
   "cells": [
    {
     "cell_type": "code",
     "collapsed": false,
     "input": [
      "# imports\n",
      "import collections\n",
      "import matplotlib.cm as cm\n",
      "import matplotlib.gridspec as gridspec\n",
      "import numpy as np\n",
      "import pdb\n",
      "import pickle\n",
      "import scipy.stats\n",
      "import os\n",
      "import time\n",
      "\n",
      "#import cogphysics\n",
      "#import cogphysics.lib.circ as circ\n",
      "#import cogphysics.lib.nplib as npl\n",
      "from cogphysics import path as cppath\n",
      "from cogphysics import CPOBJ_LIST_PATH\n",
      "import cogphysics.lib.rvs as rvs\n",
      "\n",
      "import cogphysics.tower.analysis_tools as tat\n",
      "import cogphysics.tower.mass.model_observer as mo\n",
      "import cogphysics.tower.mass.learning_analysis_tools as lat\n",
      "\n",
      "from cogphysics.lib.corr import xcorr"
     ],
     "language": "python",
     "outputs": [],
     "prompt_number": 2
    },
    {
     "cell_type": "code",
     "collapsed": false,
     "input": [
      "# global variables\n",
      "normalize = rvs.util.normalize\n",
      "weightedSample = rvs.util.weightedSample\n",
      "\n",
      "cmap = lat.make_cmap(\"lh\", (0, 0, 0), (.5, .5, .5), (1, 0, 0))"
     ],
     "language": "python",
     "outputs": [],
     "prompt_number": 3
    },
    {
     "cell_type": "code",
     "collapsed": false,
     "input": [
      "######################################################################\n",
      "## Load and process data\n",
      "out = lat.load('stability')\n",
      "rawhuman, rawhstim, raworder, rawtruth, rawipe, kappas = out\n"
     ],
     "language": "python",
     "outputs": [],
     "prompt_number": 4
    },
    {
     "cell_type": "code",
     "collapsed": false,
     "input": [
      "ratios = 10 ** kappas\n",
      "ratios[kappas < 0] = np.round(ratios[kappas < 0], decimals=2)\n",
      "ratios[kappas >= 0] = np.round(ratios[kappas >= 0], decimals=1)\n",
      "\n",
      "# human, stimuli, sort, truth, ipe = lat.order_by_trial(\n",
      "#     rawhuman, rawhstim, raworder, rawtruth, rawipe)\n",
      "# truth = truth[0]\n",
      "# ipe = ipe[0]\n",
      "\n",
      "stimuli = rawhstim[None, :].copy()\n",
      "truth = rawtruth.copy()\n",
      "ipe = rawipe.copy()\n",
      "\n",
      "# variables\n",
      "n_trial      = stimuli.shape[1]\n",
      "n_kappas     = len(kappas)"
     ],
     "language": "python",
     "outputs": [],
     "prompt_number": 5
    },
    {
     "cell_type": "code",
     "collapsed": false,
     "input": [
      "nthresh0 = 1\n",
      "nthresh = 4\n",
      "nsamps = 300\n",
      "ext = ['png', 'pdf']\n",
      "f_save = False\n",
      "f_close = False\n",
      "smooth = True\n",
      "idx = int(np.nonzero(ratios==10)[0][0])\n"
     ],
     "language": "python",
     "outputs": [],
     "prompt_number": 6
    },
    {
     "cell_type": "code",
     "collapsed": false,
     "input": [
      "feedback, ipe_samps = lat.make_observer_data(\n",
      "    nthresh0, nthresh, nsamps, order=False)\n",
      "model_lh, model_joint, model_theta = mo.ModelObserver(\n",
      "    ipe_samps,\n",
      "    feedback[:, None],\n",
      "    outcomes=None,\n",
      "    respond=False,\n",
      "    smooth=smooth)\n"
     ],
     "language": "python",
     "outputs": [],
     "prompt_number": 7
    },
    {
     "cell_type": "code",
     "collapsed": false,
     "input": [
      "def KL(qi, axis=-1):\n",
      "    \"\"\"Compute the KL divergence between qi and pi, where pi is a\n",
      "    multinomial centered around idx (defined above).\n",
      "\n",
      "    \"\"\"\n",
      "    pi = np.zeros(ratios.shape) + (1./n_kappas)\n",
      "    pi[idx] += nsamps\n",
      "    pi /= nsamps + 1\n",
      "    kl = np.sum(np.log(pi / qi)*pi, axis=axis)\n",
      "    return kl\n",
      "    "
     ],
     "language": "python",
     "outputs": [],
     "prompt_number": 8
    },
    {
     "cell_type": "code",
     "collapsed": false,
     "input": [
      "plt.close('all')\n",
      "\n",
      "# figure out the starting stimulus (minimum entropy=most information)\n",
      "fb = feedback[:, idx, 0]\n",
      "lh = model_lh[idx, 1:].copy()\n",
      "p = normalize(lh, axis=-1)[1]\n",
      "H = KL(np.exp(p))\n",
      "\n",
      "order = [np.argmin(H)]\n",
      "nums = [stimuli[0, order[0]].split(\"_\")[1]]\n",
      "    \n",
      "joint = lh[order[0]].copy()\n",
      "allJoint = [joint.copy()]\n",
      "allH = [H[order[0]]]\n",
      "\n",
      "T = 48\n",
      "for t in xrange(T-1):\n",
      "    # calculate possible posterior values for each stimulus\n",
      "    p = normalize(joint[None, :] + lh, axis=-1)[1]\n",
      "    # compute entropies\n",
      "    H = KL(np.exp(p))\n",
      "    # choose stimulus that would result in the lowest entropy, without\n",
      "    # repeating stimuli\n",
      "    for s in np.argsort(H):\n",
      "\tnum = stimuli[0, s].split(\"_\")[1]\n",
      "\tif (s not in order) and (num not in nums):\n",
      "\t    order.append(s)\n",
      "\t    nums.append(num)\n",
      "\t    allH.append(H[s])\n",
      "\t    joint += lh[order[-1]]\n",
      "\t    allJoint.append(joint.copy())\n",
      "\t    break\n",
      "\n",
      "order = np.array(order)\n",
      "nums = np.array(nums)\n",
      "allJoint = np.array(allJoint)\n",
      "allH = np.array(allH)    \n",
      "\n",
      "plt.figure()\n",
      "plt.clf()\n",
      "plt.suptitle(ratios[idx])\n",
      "plt.subplot(1, 2, 1)\n",
      "plt.plot(allH)\n",
      "plt.ylim(0, 3)\n",
      "\n",
      "lat.plot_theta(\n",
      "    1, 2, 2,\n",
      "    np.exp(normalize(allJoint, axis=-1)[1]),\n",
      "    \"\",\n",
      "    exp=1.3,\n",
      "    cmap=cmap,\n",
      "    fontsize=14)\n"
     ],
     "language": "python",
     "outputs": [
      {
       "output_type": "pyout",
       "prompt_number": 9,
       "text": [
        "<matplotlib.image.AxesImage at 0x1178cec90>"
       ]
      },
      {
       "output_type": "display_data",
       "png": "[encoded data removed]"
      }
     ],
     "prompt_number": 9
    },
    {
     "cell_type": "code",
     "collapsed": false,
     "input": [
      "N = 20\n",
      "C = 6\n",
      "yes = np.nonzero(feedback[:, idx, 0][order] == 0)[0]\n",
      "no = np.nonzero(feedback[:, idx, 0][order] == 1)[0]\n",
      "exp = order[np.sort(np.hstack([\n",
      "    yes[:N/2], \n",
      "    no[:N/2]]))]\n",
      "catch = order[np.sort(np.hstack([  \n",
      "    yes[-C/2:],\n",
      "    no[-C/2:]]))]\n",
      "eqorder = np.hstack([exp, catch])\n",
      "print eqorder\n",
      "print stimuli[0, eqorder]\n",
      "print fb[eqorder]\n",
      "print np.sum(fb[eqorder])\n"
     ],
     "language": "python",
     "outputs": [
      {
       "output_type": "stream",
       "stream": "stdout",
       "text": [
        "[87  6 69 78 71 49 61 29 47 12 18 27 92 17 91 22 51 15 58 57 74 83 32 76 89\n",
        " 84]\n",
        "['mass-tower_00629_1101010001' 'mass-tower_00057_0111000101'\n",
        " 'mass-tower_00392_0100110011' 'mass-tower_00524_0000110111'\n",
        " 'mass-tower_00418_0111100100' 'mass-tower_00313_1010110010'\n",
        " 'mass-tower_00358_1001011100' 'mass-tower_00174_1001101100'\n",
        " 'mass-tower_00309_1110101000' 'mass-tower_00086_1001001110'\n",
        " 'mass-tower_00118_0010110011' 'mass-tower_00144_1010101001'\n",
        " 'mass-tower_01736_0000101111' 'mass-tower_00114_1000111001'\n",
        " 'mass-tower_00767_1110101000' 'mass-tower_00134_1000111001'\n",
        " 'mass-tower_00328_1110011000' 'mass-tower_00107_1001100101'\n",
        " 'mass-tower_00357_0100110110' 'mass-tower_00352_0010011011'\n",
        " 'mass-tower_00495_1011100010' 'mass-tower_00527_0101011001'\n",
        " 'mass-tower_00202_0000011111' 'mass-tower_00498_0100111100'\n",
        " 'mass-tower_00647_0100110110' 'mass-tower_00551_0011101010']\n",
        "[1 1 1 1 0 1 0 0 0 1 0 1 0 0 0 0 0 1 1 1 0 1 0 1 0 1]\n",
        "13\n"
       ]
      }
     ],
     "prompt_number": 10
    },
    {
     "cell_type": "code",
     "collapsed": false,
     "input": [
      "np.random.shuffle(eqorder)\n",
      "print eqorder \n",
      "exp_ipe_samps = ipe_samps[eqorder]\n",
      "exp_feedback = feedback[eqorder][:, [idx]]\n",
      "\n",
      "exp_lh, exp_joint, exp_theta = mo.ModelObserver(\n",
      "    exp_ipe_samps,\n",
      "    exp_feedback[:, None],\n",
      "    outcomes=None,\n",
      "    respond=False,\n",
      "    smooth=smooth)\n",
      "\n",
      "lat.plot_theta(\n",
      "    1, 1, 1,\n",
      "    np.exp(exp_theta[0]),\n",
      "    \"\",\n",
      "    exp=1.3,\n",
      "    cmap=cmap,\n",
      "    fontsize=14)\n"
     ],
     "language": "python",
     "outputs": [
      {
       "output_type": "stream",
       "stream": "stdout",
       "text": [
        "[49 78 15 47 74 89 87 51 84 83 76 32 12 91 69 29 17 92 18 57 61 58 71 22  6\n",
        " 27]\n"
       ]
      },
      {
       "output_type": "pyout",
       "prompt_number": 11,
       "text": [
        "<matplotlib.image.AxesImage at 0x117b16590>"
       ]
      },
      {
       "output_type": "display_data",
       "png": "[encoded data removed]"
      }
     ],
     "prompt_number": 11
    },
    {
     "cell_type": "code",
     "collapsed": false,
     "input": [
      "exp_stims = [\"%s~kappa-%s\" % (x, kappas[idx]) for x in np.sort(stimuli[0, exp])]\n",
      "catch_stims = [\"%s~kappa-%s\" % (x, kappas[idx]) for x in np.sort(stimuli[0, catch])]\n",
      "listpath = cppath(CPOBJ_LIST_PATH, 'local')\n",
      "l = os.path.join(listpath, \"mass-towers-stability-learning~kappa-%s\" % kappas[idx])\n",
      "with open(l, \"w\") as fh:\n",
      "    lines = \"\\n\".join(exp_stims)\n",
      "    fh.write(lines)\n",
      "l = os.path.join(listpath, \"mass-towers-stability-learning-catch~kappa-%s\" % kappas[idx])\n",
      "with open(l, \"w\") as fh:\n",
      "    lines = \"\\n\".join(catch_stims)\n",
      "    fh.write(lines)\n",
      "    "
     ],
     "language": "python",
     "outputs": [],
     "prompt_number": 12
    },
    {
     "cell_type": "code",
     "collapsed": false,
     "input": [
      "import yaml\n",
      "fh = open(\"../../turk-experiment/stimuli/stimuli-info.csv\", \"w\")\n",
      "fh.write(\"stimulus,stable,catch\\n\")\n",
      "for i in exp:\n",
      "    fh.write(\",\".join(\n",
      "\t[\"%s~kappa-%s\" % (stimuli[0,i], kappas[idx]),\n",
      "\t str(not(bool(feedback[i,idx,0]))),\n",
      "\t str(False)]\n",
      "\t ) + \"\\n\")\n",
      "for i in catch:\n",
      "    fh.write(\",\".join(\n",
      "\t[\"%s~kappa-%s\" % (stimuli[0,i], kappas[idx]),\n",
      "\t str(not(bool(feedback[i,idx,0]))),\n",
      "\t str(True)]\n",
      "\t ) + \"\\n\")\n",
      "\n",
      "fh.close()\n"
     ],
     "language": "python",
     "outputs": [
      {
       "ename": "TypeError",
       "evalue": "sequence item 1: expected string, bool found",
       "output_type": "pyerr",
       "traceback": [
        "\u001b[0;31m---------------------------------------------------------------------------\u001b[0m\n\u001b[0;31mTypeError\u001b[0m                                 Traceback (most recent call last)",
        "\u001b[0;32m<ipython-input-13-49cf3c7556a7>\u001b[0m in \u001b[0;36m<module>\u001b[0;34m()\u001b[0m\n\u001b[1;32m      6\u001b[0m \t[\"%s~kappa-%s\" % (stimuli[0,i], kappas[idx]),\n\u001b[1;32m      7\u001b[0m          \u001b[0;32mnot\u001b[0m\u001b[0;34m(\u001b[0m\u001b[0mbool\u001b[0m\u001b[0;34m(\u001b[0m\u001b[0mfeedback\u001b[0m\u001b[0;34m[\u001b[0m\u001b[0mi\u001b[0m\u001b[0;34m,\u001b[0m\u001b[0midx\u001b[0m\u001b[0;34m,\u001b[0m\u001b[0;36m0\u001b[0m\u001b[0;34m]\u001b[0m\u001b[0;34m)\u001b[0m\u001b[0;34m)\u001b[0m\u001b[0;34m,\u001b[0m\u001b[0;34m\u001b[0m\u001b[0m\n\u001b[0;32m----> 8\u001b[0;31m \t False]\n\u001b[0m\u001b[1;32m      9\u001b[0m \t ) + \"\\n\")\n\u001b[1;32m     10\u001b[0m \u001b[0;32mfor\u001b[0m \u001b[0mi\u001b[0m \u001b[0;32min\u001b[0m \u001b[0mcatch\u001b[0m\u001b[0;34m:\u001b[0m\u001b[0;34m\u001b[0m\u001b[0m\n",
        "\u001b[0;31mTypeError\u001b[0m: sequence item 1: expected string, bool found"
       ]
      }
     ],
     "prompt_number": 13
    }
   ]
  }
 ]
}