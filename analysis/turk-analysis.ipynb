{
 "metadata": {
  "name": "turk-analysis"
 },
 "nbformat": 3,
 "nbformat_minor": 0,
 "worksheets": [
  {
   "cells": [
    {
     "cell_type": "code",
     "collapsed": false,
     "input": [
      "# imports\n",
      "import collections\n",
      "import matplotlib.cm as cm\n",
      "import matplotlib.gridspec as gridspec\n",
      "import numpy as np\n",
      "import pdb\n",
      "import pickle\n",
      "import scipy.stats\n",
      "import os\n",
      "import time\n",
      "\n",
      "import cogphysics\n",
      "import cogphysics.lib.circ as circ\n",
      "import cogphysics.lib.nplib as npl\n",
      "import cogphysics.lib.rvs as rvs\n",
      "\n",
      "import cogphysics.tower.analysis_tools as tat\n",
      "import cogphysics.tower.mass.model_observer as mo\n",
      "import cogphysics.tower.mass.learning_analysis_tools as lat\n",
      "\n",
      "from cogphysics.lib.corr import xcorr"
     ],
     "language": "python",
     "outputs": [],
     "prompt_number": 1
    },
    {
     "cell_type": "code",
     "collapsed": false,
     "input": [
      "# global variables\n",
      "normalize = rvs.util.normalize\n",
      "weightedSample = rvs.util.weightedSample\n",
      "\n",
      "cmap = lat.make_cmap(\"lh\", (0, 0, 0), (.5, .5, .5), (1, 0, 0))"
     ],
     "language": "python",
     "outputs": [],
     "prompt_number": 2
    },
    {
     "cell_type": "code",
     "collapsed": false,
     "input": [
      "######################################################################\n",
      "## Load and process old stability data\n",
      "out = lat.load('stability')\n",
      "rawhuman0, rawhstim0, raworder0, rawtruth0, rawipe0, kappas = out\n"
     ],
     "language": "python",
     "outputs": [],
     "prompt_number": 3
    },
    {
     "cell_type": "code",
     "collapsed": false,
     "input": [
      "######################################################################\n",
      "## Load and process new data\n",
      "hdata = np.load(\"../../turk-experiment/data.npz\")\n",
      "rawhuman = hdata['data']['response'][..., None]\n",
      "rawhstim = np.array([x.split(\"~\")[0] for x in hdata['stims']])\n",
      "raworder = hdata['data']['trial'][..., None]\n",
      "\n",
      "idx = np.nonzero((rawhstim0[:, None] == rawhstim[None, :]))[0]\n",
      "rawtruth = rawtruth0[idx].copy()\n",
      "rawipe = rawipe0[idx].copy()\n"
     ],
     "language": "python",
     "outputs": [],
     "prompt_number": 4
    },
    {
     "cell_type": "code",
     "collapsed": false,
     "input": [
      "ratios = 10 ** kappas\n",
      "ratios[kappas < 0] = np.round(ratios[kappas < 0], decimals=2)\n",
      "ratios[kappas >= 0] = np.round(ratios[kappas >= 0], decimals=1)\n",
      "\n",
      "# XXX: when you get more data you need to change this to actually\n",
      "# order for each participant! currently it only orders by the first\n",
      "# one!\n",
      "human, stimuli, sort, truth, ipe = lat.order_by_trial(\n",
      "    rawhuman, rawhstim, raworder, rawtruth, rawipe)\n",
      "truth = truth[0]\n",
      "ipe = ipe[0]\n",
      " \n",
      "# variables\n",
      "n_trial      = stimuli.shape[1]\n",
      "n_kappas     = len(kappas)\n"
     ],
     "language": "python",
     "outputs": [],
     "prompt_number": 5
    },
    {
     "cell_type": "code",
     "collapsed": false,
     "input": [
      "def calc_baserates(nthresh0, nthresh, nsamps):\n",
      "    feedback, ipe_samps = lat.make_observer_data(\n",
      "        nthresh0, nthresh, nsamps)\n",
      "\n",
      "    fbbr = np.mean(np.swapaxes(feedback, 0, 1).reshape((-1, n_kappas)))\n",
      "    ipebr = np.mean(np.swapaxes(ipe_samps[..., 0], 0, 1).reshape((-1, n_kappas)))\n",
      "\n",
      "    return fbbr, ipebr"
     ],
     "language": "python",
     "outputs": [],
     "prompt_number": 6
    },
    {
     "cell_type": "code",
     "collapsed": false,
     "input": [
      "def plot_belief(fignum, nthresh0, nthresh, nsamps, smooth):\n",
      "    feedback, ipe_samps = lat.make_observer_data(\n",
      "        nthresh0, nthresh, nsamps)\n",
      "    model_lh, model_joint, model_theta = mo.ModelObserver(\n",
      "        ipe_samps,\n",
      "        feedback[:, None],\n",
      "        outcomes=None,\n",
      "\trespond=False,\n",
      "\tp_ignore_stimulus=0.0,\n",
      "        smooth=smooth)\n",
      "    r, c = 3, 3\n",
      "    n = r*c\n",
      "    exp = np.exp(np.log(0.5) / np.log(1./27))    \n",
      "    fig = plt.figure(fignum)\n",
      "    plt.clf()\n",
      "    gs = gridspec.GridSpec(r, c+1, width_ratios=[1]*c + [0.1])\n",
      "    plt.suptitle(\n",
      "        \"Posterior belief about mass ratio over time\\n\"\n",
      "        \"(%d samples, %s, model thresh=%d blocks, \"\n",
      "        \"fb thresh=%d blocks)\" % (\n",
      "            nsamps, \"smoothed\" if smooth else \"unsmoothed\",\n",
      "            nthresh, nthresh0),\n",
      "        fontsize=16)\n",
      "    plt.subplots_adjust(\n",
      "        wspace=0.2,\n",
      "        hspace=0.3,\n",
      "        left=0.1,\n",
      "        right=0.93,\n",
      "        top=0.85,\n",
      "        bottom=0.1)\n",
      "    kidxs = [0, 3, 6, 10, 13, 16, 20, 23, 26]\n",
      "    for i, kidx in enumerate(kidxs):\n",
      "        irow, icol = np.unravel_index(i, (r, c))\n",
      "        ax = plt.subplot(gs[irow, icol])\n",
      "        kappa = kappas[kidx]\n",
      "        subjname = \"True $\\kappa=%s$\" % float(ratios[kidx])\n",
      "        img = lat.plot_theta(\n",
      "            None, None, ax,\n",
      "            np.exp(model_theta[kidx]),\n",
      "            subjname,\n",
      "            exp=exp,\n",
      "            cmap=cmap,\n",
      "            fontsize=14)\n",
      "        yticks = np.round(\n",
      "            np.linspace(0, n_kappas-1, 5)).astype('i8')\n",
      "        if (i%c) == 0:\n",
      "            plt.yticks(yticks, ratios[yticks], fontsize=14)\n",
      "            plt.ylabel(\"Mass ratio ($\\kappa$)\", fontsize=14)\n",
      "        else:\n",
      "            plt.yticks(yticks, [])\n",
      "            plt.ylabel(\"\")\n",
      "        xticks = np.linspace(0, n_trial, 4).astype('i8')\n",
      "        if (n-i) <= c:\n",
      "            plt.xticks(xticks, xticks, fontsize=14)\n",
      "            plt.xlabel(\"Trial number ($t$)\", fontsize=14)\n",
      "        else:\n",
      "            plt.xticks(xticks, [])\n",
      "    logcticks = np.array([0, 0.001, 0.05, 0.25, 1])\n",
      "    cticks = np.exp(np.log(logcticks) * np.log(exp))\n",
      "    cax = plt.subplot(gs[:, -1])\n",
      "    cb = fig.colorbar(img, ax=ax, cax=cax, ticks=cticks)\n",
      "    cb.set_ticklabels(logcticks)\n",
      "    cax.set_title(\"$P_t(\\kappa)$\", fontsize=14)\n",
      "    return model_lh, model_joint, model_theta"
     ],
     "language": "python",
     "outputs": [],
     "prompt_number": 7
    },
    {
     "cell_type": "code",
     "collapsed": false,
     "input": [
      "nthresh0 = 1\n",
      "nthresh = 4\n",
      "nsamps = 300\n",
      "ext = ['png', 'pdf']\n",
      "f_save = True\n",
      "f_close = False\n",
      "\n",
      "fbbr, ipebr = calc_baserates(nthresh0, nthresh, nsamps=300)"
     ],
     "language": "python",
     "outputs": [],
     "prompt_number": 10
    },
    {
     "cell_type": "code",
     "collapsed": false,
     "input": [
      "feedback, ipe_samps = lat.make_observer_data(\n",
      "    nthresh0, nthresh, nsamps)\n",
      "model_lh, model_joint, model_theta = mo.ModelObserver(\n",
      "    ipe_samps,\n",
      "    feedback[:, None],\n",
      "    outcomes=None,\n",
      "    respond=False,\n",
      "    p_ignore_stimulus=0.0,\n",
      "    smooth=True)\n"
     ],
     "language": "python",
     "outputs": [],
     "prompt_number": 13
    },
    {
     "cell_type": "code",
     "collapsed": false,
     "input": [
      "# global parameters\n",
      "outcomes     = np.array([0, 1])                  # possible outcomes\n",
      "responses    = np.array([0, 1])                  # possible responses\n",
      "n_trial      = stimuli.shape[1]                  # number of trials\n",
      "n_kappas     = len(kappas)                       # number of mass ratios to consider\n",
      "n_responses  = responses.size                    # number of possible responses\n",
      "n_outcomes   = outcomes.size                     # number of possible outcomes\n",
      "kappa0       = 1.0                               # value of the true log mass ratio\n",
      "ikappa0      = np.nonzero(kappas==1.0)[0][0]     # index for the true mass ratio\n",
      "\n",
      "f_smooth = True\n",
      "p_ignore_stimulus = 0.0\n"
     ],
     "language": "python",
     "outputs": [],
     "prompt_number": 43
    },
    {
     "cell_type": "code",
     "collapsed": false,
     "input": [
      "ll = np.zeros((n_kappas, n_trial))\n",
      "\n",
      "for sidx in xrange(n_kappas):\n",
      "    \n",
      "    for t in xrange(0, n_trial):\n",
      "\n",
      "\tthetas_t = model_theta[sidx, t][None]\n",
      "        samps_t = ipe_samps[t]\n",
      "\t\n",
      "\t# compute likelihood of outcomes\n",
      "\tp_outcomes = np.exp(mo.predict(\n",
      "\t    thetas_t, outcomes[:, None], samps_t, f_smooth))\n",
      "\t\n",
      "\t# observe response\n",
      "\tresponse_t = int(human[0, t])\n",
      "\t\n",
      "\t# compute likelihood of response\n",
      "\tp_response = (p_outcomes[:, response_t]*(1-p_ignore_stimulus) + \n",
      "\t\t      (1./n_responses)*(p_ignore_stimulus))\n",
      "\n",
      "\tll[sidx, t] = np.log(p_response)\n"
     ],
     "language": "python",
     "outputs": [
      {
       "output_type": "pyout",
       "prompt_number": 50,
       "text": [
        "[<matplotlib.lines.Line2D at 0x107d7d350>]"
       ]
      },
      {
       "output_type": "display_data",
       "png": "[encoded data removed]"
      }
     ],
     "prompt_number": 50
    },
    {
     "cell_type": "code",
     "collapsed": false,
     "input": [
      "plt.plot(np.sum(ll, axis=1))\n"
     ],
     "language": "python",
     "outputs": []
    }
   ]
  }
 ]
}