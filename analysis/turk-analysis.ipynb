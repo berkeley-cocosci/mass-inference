{
 "metadata": {
  "name": "turk-analysis"
 },
 "nbformat": 3,
 "nbformat_minor": 0,
 "worksheets": [
  {
   "cells": [
    {
     "cell_type": "code",
     "collapsed": false,
     "input": [
      "# imports\n",
      "import collections\n",
      "import matplotlib.cm as cm\n",
      "import matplotlib.gridspec as gridspec\n",
      "import numpy as np\n",
      "import pandas as pd\n",
      "import pdb\n",
      "import pickle\n",
      "import scipy.stats\n",
      "import os\n",
      "import time\n",
      "\n",
      "import cogphysics\n",
      "import cogphysics.lib.circ as circ\n",
      "import cogphysics.lib.nplib as npl\n",
      "import cogphysics.lib.rvs as rvs\n",
      "\n",
      "import cogphysics.tower.analysis_tools as tat\n",
      "import cogphysics.tower.mass.model_observer as mo\n",
      "import cogphysics.tower.mass.learning_analysis_tools as lat\n",
      "\n",
      "from cogphysics.lib.corr import xcorr, partialcorr\n",
      "\n",
      "pd.set_option('line_width', 195)\n",
      "LINE = \"-\"*195\n"
     ],
     "language": "python",
     "outputs": [],
     "prompt_number": 1
    },
    {
     "cell_type": "code",
     "collapsed": false,
     "input": [
      "def print_data(name, data):\n",
      "    print name\n",
      "    print LINE\n",
      "    print data.to_string()\n",
      "    print\n",
      "\t"
     ],
     "language": "python",
     "outputs": [],
     "prompt_number": 2
    },
    {
     "cell_type": "code",
     "collapsed": false,
     "input": [
      "# global variables\n",
      "normalize = rvs.util.normalize\n",
      "weightedSample = rvs.util.weightedSample\n",
      "\n",
      "cmap = lat.make_cmap(\"lh\", (0, 0, 0), (.5, .5, .5), (1, 0, 0))\n",
      "\n",
      "nthresh0 = 1\n",
      "nthresh = 4\n"
     ],
     "language": "python",
     "outputs": [],
     "prompt_number": 3
    },
    {
     "cell_type": "code",
     "collapsed": false,
     "input": [
      "def make_truth_df(rawtruth, rawsstim, kappas, nthresh0):\n",
      "    truth = (rawtruth['nfellA'] + rawtruth['nfellB']) > nthresh0\n",
      "    df = pd.DataFrame(truth[..., 0].T, index=kappas, columns=rawsstim)\n",
      "    return df\n",
      "\n",
      "def make_ipe_df(rawipe, rawsstim, kappas, nthresh):\n",
      "    samps = (rawipe['nfellA'] + rawipe['nfellB']) > nthresh\n",
      "    alpha = np.sum(samps, axis=-1) + 0.5\n",
      "    beta = np.sum(1-samps, axis=-1) + 0.5\n",
      "    pfell_mean = alpha / (alpha + beta)\n",
      "    pfell_var = (alpha*beta) / ((alpha+beta)**2 * (alpha+beta+1))\n",
      "    pfell_std = np.sqrt(pfell_var)\n",
      "    pfell_meanstd = np.mean(pfell_std, axis=-1)\n",
      "    ipe = np.empty(pfell_mean.shape)\n",
      "    for idx in xrange(rawipe.shape[0]):\n",
      "        x = kappas\n",
      "        lam = pfell_meanstd[idx] * 10\n",
      "        kde_smoother = mo.make_kde_smoother(x, lam)\n",
      "        ipe[idx] = kde_smoother(pfell_mean[idx])\n",
      "    df = pd.DataFrame(ipe.T, index=kappas, columns=rawsstim)\n",
      "    return df\n",
      "\t\t  "
     ],
     "language": "python",
     "outputs": [],
     "prompt_number": 4
    },
    {
     "cell_type": "code",
     "collapsed": false,
     "input": [
      "######################################################################\n",
      "## Load model data\n",
      "reload(lat)\n",
      "rawtruth0, rawipe0, rawsstim, kappas = lat.load_model(\"stability\")\n",
      "\n",
      "truth0 = make_truth_df(rawtruth0, rawsstim, kappas, nthresh0)\n",
      "ipe0 = make_ipe_df(rawipe0, rawsstim, kappas, nthresh)\n",
      "\n",
      "n_kappas = len(kappas)\n",
      "ratios = 10 ** kappas\n",
      "ratios[kappas < 0] = np.round(ratios[kappas < 0], decimals=2)\n",
      "ratios[kappas >= 0] = np.round(ratios[kappas >= 0], decimals=1)\n"
     ],
     "language": "python",
     "outputs": [],
     "prompt_number": 5
    },
    {
     "cell_type": "code",
     "collapsed": false,
     "input": [
      "######################################################################\n",
      "## Load human data\n",
      "reload(lat)\n",
      "\n",
      "A_fb_training = lat.load_turk_df(\"A-fb\", \"training\")\n",
      "A_fb_posttest = lat.load_turk_df(\"A-fb\", \"posttest\")\n",
      "A_fb = lat.load_turk_df(\"A-fb\", \"experiment\")\n",
      "\n",
      "A_nfb_training = lat.load_turk_df(\"A-nfb\", \"training\")\n",
      "A_nfb_posttest = lat.load_turk_df(\"A-nfb\", \"posttest\")\n",
      "A_nfb = lat.load_turk_df(\"A-nfb\", \"experiment\")\n"
     ],
     "language": "python",
     "outputs": [
      {
       "output_type": "stream",
       "stream": "stdout",
       "text": [
        "Loading '../../turk-experiment/turk_training_data~A-fb.npz'\n",
        "Loading '../../turk-experiment/turk_posttest_data~A-fb.npz'\n",
        "Loading '../../turk-experiment/turk_experiment_data~A-fb.npz'\n",
        "Loading '../../turk-experiment/turk_training_data~A-nfb.npz'\n",
        "Loading '../../turk-experiment/turk_posttest_data~A-nfb.npz'\n",
        "Loading '../../turk-experiment/turk_experiment_data~A-nfb.npz'\n"
       ]
      }
     ],
     "prompt_number": 6
    },
    {
     "cell_type": "code",
     "collapsed": false,
     "input": [
      "print_data(\"A-fb TRAINING DATA\", A_fb_training)\n",
      "print_data(\"A-nfb TRAINING DATA\", A_nfb_training)\n"
     ],
     "language": "python",
     "outputs": [
      {
       "output_type": "stream",
       "stream": "stdout",
       "text": [
        "A-fb TRAINING DATA\n",
        "---------------------------------------------------------------------------------------------------------------------------------------------------------------------------------------------------\n",
        "trial                 3              2              0              5              1              4\n",
        "stimulus stability01023 stability01178 stability01491 stability01654 stability01893 stability01967\n",
        "pid                                                                                               \n",
        "002                True          False           True           True          False           True\n",
        "005               False          False           True           True          False           True\n",
        "007               False          False           True           True          False           True\n",
        "008               False          False           True           True          False           True\n",
        "018               False          False           True           True          False           True\n",
        "023               False           True           True           True          False          False\n",
        "025               False          False           True           True          False           True\n",
        "026               False           True           True           True          False           True\n",
        "033               False          False           True           True          False           True\n",
        "037                True           True          False           True          False          False\n",
        "038               False          False           True           True          False           True\n",
        "039                True          False          False           True          False           True\n",
        "040               False          False           True          False          False          False\n",
        "043               False          False          False           True          False           True\n",
        "046               False          False           True           True          False           True\n",
        "048               False          False           True           True           True           True\n",
        "050               False          False           True           True          False           True\n",
        "051               False          False           True           True          False           True\n",
        "\n",
        "A-nfb TRAINING DATA\n",
        "---------------------------------------------------------------------------------------------------------------------------------------------------------------------------------------------------\n",
        "trial                 2              0              5              3              4              1\n",
        "stimulus stability01023 stability01178 stability01491 stability01654 stability01893 stability01967\n",
        "pid                                                                                               \n",
        "004               False          False           True           True          False           True\n",
        "011               False          False           True           True          False           True\n",
        "013               False          False           True           True          False           True\n",
        "014               False          False           True           True          False           True\n",
        "015               False          False           True           True          False           True\n",
        "019               False          False           True           True          False           True\n",
        "020               False          False           True           True          False           True\n",
        "022               False          False           True           True          False           True\n",
        "024               False          False           True           True          False           True\n",
        "027               False          False           True           True          False           True\n",
        "029               False          False           True           True          False           True\n",
        "030               False          False           True           True          False           True\n",
        "032               False          False           True           True          False           True\n",
        "034               False          False           True           True          False           True\n",
        "035               False          False           True           True          False           True\n",
        "036               False          False           True          False          False           True\n",
        "041               False          False           True           True          False           True\n",
        "042               False          False           True           True          False           True\n",
        "044               False          False           True           True          False           True\n",
        "049               False          False           True           True          False           True\n",
        "052               False          False           True           True          False           True\n",
        "\n"
       ]
      }
     ],
     "prompt_number": 7
    },
    {
     "cell_type": "code",
     "collapsed": false,
     "input": [
      "print_data(\"A-fb POSTTEST DATA\", A_fb_posttest)\n",
      "print_data(\"A-nfb POSTTEST DATA\", A_nfb_posttest)\n"
     ],
     "language": "python",
     "outputs": [
      {
       "output_type": "stream",
       "stream": "stdout",
       "text": [
        "A-fb POSTTEST DATA\n",
        "---------------------------------------------------------------------------------------------------------------------------------------------------------------------------------------------------\n",
        "trial                 3              4              2              5              1              0\n",
        "stimulus stability01023 stability01178 stability01491 stability01654 stability01893 stability01967\n",
        "pid                                                                                               \n",
        "002               False          False           True           True          False           True\n",
        "005               False          False           True           True          False           True\n",
        "007               False          False           True           True          False           True\n",
        "008               False          False           True           True          False           True\n",
        "018               False          False          False           True          False           True\n",
        "023                True          False          False           True          False           True\n",
        "025               False          False           True           True          False           True\n",
        "026               False          False           True           True          False           True\n",
        "033               False          False           True           True          False           True\n",
        "037                True          False           True           True           True           True\n",
        "038               False          False          False           True          False           True\n",
        "039               False          False           True           True          False           True\n",
        "040               False          False           True           True          False           True\n",
        "043               False          False           True          False          False           True\n",
        "046               False          False           True           True          False           True\n",
        "048               False          False           True           True          False           True\n",
        "050               False          False          False           True          False           True\n",
        "051               False          False           True           True          False           True\n",
        "\n",
        "A-nfb POSTTEST DATA\n",
        "---------------------------------------------------------------------------------------------------------------------------------------------------------------------------------------------------\n",
        "trial                 3              5              2              0              1              4\n",
        "stimulus stability01023 stability01178 stability01491 stability01654 stability01893 stability01967\n",
        "pid                                                                                               \n",
        "004               False          False           True           True          False           True\n",
        "011               False          False           True           True          False           True\n",
        "013               False          False           True           True          False           True\n",
        "014               False          False           True           True          False           True\n",
        "015               False          False           True           True          False           True\n",
        "019               False          False           True           True          False           True\n",
        "020               False          False           True           True          False           True\n",
        "022               False          False           True           True          False           True\n",
        "024               False          False           True           True          False           True\n",
        "027               False          False           True           True          False           True\n",
        "029               False          False           True           True          False           True\n",
        "030               False          False           True           True          False           True\n",
        "032               False          False           True           True          False          False\n",
        "034               False          False           True           True          False           True\n",
        "035               False          False           True           True          False           True\n",
        "036               False          False           True           True          False           True\n",
        "041               False          False           True           True          False           True\n",
        "042               False          False           True           True          False           True\n",
        "044               False          False           True           True          False           True\n",
        "049               False          False           True           True          False           True\n",
        "052               False          False           True           True          False           True\n",
        "\n"
       ]
      }
     ],
     "prompt_number": 8
    },
    {
     "cell_type": "code",
     "collapsed": false,
     "input": [
      "print_data(\"A-fb EXPERIMENT DATA\", A_fb)\n",
      "print_data(\"A-nfb EXPERIMENT DATA\", A_nfb)\n"
     ],
     "language": "python",
     "outputs": [
      {
       "output_type": "stream",
       "stream": "stdout",
       "text": [
        "A-fb EXPERIMENT DATA\n",
        "---------------------------------------------------------------------------------------------------------------------------------------------------------------------------------------------------\n",
        "trial                                       17                                    7                                     6                                     4                                     0                                     15                                    14                                    1                                     13                                    2                                     3                                     8                                     11                                    19                                    5                                     10                                    16                                    9                                     18                                    12\n",
        "stimulus mass-tower_00057_0111000101~kappa-1.0 mass-tower_00086_1001001110~kappa-1.0 mass-tower_00107_1001100101~kappa-1.0 mass-tower_00114_1000111001~kappa-1.0 mass-tower_00118_0010110011~kappa-1.0 mass-tower_00134_1000111001~kappa-1.0 mass-tower_00144_1010101001~kappa-1.0 mass-tower_00174_1001101100~kappa-1.0 mass-tower_00309_1110101000~kappa-1.0 mass-tower_00313_1010110010~kappa-1.0 mass-tower_00328_1110011000~kappa-1.0 mass-tower_00352_0010011011~kappa-1.0 mass-tower_00357_0100110110~kappa-1.0 mass-tower_00358_1001011100~kappa-1.0 mass-tower_00392_0100110011~kappa-1.0 mass-tower_00418_0111100100~kappa-1.0 mass-tower_00524_0000110111~kappa-1.0 mass-tower_00629_1101010001~kappa-1.0 mass-tower_00767_1110101000~kappa-1.0 mass-tower_01736_0000101111~kappa-1.0\n",
        "pid                                                                                                                                                                                                                                                                                                                                                                                                                                                                                                                                                                                                                                                                                                                                                                                             \n",
        "002                                      False                                  True                                  True                                 False                                 False                                 False                                  True                                  True                                 False                                 False                                 False                                  True                                  True                                 False                                  True                                  True                                 False                                 False                                  True                                  True\n",
        "005                                       True                                  True                                  True                                 False                                  True                                 False                                  True                                 False                                  True                                 False                                 False                                  True                                  True                                 False                                  True                                 False                                 False                                  True                                  True                                  True\n",
        "007                                      False                                  True                                 False                                 False                                  True                                 False                                  True                                 False                                 False                                 False                                 False                                 False                                 False                                 False                                 False                                 False                                 False                                 False                                  True                                  True\n",
        "008                                       True                                  True                                 False                                 False                                  True                                 False                                  True                                 False                                 False                                 False                                 False                                  True                                 False                                  True                                  True                                  True                                  True                                  True                                  True                                 False\n",
        "018                                      False                                 False                                  True                                 False                                 False                                  True                                  True                                  True                                 False                                 False                                 False                                  True                                  True                                 False                                  True                                 False                                 False                                  True                                  True                                  True\n",
        "023                                      False                                  True                                  True                                  True                                 False                                  True                                  True                                  True                                 False                                  True                                  True                                  True                                  True                                  True                                 False                                  True                                  True                                  True                                 False                                  True\n",
        "025                                       True                                 False                                  True                                 False                                 False                                  True                                  True                                 False                                 False                                 False                                  True                                  True                                 False                                 False                                  True                                  True                                 False                                 False                                  True                                 False\n",
        "026                                      False                                 False                                  True                                  True                                  True                                 False                                  True                                 False                                 False                                 False                                 False                                  True                                  True                                 False                                  True                                 False                                  True                                 False                                  True                                  True\n",
        "033                                      False                                  True                                  True                                  True                                 False                                 False                                  True                                 False                                 False                                 False                                 False                                  True                                 False                                 False                                  True                                  True                                  True                                 False                                  True                                  True\n",
        "037                                      False                                  True                                  True                                 False                                  True                                  True                                 False                                 False                                 False                                  True                                  True                                 False                                  True                                 False                                  True                                  True                                  True                                  True                                  True                                 False\n",
        "038                                      False                                 False                                  True                                  True                                 False                                 False                                  True                                 False                                 False                                 False                                 False                                  True                                 False                                 False                                  True                                  True                                 False                                 False                                  True                                  True\n",
        "039                                      False                                  True                                 False                                 False                                 False                                 False                                  True                                  True                                 False                                  True                                 False                                 False                                  True                                 False                                  True                                  True                                  True                                 False                                 False                                 False\n",
        "040                                      False                                  True                                 False                                  True                                 False                                 False                                  True                                 False                                 False                                 False                                 False                                  True                                 False                                 False                                  True                                 False                                  True                                 False                                 False                                 False\n",
        "043                                      False                                  True                                  True                                 False                                  True                                  True                                  True                                 False                                  True                                 False                                 False                                 False                                  True                                  True                                  True                                  True                                 False                                 False                                 False                                  True\n",
        "046                                      False                                  True                                  True                                 False                                 False                                  True                                  True                                 False                                 False                                 False                                 False                                  True                                 False                                 False                                  True                                  True                                 False                                 False                                  True                                  True\n",
        "048                                      False                                 False                                  True                                 False                                  True                                  True                                  True                                 False                                 False                                 False                                 False                                 False                                  True                                  True                                  True                                  True                                  True                                 False                                  True                                 False\n",
        "050                                       True                                  True                                  True                                 False                                 False                                 False                                  True                                 False                                 False                                 False                                 False                                 False                                 False                                  True                                  True                                  True                                 False                                  True                                  True                                 False\n",
        "051                                       True                                  True                                  True                                 False                                  True                                 False                                  True                                 False                                 False                                 False                                 False                                  True                                  True                                 False                                  True                                 False                                  True                                 False                                  True                                  True"
       ]
      },
      {
       "output_type": "stream",
       "stream": "stdout",
       "text": [
        "\n",
        "\n",
        "A-nfb EXPERIMENT DATA\n",
        "---------------------------------------------------------------------------------------------------------------------------------------------------------------------------------------------------\n",
        "trial                                       10                                    16                                    18                                    17                                    7                                     13                                    2                                     6                                     1                                     14                                    11                                    4                                     8                                     5                                     15                                    9                                     3                                     0                                     19                                    12\n",
        "stimulus mass-tower_00057_0111000101~kappa-1.0 mass-tower_00086_1001001110~kappa-1.0 mass-tower_00107_1001100101~kappa-1.0 mass-tower_00114_1000111001~kappa-1.0 mass-tower_00118_0010110011~kappa-1.0 mass-tower_00134_1000111001~kappa-1.0 mass-tower_00144_1010101001~kappa-1.0 mass-tower_00174_1001101100~kappa-1.0 mass-tower_00309_1110101000~kappa-1.0 mass-tower_00313_1010110010~kappa-1.0 mass-tower_00328_1110011000~kappa-1.0 mass-tower_00352_0010011011~kappa-1.0 mass-tower_00357_0100110110~kappa-1.0 mass-tower_00358_1001011100~kappa-1.0 mass-tower_00392_0100110011~kappa-1.0 mass-tower_00418_0111100100~kappa-1.0 mass-tower_00524_0000110111~kappa-1.0 mass-tower_00629_1101010001~kappa-1.0 mass-tower_00767_1110101000~kappa-1.0 mass-tower_01736_0000101111~kappa-1.0\n",
        "pid                                                                                                                                                                                                                                                                                                                                                                                                                                                                                                                                                                                                                                                                                                                                                                                             \n",
        "004                                      False                                  True                                 False                                 False                                  True                                 False                                 False                                 False                                 False                                 False                                  True                                 False                                  True                                 False                                  True                                  True                                 False                                  True                                  True                                  True\n",
        "011                                       True                                 False                                 False                                 False                                 False                                 False                                  True                                 False                                  True                                 False                                 False                                 False                                  True                                 False                                 False                                  True                                  True                                 False                                  True                                  True\n",
        "013                                      False                                  True                                 False                                 False                                 False                                 False                                  True                                  True                                 False                                 False                                 False                                  True                                  True                                 False                                  True                                 False                                 False                                 False                                  True                                  True\n",
        "014                                      False                                  True                                 False                                 False                                 False                                 False                                  True                                 False                                 False                                 False                                 False                                 False                                  True                                 False                                  True                                 False                                 False                                 False                                 False                                 False\n",
        "015                                       True                                 False                                  True                                  True                                 False                                 False                                  True                                  True                                 False                                  True                                 False                                  True                                  True                                  True                                 False                                 False                                 False                                  True                                  True                                  True\n",
        "019                                       True                                 False                                  True                                 False                                 False                                 False                                  True                                 False                                 False                                 False                                 False                                  True                                 False                                 False                                  True                                  True                                 False                                  True                                  True                                  True\n",
        "020                                       True                                  True                                  True                                 False                                  True                                 False                                  True                                  True                                 False                                  True                                 False                                  True                                  True                                  True                                  True                                 False                                 False                                  True                                  True                                  True\n",
        "022                                       True                                  True                                  True                                  True                                  True                                 False                                  True                                 False                                 False                                 False                                 False                                  True                                 False                                 False                                  True                                  True                                 False                                  True                                  True                                  True\n",
        "024                                       True                                  True                                 False                                 False                                  True                                 False                                  True                                  True                                 False                                 False                                 False                                  True                                 False                                 False                                  True                                 False                                 False                                 False                                 False                                  True\n",
        "027                                       True                                  True                                  True                                 False                                  True                                  True                                  True                                 False                                 False                                  True                                 False                                  True                                  True                                 False                                 False                                 False                                  True                                  True                                  True                                 False\n",
        "029                                      False                                 False                                  True                                 False                                 False                                 False                                  True                                 False                                 False                                 False                                 False                                  True                                 False                                 False                                  True                                 False                                 False                                  True                                  True                                  True\n",
        "030                                      False                                  True                                  True                                 False                                 False                                  True                                  True                                 False                                 False                                 False                                 False                                  True                                 False                                 False                                  True                                 False                                  True                                 False                                  True                                  True\n",
        "032                                      False                                  True                                  True                                  True                                 False                                  True                                  True                                  True                                  True                                 False                                 False                                  True                                 False                                  True                                  True                                  True                                  True                                 False                                  True                                  True\n",
        "034                                      False                                  True                                  True                                 False                                  True                                  True                                  True                                  True                                  True                                  True                                 False                                  True                                  True                                 False                                  True                                  True                                  True                                 False                                 False                                 False\n",
        "035                                       True                                  True                                 False                                 False                                  True                                  True                                  True                                 False                                 False                                 False                                  True                                  True                                  True                                 False                                 False                                 False                                  True                                  True                                  True                                 False\n",
        "036                                      False                                  True                                  True                                 False                                  True                                 False                                  True                                  True                                  True                                  True                                  True                                 False                                  True                                  True                                  True                                 False                                  True                                 False                                 False                                 False\n",
        "041                                      False                                  True                                 False                                 False                                  True                                  True                                  True                                  True                                 False                                  True                                  True                                  True                                  True                                  True                                  True                                 False                                 False                                 False                                  True                                  True\n",
        "042                                       True                                 False                                  True                                 False                                  True                                 False                                  True                                 False                                 False                                 False                                 False                                 False                                 False                                 False                                  True                                 False                                 False                                 False                                  True                                 False\n",
        "044                                      False                                  True                                  True                                 False                                  True                                  True                                  True                                  True                                  True                                  True                                  True                                  True                                  True                                  True                                  True                                 False                                 False                                 False                                  True                                  True\n",
        "049                                       True                                  True                                 False                                 False                                 False                                 False                                  True                                  True                                  True                                 False                                 False                                  True                                 False                                 False                                 False                                 False                                  True                                 False                                  True                                  True\n",
        "052                                      False                                  True                                  True                                 False                                 False                                 False                                  True                                 False                                 False                                 False                                 False                                  True                                 False                                 False                                  True                                 False                                 False                                 False                                 False                                  True"
       ]
      },
      {
       "output_type": "stream",
       "stream": "stdout",
       "text": [
        "\n",
        "\n"
       ]
      }
     ],
     "prompt_number": 9
    },
    {
     "cell_type": "code",
     "collapsed": false,
     "input": [
      "# raw correlation between feedback and no feedback\n",
      "m1 = np.mean(np.asarray(A_fb), axis=0)\n",
      "m2 = np.mean(np.asarray(A_nfb), axis=0)\n",
      "corr = xcorr(m1, m2)\n",
      "print \"(all) feedback v no-feedback: rho = %.4f\" % corr\n"
     ],
     "language": "python",
     "outputs": [
      {
       "output_type": "stream",
       "stream": "stdout",
       "text": [
        "(all) feedback v no-feedback: rho = 0.8206\n"
       ]
      }
     ],
     "prompt_number": 10
    },
    {
     "cell_type": "code",
     "collapsed": false,
     "input": [
      "# bootstrapped correlations\n",
      "reload(lat)\n",
      "\n",
      "nboot = 10000\n",
      "nsamp = 9\n",
      "with_replacement = False\n",
      "\n",
      "corrs = lat.bootcorr(\n",
      "    np.asarray(A_fb), np.asarray(A_nfb), \n",
      "    nboot=nboot, \n",
      "    nsamp=nsamp,\n",
      "    with_replacement=with_replacement)\n",
      "meancorr = np.median(corrs)\n",
      "semcorr = scipy.stats.sem(corrs)\n",
      "print \"(bootstrap) feedback v no-feedback: rho = %.4f +/- %.4f\" % (meancorr, semcorr)\n",
      "\n",
      "corrs = lat.bootcorr_wc(\n",
      "    np.asarray(A_fb), \n",
      "    nboot=nboot, \n",
      "    nsamp=nsamp,\n",
      "    with_replacement=with_replacement)\n",
      "meancorr = np.median(corrs)\n",
      "semcorr = scipy.stats.sem(corrs)\n",
      "print \"(bootstrap) feedback v feedback: rho = %.4f +/- %.4f\" % (meancorr, semcorr)\n",
      "\n",
      "corrs = lat.bootcorr_wc(\n",
      "    np.asarray(A_nfb), \n",
      "    nboot=nboot,\n",
      "    nsamp=nsamp,\n",
      "    with_replacement=with_replacement)\n",
      "meancorr = np.median(corrs)\n",
      "semcorr = scipy.stats.sem(corrs)\n",
      "print \"(bootstrap) no-feedback v no-feedback: rho = %.4f +/- %.4f\" % (meancorr, semcorr)\n"
     ],
     "language": "python",
     "outputs": [
      {
       "output_type": "stream",
       "stream": "stdout",
       "text": [
        "(bootstrap) feedback v no-feedback: rho = 0.6937 +/- 0.0011\n",
        "(bootstrap) feedback v feedback: rho = 0.7383 +/- 0.0007"
       ]
      },
      {
       "output_type": "stream",
       "stream": "stdout",
       "text": [
        "\n",
        "(bootstrap) no-feedback v no-feedback: rho = 0.6735 +/- 0.0010"
       ]
      },
      {
       "output_type": "stream",
       "stream": "stdout",
       "text": [
        "\n"
       ]
      }
     ],
     "prompt_number": 11
    },
    {
     "cell_type": "code",
     "collapsed": false,
     "input": [
      "plt.close('all')\n",
      "\n",
      "hstim = np.array([x.split(\"~\")[0] for x in zip(*A_fb.columns)[1]])\n",
      "sstim = np.array(ipe0.columns)\n",
      "\n",
      "idx = np.nonzero((sstim[:, None] == hstim[None, :]))[0]\n",
      "truth = truth0.T.ix[idx].T\n",
      "ipe = ipe0.T.ix[idx].T\n",
      "\n",
      "p_resp_fb = np.empty((A_fb.shape[0], n_kappas))\n",
      "p_resp_nfb = np.empty((A_nfb.shape[0], n_kappas))\n",
      "p_response_mean = np.empty((n_kappas, 2))\n",
      "p_response_sem = np.empty((n_kappas, 2))\n",
      "\n",
      "for kidx, kappa in enumerate(kappas):\n",
      "    resp_fb = ((A_fb * np.asarray(ipe.ix[kappa])) + \n",
      "\t       ((1-A_fb) * np.asarray(1-ipe.ix[kappa])))\n",
      "    resp_nfb = ((A_nfb * np.asarray(ipe.ix[kappa])) + \n",
      "\t\t((1-A_nfb) * np.asarray(1-ipe.ix[kappa])))\n",
      "\n",
      "    p_resp_fb[:, kidx] = np.log(resp_fb).sum(axis=1)\n",
      "    p_resp_nfb[:, kidx] = np.log(resp_nfb).sum(axis=1)\n",
      "\n",
      "# p_resp_fb = normalize(p_resp_fb, axis=1)[1]\n",
      "# p_resp_nfb = normalize(p_resp_nfb, axis=1)[1]\n",
      "\t\n",
      "p_response_mean[:, 0] = np.exp(p_resp_fb).mean(axis=0)\n",
      "p_response_mean[:, 1] = np.exp(p_resp_nfb).mean(axis=0)\n",
      "p_response_sem[:, 0] = scipy.stats.sem(np.exp(p_resp_fb), axis=0)\n",
      "p_response_sem[:, 1] = scipy.stats.sem(np.exp(p_resp_nfb), axis=0)\n",
      "\n",
      "x = np.arange(n_kappas)\n",
      "upper = np.log(p_response_mean + p_response_sem).T\n",
      "lower = np.log(p_response_mean - p_response_sem).T\n",
      "mean = np.log(p_response_mean).T\n",
      "\n",
      "# for sidx in xrange(p_resp_fb.shape[0]):\n",
      "#     plt.plot(x, p_resp_fb[sidx], color='#FFCCCC')\n",
      "# for sidx in xrange(p_resp_nfb.shape[0]):\n",
      "#     plt.plot(x, p_resp_nfb[sidx], color='#CCCCFF')\n",
      "\n",
      "plt.fill_between(x, lower[0], upper[0], color='#FF0000', alpha=0.1)\n",
      "plt.fill_between(x, lower[1], upper[1], color='#0000FF', alpha=0.1)\n",
      "plt.plot(x, mean[0], label=\"feedback\", color='#FF0000', linewidth=2)\n",
      "plt.plot(x, mean[1], label=\"no feedback\", color='#0000FF', linewidth=2)\n",
      "plt.xticks(x, ratios, rotation=90)\n",
      "plt.xlabel(\"Mass ratio\")\n",
      "plt.ylabel(\"Negative log likelihood\")\n",
      "plt.legend(loc=4)\n",
      "plt.xlim(x[0], x[-1])\n",
      "#plt.ylim(-15, 0)\n",
      "plt.title(\"Likelihood of human responses under different models\")\n"
     ],
     "language": "python",
     "outputs": [
      {
       "output_type": "pyout",
       "prompt_number": 23,
       "text": [
        "<matplotlib.text.Text at 0x10d7b1510>"
       ]
      },
      {
       "output_type": "display_data",
       "png": "[encoded data removed]"
      }
     ],
     "prompt_number": 23
    },
    {
     "cell_type": "code",
     "collapsed": false,
     "input": [
      "model_same = np.array((mean[:, list(kappas).index(0.0)],\n",
      "\t\t       lower[:, list(kappas).index(0.0)],\n",
      "\t\t       upper[:, list(kappas).index(0.0)])).T\n",
      "model_true = np.array((mean[:, list(kappas).index(1.0)],\n",
      "\t\t       lower[:, list(kappas).index(1.0)],\n",
      "\t\t       upper[:, list(kappas).index(1.0)])).T\n",
      "model_opposite = np.array((mean[:, list(kappas).index(-1.0)],\n",
      "\t\t\t   lower[:, list(kappas).index(-1.0)],\n",
      "\t\t\t   upper[:, list(kappas).index(-1.0)])).T\n",
      "\n"
     ],
     "language": "python",
     "outputs": [],
     "prompt_number": 24
    },
    {
     "cell_type": "code",
     "collapsed": false,
     "input": [
      "# random model\n",
      "model_random = np.array([[np.log(0.5)*A_fb.shape[1]]*3,\n",
      "\t\t\t [np.log(0.5)*A_nfb.shape[1]]*3])\n",
      "model_random\n"
     ],
     "language": "python",
     "outputs": [
      {
       "output_type": "pyout",
       "prompt_number": 14,
       "text": [
        "array([[-13.86294361, -13.86294361, -13.86294361],\n",
        "       [-13.86294361, -13.86294361, -13.86294361]])"
       ]
      }
     ],
     "prompt_number": 14
    },
    {
     "cell_type": "code",
     "collapsed": false,
     "input": [
      "# global parameters\n",
      "outcomes     = np.array([0, 1])                  # possible outcomes\n",
      "responses    = np.array([0, 1])                  # possible responses\n",
      "n_trial      = hstim.size\n",
      "n_kappas     = len(kappas)                       # number of mass ratios to consider\n",
      "n_responses  = responses.size                    # number of possible responses\n",
      "n_outcomes   = outcomes.size                     # number of possible outcomes\n",
      "kappa0       = 1.0                               # value of the true log mass ratio\n",
      "ikappa0      = np.nonzero(kappas==1.0)[0][0]     # index for the true mass ratio\n",
      "\n",
      "f_smooth = True\n",
      "p_ignore_stimulus = 0.0\n"
     ],
     "language": "python",
     "outputs": [],
     "prompt_number": 15
    },
    {
     "cell_type": "code",
     "collapsed": false,
     "input": [
      "hstim = np.array([x.split(\"~\")[0] for x in zip(*A_fb.columns)[1]])\n",
      "sstim = np.array(ipe0.columns)\n",
      "idx = np.nonzero((sstim[:, None] == hstim[None, :]))[0]\n",
      "\n",
      "feedback = np.asarray(truth).T[..., None]\n",
      "ipe_samps = ((rawipe0[idx]['nfellA'] + rawipe0[idx]['nfellB']) > nthresh)[..., None]\n"
     ],
     "language": "python",
     "outputs": [],
     "prompt_number": 16
    },
    {
     "cell_type": "code",
     "collapsed": false,
     "input": [
      "order_fb = np.argsort(zip(*A_fb.columns)[0])\n",
      "order_nfb = np.argsort(zip(*A_nfb.columns)[0])\n"
     ],
     "language": "python",
     "outputs": [],
     "prompt_number": 17
    },
    {
     "cell_type": "code",
     "collapsed": false,
     "input": [
      "model_lh, model_joint, model_theta = mo.ModelObserver(\n",
      "    ipe_samps,\n",
      "    feedback[:, None],\n",
      "    outcomes=None,\n",
      "    respond=False,\n",
      "    p_ignore_stimulus=p_ignore_stimulus,\n",
      "    smooth=f_smooth)\n"
     ],
     "language": "python",
     "outputs": [],
     "prompt_number": 18
    },
    {
     "cell_type": "code",
     "collapsed": false,
     "input": [
      "def compute_ll(resp, order):\n",
      "    ll = np.empty(resp.shape)\n",
      "\n",
      "    for t in order:\n",
      "\n",
      "\tthetas_t = model_theta[ikappa0, t][None]\n",
      "\tsamps_t = ipe_samps[t]\n",
      "\t\n",
      "\t# compute likelihood of outcomes\n",
      "\tp_outcomes = np.exp(mo.predict(\n",
      "\t    thetas_t, outcomes[:, None], samps_t, f_smooth)).ravel()\n",
      "\t\n",
      "\t# observe response\n",
      "\tp_response = (resp[:, t]*p_outcomes[1]) + ((1-resp[:, t])*p_outcomes[0])\n",
      "\n",
      "\tll[:, t] = np.log(p_response)\n",
      "\n",
      "    return ll\n"
     ],
     "language": "python",
     "outputs": [],
     "prompt_number": 19
    },
    {
     "cell_type": "code",
     "collapsed": false,
     "input": [
      "lfb = np.exp(np.sum(compute_ll(np.asarray(A_fb), order_fb), axis=1))\n",
      "lnfb = np.exp(np.sum(compute_ll(np.asarray(A_nfb), order_nfb), axis=1))\n",
      "\n",
      "mean_p = np.array([np.mean(lfb), np.mean(lnfb)])\n",
      "sem_p = np.array([scipy.stats.sem(lfb), scipy.stats.sem(lnfb)])\n",
      "\n",
      "mean = np.log(mean_p)\n",
      "lower = np.log(mean_p - sem_p)\n",
      "upper = np.log(mean_p + sem_p)\n",
      "\n",
      "model_learn = np.array([mean, lower, upper]).T\n"
     ],
     "language": "python",
     "outputs": [],
     "prompt_number": 20
    },
    {
     "cell_type": "code",
     "collapsed": false,
     "input": [
      "models = np.array([model_random,\n",
      "\t\t   model_opposite,\n",
      "\t\t   model_same,\n",
      "\t\t   model_true,\n",
      "\t\t   model_learn]).T\n",
      "height = models[0]\n",
      "err = np.abs(height[None] - models[1:])\n",
      "\n",
      "x = np.arange(models.shape[2])\n",
      "xfb = x - 0.2\n",
      "xnfb = x + 0.2\n",
      "\n",
      "plt.close('all')\n",
      "plt.bar(xfb, height[0], yerr=err[:, 0], color='#FF0000', ecolor='k', align='center', width=0.4, label=\"feedback\")\n",
      "plt.bar(xnfb, height[1], yerr=err[:, 1], color='#0000FF', ecolor='k', align='center', width=0.4, label=\"no feedback\")\n",
      "plt.xticks(x, [\"random\", \"r=0.1\", \"r=1.0\", \"r=10.0\", \"learn\"])\n",
      "plt.ylim(-20, -12)\n",
      "plt.legend(loc=0)\n",
      "plt.xlabel(\"Model\")\n",
      "plt.ylabel(\"Negative log likelihood of responses\")\n",
      "plt.title(\"Model performance\")\n"
     ],
     "language": "python",
     "outputs": [
      {
       "output_type": "pyout",
       "prompt_number": 21,
       "text": [
        "<matplotlib.text.Text at 0x10c7c2350>"
       ]
      },
      {
       "output_type": "display_data",
       "png": "[encoded data removed]"
      }
     ],
     "prompt_number": 21
    },
    {
     "cell_type": "code",
     "collapsed": false,
     "input": [],
     "language": "python",
     "outputs": []
    }
   ]
  }
 ]
}