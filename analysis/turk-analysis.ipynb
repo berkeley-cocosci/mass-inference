{
 "metadata": {
  "name": "turk-analysis"
 },
 "nbformat": 3,
 "nbformat_minor": 0,
 "worksheets": [
  {
   "cells": [
    {
     "cell_type": "code",
     "collapsed": false,
     "input": [
      "# imports\n",
      "import collections\n",
      "import matplotlib.cm as cm\n",
      "import matplotlib.gridspec as gridspec\n",
      "import numpy as np\n",
      "import pandas as pd\n",
      "import pdb\n",
      "import pickle\n",
      "import scipy.stats\n",
      "import os\n",
      "import time\n",
      "\n",
      "import cogphysics\n",
      "import cogphysics.lib.circ as circ\n",
      "import cogphysics.lib.nplib as npl\n",
      "import cogphysics.lib.rvs as rvs\n",
      "\n",
      "import cogphysics.tower.analysis_tools as tat\n",
      "import cogphysics.tower.mass.model_observer as mo\n",
      "import cogphysics.tower.mass.learning_analysis_tools as lat\n",
      "\n",
      "from cogphysics.lib.corr import xcorr, partialcorr\n",
      "\n",
      "pd.set_option('line_width', 195)\n",
      "LINE = \"-\"*195\n"
     ],
     "language": "python",
     "outputs": [],
     "prompt_number": 1
    },
    {
     "cell_type": "code",
     "collapsed": false,
     "input": [
      "def print_data(name, data):\n",
      "    print name\n",
      "    print LINE\n",
      "    print data.to_string()\n",
      "    print\n",
      "\t"
     ],
     "language": "python",
     "outputs": [],
     "prompt_number": 2
    },
    {
     "cell_type": "code",
     "collapsed": false,
     "input": [
      "# global variables\n",
      "normalize = rvs.util.normalize\n",
      "weightedSample = rvs.util.weightedSample\n",
      "\n",
      "cmap = lat.make_cmap(\"lh\", (0, 0, 0), (.5, .5, .5), (1, 0, 0))\n"
     ],
     "language": "python",
     "outputs": [],
     "prompt_number": 3
    },
    {
     "cell_type": "code",
     "collapsed": false,
     "input": [
      "def make_truth_df(rawtruth, rawsstim, kappas, nthresh0):\n",
      "    nfell = (rawtruth['nfellA'] + rawtruth['nfellB']) / 10.0\n",
      "    truth = nfell > nthresh0\n",
      "    truth[np.isnan(nfell)] = 0.5\n",
      "    df = pd.DataFrame(truth[..., 0].T, index=kappas, columns=rawsstim)\n",
      "    return df\n",
      "\n",
      "def make_ipe_df(rawipe, rawsstim, kappas, nthresh):\n",
      "    nfell = (rawipe['nfellA'] + rawipe['nfellB']) / 10.0\n",
      "    samps = (nfell > nthresh).astype('f8')\n",
      "    # samps = nfell.copy()\n",
      "    samps[np.isnan(nfell)] = 0.5\n",
      "    alpha = np.sum(samps, axis=-1) + 0.5\n",
      "    beta = np.sum(1-samps, axis=-1) + 0.5\n",
      "    pfell_mean = alpha / (alpha + beta)\n",
      "    pfell_var = (alpha*beta) / ((alpha+beta)**2 * (alpha+beta+1))\n",
      "    pfell_std = np.sqrt(pfell_var)\n",
      "    pfell_meanstd = np.mean(pfell_std, axis=-1)\n",
      "    ipe = np.empty(pfell_mean.shape)\n",
      "    for idx in xrange(rawipe.shape[0]):\n",
      "        x = kappas\n",
      "        lam = pfell_meanstd[idx] * 10\n",
      "        kde_smoother = mo.make_kde_smoother(x, lam)\n",
      "        ipe[idx] = kde_smoother(pfell_mean[idx])\n",
      "    df = pd.DataFrame(ipe.T, index=kappas, columns=rawsstim)\n",
      "    return df\n",
      "\t\t  "
     ],
     "language": "python",
     "outputs": [],
     "prompt_number": 4
    },
    {
     "cell_type": "code",
     "collapsed": false,
     "input": [
      "def plot_smoothing(rawipe, stims, nstim, nthresh):\n",
      "    nfell = (rawipe['nfellA'] + rawipe['nfellB']) / 10.0\n",
      "    samps = (nfell > nthresh).astype('f8')\n",
      "    # samps = nfell.copy()\n",
      "    samps[np.isnan(nfell)] = 0.5\n",
      "    # samps = np.concatenate([\n",
      "    #     ((rawipe['nfellA'] + rawipe['nfellB']) > nthresh).astype(\n",
      "    #         'int')[..., None]], axis=-1)[..., 0][..., :nsamps]\n",
      "    alpha = np.sum(samps, axis=-1) + 0.5\n",
      "    beta = np.sum(1-samps, axis=-1) + 0.5\n",
      "    pfell_mean = alpha / (alpha + beta)\n",
      "    pfell_var = (alpha*beta) / ((alpha+beta)**2 * (alpha+beta+1))\n",
      "    pfell_std = np.sqrt(pfell_var)\n",
      "    pfell_meanstd = np.mean(pfell_std, axis=-1)\n",
      "    colors = cm.hsv(np.round(np.linspace(0, 220, nstim)).astype('i8'))\n",
      "    xticks = np.linspace(-1.3, 1.3, 7)\n",
      "    xticks10 = 10 ** xticks\n",
      "    xticks10[xticks < 0] = np.round(xticks10[xticks < 0], decimals=2)\n",
      "    xticks10[xticks >= 0] = np.round(xticks10[xticks >= 0], decimals=1)\n",
      "    yticks = np.linspace(0, 1, 3)\n",
      "\n",
      "    # plt.figure(fignum)\n",
      "    plt.figure()\n",
      "    plt.clf()\n",
      "    plt.suptitle(\n",
      "        \"Likelihood function for feedback given mass ratio\\n\"\n",
      "        \"(%d IPE samples, threshold=%d%% blocks)\" % (rawipe0.shape[2], nthresh*100),\n",
      "        fontsize=16)\n",
      "    plt.ylim(0, 1)\n",
      "    plt.xticks(xticks, xticks10)\n",
      "    plt.xlabel(\"Mass ratio ($r$)\", fontsize=14)\n",
      "    plt.yticks(yticks, yticks)\n",
      "    plt.ylabel(\"\\Pr(fall|$r$, $S$)\", fontsize=14)\n",
      "    plt.grid(True)\n",
      "    order = (range(0, stims.size, 2) + range(1, stims.size, 2))[:nstim]\n",
      "    for idx in xrange(nstim):\n",
      "        i = order[idx]\n",
      "        x = kappas\n",
      "        #xn = np.linspace(-1.5, 1.5, 100)\n",
      "        lam = pfell_meanstd[i] * 10\n",
      "        kde_smoother = mo.make_kde_smoother(x, lam)\n",
      "        y_mean = kde_smoother(pfell_mean[i])\n",
      "        plt.plot(x, y_mean,\n",
      "                 color=colors[idx],\n",
      "                 linewidth=3)        \n",
      "        plt.errorbar(x, pfell_mean[i], pfell_std[i], None,\n",
      "                     color=colors[idx], fmt='o',\n",
      "                     markeredgecolor=colors[idx],\n",
      "                     markersize=5,\n",
      "                     label=str(stims[i]).split(\"_\")[1])\n",
      "    # plt.legend(loc=8, prop={'size':12}, numpoints=1,\n",
      "    #            scatterpoints=1, ncol=3, title=\"Stimuli\")\n"
     ],
     "language": "python",
     "outputs": [],
     "prompt_number": 5
    },
    {
     "cell_type": "code",
     "collapsed": false,
     "input": [
      "def plot_belief(model_theta):\n",
      "    r, c = 3, 3\n",
      "    n = r*c\n",
      "    exp = np.exp(np.log(0.5) / np.log(1./27))    \n",
      "    # fig = plt.figure(fignum)\n",
      "    fig = plt.figure()\n",
      "    plt.clf()\n",
      "    gs = gridspec.GridSpec(r, c+1, width_ratios=[1]*c + [0.1])\n",
      "    plt.suptitle(\n",
      "        \"Posterior belief about mass ratio over time\",\n",
      "        fontsize=16)\n",
      "    plt.subplots_adjust(\n",
      "        wspace=0.2,\n",
      "        hspace=0.3,\n",
      "        left=0.1,\n",
      "        right=0.93,\n",
      "        top=0.85,\n",
      "        bottom=0.1)\n",
      "    kidxs = [0, 3, 6, 10, 13, 16, 20, 23, 26]\n",
      "    for i, kidx in enumerate(kidxs):\n",
      "        irow, icol = np.unravel_index(i, (r, c))\n",
      "        ax = plt.subplot(gs[irow, icol])\n",
      "        kappa = kappas[kidx]\n",
      "        subjname = \"True $r=%s$\" % float(ratios[kidx])\n",
      "        img = lat.plot_theta(\n",
      "            None, None, ax,\n",
      "            np.exp(model_theta[kidx]),\n",
      "            subjname,\n",
      "            exp=exp,\n",
      "            cmap=cmap,\n",
      "            fontsize=14)\n",
      "        yticks = np.round(\n",
      "            np.linspace(0, n_kappas-1, 5)).astype('i8')\n",
      "        if (i%c) == 0:\n",
      "            plt.yticks(yticks, ratios[yticks], fontsize=14)\n",
      "            plt.ylabel(\"Mass ratio ($r$)\", fontsize=14)\n",
      "        else:\n",
      "            plt.yticks(yticks, [])\n",
      "            plt.ylabel(\"\")\n",
      "        xticks = np.linspace(0, n_trial, 4).astype('i8')\n",
      "        if (n-i) <= c:\n",
      "            plt.xticks(xticks, xticks, fontsize=14)\n",
      "            plt.xlabel(\"Trial number ($t$)\", fontsize=14)\n",
      "        else:\n",
      "            plt.xticks(xticks, [])\n",
      "    logcticks = np.array([0, 0.001, 0.05, 0.25, 1])\n",
      "    cticks = np.exp(np.log(logcticks) * np.log(exp))\n",
      "    cax = plt.subplot(gs[:, -1])\n",
      "    cb = fig.colorbar(img, ax=ax, cax=cax, ticks=cticks)\n",
      "    cb.set_ticklabels(logcticks)\n",
      "    cax.set_title(\"$\\Pr(r|B_t)$\", fontsize=14)\n",
      "    "
     ],
     "language": "python",
     "outputs": [],
     "prompt_number": 6
    },
    {
     "cell_type": "code",
     "collapsed": false,
     "input": [
      "########################################################################\n",
      "def compute_ll(resp, theta, order):\n",
      "    ll = np.empty(resp.shape)\n",
      "\n",
      "    for t in order:\n",
      "\n",
      "\tthetas_t = theta[t][None]\n",
      "\tsamps_t = ipe_samps[t]\n",
      "\t\n",
      "\t# compute likelihood of outcomes\n",
      "\tp_outcomes = np.exp(mo.predict(\n",
      "\t    thetas_t, outcomes[:, None], samps_t, f_smooth)).ravel()\n",
      "\t\n",
      "\t# observe response\n",
      "\tp_response = (resp[:, t]*p_outcomes[1]) + ((1-resp[:, t])*p_outcomes[0])\n",
      "\n",
      "\tll[:, t] = np.log(p_response)\n",
      "\n",
      "    return ll\n"
     ],
     "language": "python",
     "outputs": [],
     "prompt_number": 7
    },
    {
     "cell_type": "code",
     "collapsed": false,
     "input": [
      "######################################################################\n",
      "## Load human data\n",
      "######################################################################\n",
      "\n",
      "reload(lat)\n",
      "\n",
      "training = {\n",
      "    'A-fb': lat.load_turk_df(\"A-fb\", \"training\"),\n",
      "    'A-nfb': lat.load_turk_df(\"A-nfb\", \"training\")\n",
      "    }\n",
      "\n",
      "posttest = {\n",
      "    'A-fb': lat.load_turk_df(\"A-fb\", \"posttest\"),\n",
      "    'A-nfb': lat.load_turk_df(\"A-nfb\", \"posttest\")\n",
      "    }\n",
      "\n",
      "experiment = {\n",
      "    'A-fb': lat.load_turk_df(\"A-fb\", \"experiment\"),\n",
      "    'A-nfb': lat.load_turk_df(\"A-nfb\", \"experiment\")\n",
      "    }\n"
     ],
     "language": "python",
     "outputs": [
      {
       "output_type": "stream",
       "stream": "stdout",
       "text": [
        "Loading '../../turk-experiment/turk_training_data~A-fb.npz'\n",
        "Loading '../../turk-experiment/turk_training_data~A-nfb.npz'\n",
        "Loading '../../turk-experiment/turk_posttest_data~A-fb.npz'\n",
        "Loading '../../turk-experiment/turk_posttest_data~A-nfb.npz'\n",
        "Loading '../../turk-experiment/turk_experiment_data~A-fb.npz'\n",
        "Loading '../../turk-experiment/turk_experiment_data~A-nfb.npz'\n"
       ]
      }
     ],
     "prompt_number": 8
    },
    {
     "cell_type": "code",
     "collapsed": false,
     "input": [
      "######################################################################\n",
      "## Load model data\n",
      "######################################################################\n",
      "\n",
      "nthresh0 = 0\n",
      "nthresh = 0.4\n",
      "\n",
      "reload(lat)\n",
      "rawtruth0, rawipe0, rawsstim, kappas = lat.load_model(\"stability\")\n",
      "truth0 = make_truth_df(rawtruth0, rawsstim, kappas, nthresh0)\n",
      "ipe0 = make_ipe_df(rawipe0, rawsstim, kappas, nthresh)\n",
      "\n",
      "hstim = np.array([x.split(\"~\")[0] for x in zip(*experiment['A-fb'].columns)[1]])\n",
      "sstim = np.array(ipe0.columns)\n",
      "idx = np.nonzero((sstim[:, None] == hstim[None, :]))[0]\n",
      "\n",
      "truth = truth0.T.ix[idx].T\n",
      "ipe = ipe0.T.ix[idx].T\n",
      "feedback = np.asarray(truth).T[..., None]\n",
      "nfell = (rawipe0[idx]['nfellA'] + rawipe0[idx]['nfellB']) / 10.0\n",
      "ipe_samps = (nfell > nthresh)[..., None].astype('f8')\n",
      "# ipe_samps = (nfell / 10.0)[..., None]\n",
      "ipe_samps[np.isnan(nfell)] = 0.5\n",
      "\n",
      "plt.close('all')\n",
      "plot_smoothing(rawipe0[idx], hstim, 6, nthresh=nthresh)\n",
      "fig = plt.gcf()\n",
      "fig.set_figheight(6)\n",
      "fig.set_figwidth(8)\n",
      "\n",
      "lat.save(\"images/likelihood_smoothing.png\", close=False)\n"
     ],
     "language": "python",
     "outputs": [
      {
       "output_type": "stream",
       "stream": "stdout",
       "text": [
        "Saving figure to images/likelihood_smoothing.png...' "
       ]
      },
      {
       "output_type": "stream",
       "stream": "stdout",
       "text": [
        "Done\n"
       ]
      },
      {
       "output_type": "display_data",
       "png": "[encoded data removed]"
      }
     ],
     "prompt_number": 9
    },
    {
     "cell_type": "code",
     "collapsed": false,
     "input": [
      "######################################################################\n",
      "## Global parameters\n",
      "######################################################################\n",
      "\n",
      "n_kappas = len(kappas)\n",
      "ratios = 10 ** kappas\n",
      "ratios[kappas < 0] = np.round(ratios[kappas < 0], decimals=2)\n",
      "ratios[kappas >= 0] = np.round(ratios[kappas >= 0], decimals=1)\n",
      "\n",
      "outcomes     = np.array([0, 1])                  # possible outcomes\n",
      "responses    = np.array([0, 1])                  # possible responses\n",
      "n_trial      = hstim.size\n",
      "n_kappas     = len(kappas)                       # number of mass ratios to consider\n",
      "n_responses  = responses.size                    # number of possible responses\n",
      "n_outcomes   = outcomes.size                     # number of possible outcomes\n",
      "kappa0       = 1.0                               # value of the true log mass ratio\n",
      "ikappa0      = np.nonzero(kappas==1.0)[0][0]     # index for the true mass ratio\n",
      "\n",
      "f_smooth = False\n",
      "p_ignore_stimulus = 0.0\n"
     ],
     "language": "python",
     "outputs": [],
     "prompt_number": 10
    },
    {
     "cell_type": "code",
     "collapsed": false,
     "input": [
      "######################################################################\n",
      "## Generate fake human data\n",
      "######################################################################\n",
      "nfake = 1000\n",
      "\n",
      "# for cidx, cond in enumerate(experiment.keys()):\n",
      "#     if cond.endswith(\"-mo\"): continue\n",
      "#     if cond.endswith(\"-nfb\"): continue\n",
      "\n",
      "cond = 'A-fb'\n",
      "\n",
      "# trial ordering\n",
      "cols = experiment[cond].columns\n",
      "order = np.argsort(zip(*cols)[0])\n",
      "undo_order = np.argsort(order)\n",
      "\n",
      "# learning model beliefs\n",
      "model_lh, model_joint, model_theta = mo.ModelObserver(\n",
      "    ipe_samps[order],\n",
      "    feedback[order][:, None],\n",
      "    outcomes=None,\n",
      "    respond=False,\n",
      "    p_ignore_stimulus=p_ignore_stimulus,\n",
      "    smooth=f_smooth)\n"
     ],
     "language": "python",
     "outputs": [],
     "prompt_number": 11
    },
    {
     "cell_type": "code",
     "collapsed": false,
     "input": [
      "plt.close('all')\n",
      "plot_belief(model_theta)\n",
      "fig = plt.gcf()\n",
      "fig.set_figwidth(8)\n",
      "fig.set_figheight(6)\n",
      "\n",
      "lat.save(\"images/ideal_learning_observers.png\", close=False)\n"
     ],
     "language": "python",
     "outputs": [
      {
       "output_type": "stream",
       "stream": "stdout",
       "text": [
        "Saving figure to images/ideal_learning_observers.png...' "
       ]
      },
      {
       "output_type": "stream",
       "stream": "stdout",
       "text": [
        "Done\n"
       ]
      },
      {
       "output_type": "display_data",
       "png": "[encoded data removed]"
      }
     ],
     "prompt_number": 12
    },
    {
     "cell_type": "code",
     "collapsed": false,
     "input": [
      "# ideal observer model (k=0.1)\n",
      "tidx = list(kappas).index(-1.0)\n",
      "p_outcomes = np.empty((n_trial,))\n",
      "for t in xrange(n_trial):\n",
      "    p_outcomes[t] = np.exp(mo.predict(\n",
      "\tmodel_theta[tidx, t][None],\n",
      "\toutcomes[:, None], \n",
      "\tipe_samps[order][t],\n",
      "\tf_smooth)).ravel()[1]\n",
      "responses = np.random.rand(nfake)[:, None] < p_outcomes[None]\t\t\n",
      "experiment[cond + \"-ideal0.1-mo\"] = pd.DataFrame(\n",
      "    responses[:, undo_order], \n",
      "    columns=cols)\n"
     ],
     "language": "python",
     "outputs": [],
     "prompt_number": 13
    },
    {
     "cell_type": "code",
     "collapsed": false,
     "input": [
      "# ideal observer model (k=10)\n",
      "p_outcomes = np.empty((n_trial,))\n",
      "for t in xrange(n_trial):\n",
      "    p_outcomes[t] = np.exp(mo.predict(\n",
      "\tmodel_theta[list(kappas).index(1.0), t][None],\n",
      "\toutcomes[:, None], \n",
      "\tipe_samps[order][t],\n",
      "\tf_smooth)).ravel()[1]\n",
      "responses = np.random.rand(nfake)[:, None] < p_outcomes[None]\t\t\n",
      "experiment[cond + \"-ideal10-mo\"] = pd.DataFrame(\n",
      "    responses[:, undo_order], \n",
      "    columns=cols)\n"
     ],
     "language": "python",
     "outputs": [],
     "prompt_number": 14
    },
    {
     "cell_type": "code",
     "collapsed": false,
     "input": [
      "# fixed r=0.1 model\n",
      "p_outcomes = np.empty((n_trial,))\n",
      "for t in xrange(n_trial):\n",
      "    theta = np.log(np.zeros(n_kappas))\n",
      "    theta[list(kappas).index(-1.0)] = 0\n",
      "    theta = normalize(theta)[1]\n",
      "    p_outcomes[t] = np.exp(mo.predict(\n",
      "\ttheta[None],\n",
      "\toutcomes[:, None], \n",
      "\tipe_samps[order][t],\n",
      "\tf_smooth)).ravel()[1]\n",
      "responses = np.random.rand(nfake)[:, None] < p_outcomes[None]\t\t\n",
      "experiment[cond + \"-fixed0.1-mo\"] = pd.DataFrame(\n",
      "    responses[:, undo_order], \n",
      "    columns=cols)\n"
     ],
     "language": "python",
     "outputs": [],
     "prompt_number": 15
    },
    {
     "cell_type": "code",
     "collapsed": false,
     "input": [
      "# fixed r=10.0 model\n",
      "p_outcomes = np.empty((n_trial,))\n",
      "for t in xrange(n_trial):\n",
      "    theta = np.log(np.zeros(n_kappas))\n",
      "    theta[list(ratios).index(10.0)] = 0\n",
      "    theta = normalize(theta)[1]\n",
      "    p_outcomes[t] = np.exp(mo.predict(\n",
      "\ttheta[None],\n",
      "\toutcomes[:, None], \n",
      "\tipe_samps[order][t],\n",
      "\tf_smooth)).ravel()[1]\n",
      "responses = np.random.rand(nfake)[:, None] < p_outcomes[None]\t\t\n",
      "experiment[cond + \"-fixed10-mo\"] = pd.DataFrame(\n",
      "    responses[:, undo_order], \n",
      "    columns=cols)\n"
     ],
     "language": "python",
     "outputs": [],
     "prompt_number": 16
    },
    {
     "cell_type": "code",
     "collapsed": false,
     "input": [
      "# conds = sorted(experiment.keys())\n",
      "conds = [\n",
      "    'A-fb-fixed0.1-mo',\n",
      "    'A-fb-ideal0.1-mo', \n",
      "    'A-fb-fixed10-mo', \n",
      "    'A-fb-ideal10-mo',\n",
      "    'A-nfb', \n",
      "    'A-fb',\n",
      "    ]\n",
      "cond_labels = {\n",
      "    'A-nfb': 'No feedback',\n",
      "    'A-fb': 'Feedback',\n",
      "    'A-fb-ideal0.1-mo': 'Learning observer, r=0.1',\n",
      "    'A-fb-ideal10-mo': 'Learning observer, r=10',\n",
      "    'A-fb-fixed0.1-mo': 'Fixed Observer, r=0.1',\n",
      "    'A-fb-fixed10-mo': 'Fixed Observer, r=10'\n",
      "    }\n",
      "n_cond = len(conds)\n",
      "    "
     ],
     "language": "python",
     "outputs": [],
     "prompt_number": 17
    },
    {
     "cell_type": "code",
     "collapsed": false,
     "input": [
      "# for cond in training:\n",
      "#     print_data(\"%s TRAINING DATA\" % cond, training[cond])\n",
      "# for cond in posttest:\n",
      "#     print_data(\"%s POSTTEST DATA\" % cond, posttest[cond])\n",
      "\n",
      "# for cond in conds:\n",
      "#     if cond.endswith(\"mo\"): continue\n",
      "#     print_data(\"%s EXPERIMENT DATA\" % cond, experiment[cond])\n"
     ],
     "language": "python",
     "outputs": [],
     "prompt_number": 18
    },
    {
     "cell_type": "code",
     "collapsed": false,
     "input": [
      "# raw correlation between feedback and no feedback\n",
      "means = [experiment[cond].mean(axis=0) for cond in conds]\n",
      "for idx1, m1 in enumerate(means):\n",
      "    for idx2, m2 in enumerate(means[idx1+1:]):\n",
      "\tcorr = xcorr(np.asarray(m1), np.asarray(m2))\n",
      "\tc1 = conds[idx1]\n",
      "\tc2 = conds[idx1+idx2+1]\n",
      "\tprint \"(all) %-16s v %-16s : rho = % .4f\" % (c1, c2, corr)\n",
      "\t"
     ],
     "language": "python",
     "outputs": [
      {
       "output_type": "stream",
       "stream": "stdout",
       "text": [
        "(all) A-fb-fixed0.1-mo v A-fb-ideal0.1-mo : rho =  0.9711\n",
        "(all) A-fb-fixed0.1-mo v A-fb-fixed10-mo  : rho =  0.0282\n",
        "(all) A-fb-fixed0.1-mo v A-fb-ideal10-mo  : rho =  0.2527\n",
        "(all) A-fb-fixed0.1-mo v A-nfb            : rho = -0.1623\n",
        "(all) A-fb-fixed0.1-mo v A-fb             : rho = -0.1647\n",
        "(all) A-fb-ideal0.1-mo v A-fb-fixed10-mo  : rho =  0.1265\n",
        "(all) A-fb-ideal0.1-mo v A-fb-ideal10-mo  : rho =  0.3063\n",
        "(all) A-fb-ideal0.1-mo v A-nfb            : rho = -0.1334\n",
        "(all) A-fb-ideal0.1-mo v A-fb             : rho = -0.1240\n",
        "(all) A-fb-fixed10-mo  v A-fb-ideal10-mo  : rho =  0.9295\n",
        "(all) A-fb-fixed10-mo  v A-nfb            : rho =  0.4514\n",
        "(all) A-fb-fixed10-mo  v A-fb             : rho =  0.3574\n",
        "(all) A-fb-ideal10-mo  v A-nfb            : rho =  0.3774\n",
        "(all) A-fb-ideal10-mo  v A-fb             : rho =  0.2791\n",
        "(all) A-nfb            v A-fb             : rho =  0.8206\n"
       ]
      }
     ],
     "prompt_number": 19
    },
    {
     "cell_type": "code",
     "collapsed": false,
     "input": [
      "# bootstrapped correlations\n",
      "reload(lat)\n",
      "\n",
      "nboot = 1000\n",
      "nsamp = 9\n",
      "with_replacement = False\n",
      "\n",
      "A_fb = np.asarray(experiment['A-fb'])\n",
      "A_nfb = np.asarray(experiment['A-nfb'])\n",
      "\n",
      "corrs = lat.bootcorr(\n",
      "    np.asarray(A_fb), np.asarray(A_nfb), \n",
      "    nboot=nboot, \n",
      "    nsamp=nsamp,\n",
      "    with_replacement=with_replacement)\n",
      "meancorr = np.median(corrs)\n",
      "semcorr = scipy.stats.sem(corrs)\n",
      "print \"(bootstrap) feedback v no-feedback: rho = %.4f +/- %.4f\" % (meancorr, semcorr)\n",
      "\n",
      "corrs = lat.bootcorr_wc(\n",
      "    np.asarray(A_fb), \n",
      "    nboot=nboot, \n",
      "    nsamp=nsamp,\n",
      "    with_replacement=with_replacement)\n",
      "meancorr = np.median(corrs)\n",
      "semcorr = scipy.stats.sem(corrs)\n",
      "print \"(bootstrap) feedback v feedback: rho = %.4f +/- %.4f\" % (meancorr, semcorr)\n",
      "\n",
      "corrs = lat.bootcorr_wc(\n",
      "    np.asarray(A_nfb), \n",
      "    nboot=nboot,\n",
      "    nsamp=nsamp,\n",
      "    with_replacement=with_replacement)\n",
      "meancorr = np.median(corrs)\n",
      "semcorr = scipy.stats.sem(corrs)\n",
      "print \"(bootstrap) no-feedback v no-feedback: rho = %.4f +/- %.4f\" % (meancorr, semcorr)\n"
     ],
     "language": "python",
     "outputs": [
      {
       "output_type": "stream",
       "stream": "stdout",
       "text": [
        "(bootstrap) feedback v no-feedback: rho = 0.6968 +/- 0.0034\n",
        "(bootstrap) feedback v feedback: rho = 0.7411 +/- 0.0022"
       ]
      },
      {
       "output_type": "stream",
       "stream": "stdout",
       "text": [
        "\n",
        "(bootstrap) no-feedback v no-feedback: rho = 0.6762 +/- 0.0034"
       ]
      },
      {
       "output_type": "stream",
       "stream": "stdout",
       "text": [
        "\n"
       ]
      }
     ],
     "prompt_number": 20
    },
    {
     "cell_type": "code",
     "collapsed": false,
     "input": [
      "\n",
      "p_response_mean = np.empty((n_kappas, n_cond))\n",
      "p_response_sem = np.empty((n_kappas, n_cond))\n",
      "\n",
      "for cidx, cond in enumerate(conds):\n",
      "    hdata = np.asarray(experiment[cond])[:, None]\n",
      "    sdata = np.asarray(ipe)[None]\n",
      "    \n",
      "    resp = (hdata * sdata) + ((1-hdata) * (1-sdata))\n",
      "    p_response_mean[:, cidx] = np.mean(np.exp(np.log(resp).sum(axis=2)), axis=0)\n",
      "    p_response_sem[:, cidx] = scipy.stats.sem(np.exp(np.log(resp).sum(axis=2)), axis=0)\n",
      "\n",
      "x = np.arange(n_kappas)\n",
      "upper = np.log(p_response_mean + p_response_sem).T\n",
      "lower = np.log(p_response_mean - p_response_sem).T\n",
      "mean = np.log(p_response_mean).T\n",
      "\n",
      "plt.close('all')\n",
      "colors = ['r', '#FF9966', '#AAAA00', 'g', 'c', 'b', '#9900FF', 'm']\n",
      "for cidx, cond in enumerate(conds):\n",
      "    plt.fill_between(x, lower[cidx], upper[cidx], color=colors[cidx], alpha=0.1)\n",
      "    plt.plot(x, mean[cidx], label=cond_labels[cond], color=colors[cidx], linewidth=2)\n",
      "\n",
      "plt.xticks(x, ratios, rotation=90)\n",
      "plt.xlabel(\"Fixed model mass ratio\")\n",
      "plt.ylabel(\"Log likelihood of responses\")\n",
      "plt.legend(loc=4)\n",
      "plt.xlim(x[0], x[-1])\n",
      "#plt.ylim(-20, -12)\n",
      "plt.title(\"Likelihood of responses under fixed models\")\n",
      "fig = plt.gcf()\n",
      "fig.set_figwidth(8)\n",
      "fig.set_figheight(6)\n",
      "\n",
      "lat.save(\"images/fixed_model_performance.png\", close=False)\n"
     ],
     "language": "python",
     "outputs": [
      {
       "output_type": "stream",
       "stream": "stdout",
       "text": [
        "Saving figure to images/fixed_model_performance.png...' "
       ]
      },
      {
       "output_type": "stream",
       "stream": "stdout",
       "text": [
        "Done\n"
       ]
      },
      {
       "output_type": "display_data",
       "png": "[encoded data removed]"
      }
     ],
     "prompt_number": 21
    },
    {
     "cell_type": "code",
     "collapsed": false,
     "input": [
      "# fixed models\n",
      "kidx = list(kappas).index(0.0)\n",
      "model_same = np.array((\n",
      "    mean[:, kidx],\n",
      "    np.abs(mean[:, kidx] - lower[:, kidx]),\n",
      "    np.abs(mean[:, kidx] - upper[:, kidx]))).T\n",
      "\n",
      "kidx = list(kappas).index(1.0)\n",
      "model_true10 = np.array((\n",
      "    mean[:, kidx],\n",
      "    np.abs(mean[:, kidx] - lower[:, kidx]),\n",
      "    np.abs(mean[:, kidx] - upper[:, kidx]))).T\n",
      "\n",
      "kidx = list(kappas).index(-1.0)\n",
      "model_true01 = np.array((\n",
      "    mean[:, kidx],\n",
      "    np.abs(mean[:, kidx] - lower[:, kidx]),\n",
      "    np.abs(mean[:, kidx] - upper[:, kidx]))).T\n",
      "\n",
      "# random model\n",
      "model_random = np.array([[np.log(0.5)*n_trial, 0, 0]]*n_cond)\n"
     ],
     "language": "python",
     "outputs": [],
     "prompt_number": 22
    },
    {
     "cell_type": "code",
     "collapsed": false,
     "input": [
      "\n",
      "def learning_model_lh(ikappa):\n",
      "    lh_mean = np.empty(n_cond)\n",
      "    lh_sem = np.empty(n_cond)\n",
      "    \n",
      "    for cidx, cond in enumerate(conds):\n",
      "\t# trial ordering\n",
      "\torder = np.argsort(zip(*experiment[cond].columns)[0])\n",
      "\t# learning model beliefs\n",
      "\tmodel_lh, model_joint, model_theta = mo.ModelObserver(\n",
      "\t    ipe_samps[order],\n",
      "\t    feedback[order][:, None],\n",
      "\t    outcomes=None,\n",
      "\t    respond=False,\n",
      "\t    p_ignore_stimulus=p_ignore_stimulus,\n",
      "\t    smooth=f_smooth)\n",
      "\n",
      "\t# trial-by-trial likelihoods of judgments\n",
      "\ttrial_ll = compute_ll(\n",
      "\t    np.asarray(experiment[cond]), \n",
      "\t    model_theta[ikappa], \n",
      "\t    order)\n",
      "\n",
      "\t# overall likelihood\n",
      "\tlh = np.exp(np.sum(trial_ll, axis=1))\n",
      "\n",
      "\t# mean across participants\n",
      "\tlh_mean[cidx] = np.mean(lh)\n",
      "\tlh_sem[cidx] = scipy.stats.sem(lh)\n",
      "\n",
      "    mean = np.log(lh_mean)\n",
      "    lower = np.log(lh_mean - lh_sem)\n",
      "    upper = np.log(lh_mean + lh_sem)\n",
      "\n",
      "    return mean, lower, upper\n"
     ],
     "language": "python",
     "outputs": [],
     "prompt_number": 23
    },
    {
     "cell_type": "code",
     "collapsed": false,
     "input": [
      "# learning models\n",
      "mean, lower, upper = learning_model_lh(list(kappas).index(1.0))\n",
      "model_learn10 = np.array([mean, np.abs(mean-lower), np.abs(mean-upper)]).T\n",
      "\n",
      "mean, lower, upper = learning_model_lh(list(kappas).index(-1.0))\n",
      "model_learn01 = np.array([mean, np.abs(mean-lower), np.abs(mean-upper)]).T\n"
     ],
     "language": "python",
     "outputs": [],
     "prompt_number": 24
    },
    {
     "cell_type": "code",
     "collapsed": false,
     "input": [
      "# all the models\n",
      "models = np.array([\n",
      "    model_random,\n",
      "    model_true01,\n",
      "    model_learn01,\n",
      "    # model_same,\n",
      "    model_true10,\n",
      "    model_learn10\n",
      "    ]).T\n"
     ],
     "language": "python",
     "outputs": [],
     "prompt_number": 25
    },
    {
     "cell_type": "code",
     "collapsed": false,
     "input": [
      "# plot model performance\n",
      "x0 = np.arange(models.shape[2])\n",
      "height = models[0]\n",
      "err = models[1:]\n",
      "width = 0.7 / n_cond\n",
      "\n",
      "plt.close('all')\n",
      "for cidx, cond in enumerate(conds):\n",
      "    x = x0 + width*(cidx-(n_cond/2.)) + (width/2.)\n",
      "    plt.bar(x, height[cidx], yerr=err[:, cidx], color=colors[cidx], \n",
      "\t    ecolor='k', align='center', width=width, label=cond_labels[cond])\n",
      "\n",
      "plt.xticks(x0, [\n",
      "    \"Random\", \n",
      "    \"Fixed\\nr=0.1\",\n",
      "    \"Learning\\nr=0.1\",\n",
      "    # \"Fixed\\nr=1.0\", \n",
      "    \"Fixed\\nr=10.0\", \n",
      "    \"Learning\\nr=10.0\"\n",
      "    ])\n",
      "#plt.ylim(int(np.min(height-err))-1, int(np.max(height))+1)\n",
      "plt.ylim(-25, -5)\n",
      "plt.xlim(x0.min()-0.5, x0.max()+0.5)\n",
      "plt.legend(loc=0)\n",
      "plt.xlabel(\"Model\", fontsize=14)\n",
      "plt.ylabel(\"Log likelihood of responses, $\\Pr(J|S,B)$\", fontsize=14)\n",
      "plt.title(\"Likelihood of human and ideal observer judgments\", fontsize=16)\n",
      "\n",
      "fig = plt.gcf()\n",
      "fig.set_figwidth(8)\n",
      "fig.set_figheight(6)\n",
      "\n",
      "lat.save(\"images/model_performance.png\", close=False)\n"
     ],
     "language": "python",
     "outputs": [
      {
       "output_type": "stream",
       "stream": "stdout",
       "text": [
        "Saving figure to images/model_performance.png...' "
       ]
      },
      {
       "output_type": "stream",
       "stream": "stdout",
       "text": [
        "Done\n"
       ]
      },
      {
       "output_type": "display_data",
       "png": "[encoded data removed]"
      }
     ],
     "prompt_number": 26
    },
    {
     "cell_type": "code",
     "collapsed": false,
     "input": [
      "\n",
      "nsamp = 1000\n",
      "ikappa = list(kappas).index(1.0)\n",
      "orders = np.array([np.random.permutation(n_trial) for i in xrange(nsamp)])\n"
     ],
     "language": "python",
     "outputs": [],
     "prompt_number": 80
    },
    {
     "cell_type": "code",
     "collapsed": false,
     "input": [
      "model_thetas = np.empty((nsamp, n_kappas, n_trial+1, n_kappas))\n",
      "for i in xrange(model_thetas.shape[0]):\n",
      "    if i%10 == 0:\n",
      "\tprint i\n",
      "    model_lh, model_joint, model_theta = mo.ModelObserver(\n",
      "\tipe_samps[orders[i]],\n",
      "\tfeedback[orders[i]][:, None],\n",
      "\toutcomes=None,\n",
      "\trespond=False,\n",
      "\tp_ignore_stimulus=p_ignore_stimulus,\n",
      "\tsmooth=f_smooth)\n",
      "    model_thetas[i] = model_theta\n"
     ],
     "language": "python",
     "outputs": [
      {
       "output_type": "stream",
       "stream": "stdout",
       "text": [
        "0\n",
        "10"
       ]
      },
      {
       "output_type": "stream",
       "stream": "stdout",
       "text": [
        "\n",
        "20"
       ]
      },
      {
       "output_type": "stream",
       "stream": "stdout",
       "text": [
        "\n",
        "30"
       ]
      },
      {
       "output_type": "stream",
       "stream": "stdout",
       "text": [
        "\n",
        "40"
       ]
      },
      {
       "output_type": "stream",
       "stream": "stdout",
       "text": [
        "\n",
        "50"
       ]
      },
      {
       "output_type": "stream",
       "stream": "stdout",
       "text": [
        "\n",
        "60"
       ]
      },
      {
       "output_type": "stream",
       "stream": "stdout",
       "text": [
        "\n",
        "70"
       ]
      },
      {
       "output_type": "stream",
       "stream": "stdout",
       "text": [
        "\n",
        "80"
       ]
      },
      {
       "output_type": "stream",
       "stream": "stdout",
       "text": [
        "\n",
        "90"
       ]
      },
      {
       "output_type": "stream",
       "stream": "stdout",
       "text": [
        "\n",
        "100"
       ]
      },
      {
       "output_type": "stream",
       "stream": "stdout",
       "text": [
        "\n",
        "110"
       ]
      },
      {
       "output_type": "stream",
       "stream": "stdout",
       "text": [
        "\n",
        "120"
       ]
      },
      {
       "output_type": "stream",
       "stream": "stdout",
       "text": [
        "\n",
        "130"
       ]
      },
      {
       "output_type": "stream",
       "stream": "stdout",
       "text": [
        "\n",
        "140"
       ]
      },
      {
       "output_type": "stream",
       "stream": "stdout",
       "text": [
        "\n",
        "150"
       ]
      },
      {
       "output_type": "stream",
       "stream": "stdout",
       "text": [
        "\n",
        "160"
       ]
      },
      {
       "output_type": "stream",
       "stream": "stdout",
       "text": [
        "\n",
        "170"
       ]
      },
      {
       "output_type": "stream",
       "stream": "stdout",
       "text": [
        "\n",
        "180"
       ]
      },
      {
       "output_type": "stream",
       "stream": "stdout",
       "text": [
        "\n",
        "190"
       ]
      },
      {
       "output_type": "stream",
       "stream": "stdout",
       "text": [
        "\n",
        "200"
       ]
      },
      {
       "output_type": "stream",
       "stream": "stdout",
       "text": [
        "\n",
        "210"
       ]
      },
      {
       "output_type": "stream",
       "stream": "stdout",
       "text": [
        "\n",
        "220"
       ]
      },
      {
       "output_type": "stream",
       "stream": "stdout",
       "text": [
        "\n",
        "230"
       ]
      },
      {
       "output_type": "stream",
       "stream": "stdout",
       "text": [
        "\n",
        "240"
       ]
      },
      {
       "output_type": "stream",
       "stream": "stdout",
       "text": [
        "\n",
        "250"
       ]
      },
      {
       "output_type": "stream",
       "stream": "stdout",
       "text": [
        "\n",
        "260"
       ]
      },
      {
       "output_type": "stream",
       "stream": "stdout",
       "text": [
        "\n",
        "270"
       ]
      },
      {
       "output_type": "stream",
       "stream": "stdout",
       "text": [
        "\n",
        "280"
       ]
      },
      {
       "output_type": "stream",
       "stream": "stdout",
       "text": [
        "\n",
        "290"
       ]
      },
      {
       "output_type": "stream",
       "stream": "stdout",
       "text": [
        "\n",
        "300"
       ]
      },
      {
       "output_type": "stream",
       "stream": "stdout",
       "text": [
        "\n",
        "310"
       ]
      },
      {
       "output_type": "stream",
       "stream": "stdout",
       "text": [
        "\n",
        "320"
       ]
      },
      {
       "output_type": "stream",
       "stream": "stdout",
       "text": [
        "\n",
        "330"
       ]
      },
      {
       "output_type": "stream",
       "stream": "stdout",
       "text": [
        "\n",
        "340"
       ]
      },
      {
       "output_type": "stream",
       "stream": "stdout",
       "text": [
        "\n",
        "350"
       ]
      },
      {
       "output_type": "stream",
       "stream": "stdout",
       "text": [
        "\n",
        "360"
       ]
      },
      {
       "output_type": "stream",
       "stream": "stdout",
       "text": [
        "\n",
        "370"
       ]
      },
      {
       "output_type": "stream",
       "stream": "stdout",
       "text": [
        "\n",
        "380"
       ]
      },
      {
       "output_type": "stream",
       "stream": "stdout",
       "text": [
        "\n",
        "390"
       ]
      },
      {
       "output_type": "stream",
       "stream": "stdout",
       "text": [
        "\n",
        "400"
       ]
      },
      {
       "output_type": "stream",
       "stream": "stdout",
       "text": [
        "\n",
        "410"
       ]
      },
      {
       "output_type": "stream",
       "stream": "stdout",
       "text": [
        "\n",
        "420"
       ]
      },
      {
       "output_type": "stream",
       "stream": "stdout",
       "text": [
        "\n",
        "430"
       ]
      },
      {
       "output_type": "stream",
       "stream": "stdout",
       "text": [
        "\n",
        "440"
       ]
      },
      {
       "output_type": "stream",
       "stream": "stdout",
       "text": [
        "\n",
        "450"
       ]
      },
      {
       "output_type": "stream",
       "stream": "stdout",
       "text": [
        "\n",
        "460"
       ]
      },
      {
       "output_type": "stream",
       "stream": "stdout",
       "text": [
        "\n",
        "470"
       ]
      },
      {
       "output_type": "stream",
       "stream": "stdout",
       "text": [
        "\n",
        "480"
       ]
      },
      {
       "output_type": "stream",
       "stream": "stdout",
       "text": [
        "\n",
        "490"
       ]
      },
      {
       "output_type": "stream",
       "stream": "stdout",
       "text": [
        "\n",
        "500"
       ]
      },
      {
       "output_type": "stream",
       "stream": "stdout",
       "text": [
        "\n",
        "510"
       ]
      },
      {
       "output_type": "stream",
       "stream": "stdout",
       "text": [
        "\n",
        "520"
       ]
      },
      {
       "output_type": "stream",
       "stream": "stdout",
       "text": [
        "\n",
        "530"
       ]
      },
      {
       "output_type": "stream",
       "stream": "stdout",
       "text": [
        "\n",
        "540"
       ]
      },
      {
       "output_type": "stream",
       "stream": "stdout",
       "text": [
        "\n",
        "550"
       ]
      },
      {
       "output_type": "stream",
       "stream": "stdout",
       "text": [
        "\n",
        "560"
       ]
      },
      {
       "output_type": "stream",
       "stream": "stdout",
       "text": [
        "\n",
        "570"
       ]
      },
      {
       "output_type": "stream",
       "stream": "stdout",
       "text": [
        "\n",
        "580"
       ]
      },
      {
       "output_type": "stream",
       "stream": "stdout",
       "text": [
        "\n",
        "590"
       ]
      },
      {
       "output_type": "stream",
       "stream": "stdout",
       "text": [
        "\n",
        "600"
       ]
      },
      {
       "output_type": "stream",
       "stream": "stdout",
       "text": [
        "\n",
        "610"
       ]
      },
      {
       "output_type": "stream",
       "stream": "stdout",
       "text": [
        "\n",
        "620"
       ]
      },
      {
       "output_type": "stream",
       "stream": "stdout",
       "text": [
        "\n",
        "630"
       ]
      },
      {
       "output_type": "stream",
       "stream": "stdout",
       "text": [
        "\n",
        "640"
       ]
      },
      {
       "output_type": "stream",
       "stream": "stdout",
       "text": [
        "\n",
        "650"
       ]
      },
      {
       "output_type": "stream",
       "stream": "stdout",
       "text": [
        "\n",
        "660"
       ]
      },
      {
       "output_type": "stream",
       "stream": "stdout",
       "text": [
        "\n",
        "670"
       ]
      },
      {
       "output_type": "stream",
       "stream": "stdout",
       "text": [
        "\n",
        "680"
       ]
      },
      {
       "output_type": "stream",
       "stream": "stdout",
       "text": [
        "\n",
        "690"
       ]
      },
      {
       "output_type": "stream",
       "stream": "stdout",
       "text": [
        "\n",
        "700"
       ]
      },
      {
       "output_type": "stream",
       "stream": "stdout",
       "text": [
        "\n",
        "710"
       ]
      },
      {
       "output_type": "stream",
       "stream": "stdout",
       "text": [
        "\n",
        "720"
       ]
      },
      {
       "output_type": "stream",
       "stream": "stdout",
       "text": [
        "\n",
        "730"
       ]
      },
      {
       "output_type": "stream",
       "stream": "stdout",
       "text": [
        "\n",
        "740"
       ]
      },
      {
       "output_type": "stream",
       "stream": "stdout",
       "text": [
        "\n",
        "750"
       ]
      },
      {
       "output_type": "stream",
       "stream": "stdout",
       "text": [
        "\n",
        "760"
       ]
      },
      {
       "output_type": "stream",
       "stream": "stdout",
       "text": [
        "\n",
        "770"
       ]
      },
      {
       "output_type": "stream",
       "stream": "stdout",
       "text": [
        "\n",
        "780"
       ]
      },
      {
       "output_type": "stream",
       "stream": "stdout",
       "text": [
        "\n",
        "790"
       ]
      },
      {
       "output_type": "stream",
       "stream": "stdout",
       "text": [
        "\n",
        "800"
       ]
      },
      {
       "output_type": "stream",
       "stream": "stdout",
       "text": [
        "\n",
        "810"
       ]
      },
      {
       "output_type": "stream",
       "stream": "stdout",
       "text": [
        "\n",
        "820"
       ]
      },
      {
       "output_type": "stream",
       "stream": "stdout",
       "text": [
        "\n",
        "830"
       ]
      },
      {
       "output_type": "stream",
       "stream": "stdout",
       "text": [
        "\n",
        "840"
       ]
      },
      {
       "output_type": "stream",
       "stream": "stdout",
       "text": [
        "\n",
        "850"
       ]
      },
      {
       "output_type": "stream",
       "stream": "stdout",
       "text": [
        "\n",
        "860"
       ]
      },
      {
       "output_type": "stream",
       "stream": "stdout",
       "text": [
        "\n",
        "870"
       ]
      },
      {
       "output_type": "stream",
       "stream": "stdout",
       "text": [
        "\n",
        "880"
       ]
      },
      {
       "output_type": "stream",
       "stream": "stdout",
       "text": [
        "\n",
        "890"
       ]
      },
      {
       "output_type": "stream",
       "stream": "stdout",
       "text": [
        "\n",
        "900"
       ]
      },
      {
       "output_type": "stream",
       "stream": "stdout",
       "text": [
        "\n",
        "910"
       ]
      },
      {
       "output_type": "stream",
       "stream": "stdout",
       "text": [
        "\n",
        "920"
       ]
      },
      {
       "output_type": "stream",
       "stream": "stdout",
       "text": [
        "\n",
        "930"
       ]
      },
      {
       "output_type": "stream",
       "stream": "stdout",
       "text": [
        "\n",
        "940"
       ]
      },
      {
       "output_type": "stream",
       "stream": "stdout",
       "text": [
        "\n",
        "950"
       ]
      },
      {
       "output_type": "stream",
       "stream": "stdout",
       "text": [
        "\n",
        "960"
       ]
      },
      {
       "output_type": "stream",
       "stream": "stdout",
       "text": [
        "\n",
        "970"
       ]
      },
      {
       "output_type": "stream",
       "stream": "stdout",
       "text": [
        "\n",
        "980"
       ]
      },
      {
       "output_type": "stream",
       "stream": "stdout",
       "text": [
        "\n",
        "990"
       ]
      },
      {
       "output_type": "stream",
       "stream": "stdout",
       "text": [
        "\n"
       ]
      }
     ],
     "prompt_number": 82
    },
    {
     "cell_type": "code",
     "collapsed": false,
     "input": [
      "\n",
      "p_responses = np.empty((3, n_kappas, nsamp, n_trial))\n",
      "\n",
      "theta_fixed = np.log(np.eye(n_kappas))\n",
      "\n",
      "theta_uniform = normalize(np.log(np.ones(n_kappas)))[1]\n",
      "sdata = np.asarray(ipe)\n",
      "\n",
      "for i in xrange(nsamp):\n",
      "    if i%10 == 0:\n",
      "\tprint i\n",
      "    sd = sdata[ikappa, orders[i]]\n",
      "    for t in xrange(n_trial):\n",
      "\t# learning\n",
      "\tp_outcomes = np.exp(mo.predict(\n",
      "\t    model_thetas[i, :, t],\n",
      "\t    outcomes[:, None], \n",
      "\t    ipe_samps[orders[i]][t],\n",
      "\t    f_smooth))[:, 1]\n",
      "\tresp = np.random.rand() < p_outcomes\n",
      "\tp_responses[0, :, i, t] = (resp * sd[t]) + ((1-resp) * (1-sd[t]))\n",
      "\n",
      "\t# fixed at true ratio\n",
      "\tp_outcomes = np.exp(mo.predict(\n",
      "\t    theta_fixed,\n",
      "\t    outcomes[:, None], \n",
      "\t    ipe_samps[orders[i]][t],\n",
      "\t    f_smooth))[:, 1]\n",
      "\tresp = np.random.rand() < p_outcomes\n",
      "\tp_responses[1, :, i, t] = (resp * sd[t]) + ((1-resp) * (1-sd[t]))\n",
      "\n",
      "\t# fixed at uniform belief\n",
      "\tp_outcomes1 = np.exp(mo.predict(\n",
      "\t    theta_uniform[None],\n",
      "\t    outcomes[:, None], \n",
      "\t    ipe_samps[orders[i]][t],\n",
      "\t    f_smooth))[:, 1]\n",
      "\tresp = np.random.rand() < p_outcomes\n",
      "\tp_responses[2, :, i, t] = (resp * sd[t]) + ((1-resp) * (1-sd[t]))\n",
      "\n"
     ],
     "language": "python",
     "outputs": [
      {
       "output_type": "stream",
       "stream": "stdout",
       "text": [
        "0\n",
        "10"
       ]
      },
      {
       "output_type": "stream",
       "stream": "stdout",
       "text": [
        "\n",
        "20"
       ]
      },
      {
       "output_type": "stream",
       "stream": "stdout",
       "text": [
        "\n",
        "30"
       ]
      },
      {
       "output_type": "stream",
       "stream": "stdout",
       "text": [
        "\n",
        "40"
       ]
      },
      {
       "output_type": "stream",
       "stream": "stdout",
       "text": [
        "\n",
        "50"
       ]
      },
      {
       "output_type": "stream",
       "stream": "stdout",
       "text": [
        "\n",
        "60"
       ]
      },
      {
       "output_type": "stream",
       "stream": "stdout",
       "text": [
        "\n",
        "70"
       ]
      },
      {
       "output_type": "stream",
       "stream": "stdout",
       "text": [
        "\n",
        "80"
       ]
      },
      {
       "output_type": "stream",
       "stream": "stdout",
       "text": [
        "\n",
        "90"
       ]
      },
      {
       "output_type": "stream",
       "stream": "stdout",
       "text": [
        "\n",
        "100"
       ]
      },
      {
       "output_type": "stream",
       "stream": "stdout",
       "text": [
        "\n",
        "110"
       ]
      },
      {
       "output_type": "stream",
       "stream": "stdout",
       "text": [
        "\n",
        "120"
       ]
      },
      {
       "output_type": "stream",
       "stream": "stdout",
       "text": [
        "\n",
        "130"
       ]
      },
      {
       "output_type": "stream",
       "stream": "stdout",
       "text": [
        "\n",
        "140"
       ]
      },
      {
       "output_type": "stream",
       "stream": "stdout",
       "text": [
        "\n",
        "150"
       ]
      },
      {
       "output_type": "stream",
       "stream": "stdout",
       "text": [
        "\n",
        "160"
       ]
      },
      {
       "output_type": "stream",
       "stream": "stdout",
       "text": [
        "\n",
        "170"
       ]
      },
      {
       "output_type": "stream",
       "stream": "stdout",
       "text": [
        "\n",
        "180"
       ]
      },
      {
       "output_type": "stream",
       "stream": "stdout",
       "text": [
        "\n",
        "190"
       ]
      },
      {
       "output_type": "stream",
       "stream": "stdout",
       "text": [
        "\n",
        "200"
       ]
      },
      {
       "output_type": "stream",
       "stream": "stdout",
       "text": [
        "\n",
        "210"
       ]
      },
      {
       "output_type": "stream",
       "stream": "stdout",
       "text": [
        "\n",
        "220"
       ]
      },
      {
       "output_type": "stream",
       "stream": "stdout",
       "text": [
        "\n",
        "230"
       ]
      },
      {
       "output_type": "stream",
       "stream": "stdout",
       "text": [
        "\n",
        "240"
       ]
      },
      {
       "output_type": "stream",
       "stream": "stdout",
       "text": [
        "\n",
        "250"
       ]
      },
      {
       "output_type": "stream",
       "stream": "stdout",
       "text": [
        "\n",
        "260"
       ]
      },
      {
       "output_type": "stream",
       "stream": "stdout",
       "text": [
        "\n",
        "270"
       ]
      },
      {
       "output_type": "stream",
       "stream": "stdout",
       "text": [
        "\n",
        "280"
       ]
      },
      {
       "output_type": "stream",
       "stream": "stdout",
       "text": [
        "\n",
        "290"
       ]
      },
      {
       "output_type": "stream",
       "stream": "stdout",
       "text": [
        "\n",
        "300"
       ]
      },
      {
       "output_type": "stream",
       "stream": "stdout",
       "text": [
        "\n",
        "310"
       ]
      },
      {
       "output_type": "stream",
       "stream": "stdout",
       "text": [
        "\n",
        "320"
       ]
      },
      {
       "output_type": "stream",
       "stream": "stdout",
       "text": [
        "\n",
        "330"
       ]
      },
      {
       "output_type": "stream",
       "stream": "stdout",
       "text": [
        "\n",
        "340"
       ]
      },
      {
       "output_type": "stream",
       "stream": "stdout",
       "text": [
        "\n",
        "350"
       ]
      },
      {
       "output_type": "stream",
       "stream": "stdout",
       "text": [
        "\n",
        "360"
       ]
      },
      {
       "output_type": "stream",
       "stream": "stdout",
       "text": [
        "\n",
        "370"
       ]
      },
      {
       "output_type": "stream",
       "stream": "stdout",
       "text": [
        "\n",
        "380"
       ]
      },
      {
       "output_type": "stream",
       "stream": "stdout",
       "text": [
        "\n",
        "390"
       ]
      },
      {
       "output_type": "stream",
       "stream": "stdout",
       "text": [
        "\n",
        "400"
       ]
      },
      {
       "output_type": "stream",
       "stream": "stdout",
       "text": [
        "\n",
        "410"
       ]
      },
      {
       "output_type": "stream",
       "stream": "stdout",
       "text": [
        "\n",
        "420"
       ]
      },
      {
       "output_type": "stream",
       "stream": "stdout",
       "text": [
        "\n",
        "430"
       ]
      },
      {
       "output_type": "stream",
       "stream": "stdout",
       "text": [
        "\n",
        "440"
       ]
      },
      {
       "output_type": "stream",
       "stream": "stdout",
       "text": [
        "\n",
        "450"
       ]
      },
      {
       "output_type": "stream",
       "stream": "stdout",
       "text": [
        "\n",
        "460"
       ]
      },
      {
       "output_type": "stream",
       "stream": "stdout",
       "text": [
        "\n",
        "470"
       ]
      },
      {
       "output_type": "stream",
       "stream": "stdout",
       "text": [
        "\n",
        "480"
       ]
      },
      {
       "output_type": "stream",
       "stream": "stdout",
       "text": [
        "\n",
        "490"
       ]
      },
      {
       "output_type": "stream",
       "stream": "stdout",
       "text": [
        "\n",
        "500"
       ]
      },
      {
       "output_type": "stream",
       "stream": "stdout",
       "text": [
        "\n",
        "510"
       ]
      },
      {
       "output_type": "stream",
       "stream": "stdout",
       "text": [
        "\n",
        "520"
       ]
      },
      {
       "output_type": "stream",
       "stream": "stdout",
       "text": [
        "\n",
        "530"
       ]
      },
      {
       "output_type": "stream",
       "stream": "stdout",
       "text": [
        "\n",
        "540"
       ]
      },
      {
       "output_type": "stream",
       "stream": "stdout",
       "text": [
        "\n",
        "550"
       ]
      },
      {
       "output_type": "stream",
       "stream": "stdout",
       "text": [
        "\n",
        "560"
       ]
      },
      {
       "output_type": "stream",
       "stream": "stdout",
       "text": [
        "\n",
        "570"
       ]
      },
      {
       "output_type": "stream",
       "stream": "stdout",
       "text": [
        "\n",
        "580"
       ]
      },
      {
       "output_type": "stream",
       "stream": "stdout",
       "text": [
        "\n",
        "590"
       ]
      },
      {
       "output_type": "stream",
       "stream": "stdout",
       "text": [
        "\n",
        "600"
       ]
      },
      {
       "output_type": "stream",
       "stream": "stdout",
       "text": [
        "\n",
        "610"
       ]
      },
      {
       "output_type": "stream",
       "stream": "stdout",
       "text": [
        "\n",
        "620"
       ]
      },
      {
       "output_type": "stream",
       "stream": "stdout",
       "text": [
        "\n",
        "630"
       ]
      },
      {
       "output_type": "stream",
       "stream": "stdout",
       "text": [
        "\n",
        "640"
       ]
      },
      {
       "output_type": "stream",
       "stream": "stdout",
       "text": [
        "\n",
        "650"
       ]
      },
      {
       "output_type": "stream",
       "stream": "stdout",
       "text": [
        "\n",
        "660"
       ]
      },
      {
       "output_type": "stream",
       "stream": "stdout",
       "text": [
        "\n",
        "670"
       ]
      },
      {
       "output_type": "stream",
       "stream": "stdout",
       "text": [
        "\n",
        "680"
       ]
      },
      {
       "output_type": "stream",
       "stream": "stdout",
       "text": [
        "\n",
        "690"
       ]
      },
      {
       "output_type": "stream",
       "stream": "stdout",
       "text": [
        "\n",
        "700"
       ]
      },
      {
       "output_type": "stream",
       "stream": "stdout",
       "text": [
        "\n",
        "710"
       ]
      },
      {
       "output_type": "stream",
       "stream": "stdout",
       "text": [
        "\n",
        "720"
       ]
      },
      {
       "output_type": "stream",
       "stream": "stdout",
       "text": [
        "\n",
        "730"
       ]
      },
      {
       "output_type": "stream",
       "stream": "stdout",
       "text": [
        "\n",
        "740"
       ]
      },
      {
       "output_type": "stream",
       "stream": "stdout",
       "text": [
        "\n",
        "750"
       ]
      },
      {
       "output_type": "stream",
       "stream": "stdout",
       "text": [
        "\n",
        "760"
       ]
      },
      {
       "output_type": "stream",
       "stream": "stdout",
       "text": [
        "\n",
        "770"
       ]
      },
      {
       "output_type": "stream",
       "stream": "stdout",
       "text": [
        "\n",
        "780"
       ]
      },
      {
       "output_type": "stream",
       "stream": "stdout",
       "text": [
        "\n",
        "790"
       ]
      },
      {
       "output_type": "stream",
       "stream": "stdout",
       "text": [
        "\n",
        "800"
       ]
      },
      {
       "output_type": "stream",
       "stream": "stdout",
       "text": [
        "\n",
        "810"
       ]
      },
      {
       "output_type": "stream",
       "stream": "stdout",
       "text": [
        "\n",
        "820"
       ]
      },
      {
       "output_type": "stream",
       "stream": "stdout",
       "text": [
        "\n",
        "830"
       ]
      },
      {
       "output_type": "stream",
       "stream": "stdout",
       "text": [
        "\n",
        "840"
       ]
      },
      {
       "output_type": "stream",
       "stream": "stdout",
       "text": [
        "\n",
        "850"
       ]
      },
      {
       "output_type": "stream",
       "stream": "stdout",
       "text": [
        "\n",
        "860"
       ]
      },
      {
       "output_type": "stream",
       "stream": "stdout",
       "text": [
        "\n",
        "870"
       ]
      },
      {
       "output_type": "stream",
       "stream": "stdout",
       "text": [
        "\n",
        "880"
       ]
      },
      {
       "output_type": "stream",
       "stream": "stdout",
       "text": [
        "\n",
        "890"
       ]
      },
      {
       "output_type": "stream",
       "stream": "stdout",
       "text": [
        "\n",
        "900"
       ]
      },
      {
       "output_type": "stream",
       "stream": "stdout",
       "text": [
        "\n",
        "910"
       ]
      },
      {
       "output_type": "stream",
       "stream": "stdout",
       "text": [
        "\n",
        "920"
       ]
      },
      {
       "output_type": "stream",
       "stream": "stdout",
       "text": [
        "\n",
        "930"
       ]
      },
      {
       "output_type": "stream",
       "stream": "stdout",
       "text": [
        "\n",
        "940"
       ]
      },
      {
       "output_type": "stream",
       "stream": "stdout",
       "text": [
        "\n",
        "950"
       ]
      },
      {
       "output_type": "stream",
       "stream": "stdout",
       "text": [
        "\n",
        "960"
       ]
      },
      {
       "output_type": "stream",
       "stream": "stdout",
       "text": [
        "\n",
        "970"
       ]
      },
      {
       "output_type": "stream",
       "stream": "stdout",
       "text": [
        "\n",
        "980"
       ]
      },
      {
       "output_type": "stream",
       "stream": "stdout",
       "text": [
        "\n",
        "990"
       ]
      },
      {
       "output_type": "stream",
       "stream": "stdout",
       "text": [
        "\n"
       ]
      }
     ],
     "prompt_number": 107
    },
    {
     "cell_type": "code",
     "collapsed": false,
     "input": [
      "p_response_mean = np.mean(p_responses, axis=2)\n",
      "p_response_sem = scipy.stats.sem(p_responses, axis=2)\n",
      "\n",
      "x = np.arange(n_trial)\n",
      "upper = p_response_mean + p_response_sem\n",
      "lower = p_response_mean - p_response_sem\n",
      "mean = p_response_mean\n",
      "\n",
      "plt.close('all')\n",
      "#clr = ['r', 'b']\n",
      "k = 0 \n",
      "def plot(i, j, label):\n",
      "    global k\n",
      "    plt.fill_between(x, lower[i, j], upper[i, j], color=colors[k], alpha=0.1)\n",
      "    plt.plot(mean[i, j], color=colors[k], label=label)\n",
      "    k += 1\n",
      "\n",
      "plot(0, list(kappas).index(-1.0), \"learning, r=0.1\")\n",
      "plot(1, list(kappas).index(-1.0), \"fixed, r=0.1\")\n",
      "plot(2, 0, \"fixed, uniform\")\n",
      "plot(0, list(kappas).index(1.0), \"learning, r=10\")\n",
      "plot(1, list(kappas).index(1.0), \"fixed, r=10\")\n",
      "\t\n",
      "plt.legend(loc=0)\n",
      "fig = plt.gcf()\n",
      "fig.set_figwidth(8)\n",
      "fig.set_figheight(6)\n",
      "plt.xlim(0, n_trial-1)\n",
      "plt.xlabel(\"Trial\")\n",
      "plt.ylabel(\"Likelihood\")\n",
      "plt.title(\"Likelihood of observer responses, averaged over trial orderings\")\n",
      "\n",
      "lat.save(\"images/likelihoods_over_time.png\", close=False)\n"
     ],
     "language": "python",
     "outputs": [
      {
       "output_type": "stream",
       "stream": "stdout",
       "text": [
        "Saving figure to images/likelihoods_over_time.png...' "
       ]
      },
      {
       "output_type": "stream",
       "stream": "stdout",
       "text": [
        "Done\n"
       ]
      },
      {
       "output_type": "display_data",
       "png": "[encoded data removed]"
      }
     ],
     "prompt_number": 113
    },
    {
     "cell_type": "code",
     "collapsed": false,
     "input": [],
     "language": "python",
     "outputs": []
    }
   ]
  }
 ]
}