{
 "metadata": {
  "name": "choose-oneshot-trials"
 },
 "nbformat": 3,
 "nbformat_minor": 0,
 "worksheets": [
  {
   "cells": [
    {
     "cell_type": "code",
     "collapsed": false,
     "input": [
      "import numpy as np\n",
      "import pickle\n",
      "import os\n",
      "import yaml\n",
      "import sys\n",
      "import shutil\n",
      "\n",
      "import model_observer as mo\n",
      "import analysis_tools as at\n",
      "from stats_tools import normalize\n",
      "from cp_helper import copy_stims\n",
      "import stats_tools as st"
     ],
     "language": "python",
     "outputs": [],
     "prompt_number": 1
    },
    {
     "cell_type": "markdown",
     "source": [
      "## Configuration"
     ]
    },
    {
     "cell_type": "code",
     "collapsed": false,
     "input": [
      "listpath = \"../stimuli/lists\"\n",
      "confdir = \"../stimuli/meta\"\n",
      "exp_ver = \"F\"\n",
      "stim_ratio = 10\n",
      "nsamps = 300\n",
      "nexp = 20\n",
      "ntrain = 6\n",
      "\n",
      "cmap = at.make_cmap(\"lh\", (0, 0, 0), (.5, .5, .5), (1, 0, 0))\n",
      "rso = np.random.RandomState(23)"
     ],
     "language": "python",
     "outputs": [],
     "prompt_number": 2
    },
    {
     "cell_type": "markdown",
     "source": [
      "### Colors"
     ]
    },
    {
     "cell_type": "code",
     "collapsed": false,
     "input": [
      "colors = {\n",
      "    'red': '#FF0033',\n",
      "    'orange': '#FF7000',\n",
      "    'yellow': '#FFFF00',\n",
      "    'green': '#00FF00',\n",
      "    'blue': '#0033FF',\n",
      "    'magenta': '#FF00FF'\n",
      "    }\n",
      "\n",
      "blacklist = [\n",
      "    ('red', 'green'),\n",
      "    ('red', 'magenta'),\n",
      "    ('red', 'orange'),\n",
      "    ('orange', 'yellow'),\n",
      "    ('yellow', 'green'),\n",
      "    ('orange', 'magenta'),\n",
      "    ('orange', 'green'),\n",
      "    ]\n",
      "blacklist = [tuple(sorted(b)) for b in blacklist]"
     ],
     "language": "python",
     "outputs": [],
     "prompt_number": 3
    },
    {
     "cell_type": "markdown",
     "source": [
      "## Load Data"
     ]
    },
    {
     "cell_type": "code",
     "collapsed": false,
     "input": [
      "reload(at)\n",
      "out = at.load_model('mass-all', nthresh0=(0.0, 0.2), nthresh=0.4)\n",
      "rawipe, ipe_samps, rawtruth, feedback, kappas, stimuli = out\n",
      "\n",
      "n_kappas = len(kappas)\n",
      "ratios = 10 ** kappas\n",
      "ratios[kappas < 0] = np.round(ratios[kappas < 0], decimals=2)\n",
      "ratios[kappas >= 0] = np.round(ratios[kappas >= 0], decimals=1)\n",
      "\n",
      "# find indices of the ratios that we want\n",
      "ridx = int(np.nonzero(ratios==stim_ratio)[0][0])\n",
      "r1 = list(ratios).index(1.0)\n",
      "\n",
      "# numbers for stimuli\n",
      "nums = np.array([x.split(\"_\")[1] for x in stimuli])\n"
     ],
     "language": "python",
     "outputs": [
      {
       "output_type": "stream",
       "stream": "stdout",
       "text": [
        "Note: interval (0.0, 0.2) specified for nthresh0\n"
       ]
      }
     ],
     "prompt_number": 4
    },
    {
     "cell_type": "code",
     "collapsed": false,
     "input": [
      "model_lh = mo.IPE(feedback, ipe_samps, kappas, smooth=False)\n",
      "model_prior = np.log(np.ones(n_kappas) / n_kappas)[None]\n",
      "model_prior[:, r1] = -5\n",
      "model_prior = normalize(model_prior, axis=1)[1]\n",
      "model_joint = model_prior + np.log(model_lh)"
     ],
     "language": "python",
     "outputs": [],
     "prompt_number": 5
    },
    {
     "cell_type": "code",
     "collapsed": false,
     "input": [
      "fb = feedback[ridx]\n",
      "lh = model_lh[ridx].copy()\n",
      "pfell1 = lh * fb[..., None]\n",
      "pfell0 = (1-lh) * (1-fb[..., None])\n",
      "pfell = pfell0 + pfell1\n",
      "prior = np.exp(model_prior)\n",
      "post = np.exp(normalize(model_joint, axis=-1)[1])[ridx]"
     ],
     "language": "python",
     "outputs": [],
     "prompt_number": 6
    },
    {
     "cell_type": "code",
     "collapsed": false,
     "input": [
      "hyps = [\n",
      "    slice(None, r1),\n",
      "    slice(r1 + 1, None)\n",
      "    ]\n",
      "\n",
      "hyp_lh = np.empty((lh.shape[0], len(hyps),))\n",
      "for hi, h in enumerate(hyps):\n",
      "    hyp_lh[:, hi] = lh[:, h].sum(axis=-1)\n",
      "\n",
      "lhr = (np.log(hyp_lh[:, 1] / hyp_lh[:, 0]))"
     ],
     "language": "python",
     "outputs": [],
     "prompt_number": 7
    },
    {
     "cell_type": "code",
     "collapsed": false,
     "input": [
      "# compute information gain\n",
      "I0 = np.sum(prior * np.log(1. / prior), axis=-1)\n",
      "I1 = np.sum(post * np.log(1. / post), axis=-1)\n",
      "gain = I0 - I1\n",
      "gain[gain < 0] = np.nan"
     ],
     "language": "python",
     "outputs": [],
     "prompt_number": 8
    },
    {
     "cell_type": "code",
     "collapsed": false,
     "input": [
      "ok = ~np.isnan(lhr) & ~np.isnan(gain)\n",
      "print np.sum(ok)"
     ],
     "language": "python",
     "outputs": [
      {
       "output_type": "stream",
       "stream": "stdout",
       "text": [
        "9922\n"
       ]
      }
     ],
     "prompt_number": 9
    },
    {
     "cell_type": "code",
     "collapsed": false,
     "input": [
      "lhrsort = np.sort(lhr[ok])\n",
      "plt.plot(lhrsort)\n",
      "plt.xlim(0, lhrsort.size)\n",
      "plt.xlabel(\"Stimulus\")\n",
      "plt.ylabel(\"Log likelihood ratio $r_0>1/r_0<1$\")\n",
      "plt.title(\"Stimuli likelihood ratios\")"
     ],
     "language": "python",
     "outputs": [
      {
       "output_type": "pyout",
       "prompt_number": 10,
       "text": [
        "<matplotlib.text.Text at 0x10b908f90>"
       ]
      },
      {
       "output_type": "display_data",
       "png": "[encoded data removed]"
      }
     ],
     "prompt_number": 10
    },
    {
     "cell_type": "code",
     "collapsed": false,
     "input": [
      "gainsort = np.sort(gain[ok])\n",
      "plt.plot(gainsort)\n",
      "plt.xlim(0, gainsort.size)\n",
      "plt.xlabel(\"Stimulus\")\n",
      "plt.ylabel(\"Information gain from feedback w/ $r_0=10$\")\n",
      "plt.title(\"Stimuli information content\")"
     ],
     "language": "python",
     "outputs": [
      {
       "output_type": "pyout",
       "prompt_number": 11,
       "text": [
        "<matplotlib.text.Text at 0x10b844710>"
       ]
      },
      {
       "output_type": "display_data",
       "png": "[encoded data removed]"
      }
     ],
     "prompt_number": 11
    },
    {
     "cell_type": "code",
     "collapsed": false,
     "input": [
      "plt.plot(lhr[ok], gain[ok], '.', alpha=0.5)\n",
      "x = np.linspace(-3, 3, 100)\n",
      "f = lambda x: (x**2) / 10.\n",
      "plt.plot(x, f(x), 'r-')\n",
      "plt.xlabel(\"Log likelihood ratio $r_0>1/r_0<1$\")\n",
      "plt.ylabel(\"Information gain\")\n",
      "plt.title(\"Likelihood and information when $r_0=10$\")\n",
      "plt.xlim(-3, 3)\n",
      "plt.ylim(0, 0.6)"
     ],
     "language": "python",
     "outputs": [
      {
       "output_type": "pyout",
       "prompt_number": 12,
       "text": [
        "(0, 0.6)"
       ]
      },
      {
       "output_type": "display_data",
       "png": "[encoded data removed]"
      }
     ],
     "prompt_number": 12
    },
    {
     "cell_type": "code",
     "collapsed": false,
     "input": [
      "target_gain = f(lhr)\n",
      "#gaindiff = (gain - target_gain)**2\n",
      "#good = gaindiff < 0.005\n",
      "good = np.ones(gain.shape, dtype='bool')\n",
      "print np.sum(good & ok)\n",
      "plt.plot(lhr[ok & good], gain[ok & good], '.')\n",
      "plt.plot(x, f(x), 'r-')\n",
      "plt.xlabel(\"Log likelihood ratio\")\n",
      "plt.ylabel(\"Information gain\")"
     ],
     "language": "python",
     "outputs": [
      {
       "output_type": "stream",
       "stream": "stdout",
       "text": [
        "9922\n"
       ]
      },
      {
       "output_type": "pyout",
       "prompt_number": 13,
       "text": [
        "<matplotlib.text.Text at 0x10dc2e950>"
       ]
      },
      {
       "output_type": "display_data",
       "png": "[encoded data removed]"
      }
     ],
     "prompt_number": 13
    },
    {
     "cell_type": "code",
     "collapsed": false,
     "input": [
      "guess_err = np.abs(np.sum(prior*pfell, axis=1) - fb)"
     ],
     "language": "python",
     "outputs": [],
     "prompt_number": 14
    },
    {
     "cell_type": "code",
     "collapsed": false,
     "input": [
      "lowest = lhr[ok & good].min()\n",
      "highest = lhr[ok & good].max()\n",
      "lowedge = np.sort(lhr[ok & good])[50]\n",
      "highedge = np.sort(lhr[ok & good])[-50]\n",
      "edges = np.linspace(lowedge, highedge, (nexp/2)-1)\n",
      "# binsize = (np.ptp([lowedge, highedge]) / (nexp-2)) / 2.\n",
      "# if (np.abs(edges) < binsize).any():\n",
      "#     val = edges[np.nonzero(np.abs(edges) < binsize)]\n",
      "#     edges -= (binsize - np.abs(val))\n",
      "bins = np.hstack([\n",
      "    [lowest],\n",
      "    edges,\n",
      "    [highest+0.001]])\n",
      "inbins = (lhr[:, None] >= bins[:-1]) & (lhr[:, None] < bins[1:])\n",
      "print np.sum(inbins, axis=0)"
     ],
     "language": "python",
     "outputs": [
      {
       "output_type": "stream",
       "stream": "stdout",
       "text": [
        "[  46  130  556 2595 5496 1037  419  176   85   55]\n"
       ]
      }
     ],
     "prompt_number": 15
    },
    {
     "cell_type": "code",
     "collapsed": false,
     "input": [
      "exp = np.empty((2, nexp/2), dtype='i8')\n",
      "nummask = np.ones(lhr.shape, dtype='bool')\n",
      "for bi in xrange(nexp/2):\n",
      "    for fbtype in rso.permutation(2):\n",
      "\tinbin = (lhr >= bins[bi]) & (lhr < bins[bi+1])\n",
      "\tgoodfb = fb == fbtype\n",
      "\tmask = (ok & good & inbin & nummask & goodfb).astype('f8')\n",
      "\tassert np.sum(mask) > 0\n",
      "\tmask[mask==0] = np.nan\n",
      "\tscore = guess_err * mask\n",
      "\targbest = np.nanargmin(score)\n",
      "\tbest = score[argbest]\n",
      "\tassert not np.isnan(best)\n",
      "\tprint nums[argbest], fb[argbest], best\n",
      "\texp[fbtype, bi] = argbest\n",
      "\tnum = nums[argbest]\n",
      "\tnummask[nums == num] = False\n",
      "exp = exp.T.ravel()\n",
      "expF0 = exp[np.nonzero(fb[exp] == 0)[0]]\n",
      "expF1 = exp[np.nonzero(fb[exp] == 1)[0]]"
     ],
     "language": "python",
     "outputs": [
      {
       "output_type": "stream",
       "stream": "stdout",
       "text": [
        "00279 0.0 0.478221828277\n",
        "00117 1.0 0.409090909091\n",
        "00074 1.0 0.363256723235\n",
        "00316 0.0 0.430109800011\n",
        "00009 1.0 0.181438541417\n",
        "00483 0.0 0.181438541417\n",
        "00080 0.0 0.067991997981\n",
        "00015 1.0 0.067991997981\n",
        "00018 1.0 0.0454545454545\n",
        "00160 0.0 0.0454545454545\n",
        "00271 1.0 0.180679260614\n",
        "00260 0.0 0.181438541417\n",
        "00222 0.0 0.315903975773\n",
        "00021 1.0 0.272347632326\n",
        "01264 0.0 0.385034894958\n",
        "00357 1.0 0.342237832314\n",
        "01441 1.0 0.408331628288\n",
        "00524 0.0 0.454165814144\n",
        "00193 0.0 0.680299620212\n",
        "00102 1.0 0.546593466659\n"
       ]
      }
     ],
     "prompt_number": 16
    },
    {
     "cell_type": "code",
     "collapsed": false,
     "input": [
      "plt.plot(lhr[expF0], gain[expF0], 'bo', label='F=0')\n",
      "plt.plot(lhr[expF1], gain[expF1], 'ro', label='F=1')\n",
      "plt.xlabel(\"Likelihood ratio\")\n",
      "plt.ylabel(\"Information gain\")\n",
      "plt.title(\"Experimental stimuli\")\n",
      "plt.legend(loc=0)"
     ],
     "language": "python",
     "outputs": [
      {
       "output_type": "pyout",
       "prompt_number": 17,
       "text": [
        "<matplotlib.legend.Legend at 0x10b9499d0>"
       ]
      },
      {
       "output_type": "display_data",
       "png": "[encoded data removed]"
      }
     ],
     "prompt_number": 17
    },
    {
     "cell_type": "code",
     "collapsed": false,
     "input": [
      "cnames = sorted(colors.keys())\n",
      "pairs = [tuple(sorted((ci, cj))) for ci in cnames for cj in cnames if ci != cj]\n",
      "pairs = sorted(set(pairs))\n",
      "pairs = np.array([p for p in pairs if p not in blacklist])\n",
      "color_pairs = []\n",
      "for i in xrange(nexp+1):\n",
      "    pair = pairs[i % len(pairs)]\n",
      "    color_pairs.append(pair[rso.permutation(2)])\n",
      "color_pairs_hr = np.array(color_pairs)\n",
      "rso.shuffle(color_pairs_hr)\n",
      "print color_pairs_hr\n",
      "color_pairs = np.array([[colors[p] for p in pair] for pair in color_pairs_hr])\n",
      "example_color_pair_hr = color_pairs_hr[0]\n",
      "example_color_pair = color_pairs[0]\n",
      "color_pairs_hr = color_pairs_hr[1:]\n",
      "color_pairs = color_pairs[1:]"
     ],
     "language": "python",
     "outputs": [
      {
       "output_type": "stream",
       "stream": "stdout",
       "text": [
        "[['magenta' 'blue']\n",
        " ['green' 'magenta']\n",
        " ['blue' 'green']\n",
        " ['blue' 'orange']\n",
        " ['magenta' 'green']\n",
        " ['blue' 'green']\n",
        " ['blue' 'orange']\n",
        " ['yellow' 'magenta']\n",
        " ['blue' 'yellow']\n",
        " ['blue' 'red']\n",
        " ['blue' 'orange']\n",
        " ['magenta' 'yellow']\n",
        " ['blue' 'red']\n",
        " ['green' 'blue']\n",
        " ['blue' 'magenta']\n",
        " ['yellow' 'blue']\n",
        " ['yellow' 'blue']\n",
        " ['red' 'yellow']\n",
        " ['yellow' 'red']\n",
        " ['magenta' 'blue']\n",
        " ['red' 'blue']]\n"
       ]
      }
     ],
     "prompt_number": 18
    },
    {
     "cell_type": "code",
     "collapsed": false,
     "input": [
      "angles = rso.randint(0, 360, nexp + ntrain + 3)\n",
      "angles"
     ],
     "language": "python",
     "outputs": [
      {
       "output_type": "pyout",
       "prompt_number": 19,
       "text": [
        "array([269, 316,  22, 166,  31, 350,   0,   6,  32, 354,  32, 142,  31,\n",
        "        78, 336,  70, 322, 283, 318, 249, 244, 299, 202,  71, 247, 277,\n",
        "         6,  68, 150])"
       ]
      }
     ],
     "prompt_number": 19
    },
    {
     "cell_type": "code",
     "collapsed": false,
     "input": [
      "for sidx, best in enumerate(exp):\n",
      "    print stimuli[best], fb[best]\n",
      "    print \"\\t lhr   = %s\" % lhr[best]\n",
      "    print \"\\t gain  = %s\" % gain[best]\n",
      "    print \"\\t err   = %s\" % guess_err[best]\n",
      "    # print \"\\t light = %s\" % color_pairs_hr[sidx, 0]\n",
      "    # print \"\\t heavy = %s\" % color_pairs_hr[sidx, 1]\n",
      "    print\n"
     ],
     "language": "python",
     "outputs": [
      {
       "output_type": "stream",
       "stream": "stdout",
       "text": [
        "mass-tower_00279_1110000011 0.0\n",
        "\t lhr   = -1.04145387483\n",
        "\t gain  = 0.133439960393\n",
        "\t err   = 0.478221828277\n",
        "\n",
        "mass-tower_00117_0110111000 1.0\n",
        "\t lhr   = -0.998528830111\n",
        "\t gain  = 0.156070115315\n",
        "\t err   = 0.409090909091\n",
        "\n",
        "mass-tower_00316_0101010101 0.0\n",
        "\t lhr   = -0.753771802376\n",
        "\t gain  = 0.127210541289\n",
        "\t err   = 0.430109800011\n",
        "\n",
        "mass-tower_00074_0010111001 1.0\n",
        "\t lhr   = -0.74721440183\n",
        "\t gain  = 0.0705699984627\n",
        "\t err   = 0.363256723235\n",
        "\n",
        "mass-tower_00483_1010010011 0.0\n",
        "\t lhr   = -0.336472236621\n",
        "\t gain  = 0.0159661437198\n",
        "\t err   = 0.181438541417\n",
        "\n",
        "mass-tower_00009_1100010110 1.0\n",
        "\t lhr   = -0.336472236621\n",
        "\t gain  = 0.0159661437198\n",
        "\t err   = 0.181438541417\n",
        "\n",
        "mass-tower_00080_0110010110 0.0\n",
        "\t lhr   = -0.0487901641694\n",
        "\t gain  = 0.000217380870278\n",
        "\t err   = 0.067991997981\n",
        "\n",
        "mass-tower_00015_1010101010 1.0\n",
        "\t lhr   = -0.0487901641694\n",
        "\t gain  = 0.000217380870278\n",
        "\t err   = 0.067991997981\n",
        "\n",
        "mass-tower_00160_0011011100 0.0\n",
        "\t lhr   = 0.0\n",
        "\t gain  = 0.0\n",
        "\t err   = 0.0454545454545\n",
        "\n",
        "mass-tower_00018_0001011101 1.0\n",
        "\t lhr   = 0.0\n",
        "\t gain  = 0.0\n",
        "\t err   = 0.0454545454545\n",
        "\n",
        "mass-tower_00260_0110110100 0.0\n",
        "\t lhr   = 0.336472236621\n",
        "\t gain  = 0.0122841217429\n",
        "\t err   = 0.181438541417\n",
        "\n",
        "mass-tower_00271_1011000101 1.0\n",
        "\t lhr   = 0.336472236621\n",
        "\t gain  = 0.0241029491629\n",
        "\t err   = 0.180679260614\n",
        "\n",
        "mass-tower_00222_1001101001 0.0\n",
        "\t lhr   = 0.69314718056\n",
        "\t gain  = 0.0892835030364\n",
        "\t err   = 0.315903975773\n",
        "\n",
        "mass-tower_00021_1010010110 1.0\n",
        "\t lhr   = 0.646627164925\n",
        "\t gain  = 0.0474768530529\n",
        "\t err   = 0.272347632326\n",
        "\n",
        "mass-tower_01264_0011111000 0.0\n",
        "\t lhr   = 1.0498221245\n",
        "\t gain  = 0.124124436733\n",
        "\t err   = 0.385034894958\n",
        "\n",
        "mass-tower_00357_1010000111 1.0\n",
        "\t lhr   = 0.965080896044\n",
        "\t gain  = 0.11268668599\n",
        "\t err   = 0.342237832314\n",
        "\n",
        "mass-tower_00524_1101001010 0.0\n",
        "\t lhr   = 1.33500106673\n",
        "\t gain  = 0.198797945394\n",
        "\t err   = 0.454165814144\n",
        "\n",
        "mass-tower_01441_1100100101 1.0\n",
        "\t lhr   = 1.43508452529\n",
        "\t gain  = 0.197414210196\n",
        "\t err   = 0.408331628288\n",
        "\n",
        "mass-tower_00193_1010101010 0.0\n",
        "\t lhr   = 1.79175946923\n",
        "\t gain  = 0.285890092686\n",
        "\t err   = 0.680299620212\n",
        "\n",
        "mass-tower_00102_0001011011 1.0\n",
        "\t lhr   = 1.73460105539\n",
        "\t gain  = 0.313891571753\n",
        "\t err   = 0.546593466659\n",
        "\n"
       ]
      }
     ],
     "prompt_number": 20
    },
    {
     "cell_type": "code",
     "collapsed": false,
     "input": [
      "highF0 = []\n",
      "highF1 = []\n",
      "\n",
      "for sidx in xrange(nexp):\n",
      "    model_joint, model_theta = mo.ModelObserver(\n",
      "\tfb[[exp[sidx]]],\n",
      "\tipe_samps[[exp[sidx]]],\n",
      "\tkappas,\n",
      "\tprior=None, \n",
      "\tp_ignore=0, \n",
      "\tsmooth=False)\n",
      "    r1theta = np.exp(model_theta[1, r1]) / 2.\n",
      "    lowtheta = np.exp(model_theta[1, hyps[0]]).sum() + r1theta\n",
      "    hightheta = np.exp(model_theta[1, hyps[1]]).sum() + r1theta\n",
      "    Z = lowtheta + hightheta\n",
      "    high = hightheta / Z\n",
      "    if fb[exp[sidx]] == 0:\n",
      "\thighF0.append(high)\n",
      "    else:\n",
      "\thighF1.append(high)\n",
      "\n",
      "plt.clf()\n",
      "plt.subplot(1, 2, 1)\n",
      "plt.plot(lhr[expF0], highF0, 'b-', label=\"stable\")\n",
      "plt.plot(lhr[expF0], highF0, 'bo')\n",
      "plt.plot(lhr[expF1], highF1, 'r-', label=\"unstable\")\n",
      "plt.plot(lhr[expF1], highF1, 'ro')\n",
      "plt.xlabel(\"Log likelihood ratio\")\n",
      "plt.ylabel(\"Probability of correct ratio\")\n",
      "plt.ylim(0.0, 1.0)\n",
      "plt.legend(loc=4)\n",
      "\n",
      "plt.subplot(1, 2, 2)\n",
      "plt.plot(gain[expF0], highF0, 'b-', label=\"stable\")\n",
      "plt.plot(gain[expF0], highF0, 'bo')\n",
      "plt.plot(gain[expF1], highF1, 'r-', label=\"unstable\")\n",
      "plt.plot(gain[expF1], highF1, 'ro')\n",
      "plt.xlabel(\"Information gain\")\n",
      "plt.ylabel(\"Probability of correct ratio\")\n",
      "plt.ylim(0.0, 1.0)\n",
      "plt.legend(loc=4)\n",
      "\n",
      "plt.suptitle(\"Effect of log likelihood and information on model mass judgments\",\n",
      "\t     fontsize=16)\n",
      "\n",
      "fig = plt.gcf()\n",
      "fig.set_figwidth(10)\n",
      "fig.set_figheight(4)\n",
      "\n",
      "at.savefig(\"images/stimuli-metrics.png\", close=False)\n",
      "\n"
     ],
     "language": "python",
     "outputs": [
      {
       "output_type": "display_data",
       "png": "[encoded data removed]"
      }
     ],
     "prompt_number": 21
    },
    {
     "cell_type": "code",
     "collapsed": false,
     "input": [
      "i = 0\n",
      "at.plot_smoothing(ipe_samps, stimuli, [exp[i]], kappas)\n",
      "print stimuli[exp[i]], fb[exp[i]], lhr[exp[i]], guess_err[exp[i]]\n",
      "fig = plt.gcf()\n",
      "fig.set_figwidth(6)\n",
      "fig.set_figheight(4)\n"
     ],
     "language": "python",
     "outputs": [
      {
       "output_type": "stream",
       "stream": "stdout",
       "text": [
        "mass-tower_00279_1110000011 0.0 -1.04145387483 0.478221828277\n"
       ]
      },
      {
       "output_type": "display_data",
       "png": "[encoded data removed]"
      }
     ],
     "prompt_number": 22
    },
    {
     "cell_type": "markdown",
     "source": [
      "### Mass example stimulus"
     ]
    },
    {
     "cell_type": "code",
     "collapsed": false,
     "input": [
      "# choose a (stable) mass example\n",
      "goodex = np.nonzero((lh[:, [0]] == lh).all(axis=1) & (fb == 0))[0]\n",
      "goodex = [x for x in goodex if nums[x] not in list(nums[exp])]\n",
      "mass_example = goodex[np.argmin(lh[goodex, 0])]\n",
      "print stimuli[mass_example], lh[mass_example]\n"
     ],
     "language": "python",
     "outputs": [
      {
       "output_type": "stream",
       "stream": "stdout",
       "text": [
        "mass-tower_00094_0110101001 [ 0.04545455  0.04545455  0.04545455  0.04545455  0.04545455]\n"
       ]
      }
     ],
     "prompt_number": 23
    },
    {
     "cell_type": "markdown",
     "source": [
      "### Used stimuli numbers"
     ]
    },
    {
     "cell_type": "code",
     "collapsed": false,
     "input": [
      "used_nums = list(nums[exp]) + [nums[mass_example]]"
     ],
     "language": "python",
     "outputs": [],
     "prompt_number": 24
    },
    {
     "cell_type": "markdown",
     "source": [
      "### Training stimuli\n",
      "\n",
      "We want to pick training towers that are half and half, and are really\n",
      "obvious to people (based on previous sameheight experiment results)."
     ]
    },
    {
     "cell_type": "code",
     "collapsed": false,
     "input": [
      "# load sameheight model and human data\n",
      "reload(at)\n",
      "model_sh = at.load_model('stability-sameheight')\n",
      "rawipe_sh, ipe_sh, rawtruth_sh, fb_sh, kappas_sh, sstimuli = model_sh\n",
      "human, rawhuman_sh, stim_sh = at.load_old_human('stability-sameheight')\n",
      "\n",
      "sh_nums = [x[len('stability'):] for x in stim_sh]\n",
      "oknums = np.array([x not in used_nums for x in sh_nums])\n",
      "\n",
      "tstable = (fb_sh[0] == 0) & oknums\n",
      "tunstable = (fb_sh[0] == 1) & oknums\n",
      "\n",
      "hstable = 1 - human.copy()\n",
      "hsort = np.argsort(hstable)\n",
      "unstable = hsort[np.nonzero(tunstable[hsort])[0]]\n",
      "stable = hsort[np.nonzero(tstable[hsort])[0]][::-1]"
     ],
     "language": "python",
     "outputs": [],
     "prompt_number": 25
    },
    {
     "cell_type": "code",
     "collapsed": false,
     "input": [
      "# examples\n",
      "stable_example = stable[0]\n",
      "unstable_example = unstable[0]\n",
      "print stim_sh[stable_example]\n",
      "print stim_sh[unstable_example]"
     ],
     "language": "python",
     "outputs": [
      {
       "output_type": "stream",
       "stream": "stdout",
       "text": [
        "stability00846\n",
        "stability01798\n"
       ]
      }
     ],
     "prompt_number": 26
    },
    {
     "cell_type": "code",
     "collapsed": false,
     "input": [
      "# training stimuli\n",
      "train = np.hstack([\n",
      "    unstable[1:(ntrain/2)+1],\n",
      "    stable[1:(ntrain/2)+1]])\n",
      "train_stims = np.sort(stim_sh[train])\n",
      "print train_stims"
     ],
     "language": "python",
     "outputs": [
      {
       "output_type": "stream",
       "stream": "stdout",
       "text": [
        "['stability01023' 'stability01178' 'stability01491' 'stability01654'\n",
        " 'stability01893' 'stability01967']\n"
       ]
      }
     ],
     "prompt_number": 27
    },
    {
     "cell_type": "markdown",
     "source": [
      "## Save stimuli lists to file\n",
      "### Unstable example"
     ]
    },
    {
     "cell_type": "code",
     "collapsed": false,
     "input": [
      "name = \"stability-example-unstable-%s\" % exp_ver\n",
      "l = os.path.join(listpath, name)\n",
      "print l\n",
      "with open(l, \"w\") as fh:\n",
      "    lines = \"\\n\".join([stim_sh[unstable_example]])\n",
      "    fh.write(lines)\n",
      "copy_stims(name, \"tower_originalSH\")"
     ],
     "language": "python",
     "outputs": [
      {
       "output_type": "stream",
       "stream": "stdout",
       "text": [
        "../stimuli/lists/stability-example-unstable-F\n",
        "stim00005.cpo"
       ]
      },
      {
       "output_type": "stream",
       "stream": "stdout",
       "text": [
        " <--> stability01798\n",
        "/Users/jhamrick/project/cogphysics/dev/resources/stimuli/tower_originalSH/stim00005.cpo --> ../stimuli/obj/new/stability-example-unstable-F/stim00005.cpo\n",
        "/Users/jhamrick/project/cogphysics/dev/resources/cpobj/stability/stability01798 --> ../stimuli/obj/old/stability-example-unstable-F/stability01798\n"
       ]
      }
     ],
     "prompt_number": 28
    },
    {
     "cell_type": "markdown",
     "source": [
      "### Stable example"
     ]
    },
    {
     "cell_type": "code",
     "collapsed": false,
     "input": [
      "name = \"stability-example-stable-%s\" % exp_ver\n",
      "l = os.path.join(listpath, name)\n",
      "print l\n",
      "with open(l, \"w\") as fh:\n",
      "    lines = \"\\n\".join([stim_sh[stable_example]])\n",
      "    fh.write(lines)\n",
      "copy_stims(name, \"tower_originalSH\")"
     ],
     "language": "python",
     "outputs": [
      {
       "output_type": "stream",
       "stream": "stdout",
       "text": [
        "../stimuli/lists/stability-example-stable-F\n",
        "stim00018.cpo"
       ]
      },
      {
       "output_type": "stream",
       "stream": "stdout",
       "text": [
        " <--> stability00846\n",
        "/Users/jhamrick/project/cogphysics/dev/resources/stimuli/tower_originalSH/stim00018.cpo --> ../stimuli/obj/new/stability-example-stable-F/stim00018.cpo\n",
        "/Users/jhamrick/project/cogphysics/dev/resources/cpobj/stability/stability00846 --> ../stimuli/obj/old/stability-example-stable-F/stability00846\n"
       ]
      }
     ],
     "prompt_number": 29
    },
    {
     "cell_type": "markdown",
     "source": [
      "### Training stimuli"
     ]
    },
    {
     "cell_type": "code",
     "collapsed": false,
     "input": [
      "name = \"mass-oneshot-training-%s\" % exp_ver\n",
      "l = os.path.join(listpath, name)\n",
      "print l\n",
      "with open(l, \"w\") as fh:\n",
      "    lines = \"\\n\".join(train_stims)\n",
      "    fh.write(lines)\n",
      "copy_stims(name, \"tower_originalSH\")"
     ],
     "language": "python",
     "outputs": [
      {
       "output_type": "stream",
       "stream": "stdout",
       "text": [
        "../stimuli/lists/mass-oneshot-training-F\n",
        "stim00051.cpo"
       ]
      },
      {
       "output_type": "stream",
       "stream": "stdout",
       "text": [
        " <--> stability01023\n",
        "/Users/jhamrick/project/cogphysics/dev/resources/stimuli/tower_originalSH/stim00051.cpo --> ../stimuli/obj/new/mass-oneshot-training-F/stim00051.cpo\n",
        "/Users/jhamrick/project/cogphysics/dev/resources/cpobj/stability/stability01023 --> ../stimuli/obj/old/mass-oneshot-training-F/stability01023\n",
        "stim00010.cpo <--> stability01178\n",
        "/Users/jhamrick/project/cogphysics/dev/resources/stimuli/tower_originalSH/stim00010.cpo --> ../stimuli/obj/new/mass-oneshot-training-F/stim00010.cpo\n",
        "/Users/jhamrick/project/cogphysics/dev/resources/cpobj/stability/stability01178 --> ../stimuli/obj/old/mass-oneshot-training-F/stability01178\n",
        "stim00031.cpo <--> stability01491\n",
        "/Users/jhamrick/project/cogphysics/dev/resources/stimuli/tower_originalSH/stim00031.cpo --> ../stimuli/obj/new/mass-oneshot-training-F/stim00031.cpo\n",
        "/Users/jhamrick/project/cogphysics/dev/resources/cpobj/stability/stability01491 --> ../stimuli/obj/old/mass-oneshot-training-F/stability01491\n",
        "stim00055.cpo <--> stability01654\n",
        "/Users/jhamrick/project/cogphysics/dev/resources/stimuli/tower_originalSH/stim00055.cpo --> ../stimuli/obj/new/mass-oneshot-training-F/stim00055.cpo\n",
        "/Users/jhamrick/project/cogphysics/dev/resources/cpobj/stability/stability01654 --> ../stimuli/obj/old/mass-oneshot-training-F/stability01654\n",
        "stim00068.cpo <--> stability01893\n",
        "/Users/jhamrick/project/cogphysics/dev/resources/stimuli/tower_originalSH/stim00068.cpo --> ../stimuli/obj/new/mass-oneshot-training-F/stim00068.cpo\n",
        "/Users/jhamrick/project/cogphysics/dev/resources/cpobj/stability/stability01893 --> ../stimuli/obj/old/mass-oneshot-training-F/stability01893\n",
        "stim00066.cpo <--> stability01967\n",
        "/Users/jhamrick/project/cogphysics/dev/resources/stimuli/tower_originalSH/stim00066.cpo --> ../stimuli/obj/new/mass-oneshot-training-F/stim00066.cpo\n",
        "/Users/jhamrick/project/cogphysics/dev/resources/cpobj/stability/stability01967 --> ../stimuli/obj/old/mass-oneshot-training-F/stability01967\n"
       ]
      }
     ],
     "prompt_number": 30
    },
    {
     "cell_type": "markdown",
     "source": [
      "### Mass example"
     ]
    },
    {
     "cell_type": "code",
     "collapsed": false,
     "input": [
      "name = \"mass-oneshot-example-%s\" % exp_ver\n",
      "l = os.path.join(listpath, \"%s~kappa-%s\" % (name, kappas[ridx]))\n",
      "print l\n",
      "with open(l, \"w\") as fh:\n",
      "    lines = \"\\n\".join([\"%s~kappa-%s\" % (stimuli[mass_example], kappas[ridx])])\n",
      "    fh.write(lines)\n",
      "copy_stims(name, \"tower_mass_all\")"
     ],
     "language": "python",
     "outputs": [
      {
       "output_type": "stream",
       "stream": "stdout",
       "text": [
        "../stimuli/lists/mass-oneshot-example-F~kappa-1.0\n",
        "stim00094_0110101001.cpo"
       ]
      },
      {
       "output_type": "stream",
       "stream": "stdout",
       "text": [
        " <--> mass-tower_00094_0110101001\n",
        "/Users/jhamrick/project/cogphysics/dev/resources/stimuli/tower_mass_all/stim00094_0110101001.cpo --> ../stimuli/obj/new/mass-oneshot-example-F/stim00094_0110101001.cpo\n",
        "/Users/jhamrick/project/cogphysics/dev/resources/cpobj/mass/all-towers/mass-tower_00094_0110101001 --> ../stimuli/obj/old/mass-oneshot-example-F/mass-tower_00094_0110101001\n"
       ]
      }
     ],
     "prompt_number": 31
    },
    {
     "cell_type": "markdown",
     "source": [
      "### Experiment stimuli"
     ]
    },
    {
     "cell_type": "code",
     "collapsed": false,
     "input": [
      "name = \"mass-oneshot-%s\" % exp_ver\n",
      "l = os.path.join(listpath, \"%s~kappa-%s\" % (name, kappas[ridx]))\n",
      "print l\n",
      "exp_stims = [\"%s~kappa-%s\" % (x, kappas[ridx]) for x in stimuli[exp]]\n",
      "with open(l, \"w\") as fh:\n",
      "    lines = \"\\n\".join(exp_stims)\n",
      "    fh.write(lines)\n",
      "copy_stims(name, \"tower_mass_all\")"
     ],
     "language": "python",
     "outputs": [
      {
       "output_type": "stream",
       "stream": "stdout",
       "text": [
        "../stimuli/lists/mass-oneshot-F~kappa-1.0\n",
        "stim00279_1110000011.cpo"
       ]
      },
      {
       "output_type": "stream",
       "stream": "stdout",
       "text": [
        " <--> mass-tower_00279_1110000011\n",
        "/Users/jhamrick/project/cogphysics/dev/resources/stimuli/tower_mass_all/stim00279_1110000011.cpo --> ../stimuli/obj/new/mass-oneshot-F/stim00279_1110000011.cpo\n",
        "/Users/jhamrick/project/cogphysics/dev/resources/cpobj/mass/all-towers/mass-tower_00279_1110000011 --> ../stimuli/obj/old/mass-oneshot-F/mass-tower_00279_1110000011\n",
        "stim00117_0110111000.cpo <--> mass-tower_00117_0110111000\n",
        "/Users/jhamrick/project/cogphysics/dev/resources/stimuli/tower_mass_all/stim00117_0110111000.cpo --> ../stimuli/obj/new/mass-oneshot-F/stim00117_0110111000.cpo\n",
        "/Users/jhamrick/project/cogphysics/dev/resources/cpobj/mass/all-towers/mass-tower_00117_0110111000 --> ../stimuli/obj/old/mass-oneshot-F/mass-tower_00117_0110111000\n",
        "stim00316_0101010101.cpo <--> mass-tower_00316_0101010101\n",
        "/Users/jhamrick/project/cogphysics/dev/resources/stimuli/tower_mass_all/stim00316_0101010101.cpo --> ../stimuli/obj/new/mass-oneshot-F/stim00316_0101010101.cpo\n",
        "/Users/jhamrick/project/cogphysics/dev/resources/cpobj/mass/all-towers/mass-tower_00316_0101010101 --> ../stimuli/obj/old/mass-oneshot-F/mass-tower_00316_0101010101\n",
        "stim00074_0010111001.cpo <--> mass-tower_00074_0010111001\n",
        "/Users/jhamrick/project/cogphysics/dev/resources/stimuli/tower_mass_all/stim00074_0010111001.cpo --> ../stimuli/obj/new/mass-oneshot-F/stim00074_0010111001.cpo\n",
        "/Users/jhamrick/project/cogphysics/dev/resources/cpobj/mass/all-towers/mass-tower_00074_0010111001 --> ../stimuli/obj/old/mass-oneshot-F/mass-tower_00074_0010111001\n",
        "stim00483_1010010011.cpo <--> mass-tower_00483_1010010011\n",
        "/Users/jhamrick/project/cogphysics/dev/resources/stimuli/tower_mass_all/stim00483_1010010011.cpo --> ../stimuli/obj/new/mass-oneshot-F/stim00483_1010010011.cpo\n",
        "/Users/jhamrick/project/cogphysics/dev/resources/cpobj/mass/all-towers/mass-tower_00483_1010010011 --> ../stimuli/obj/old/mass-oneshot-F/mass-tower_00483_1010010011\n",
        "stim00009_1100010110.cpo <--> mass-tower_00009_1100010110\n",
        "/Users/jhamrick/project/cogphysics/dev/resources/stimuli/tower_mass_all/stim00009_1100010110.cpo --> ../stimuli/obj/new/mass-oneshot-F/stim00009_1100010110.cpo\n",
        "/Users/jhamrick/project/cogphysics/dev/resources/cpobj/mass/all-towers/mass-tower_00009_1100010110 --> ../stimuli/obj/old/mass-oneshot-F/mass-tower_00009_1100010110\n",
        "stim00080_0110010110.cpo <--> mass-tower_00080_0110010110\n",
        "/Users/jhamrick/project/cogphysics/dev/resources/stimuli/tower_mass_all/stim00080_0110010110.cpo --> ../stimuli/obj/new/mass-oneshot-F/stim00080_0110010110.cpo\n",
        "/Users/jhamrick/project/cogphysics/dev/resources/cpobj/mass/all-towers/mass-tower_00080_0110010110 --> ../stimuli/obj/old/mass-oneshot-F/mass-tower_00080_0110010110\n",
        "stim00015_1010101010.cpo <--> mass-tower_00015_1010101010\n",
        "/Users/jhamrick/project/cogphysics/dev/resources/stimuli/tower_mass_all/stim00015_1010101010.cpo --> ../stimuli/obj/new/mass-oneshot-F/stim00015_1010101010.cpo\n",
        "/Users/jhamrick/project/cogphysics/dev/resources/cpobj/mass/all-towers/mass-tower_00015_1010101010 --> ../stimuli/obj/old/mass-oneshot-F/mass-tower_00015_1010101010\n",
        "stim00160_0011011100.cpo <--> mass-tower_00160_0011011100\n",
        "/Users/jhamrick/project/cogphysics/dev/resources/stimuli/tower_mass_all/stim00160_0011011100.cpo --> ../stimuli/obj/new/mass-oneshot-F/stim00160_0011011100.cpo\n",
        "/Users/jhamrick/project/cogphysics/dev/resources/cpobj/mass/all-towers/mass-tower_00160_0011011100 --> ../stimuli/obj/old/mass-oneshot-F/mass-tower_00160_0011011100\n",
        "stim00018_0001011101.cpo <--> mass-tower_00018_0001011101\n",
        "/Users/jhamrick/project/cogphysics/dev/resources/stimuli/tower_mass_all/stim00018_0001011101.cpo --> ../stimuli/obj/new/mass-oneshot-F/stim00018_0001011101.cpo\n",
        "/Users/jhamrick/project/cogphysics/dev/resources/cpobj/mass/all-towers/mass-tower_00018_0001011101 --> ../stimuli/obj/old/mass-oneshot-F/mass-tower_00018_0001011101\n",
        "stim00260_0110110100.cpo <--> mass-tower_00260_0110110100\n",
        "/Users/jhamrick/project/cogphysics/dev/resources/stimuli/tower_mass_all/stim00260_0110110100.cpo --> ../stimuli/obj/new/mass-oneshot-F/stim00260_0110110100.cpo\n",
        "/Users/jhamrick/project/cogphysics/dev/resources/cpobj/mass/all-towers/mass-tower_00260_0110110100 --> ../stimuli/obj/old/mass-oneshot-F/mass-tower_00260_0110110100\n",
        "stim00271_1011000101.cpo <--> mass-tower_00271_1011000101\n",
        "/Users/jhamrick/project/cogphysics/dev/resources/stimuli/tower_mass_all/stim00271_1011000101.cpo --> ../stimuli/obj/new/mass-oneshot-F/stim00271_1011000101.cpo\n",
        "/Users/jhamrick/project/cogphysics/dev/resources/cpobj/mass/all-towers/mass-tower_00271_1011000101 --> ../stimuli/obj/old/mass-oneshot-F/mass-tower_00271_1011000101\n",
        "stim00222_1001101001.cpo <--> mass-tower_00222_1001101001\n",
        "/Users/jhamrick/project/cogphysics/dev/resources/stimuli/tower_mass_all/stim00222_1001101001.cpo --> ../stimuli/obj/new/mass-oneshot-F/stim00222_1001101001.cpo\n",
        "/Users/jhamrick/project/cogphysics/dev/resources/cpobj/mass/all-towers/mass-tower_00222_1001101001 --> ../stimuli/obj/old/mass-oneshot-F/mass-tower_00222_1001101001\n",
        "stim00021_1010010110.cpo <--> mass-tower_00021_1010010110\n",
        "/Users/jhamrick/project/cogphysics/dev/resources/stimuli/tower_mass_all/stim00021_1010010110.cpo --> ../stimuli/obj/new/mass-oneshot-F/stim00021_1010010110.cpo\n",
        "/Users/jhamrick/project/cogphysics/dev/resources/cpobj/mass/all-towers/mass-tower_00021_1010010110 --> ../stimuli/obj/old/mass-oneshot-F/mass-tower_00021_1010010110\n",
        "stim00574_0011111000.cpo <--> mass-tower_01264_0011111000\n",
        "/Users/jhamrick/project/cogphysics/dev/resources/stimuli/tower_mass_all/stim00574_0011111000.cpo --> ../stimuli/obj/new/mass-oneshot-F/stim00574_0011111000.cpo\n",
        "/Users/jhamrick/project/cogphysics/dev/resources/cpobj/mass/all-towers/mass-tower_01264_0011111000 --> ../stimuli/obj/old/mass-oneshot-F/mass-tower_01264_0011111000\n",
        "stim00357_1010000111.cpo <--> mass-tower_00357_1010000111\n",
        "/Users/jhamrick/project/cogphysics/dev/resources/stimuli/tower_mass_all/stim00357_1010000111.cpo --> ../stimuli/obj/new/mass-oneshot-F/stim00357_1010000111.cpo\n",
        "/Users/jhamrick/project/cogphysics/dev/resources/cpobj/mass/all-towers/mass-tower_00357_1010000111 --> ../stimuli/obj/old/mass-oneshot-F/mass-tower_00357_1010000111\n",
        "stim00524_1101001010.cpo <--> mass-tower_00524_1101001010\n",
        "/Users/jhamrick/project/cogphysics/dev/resources/stimuli/tower_mass_all/stim00524_1101001010.cpo --> ../stimuli/obj/new/mass-oneshot-F/stim00524_1101001010.cpo\n",
        "/Users/jhamrick/project/cogphysics/dev/resources/cpobj/mass/all-towers/mass-tower_00524_1101001010 --> ../stimuli/obj/old/mass-oneshot-F/mass-tower_00524_1101001010\n",
        "stim00580_1100100101.cpo <--> mass-tower_01441_1100100101\n",
        "/Users/jhamrick/project/cogphysics/dev/resources/stimuli/tower_mass_all/stim00580_1100100101.cpo --> ../stimuli/obj/new/mass-oneshot-F/stim00580_1100100101.cpo\n",
        "/Users/jhamrick/project/cogphysics/dev/resources/cpobj/mass/all-towers/mass-tower_01441_1100100101 --> ../stimuli/obj/old/mass-oneshot-F/mass-tower_01441_1100100101\n",
        "stim00193_1010101010.cpo <--> mass-tower_00193_1010101010\n",
        "/Users/jhamrick/project/cogphysics/dev/resources/stimuli/tower_mass_all/stim00193_1010101010.cpo --> ../stimuli/obj/new/mass-oneshot-F/stim00193_1010101010.cpo\n",
        "/Users/jhamrick/project/cogphysics/dev/resources/cpobj/mass/all-towers/mass-tower_00193_1010101010 --> ../stimuli/obj/old/mass-oneshot-F/mass-tower_00193_1010101010\n",
        "stim00102_0001011011.cpo <--> mass-tower_00102_0001011011\n",
        "/Users/jhamrick/project/cogphysics/dev/resources/stimuli/tower_mass_all/stim00102_0001011011.cpo --> ../stimuli/obj/new/mass-oneshot-F/stim00102_0001011011.cpo\n",
        "/Users/jhamrick/project/cogphysics/dev/resources/cpobj/mass/all-towers/mass-tower_00102_0001011011 --> ../stimuli/obj/old/mass-oneshot-F/mass-tower_00102_0001011011\n"
       ]
      }
     ],
     "prompt_number": 32
    },
    {
     "cell_type": "markdown",
     "source": [
      "## Save stimuli metadata\n",
      "\n",
      "For example, stability."
     ]
    },
    {
     "cell_type": "code",
     "collapsed": false,
     "input": [
      "infodict = {}\n",
      "\n",
      "# unstable example \n",
      "infodict[stim_sh[unstable_example]] = {\n",
      "    'angle': angles[0],\n",
      "    'stable': not(bool(fb_sh[0, unstable_example])),\n",
      "    'full': True,\n",
      "    'color0': None,\n",
      "    'color1': None,\n",
      "    'newname': 'unstable-example',\n",
      "    'example': True,\n",
      "    'training': False,\n",
      "    }\n",
      "\n",
      "# stable example\n",
      "infodict[stim_sh[stable_example]] = {\n",
      "    'angle': angles[1],\n",
      "    'stable': not(bool(fb_sh[0, stable_example])),\n",
      "    'full': True,\n",
      "    'color0': None,\n",
      "    'color1': None,\n",
      "    'newname': 'stable-example',\n",
      "    'example': True,\n",
      "    'training': False,\n",
      "    }\n",
      "\n",
      "# training\n",
      "for k, i in enumerate(train):\n",
      "    infodict[stim_sh[i]] = {\n",
      "\t'angle': angles[2+k],\n",
      "\t'stable': not(bool(fb_sh[0, i])),\n",
      "\t'full': False,\n",
      "\t'color0': None,\n",
      "\t'color1': None,\n",
      "\t'newname': None,\n",
      "\t'example': False,\n",
      "\t'training': True,\n",
      "\t}\n",
      "\n",
      "# mass example\n",
      "infodict[\"%s~kappa-%s_cb-0\" % (stimuli[mass_example], kappas[ridx])] = {\n",
      "\t 'angle': angles[2+ntrain],\n",
      "\t 'stable': not(bool(feedback[ridx, mass_example])),\n",
      "\t 'full': True,\n",
      "\t 'color0': example_color_pair[0],\n",
      "\t 'color1': example_color_pair[1],\n",
      "\t 'newname': 'mass-example',\n",
      "\t 'example': True,\n",
      "\t 'training': False,\n",
      "\t }\n",
      "infodict[\"%s~kappa-%s_cb-1\" % (stimuli[mass_example], kappas[ridx])] = {\n",
      "\t 'angle': angles[2+ntrain],\n",
      "\t 'stable': not(bool(feedback[ridx, mass_example])),\n",
      "\t 'full': True,\n",
      "\t 'color0': example_color_pair[0],\n",
      "\t 'color1': example_color_pair[1],\n",
      "\t 'newname': 'mass-example',\n",
      "\t 'example': True,\n",
      "\t 'training': False,\n",
      "\t }\n",
      "\n",
      "# experiment\n",
      "for k, i in enumerate(exp):\n",
      "    infodict[\"%s~kappa-%s_cb-0\" % (stimuli[i], kappas[ridx])] = {\n",
      "\t'angle': angles[3+ntrain+k],\n",
      "\t'stable': not(bool(feedback[ridx, i])),\n",
      "\t'full': False,\n",
      "\t'color0': color_pairs[k, 0],\n",
      "\t'color1': color_pairs[k, 1],\n",
      "\t'newname': None,\n",
      "\t'example': False,\n",
      "\t'training': False,\n",
      "\t}\n",
      "    infodict[\"%s~kappa-%s_cb-1\" % (stimuli[i], kappas[ridx])] = {\n",
      "\t'angle': angles[3+ntrain+k],\n",
      "\t'stable': not(bool(feedback[ridx, i])),\n",
      "\t'full': False,\n",
      "\t'color0': color_pairs[k, 0],\n",
      "\t'color1': color_pairs[k, 1],\n",
      "\t'newname': None,\n",
      "\t'example': False,\n",
      "\t'training': False,\n",
      "\t}\n",
      "\n",
      "# write to file\n",
      "infofile = os.path.join(confdir, \"%s-stimulus-info.pkl\" % exp_ver)\n",
      "with open(infofile, 'w') as fh:\n",
      "    pickle.dump(infodict, fh)\n",
      "    "
     ],
     "language": "python",
     "outputs": [],
     "prompt_number": 33
    },
    {
     "cell_type": "code",
     "collapsed": false,
     "input": [
      "infodict = {}\n",
      "    \n",
      "# experiment\n",
      "for k, i in enumerate(exp):\n",
      "    infodict[\"%s~kappa-%s\" % (stimuli[i], kappas[ridx])] = {\n",
      "\t'angle': angles[3+ntrain+k],\n",
      "\t'stable': not(bool(feedback[ridx, i])),\n",
      "\t'full': False,\n",
      "\t'color0': colors['red'],\n",
      "\t'color1': colors['blue'],\n",
      "\t'newname': None,\n",
      "\t'example': False,\n",
      "\t'training': False,\n",
      "\t}\n",
      "\n",
      "infofile = os.path.join(confdir, \"%s-demo-stimulus-info.pkl\" % exp_ver)\n",
      "with open(infofile, 'w') as fh:\n",
      "    pickle.dump(infodict, fh)\n"
     ],
     "language": "python",
     "outputs": [],
     "prompt_number": 34
    }
   ]
  }
 ]
}