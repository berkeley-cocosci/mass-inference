{
 "metadata": {
  "name": ""
 },
 "nbformat": 3,
 "nbformat_minor": 0,
 "worksheets": [
  {
   "cells": [
    {
     "cell_type": "code",
     "collapsed": false,
     "input": [
      "%matplotlib inline"
     ],
     "language": "python",
     "outputs": [],
     "prompt_number": 1
    },
    {
     "cell_type": "code",
     "collapsed": false,
     "input": [
      "# Builtins\n",
      "import shutil\n",
      "from itertools import izip\n",
      "# External\n",
      "import numpy as np\n",
      "import pandas as pd\n",
      "import matplotlib\n",
      "from path import path\n",
      "# Local\n",
      "import analysis_tools as at\n",
      "from analysis_tools import load_datapackage as load\n",
      "from style_towers import apply_style"
     ],
     "language": "python",
     "outputs": [],
     "prompt_number": 2
    },
    {
     "cell_type": "code",
     "collapsed": false,
     "input": [
      "matplotlib.rc('font', size=20)\n",
      "matplotlib.rc('axes', titlesize=24, labelsize=20)\n",
      "matplotlib.rc('xtick', labelsize=16)\n",
      "matplotlib.rc('ytick', labelsize=16)\n",
      "matplotlib.rc('legend', fontsize=20)\n",
      "matplotlib.rc('figure', figsize=(8, 6))"
     ],
     "language": "python",
     "outputs": [],
     "prompt_number": 3
    },
    {
     "cell_type": "code",
     "collapsed": false,
     "input": [
      "DATAPATH = path(\"../../mass-inference-data\")\n",
      "PARAMS = ['sigma', 'phi', 'kappa']\n",
      "STIMULUS = ['base', 'bitstr']"
     ],
     "language": "python",
     "outputs": [],
     "prompt_number": 4
    },
    {
     "cell_type": "code",
     "collapsed": false,
     "input": [
      "rso = np.random.RandomState(24890234)"
     ],
     "language": "python",
     "outputs": [],
     "prompt_number": 5
    },
    {
     "cell_type": "code",
     "collapsed": false,
     "input": [
      "# load the simulation data package\n",
      "model_dp = load(DATAPATH.joinpath(\"model/mass_all_fall\"))"
     ],
     "language": "python",
     "outputs": [],
     "prompt_number": 6
    },
    {
     "cell_type": "code",
     "collapsed": false,
     "input": [
      "def split_stimnames(arr):\n",
      "    arr['base'] = [\"_\".join(x.split(\"_\")[:2]) for x in arr['stimulus']]\n",
      "    arr['bitstr'] = [x.split(\"_\")[2] for x in arr['stimulus']]\n",
      "    arr = arr.drop('stimulus', axis=1)\n",
      "    return arr"
     ],
     "language": "python",
     "outputs": [],
     "prompt_number": 7
    },
    {
     "cell_type": "code",
     "collapsed": false,
     "input": [
      "# extract model data, and split stimuli names into base and bit string\n",
      "model = split_stimnames(model_dp['model.csv'])\n",
      "mresp = model.pivot_table(\n",
      "    rows=PARAMS + ['base', 'bitstr'],\n",
      "    cols='sample',\n",
      "    values='nfell')"
     ],
     "language": "python",
     "outputs": [],
     "prompt_number": 8
    },
    {
     "cell_type": "code",
     "collapsed": false,
     "input": [
      "# extract feedback and ipe samples\n",
      "sigmas = mresp.groupby(level='sigma')\n",
      "fb = ((sigmas.get_group(0) > 0)\n",
      "      .reset_index(['sigma', 'phi'], drop=True)\n",
      "      .reorder_levels([1, 2, 0]))[0]\n",
      "ipe = ((sigmas.get_group(0.05) > 4)\n",
      "       .reset_index(['sigma', 'phi'], drop=True)\n",
      "       .reorder_levels([1, 2, 0]))"
     ],
     "language": "python",
     "outputs": [],
     "prompt_number": 9
    },
    {
     "cell_type": "code",
     "collapsed": false,
     "input": [
      "# compute IPE p(fall | ratio)\n",
      "pfell = (ipe\n",
      "\t .groupby(level=STIMULUS, group_keys=False)\n",
      "\t .apply(at.pfell_smoothed)\n",
      "\t .sortlevel())"
     ],
     "language": "python",
     "outputs": [],
     "prompt_number": 10
    },
    {
     "cell_type": "code",
     "collapsed": false,
     "input": [
      "def compute_lh_ratios(pfell, fb):\n",
      "    # convert likelihood functions and feedback to numpy arrays\n",
      "    pfell_mat = np.asarray(pfell.unstack('kappa'))\n",
      "    fb_mat = np.asarray(fb.unstack('kappa')).astype('f8').T[:, :, None]\n",
      "\n",
      "    # evaluate likelihoods\n",
      "    lh_mat = (pfell_mat * fb_mat) + ((1-pfell_mat) * (1-fb_mat))\n",
      "\n",
      "    # compute likelihood ratios and differences\n",
      "    lh_ratio = np.round(np.log(lh_mat[..., 0] / lh_mat[..., -1]), decimals=3)\n",
      "    lh_diff = lh_ratio[0] - lh_ratio[-1]\n",
      "\n",
      "    # put it back in a dataframe\n",
      "    ratios = pd.DataFrame(\n",
      "\t{'diff': lh_diff,\n",
      "\t 'ratio0': lh_ratio[0],\n",
      "\t 'ratio1': lh_ratio[-1],\n",
      "     }, \n",
      "\tindex=pfell.unstack('kappa').index)\n",
      "    ratios = ratios.sortlevel()\n",
      "\n",
      "    return ratios"
     ],
     "language": "python",
     "outputs": [],
     "prompt_number": 11
    },
    {
     "cell_type": "code",
     "collapsed": false,
     "input": [
      "def choose_max(arr):\n",
      "    argmax = np.nanargmax(arr)\n",
      "    return arr[[argmax]]"
     ],
     "language": "python",
     "outputs": [],
     "prompt_number": 12
    },
    {
     "cell_type": "code",
     "collapsed": false,
     "input": [
      "def choose_min(arr):\n",
      "    argmin = np.nanargmin(arr)\n",
      "    return arr[[argmin]]"
     ],
     "language": "python",
     "outputs": [],
     "prompt_number": 13
    },
    {
     "cell_type": "code",
     "collapsed": false,
     "input": [
      "def savestims(stims, old_dir, new_dir, style):\n",
      "\n",
      "    # create new directory for stimuli\n",
      "    old_dir = path(\"../resources/sso/\" + old_dir)\n",
      "    new_dir = path(\"../resources/sso/\" + new_dir)\n",
      "    if new_dir.exists():\n",
      "\tshutil.rmtree(new_dir)\n",
      "    new_dir.makedirs_p()\n",
      "\n",
      "    # copy stimuli from old directory to new directory\n",
      "    old_paths = [old_dir.joinpath(\"_\".join(x) + \".cpo\") for x in stims.index]\n",
      "    new_paths = [new_dir.joinpath(\"_\".join(x) + \".cpo\") for x in stims.index]\n",
      "    for old_path, new_path in zip(old_paths, new_paths):\n",
      "\tshutil.copy(old_path, new_path)\n",
      "\n",
      "    # apply graphics and physics style to new stimuli\n",
      "    apply_style(new_paths, style, rso=rso)"
     ],
     "language": "python",
     "outputs": [],
     "prompt_number": 14
    },
    {
     "cell_type": "code",
     "collapsed": false,
     "input": [
      "# compute likelihood ratios\n",
      "ratios = compute_lh_ratios(pfell, fb)"
     ],
     "language": "python",
     "outputs": [],
     "prompt_number": 15
    },
    {
     "cell_type": "code",
     "collapsed": false,
     "input": [
      "# choose the best towers based on likelihood of the true ratio for its\n",
      "# corresponding feedback, and the difference between likelihood ratios\n",
      "# for opposite mass ratios\n",
      "best = (ratios[(ratios.ratio0 > 0) & (ratios.ratio1 < 0)]\n",
      "\t['diff']\n",
      "\t.unstack('base')\n",
      "\t.apply(choose_max)\n",
      "\t.stack()\n",
      "\t.reorder_levels([1, 0]))\n",
      "best.index.names = ['base', 'bitstr']\n",
      "best.sort(ascending=False)\n",
      "best = pd.DataFrame({\n",
      "    'score': best,\n",
      "    'unstable0': fb.unstack().ix[best.index][-1.0],\n",
      "    'unstable1': fb.unstack().ix[best.index][1.0]\n",
      "})"
     ],
     "language": "python",
     "outputs": [],
     "prompt_number": 16
    },
    {
     "cell_type": "code",
     "collapsed": false,
     "input": [
      "# show a histogram of all the (valid) likelihood ratios\n",
      "plt.hist(ratios.ix[best.index]['ratio0'], bins=100)\n",
      "plt.hist(ratios.ix[best.index]['ratio1'], bins=100)\n",
      "print"
     ],
     "language": "python",
     "outputs": [
      {
       "output_type": "stream",
       "stream": "stdout",
       "text": [
        "\n"
       ]
      },
      {
       "output_type": "display_data",
       "png": "[encoded data removed]",
       "text": [
        "<matplotlib.figure.Figure at 0x11a1cbe10>"
       ]
      }
     ],
     "prompt_number": 17
    },
    {
     "cell_type": "code",
     "collapsed": false,
     "input": [
      "# plot the likelihood ratios against each other for the same stimulus\n",
      "plt.plot(ratios.ix[best.index]['ratio0'], ratios.ix[best.index]['ratio1'], 'bo')"
     ],
     "language": "python",
     "outputs": [
      {
       "output_type": "pyout",
       "prompt_number": 18,
       "text": [
        "[<matplotlib.lines.Line2D at 0x119c50e10>]"
       ]
      },
      {
       "output_type": "display_data",
       "png": "[encoded data removed]",
       "text": [
        "<matplotlib.figure.Figure at 0x116a22750>"
       ]
      }
     ],
     "prompt_number": 18
    },
    {
     "cell_type": "code",
     "collapsed": false,
     "input": [
      "# choose an equal number of stable and unstable stimuli\n",
      "stable = best.groupby('unstable1').get_group(False)[:10]\n",
      "unstable = best.groupby('unstable1').get_group(True)[1:11]\n",
      "stims = pd.concat([stable, unstable]).sortlevel()\n",
      "savestims(stims, \"mass-all\", \"mass-inference-G\", \"mass_colors\")"
     ],
     "language": "python",
     "outputs": [],
     "prompt_number": 19
    },
    {
     "cell_type": "code",
     "collapsed": false,
     "input": [
      "mass_example = best.groupby('unstable1').get_group(True)[:1]\n",
      "savestims(mass_example, \"mass-all\", \"mass-inference-example-G\", \"mass_colors\")"
     ],
     "language": "python",
     "outputs": [],
     "prompt_number": 20
    },
    {
     "cell_type": "markdown",
     "source": [
      "# Training and stable/unstable examples"
     ]
    },
    {
     "cell_type": "code",
     "collapsed": false,
     "input": [
      "# load the human stability samheight data package and compute human\n",
      "# responses\n",
      "human_dp = load(DATAPATH.joinpath(\"human/stability_sameheight\"))\n",
      "fall = split_stimnames(human_dp['experiment.csv'].copy())\n",
      "\n",
      "# we have to flip the 1-7 responses, because we want high values to\n",
      "# mean unstable\n",
      "fall['fall? response'] = 1 - ((fall['fall? response'] - 1) / 6.)\n",
      "# take mean of subject means\n",
      "hresp = (\n",
      "    fall.groupby(['base', 'bitstr', 'pid'])['fall? response'].mean()\n",
      "    .groupby(level=['base', 'bitstr']).mean()\n",
      ")"
     ],
     "language": "python",
     "outputs": [],
     "prompt_number": 21
    },
    {
     "cell_type": "code",
     "collapsed": false,
     "input": [
      "# load model stability sameheigh tdata\n",
      "model_dp = load(DATAPATH.joinpath(\"model/stability_sameheight_fall\"))\n",
      "model = split_stimnames(model_dp['model.csv'])\n",
      "iparam = (0.0, 0.0, 0.0)\n",
      "fb = model.pivot_table(\n",
      "    rows=PARAMS + ['base', 'bitstr'],\n",
      "    cols='sample',\n",
      "    values='nfell').ix[iparam][0] > 0\n",
      "fb = fb.sortlevel()"
     ],
     "language": "python",
     "outputs": [],
     "prompt_number": 22
    },
    {
     "cell_type": "code",
     "collapsed": false,
     "input": [
      "sh = pd.DataFrame({'score': hresp, 'unstable': fb})\n",
      "# rule out stimuli that people predicted incorrectly\n",
      "sh['score'][(sh['score'] <= 0.5) & sh['unstable']] = np.nan\n",
      "sh['score'][(sh['score'] >= 0.5) & ~sh['unstable']] = np.nan\n",
      "sh = sh.dropna()\n",
      "sh['score'] = np.abs(sh['score'] - 0.5)\n",
      "\n",
      "# drop stimuli that were already used in the experiment\n",
      "sh = (sh.sort('score', ascending=False)\n",
      "      .drop(zip(*stims.index)[0], level='base')\n",
      "      .drop(zip(*mass_example.index)[0], level='base'))"
     ],
     "language": "python",
     "outputs": [],
     "prompt_number": 23
    },
    {
     "cell_type": "code",
     "collapsed": false,
     "input": [
      "# choose the stable example\n",
      "stable_example = sh.groupby('unstable').get_group(False)[:1]\n",
      "savestims(stable_example, \"stability-sameheight\", \"mass-inference-stable-example-G\", \"original\")"
     ],
     "language": "python",
     "outputs": [],
     "prompt_number": 24
    },
    {
     "cell_type": "code",
     "collapsed": false,
     "input": [
      "# choose the unstable example\n",
      "unstable_example = sh.groupby('unstable').get_group(True)[:1]\n",
      "savestims(unstable_example, \"stability-sameheight\", \"mass-inference-unstable-example-G\", \"original\")"
     ],
     "language": "python",
     "outputs": [],
     "prompt_number": 25
    },
    {
     "cell_type": "code",
     "collapsed": false,
     "input": [
      "# choose the pretest/posttest stimuli\n",
      "stable_training = sh.groupby('unstable').get_group(False)[1:4]\n",
      "unstable_training = sh.groupby('unstable').get_group(True)[1:4]\n",
      "training = pd.concat([stable_training, unstable_training])\n",
      "savestims(training, \"stability-sameheight\", \"mass-inference-training-G\", \"original\")"
     ],
     "language": "python",
     "outputs": [],
     "prompt_number": 26
    }
   ]
  }
 ]
}