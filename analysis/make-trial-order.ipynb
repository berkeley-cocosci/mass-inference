{
 "metadata": {
  "name": "make-trial-order"
 },
 "nbformat": 3,
 "nbformat_minor": 0,
 "worksheets": [
  {
   "cells": [
    {
     "cell_type": "code",
     "collapsed": false,
     "input": [],
     "language": "python",
     "outputs": []
    },
    {
     "cell_type": "code",
     "collapsed": false,
     "input": [
      "# imports\n",
      "import collections\n",
      "import matplotlib.cm as cm\n",
      "import matplotlib.gridspec as gridspec\n",
      "import numpy as np\n",
      "import pandas as pd\n",
      "import pdb\n",
      "import pickle\n",
      "import scipy.stats\n",
      "import os\n",
      "import time\n",
      "\n",
      "import cogphysics\n",
      "import cogphysics.lib.circ as circ\n",
      "import cogphysics.lib.nplib as npl\n",
      "import cogphysics.lib.rvs as rvs\n",
      "\n",
      "import cogphysics.tower.analysis_tools as tat\n",
      "import cogphysics.tower.mass.model_observer as mo\n",
      "import cogphysics.tower.mass.learning_analysis_tools as lat\n",
      "\n",
      "from cogphysics.lib.corr import xcorr, partialcorr\n",
      "\n",
      "normalize = rvs.util.normalize\n",
      "weightedSample = rvs.util.weightedSample\n",
      "\n",
      "pd.set_option('line_width', 195)\n",
      "LINE = \"-\"*195\n"
     ],
     "language": "python",
     "outputs": [],
     "prompt_number": 1
    },
    {
     "cell_type": "code",
     "collapsed": false,
     "input": [
      "######################################################################\n",
      "## Load human data\n",
      "######################################################################\n",
      "\n",
      "reload(lat)\n",
      "training, posttest, experiment, queries = lat.load_turk_static(thresh=1)\n"
     ],
     "language": "python",
     "outputs": [
      {
       "output_type": "stream",
       "stream": "stdout",
       "text": [
        "Bad pids (15): ['042', '047', '051', '052', '058', '066', '069', '075', '085', '095', '109', '115', '121', '131', '143']\n",
        "Bad pids (15): ['042', '047', '051', '052', '058', '066', '069', '075', '085', '095', '109', '115', '121', '131', '143']"
       ]
      },
      {
       "output_type": "stream",
       "stream": "stdout",
       "text": [
        "\n",
        "C-vfb-10"
       ]
      },
      {
       "output_type": "stream",
       "stream": "stdout",
       "text": [
        " 2\n",
        "C-vfb-0.1 2\n",
        "C-fb-10 2\n",
        "C-fb-0.1 2\n",
        "C-nfb-10 2\n"
       ]
      }
     ],
     "prompt_number": 2
    },
    {
     "cell_type": "code",
     "collapsed": false,
     "input": [
      "######################################################################\n",
      "## Load stimuli\n",
      "######################################################################\n",
      "\n",
      "# listpath = os.path.join(cogphysics.CPOBJ_LIST_PATH,\n",
      "# \t\t\t\"mass-towers-stability-learning~kappa-1.0\")\n",
      "# with open(listpath, \"r\") as fh:\n",
      "#     Stims = np.array(sorted([\n",
      "# \tx.split(\"~\")[0] for x in fh.read().strip().split(\"\\n\") if x != \"\"]))\n",
      "\n",
      "Stims = np.array([\n",
      "    x.split(\"~\")[0] for x in zip(*experiment[experiment.keys()[0]].columns)[1]])\n"
     ],
     "language": "python",
     "outputs": [],
     "prompt_number": 3
    },
    {
     "cell_type": "code",
     "collapsed": false,
     "input": [
      "######################################################################\n",
      "## Load model data\n",
      "######################################################################\n",
      "reload(lat)\n",
      "\n",
      "nthresh0 = 0\n",
      "nthresh = 0.4\n",
      "rawipe, ipe_samps, rawtruth, feedback, kappas = lat.process_model_turk(\n",
      "    Stims, nthresh0, nthresh)\n",
      "nofeedback = np.empty(feedback.shape[1])*np.nan\n"
     ],
     "language": "python",
     "outputs": [],
     "prompt_number": 4
    },
    {
     "cell_type": "code",
     "collapsed": false,
     "input": [
      "######################################################################\n",
      "## Global parameters\n",
      "######################################################################\n",
      "\n",
      "n_kappas = len(kappas)\n",
      "kappas = np.array(kappas)\n",
      "ratios = 10 ** kappas\n",
      "ratios[kappas < 0] = np.round(ratios[kappas < 0], decimals=2)\n",
      "ratios[kappas >= 0] = np.round(ratios[kappas >= 0], decimals=1)\n",
      "ratios = list(ratios)\n",
      "kappas = list(kappas)\n",
      "\n",
      "outcomes     = np.array([0, 1])                  # possible outcomes\n",
      "n_trial      = Stims.size\n",
      "n_outcomes   = outcomes.size                     # number of possible outcomes\n",
      "\n",
      "f_smooth = True\n",
      "p_ignore = 0.0\n",
      "\n",
      "cmap = lat.make_cmap(\"lh\", (0, 0, 0), (.5, .5, .5), (1, 0, 0))\n",
      "alpha = 0.2\n",
      "colors = ['c', 'm', 'y']#'#FF9966', '#AAAA00', 'g', 'c', 'b', 'm']\n",
      "#colors = cm.hsv(np.round(np.linspace(0, 220, n_cond)).astype('i8'))\n"
     ],
     "language": "python",
     "outputs": [],
     "prompt_number": 5
    },
    {
     "cell_type": "code",
     "collapsed": false,
     "input": [
      "seed = 0\n",
      "rso = np.random.RandomState(seed)\n",
      "\n",
      "nbad = 1\n",
      "n = 10\n",
      "\n",
      "model_lh = mo.IPE(\n",
      "    feedback[[ratios.index(0.1), ratios.index(10.0)]],\n",
      "    ipe_samps,\n",
      "    kappas,\n",
      "    smooth=True)\n",
      "\n",
      "low01_lh = model_lh[0, :, :ratios.index(1.0)].sum(axis=-1)\n",
      "high01_lh = model_lh[0, :, ratios.index(1.0)+1:].sum(axis=-1)\n",
      "lhr01 = low01_lh / high01_lh\n",
      "\n",
      "low10_lh = model_lh[1, :, :ratios.index(1.0)].sum(axis=-1)\n",
      "high10_lh = model_lh[1, :, ratios.index(1.0)+1:].sum(axis=-1)\n",
      "lhr10 = high10_lh / low10_lh\n",
      "\n",
      "match = (lhr01 >= 1.5) & (lhr10 >= 1.5)\n",
      "#match = (lhr01 > 1) & (lhr10 > 1)\n",
      "idx0 = np.nonzero(match)[0]\n",
      "rso.shuffle(idx0)\n",
      "idx1 = np.nonzero(~match)[0]\n",
      "rso.shuffle(idx1)\n",
      "order = np.hstack([idx0, idx1])\n",
      "order\n"
     ],
     "language": "python",
     "outputs": [
      {
       "output_type": "pyout",
       "prompt_number": 10,
       "text": [
        "array([13, 32,  8, 30,  2, 24,  1, 20, 25,  4,  0, 10, 35, 34, 36, 26, 23,\n",
        "       18, 31, 39, 17, 38,  6, 28, 29, 33,  3,  7,  9, 16, 15, 21, 11, 27,\n",
        "       22, 14, 12,  5, 19, 37])"
       ]
      }
     ],
     "prompt_number": 10
    },
    {
     "cell_type": "code",
     "collapsed": false,
     "input": [
      "plt.figure(6)\n",
      "plt.clf()\n",
      "\n",
      "cond = \"fb-0.1\"\n",
      "model_joint, model_theta = mo.ModelObserver(\n",
      "    feedback[:, order][ratios.index(0.1)],\n",
      "    ipe_samps[order],\n",
      "    kappas,\n",
      "    prior=None, p_ignore=0, smooth=True)\n",
      "low01 = np.exp(model_theta[:, :ratios.index(1.0)]).sum(axis=1)\n",
      "high01 = np.exp(model_theta[:, ratios.index(1.0)+1:]).sum(axis=1)\n",
      "\n",
      "lat.plot_theta(\n",
      "    2, 2, 1,\n",
      "    np.exp(model_theta),\n",
      "    cond,\n",
      "    exp=1.3,\n",
      "    cmap=cmap,\n",
      "    fontsize=14)\n",
      "\n",
      "\n",
      "cond = \"fb-10\"\n",
      "model_joint, model_theta = mo.ModelObserver(\n",
      "    feedback[:, order][ratios.index(10.0)],\n",
      "    ipe_samps[order],\n",
      "    kappas,\n",
      "    prior=None, p_ignore=0, smooth=True)\n",
      "low10 = np.exp(model_theta[:, :ratios.index(1.0)]).sum(axis=1)\n",
      "high10 = np.exp(model_theta[:, ratios.index(1.0)+1:]).sum(axis=1)\n",
      "\n",
      "lat.plot_theta(\n",
      "    2, 2, 2,\n",
      "    np.exp(model_theta),\n",
      "    cond,\n",
      "    exp=1.3,\n",
      "    cmap=cmap,\n",
      "    fontsize=14)\n",
      "\n",
      "plt.subplot(2, 2, 3)\n",
      "plt.plot(low01, label=\"r=0.1, p(r<1)\")\n",
      "plt.plot(high10, label=\"r=10, p(r>1)\")\n",
      "plt.legend()\n",
      "\n",
      "plt.subplot(2, 2, 4)\n",
      "plt.plot(lhr01[order], label=\"r=0.1, p(r<1)/p(r>1)\")\n",
      "plt.plot(lhr10[order], label=\"r=10, p(r>1)/p(r<1)\")\n",
      "#plt.plot(high, label=\">1\")\n",
      "plt.legend()\n"
     ],
     "language": "python",
     "outputs": [
      {
       "output_type": "pyout",
       "prompt_number": 12,
       "text": [
        "<matplotlib.legend.Legend at 0x113757b90>"
       ]
      }
     ],
     "prompt_number": 12
    },
    {
     "cell_type": "code",
     "collapsed": false,
     "input": [
      "with open(\"../../turk-experiment/www/config/trial-order-E.txt\", \"w\") as fh:\n",
      "    for stim in Stims[order]:\n",
      "\tfh.write(stim + \"\\n\")\n",
      "    "
     ],
     "language": "python",
     "outputs": [],
     "prompt_number": 13
    },
    {
     "cell_type": "code",
     "collapsed": false,
     "input": [],
     "language": "python",
     "outputs": []
    }
   ]
  }
 ]
}