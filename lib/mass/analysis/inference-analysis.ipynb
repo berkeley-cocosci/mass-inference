{
 "metadata": {
  "name": ""
 },
 "nbformat": 3,
 "nbformat_minor": 0,
 "worksheets": [
  {
   "cells": [
    {
     "cell_type": "code",
     "collapsed": false,
     "input": [
      "%matplotlib inline"
     ],
     "language": "python",
     "outputs": [],
     "prompt_number": 1
    },
    {
     "cell_type": "code",
     "collapsed": false,
     "input": [
      "# Builtins\n",
      "from itertools import izip\n",
      "from datetime import timedelta\n",
      "# External\n",
      "import numpy as np\n",
      "import pandas as pd\n",
      "import matplotlib.pyplot as plt\n",
      "from path import path\n",
      "# Local\n",
      "import analysis_tools as at\n",
      "from snippets import datapackage as dpkg\n",
      "from mass import DATA_PATH"
     ],
     "language": "python",
     "outputs": [],
     "prompt_number": 2
    },
    {
     "cell_type": "code",
     "collapsed": false,
     "input": [
      "PARAMS = ['sigma', 'phi', 'kappa']"
     ],
     "language": "python",
     "outputs": [],
     "prompt_number": 3
    },
    {
     "cell_type": "code",
     "collapsed": false,
     "input": [
      "ipe_dp_a = dpkg.DataPackage.load(DATA_PATH.joinpath(\n",
      "    \"model/mass_inference-G-a_ipe_fall.dpkg\"))\n",
      "fb_dp_a = dpkg.DataPackage.load(DATA_PATH.joinpath(\n",
      "    \"model/mass_inference-G-a_truth_fall.dpkg\"))\n",
      "ipe_dp_b = dpkg.DataPackage.load(DATA_PATH.joinpath(\n",
      "    \"model/mass_inference-G-b_ipe_fall.dpkg\"))\n",
      "fb_dp_b = dpkg.DataPackage.load(DATA_PATH.joinpath(\n",
      "    \"model/mass_inference-G-b_truth_fall.dpkg\"))\n",
      "exp_dp = dpkg.DataPackage.load(DATA_PATH.joinpath(\n",
      "    \"human/mass_inference-G.dpkg\"))"
     ],
     "language": "python",
     "outputs": [],
     "prompt_number": 4
    },
    {
     "cell_type": "code",
     "collapsed": false,
     "input": [
      "def format_model(arr):\n",
      "    return arr\\\n",
      "\t.reset_index(['sigma', 'phi'], drop=True)\\\n",
      "\t.reorder_levels([1, 0])\\\n",
      "\t.sortlevel()\n",
      "\n",
      "def pivot(arr):\n",
      "    parr = arr.pivot_table(\n",
      "\trows=PARAMS + ['stimulus'],\n",
      "\tcols='sample',\n",
      "\tvalues='nfell'\n",
      "    )\n",
      "    return parr\n",
      "\n",
      "def make_fb(arr):\n",
      "    mean = pivot(arr).mean(axis=1)\n",
      "    fb = format_model(mean.apply(\n",
      "\tlambda x: float(x > 0)))\\\n",
      "\t.unstack('kappa')\\\n",
      "\t.dropna()\\\n",
      "\t.stack('kappa')\n",
      "    fb.index.names[-1] = 'kappa0'\n",
      "    return fb\n",
      "\n",
      "def make_ipe(arr):\n",
      "    return format_model(pivot(arr)[range(10)] > 4)"
     ],
     "language": "python",
     "outputs": [],
     "prompt_number": 5
    },
    {
     "cell_type": "code",
     "collapsed": false,
     "input": [
      "ipe_a = make_ipe(ipe_dp_a.load_resource('model.csv'))\n",
      "fb_a = make_fb(fb_dp_a.load_resource('model.csv'))\n",
      "ipe_b = make_ipe(ipe_dp_b.load_resource('model.csv'))\n",
      "fb_b = make_fb(fb_dp_b.load_resource('model.csv'))\n",
      "exp = exp_dp.load_resource('experiment.csv')"
     ],
     "language": "python",
     "outputs": [],
     "prompt_number": 6
    },
    {
     "cell_type": "code",
     "collapsed": false,
     "input": [
      "# compute how many particpants we have for each experimental condition\n",
      "# and counterbalance condition\n",
      "print exp.groupby(['condition', 'counterbalance'])['pid']\\\n",
      "\t .apply(lambda x: len(x.unique()))"
     ],
     "language": "python",
     "outputs": [
      {
       "output_type": "stream",
       "stream": "stdout",
       "text": [
        "condition  counterbalance\n",
        "0          0                 5\n",
        "           1                 4\n",
        "1          0                 4\n",
        "           1                 2\n",
        "2          0                 3\n",
        "           1                 5\n",
        "3          0                 4\n",
        "           1                 5\n",
        "dtype: int64\n"
       ]
      }
     ],
     "prompt_number": 7
    },
    {
     "cell_type": "code",
     "collapsed": false,
     "input": [
      "# compute how mmany participants we have for each condition\n",
      "print exp.groupby(['condition'])['pid']\\\n",
      "\t .apply(lambda x: len(x.unique()))"
     ],
     "language": "python",
     "outputs": [
      {
       "output_type": "stream",
       "stream": "stdout",
       "text": [
        "condition\n",
        "0            9\n",
        "1            6\n",
        "2            8\n",
        "3            9\n",
        "dtype: int64\n"
       ]
      }
     ],
     "prompt_number": 8
    },
    {
     "cell_type": "code",
     "collapsed": false,
     "input": [
      "# compute the average amount of time it takes to complete the\n",
      "# experiment, as well as the average hourly wage\n",
      "\n",
      "exp['timestamp'] = pd.to_datetime(exp['timestamp'])\n",
      "starttime = exp.groupby('pid').apply(lambda x: x.sort('timestamp')['timestamp'].min())\n",
      "endtime = exp.groupby('pid').apply(lambda x: x.sort('timestamp')['timestamp'].max())\n",
      "exptime = endtime - starttime\n",
      "medtime = timedelta(seconds=exptime.median() / 1e9)\n",
      "payrate = (1. / (exptime.astype(int) / (1e9 * 60 * 60))).mean()\n",
      "print \"Median time: %s\" % medtime\n",
      "print \"Average pay: $%.2f / hour\" % payrate"
     ],
     "language": "python",
     "outputs": [
      {
       "output_type": "stream",
       "stream": "stdout",
       "text": [
        "Median time: 0:16:13.542500\n",
        "Average pay: $3.53 / hour\n"
       ]
      }
     ],
     "prompt_number": 9
    },
    {
     "cell_type": "code",
     "collapsed": false,
     "input": [
      "# compute IPE p(fall | ratio)\n",
      "pfell_a = ipe_a.groupby(level='stimulus', group_keys=False)\\\n",
      "\t       .apply(at.pfell_smoothed)\\\n",
      "\t       .sortlevel()\n",
      "pfell_b = ipe_b.groupby(level='stimulus', group_keys=False)\\\n",
      "\t       .apply(at.pfell_smoothed)\\\n",
      "\t       .sortlevel()"
     ],
     "language": "python",
     "outputs": [],
     "prompt_number": 10
    },
    {
     "cell_type": "code",
     "collapsed": false,
     "input": [
      "expA = exp.groupby('mode').get_group('experimentA')\n",
      "expB = exp.groupby('mode').get_group('experimentB')\n",
      "expC = exp.groupby('mode').get_group('experimentC')"
     ],
     "language": "python",
     "outputs": [],
     "prompt_number": 11
    },
    {
     "cell_type": "code",
     "collapsed": false,
     "input": [
      "def get_fall(arr):\n",
      "    return arr.pivot_table(\n",
      "\trows=['kappa0', 'pid'],\n",
      "\tcols='stimulus',\n",
      "\tvalues='fall? response')\n",
      "\n",
      "def get_mass(arr):\n",
      "    return arr.pivot_table(\n",
      "\trows=['kappa0', 'pid'],\n",
      "\tcols='trial',\n",
      "\tvalues='mass? response')"
     ],
     "language": "python",
     "outputs": [],
     "prompt_number": 12
    },
    {
     "cell_type": "code",
     "collapsed": false,
     "input": [
      "expA_mean = get_fall(expA).groupby(level='kappa0').mean()\n",
      "expB_mean = get_fall(expB).groupby(level='kappa0').mean()\n",
      "expC_mean = get_mass(expC).groupby(level='kappa0').mean()"
     ],
     "language": "python",
     "outputs": [],
     "prompt_number": 13
    },
    {
     "cell_type": "code",
     "collapsed": false,
     "input": [
      "def choose_kappa(arr, exp):\n",
      "    arr2 = arr.unstack('stimulus').ix[sorted(exp['kappa0'].unique())]\n",
      "    arr2.index.name = 'kappa0'\n",
      "    return arr2"
     ],
     "language": "python",
     "outputs": [],
     "prompt_number": 14
    },
    {
     "cell_type": "code",
     "collapsed": false,
     "input": [
      "simA_mean = choose_kappa(pfell_a, expA)\n",
      "simB_mean = choose_kappa(pfell_b, expB)\n",
      "simC_mean = choose_kappa(pfell_b, expC)"
     ],
     "language": "python",
     "outputs": [],
     "prompt_number": 15
    },
    {
     "cell_type": "code",
     "collapsed": false,
     "input": [
      "fbA = choose_kappa(fb_a, expA)\n",
      "fbB = choose_kappa(fb_b, expB)\n",
      "fbC = choose_kappa(fb_b, expC)"
     ],
     "language": "python",
     "outputs": [],
     "prompt_number": 16
    },
    {
     "cell_type": "code",
     "collapsed": false,
     "input": [
      "def check_fb(fb, exp):\n",
      "    exp_fb = ~exp[['kappa0', 'stimulus', 'stable']]\\\n",
      "\t.drop_duplicates()\\\n",
      "\t.set_index(['kappa0', 'stimulus'])\\\n",
      "\t.sortlevel()['stable']\\\n",
      "\t.unstack('stimulus')\n",
      "    assert fb == exp_fb"
     ],
     "language": "python",
     "outputs": [],
     "prompt_number": 17
    },
    {
     "cell_type": "code",
     "collapsed": false,
     "input": [
      "# sanity check -- make sure the feedback people saw is the same as\n",
      "# what we have from our simulations\n",
      "check_fb(fbA, expA)\n",
      "check_fb(fbB, expB)\n",
      "check_fb(fbC, expC)"
     ],
     "language": "python",
     "outputs": [],
     "prompt_number": 18
    },
    {
     "cell_type": "code",
     "collapsed": false,
     "input": [
      "def merge_means(exp, sim):\n",
      "    arr = pd.DataFrame({\n",
      "\t'human': exp.stack(),\n",
      "\t'model': sim.stack()\n",
      "    })\n",
      "    return arr"
     ],
     "language": "python",
     "outputs": [],
     "prompt_number": 19
    },
    {
     "cell_type": "code",
     "collapsed": false,
     "input": [
      "def plot_means(arr):\n",
      "    fig, ax = plt.subplots()\n",
      "    for key, group in arr.groupby(level='kappa0'):\n",
      "\tax.plot(group['human'], group['model'], 'o', label=key)\n",
      "    ax.set_xlim(1, 7)\n",
      "    ax.set_ylim(0, 1)\n",
      "    ax.set_xlabel(\"Human\")\n",
      "    ax.set_ylabel(\"Model\")\n",
      "    ax.legend(loc=0, title='kappa0')"
     ],
     "language": "python",
     "outputs": [],
     "prompt_number": 20
    },
    {
     "cell_type": "code",
     "collapsed": false,
     "input": [
      "A_mean = merge_means(expA_mean, simA_mean)\n",
      "B_mean = merge_means(expB_mean, simB_mean)"
     ],
     "language": "python",
     "outputs": [],
     "prompt_number": 21
    },
    {
     "cell_type": "code",
     "collapsed": false,
     "input": [
      "print A_mean.groupby(level='kappa0').corr()\n",
      "plot_means(A_mean)"
     ],
     "language": "python",
     "outputs": [
      {
       "output_type": "stream",
       "stream": "stdout",
       "text": [
        "                 human     model\n",
        "kappa0                          \n",
        "-1     human  1.000000  0.645861\n",
        "       model  0.645861  1.000000\n",
        " 1     human  1.000000  0.604993\n",
        "       model  0.604993  1.000000\n"
       ]
      },
      {
       "output_type": "display_data",
       "png": "[encoded data removed]",
       "text": [
        "<matplotlib.figure.Figure at 0x110b3a090>"
       ]
      }
     ],
     "prompt_number": 22
    },
    {
     "cell_type": "code",
     "collapsed": false,
     "input": [
      "print B_mean.groupby(level='kappa0').corr()\n",
      "plot_means(B_mean)"
     ],
     "language": "python",
     "outputs": [
      {
       "output_type": "stream",
       "stream": "stdout",
       "text": [
        "                 human     model\n",
        "kappa0                          \n",
        "-1     human  1.000000  0.802684\n",
        "       model  0.802684  1.000000\n",
        " 1     human  1.000000  0.551593\n",
        "       model  0.551593  1.000000\n"
       ]
      },
      {
       "output_type": "display_data",
       "png": "[encoded data removed]",
       "text": [
        "<matplotlib.figure.Figure at 0x110c905d0>"
       ]
      }
     ],
     "prompt_number": 23
    },
    {
     "cell_type": "code",
     "collapsed": false,
     "input": [
      "expC_mean.T.dropna(how='all').plot()\n",
      "ax = plt.gca()\n",
      "ax.set_xlim(1, 20)\n",
      "ax.set_ylim(-0.05, 1.05)\n",
      "ax.set_ylabel(\"<-- color 0 heavy     color 1 heavy -->\")"
     ],
     "language": "python",
     "outputs": [
      {
       "output_type": "pyout",
       "prompt_number": 24,
       "text": [
        "<matplotlib.text.Text at 0x110c87890>"
       ]
      },
      {
       "output_type": "display_data",
       "png": "[encoded data removed]",
       "text": [
        "<matplotlib.figure.Figure at 0x110d679d0>"
       ]
      }
     ],
     "prompt_number": 24
    }
   ]
  }
 ]
}