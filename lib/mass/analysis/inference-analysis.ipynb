{
 "metadata": {
  "name": ""
 },
 "nbformat": 3,
 "nbformat_minor": 0,
 "worksheets": [
  {
   "cells": [
    {
     "cell_type": "code",
     "collapsed": false,
     "input": [
      "%matplotlib inline"
     ],
     "language": "python",
     "outputs": [],
     "prompt_number": 1
    },
    {
     "cell_type": "code",
     "collapsed": false,
     "input": [
      "# Builtins\n",
      "from itertools import izip\n",
      "# External\n",
      "import numpy as np\n",
      "import pandas as pd\n",
      "import matplotlib.pyplot as plt\n",
      "from path import path\n",
      "# Local\n",
      "import analysis_tools as at\n",
      "from snippets import datapackage as dpkg\n",
      "from mass import DATA_PATH"
     ],
     "language": "python",
     "outputs": [],
     "prompt_number": 2
    },
    {
     "cell_type": "code",
     "collapsed": false,
     "input": [
      "PARAMS = ['sigma', 'phi', 'kappa']"
     ],
     "language": "python",
     "outputs": [],
     "prompt_number": 3
    },
    {
     "cell_type": "code",
     "collapsed": false,
     "input": [
      "ipe_dp_a = dpkg.DataPackage.load(DATA_PATH.joinpath(\n",
      "    \"model/mass_inference-G-a_ipe_fall.dpkg\"))\n",
      "fb_dp_a = dpkg.DataPackage.load(DATA_PATH.joinpath(\n",
      "    \"model/mass_inference-G-a_truth_fall.dpkg\"))\n",
      "ipe_dp_b = dpkg.DataPackage.load(DATA_PATH.joinpath(\n",
      "    \"model/mass_inference-G-b_ipe_fall.dpkg\"))\n",
      "fb_dp_b = dpkg.DataPackage.load(DATA_PATH.joinpath(\n",
      "    \"model/mass_inference-G-b_truth_fall.dpkg\"))\n",
      "exp_dp = dpkg.DataPackage.load(DATA_PATH.joinpath(\n",
      "    \"human/mass_inference-G-test2.dpkg\"))"
     ],
     "language": "python",
     "outputs": [],
     "prompt_number": 4
    },
    {
     "cell_type": "code",
     "collapsed": false,
     "input": [
      "def format_model(arr):\n",
      "    return arr\\\n",
      "\t.reset_index(['sigma', 'phi'], drop=True)\\\n",
      "\t.reorder_levels([1, 0])\\\n",
      "\t.sortlevel()\n",
      "\n",
      "def pivot(arr):\n",
      "    parr = arr.pivot_table(\n",
      "\trows=PARAMS + ['stimulus'],\n",
      "\tcols='sample',\n",
      "\tvalues='nfell'\n",
      "    )\n",
      "    return parr\n",
      "\n",
      "def make_fb(arr):\n",
      "    mean = pivot(arr).mean(axis=1)\n",
      "    fb = format_model(mean.apply(\n",
      "\tlambda x: float(x > 0)))\\\n",
      "\t.unstack('kappa')\\\n",
      "\t.dropna()\\\n",
      "\t.stack('kappa')\n",
      "    fb.index.names[-1] = 'kappa0'\n",
      "    return fb\n",
      "\n",
      "def make_ipe(arr):\n",
      "    return format_model(pivot(arr)[range(10)] > 4)"
     ],
     "language": "python",
     "outputs": [],
     "prompt_number": 5
    },
    {
     "cell_type": "code",
     "collapsed": false,
     "input": [
      "ipe_a = make_ipe(ipe_dp_a.load_resource('model.csv'))\n",
      "fb_a = make_fb(fb_dp_a.load_resource('model.csv'))\n",
      "ipe_b = make_ipe(ipe_dp_b.load_resource('model.csv'))\n",
      "fb_b = make_fb(fb_dp_b.load_resource('model.csv'))\n",
      "exp = exp_dp.load_resource('experiment.csv')\n",
      "exp['kappa0'] = np.log10(exp['ratio'])"
     ],
     "language": "python",
     "outputs": [],
     "prompt_number": 6
    },
    {
     "cell_type": "code",
     "collapsed": false,
     "input": [
      "# compute IPE p(fall | ratio)\n",
      "pfell_a = ipe_a.groupby(level='stimulus', group_keys=False)\\\n",
      "\t       .apply(at.pfell_smoothed)\\\n",
      "\t       .sortlevel()\n",
      "pfell_b = ipe_b.groupby(level='stimulus', group_keys=False)\\\n",
      "\t       .apply(at.pfell_smoothed)\\\n",
      "\t       .sortlevel()"
     ],
     "language": "python",
     "outputs": [],
     "prompt_number": 7
    },
    {
     "cell_type": "code",
     "collapsed": false,
     "input": [
      "expA = exp.groupby('mode').get_group('experimentA')\n",
      "expB = exp.groupby('mode').get_group('experimentB')\n",
      "expC = exp.groupby('mode').get_group('experimentC')"
     ],
     "language": "python",
     "outputs": [],
     "prompt_number": 8
    },
    {
     "cell_type": "code",
     "collapsed": false,
     "input": [
      "def fall_mean(arr):\n",
      "    return arr.pivot(index='pid', columns='stimulus', values='fall? response').mean()\n",
      "def mass_mean(arr):\n",
      "    return arr.pivot(index='pid', columns='trial', values='mass? response').mean()"
     ],
     "language": "python",
     "outputs": [],
     "prompt_number": 161
    },
    {
     "cell_type": "code",
     "collapsed": false,
     "input": [
      "expA_mean = expA.groupby('kappa0').apply(fall_mean)\n",
      "expB_mean = expB.groupby('kappa0').apply(fall_mean)\n",
      "expC_mean = expC.groupby('kappa0').apply(mass_mean).dropna(axis=1)"
     ],
     "language": "python",
     "outputs": [],
     "prompt_number": 162
    },
    {
     "cell_type": "code",
     "collapsed": false,
     "input": [
      "def choose_kappa(arr, exp):\n",
      "    arr2 = arr.unstack('stimulus').ix[sorted(exp['kappa0'].unique())]\n",
      "    arr2.index.name = 'kappa0'\n",
      "    return arr2"
     ],
     "language": "python",
     "outputs": [],
     "prompt_number": 163
    },
    {
     "cell_type": "code",
     "collapsed": false,
     "input": [
      "simA_mean = choose_kappa(pfell_a, expA)\n",
      "simB_mean = choose_kappa(pfell_b, expB)\n",
      "simC_mean = choose_kappa(pfell_b, expC)"
     ],
     "language": "python",
     "outputs": [],
     "prompt_number": 164
    },
    {
     "cell_type": "code",
     "collapsed": false,
     "input": [
      "fbA = choose_kappa(fb_a, expA)\n",
      "fbB = choose_kappa(fb_b, expB)\n",
      "fbC = choose_kappa(fb_b, expC)"
     ],
     "language": "python",
     "outputs": [],
     "prompt_number": 165
    },
    {
     "cell_type": "code",
     "collapsed": false,
     "input": [
      "def check_fb(fb, exp):\n",
      "    exp_fb = ~exp[['kappa0', 'stimulus', 'stable']]\\\n",
      "\t.drop_duplicates()\\\n",
      "\t.set_index(['kappa0', 'stimulus'])\\\n",
      "\t.sortlevel()['stable']\\\n",
      "\t.unstack('stimulus')\n",
      "    assert fb == exp_fb"
     ],
     "language": "python",
     "outputs": [],
     "prompt_number": 166
    },
    {
     "cell_type": "code",
     "collapsed": false,
     "input": [
      "# sanity check -- make sure the feedback people saw is the same as\n",
      "# what we have from our simulations\n",
      "check_fb(fbA, expA)\n",
      "check_fb(fbB, expB)\n",
      "check_fb(fbC, expC)"
     ],
     "language": "python",
     "outputs": [],
     "prompt_number": 167
    },
    {
     "cell_type": "code",
     "collapsed": false,
     "input": [
      "def merge_means(exp, sim):\n",
      "    arr = pd.DataFrame({\n",
      "\t'human': exp.stack(),\n",
      "\t'model': sim.stack()\n",
      "    })\n",
      "    return arr"
     ],
     "language": "python",
     "outputs": [],
     "prompt_number": 168
    },
    {
     "cell_type": "code",
     "collapsed": false,
     "input": [
      "def plot_means(arr):\n",
      "    for key, group in arr.groupby(level='kappa0'):\n",
      "\tplt.plot(group['human'], group['model'], 'o', label=key)\n",
      "    plt.xlabel(\"Human\")\n",
      "    plt.ylabel(\"Model\")\n",
      "    plt.legend(loc=0)"
     ],
     "language": "python",
     "outputs": [],
     "prompt_number": 169
    },
    {
     "cell_type": "code",
     "collapsed": false,
     "input": [
      "A_mean = merge_means(expA_mean, simA_mean)\n",
      "B_mean = merge_means(expB_mean, simB_mean)"
     ],
     "language": "python",
     "outputs": [],
     "prompt_number": 170
    },
    {
     "cell_type": "code",
     "collapsed": false,
     "input": [
      "print A_mean.groupby(level='kappa0').corr()\n",
      "plot_means(A_mean)"
     ],
     "language": "python",
     "outputs": [
      {
       "output_type": "stream",
       "stream": "stdout",
       "text": [
        "                 human     model\n",
        "kappa0                          \n",
        "-1     human  1.000000 -0.119435\n",
        "       model -0.119435  1.000000\n",
        " 1     human  1.000000  0.678297\n",
        "       model  0.678297  1.000000\n"
       ]
      },
      {
       "output_type": "display_data",
       "png": "[encoded data removed]",
       "text": [
        "<matplotlib.figure.Figure at 0x11448a850>"
       ]
      }
     ],
     "prompt_number": 171
    },
    {
     "cell_type": "code",
     "collapsed": false,
     "input": [
      "print B_mean.groupby(level='kappa0').corr()\n",
      "plot_means(B_mean)"
     ],
     "language": "python",
     "outputs": [
      {
       "output_type": "stream",
       "stream": "stdout",
       "text": [
        "                 human     model\n",
        "kappa0                          \n",
        "-1     human  1.000000  0.741672\n",
        "       model  0.741672  1.000000\n",
        " 1     human  1.000000  0.712599\n",
        "       model  0.712599  1.000000\n"
       ]
      },
      {
       "output_type": "display_data",
       "png": "[encoded data removed]",
       "text": [
        "<matplotlib.figure.Figure at 0x1147a5ad0>"
       ]
      }
     ],
     "prompt_number": 172
    },
    {
     "cell_type": "code",
     "collapsed": false,
     "input": [
      "expC_mean.T.plot()\n",
      "plt.ylabel(\"<-- color 0 heavy     color 1 heavy -->\")"
     ],
     "language": "python",
     "outputs": [
      {
       "output_type": "pyout",
       "prompt_number": 176,
       "text": [
        "<matplotlib.text.Text at 0x1149d7ed0>"
       ]
      },
      {
       "output_type": "display_data",
       "png": "[encoded data removed]",
       "text": [
        "<matplotlib.figure.Figure at 0x11484b7d0>"
       ]
      }
     ],
     "prompt_number": 176
    },
    {
     "cell_type": "code",
     "collapsed": false,
     "input": [],
     "language": "python",
     "outputs": []
    }
   ]
  }
 ]
}