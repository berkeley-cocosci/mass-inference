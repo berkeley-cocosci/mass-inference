{
 "metadata": {
  "name": ""
 },
 "nbformat": 3,
 "nbformat_minor": 0,
 "worksheets": [
  {
   "cells": [
    {
     "cell_type": "code",
     "collapsed": false,
     "input": [
      "%matplotlib inline"
     ],
     "language": "python",
     "outputs": []
    },
    {
     "cell_type": "code",
     "collapsed": false,
     "input": [
      "# Builtins\n",
      "from itertools import izip\n",
      "from datetime import timedelta\n",
      "# External\n",
      "import numpy as np\n",
      "import pandas as pd\n",
      "import matplotlib.pyplot as plt\n",
      "from path import path\n",
      "# Local\n",
      "import analysis_tools as at\n",
      "from snippets import datapackage as dpkg\n",
      "from mass import DATA_PATH"
     ],
     "language": "python",
     "outputs": []
    },
    {
     "cell_type": "code",
     "collapsed": false,
     "input": [
      "PARAMS = ['sigma', 'phi', 'kappa']\n",
      "RSO = np.random.RandomState(20374)"
     ],
     "language": "python",
     "outputs": []
    },
    {
     "cell_type": "code",
     "collapsed": false,
     "input": [
      "ipe_dp_a = dpkg.DataPackage.load(DATA_PATH.joinpath(\n",
      "    \"model/mass_inference-G-a_ipe_fall.dpkg\"))\n",
      "fb_dp_a = dpkg.DataPackage.load(DATA_PATH.joinpath(\n",
      "    \"model/mass_inference-G-a_truth_fall.dpkg\"))\n",
      "ipe_dp_b = dpkg.DataPackage.load(DATA_PATH.joinpath(\n",
      "    \"model/mass_inference-G-b_ipe_fall.dpkg\"))\n",
      "fb_dp_b = dpkg.DataPackage.load(DATA_PATH.joinpath(\n",
      "    \"model/mass_inference-G-b_truth_fall.dpkg\"))"
     ],
     "language": "python",
     "outputs": []
    },
    {
     "cell_type": "code",
     "collapsed": false,
     "input": [
      "def format_model(arr):\n",
      "    return arr\\\n",
      "\t.reset_index(['sigma', 'phi'], drop=True)\\\n",
      "\t.reorder_levels([1, 0])\\\n",
      "\t.sortlevel()\n",
      "\n",
      "def pivot(arr):\n",
      "    parr = arr.pivot_table(\n",
      "\trows=PARAMS + ['stimulus'],\n",
      "\tcols='sample',\n",
      "\tvalues='nfell'\n",
      "    )\n",
      "    return parr\n",
      "\n",
      "def make_fb(arr):\n",
      "    mean = pivot(arr).mean(axis=1)\n",
      "    fb = format_model(mean.apply(\n",
      "\tlambda x: float(x > 0)))\\\n",
      "\t.unstack('kappa')\\\n",
      "\t.dropna()\\\n",
      "\t.stack('kappa')\n",
      "    fb.index.names[-1] = 'kappa0'\n",
      "    return fb\n",
      "\n",
      "def make_ipe(arr):\n",
      "    return format_model(pivot(arr) > 4)"
     ],
     "language": "python",
     "outputs": []
    },
    {
     "cell_type": "code",
     "collapsed": false,
     "input": [
      "ipe_a = make_ipe(ipe_dp_a.load_resource('model.csv'))\n",
      "fb_a = make_fb(fb_dp_a.load_resource('model.csv'))\n",
      "ipe_b = make_ipe(ipe_dp_b.load_resource('model.csv'))\n",
      "fb_b = make_fb(fb_dp_b.load_resource('model.csv'))"
     ],
     "language": "python",
     "outputs": []
    },
    {
     "cell_type": "code",
     "collapsed": false,
     "input": [
      "# compute IPE p(fall | ratio)\n",
      "pfell_a = ipe_a.groupby(level='stimulus', group_keys=False)\\\n",
      "\t       .apply(at.pfell_smoothed)\\\n",
      "\t       .sortlevel()\n",
      "pfell_b = ipe_b.groupby(level='stimulus', group_keys=False)\\\n",
      "\t       .apply(at.pfell_smoothed)\\\n",
      "\t       .sortlevel()"
     ],
     "language": "python",
     "outputs": []
    },
    {
     "cell_type": "code",
     "collapsed": false,
     "input": [
      "exp_dp = dpkg.DataPackage.load(DATA_PATH.joinpath(\n",
      "    \"human/mass_inference-G.dpkg\"))\n",
      "exp = exp_dp.load_resource('experiment.csv')"
     ],
     "language": "python",
     "outputs": []
    },
    {
     "cell_type": "code",
     "collapsed": false,
     "input": [
      "# compute how many particpants we have for each experimental condition\n",
      "# and counterbalance condition\n",
      "print exp.groupby(['condition', 'counterbalance'])['pid']\\\n",
      "\t .apply(lambda x: len(x.unique()))"
     ],
     "language": "python",
     "outputs": []
    },
    {
     "cell_type": "code",
     "collapsed": false,
     "input": [
      "# compute how mmany participants we have for each condition\n",
      "print exp.groupby(['condition'])['pid']\\\n",
      "\t .apply(lambda x: len(x.unique()))"
     ],
     "language": "python",
     "outputs": []
    },
    {
     "cell_type": "code",
     "collapsed": false,
     "input": [
      "# compute the average amount of time it takes to complete the\n",
      "# experiment, as well as the average hourly wage\n",
      "\n",
      "exp['timestamp'] = pd.to_datetime(exp['timestamp'])\n",
      "starttime = exp.groupby('pid').apply(lambda x: x.sort('timestamp')['timestamp'].min())\n",
      "endtime = exp.groupby('pid').apply(lambda x: x.sort('timestamp')['timestamp'].max())\n",
      "exptime = endtime - starttime\n",
      "medtime = timedelta(seconds=exptime.median() / 1e9)\n",
      "payrate = (1. / (exptime.astype(int) / (1e9 * 60 * 60))).mean()\n",
      "print \"Median time: %s\" % medtime\n",
      "print \"Average pay: $%.2f / hour\" % payrate"
     ],
     "language": "python",
     "outputs": []
    },
    {
     "cell_type": "code",
     "collapsed": false,
     "input": [
      "def get_fall(arr):\n",
      "    return arr.pivot_table(\n",
      "\trows=['kappa0', 'pid'],\n",
      "\tcols='stimulus',\n",
      "\tvalues='fall? response')\n",
      "\n",
      "def get_mass(arr):\n",
      "    return arr.pivot_table(\n",
      "\trows=['kappa0', 'pid'],\n",
      "\tcols='trial',\n",
      "\tvalues='mass? response')\n",
      "\n",
      "def choose_kappa(arr, exp):\n",
      "    arr2 = arr.unstack('stimulus').ix[sorted(exp['kappa0'].unique())]\n",
      "    arr2.index.name = 'kappa0'\n",
      "    return arr2\n",
      "\n",
      "def model_fall_stats(arr):\n",
      "    stats = pd.DataFrame({'median': arr.stack('stimulus')})\n",
      "    return stats\n",
      "\n",
      "def check_fb(fb, exp):\n",
      "    exp_fb = ~exp[['kappa0', 'stimulus', 'stable']]\\\n",
      "\t.drop_duplicates()\\\n",
      "\t.set_index(['kappa0', 'stimulus'])\\\n",
      "\t.sortlevel()['stable']\\\n",
      "\t.unstack('stimulus')\n",
      "    assert fb == exp_fb\n",
      "\n",
      "def fall_stats(df):\n",
      "    stats = get_fall(df)\\\n",
      "\t.stack()\\\n",
      "\t.groupby(level=['kappa0', 'stimulus'])\\\n",
      "\t.apply(at.bootstrap, RSO)\\\n",
      "\t.unstack()\n",
      "    return stats\n",
      "\n",
      "def mass_stats(df):\n",
      "    stats = get_mass(df)\\\n",
      "\t.dropna(axis=1, how='all')\\\n",
      "\t.groupby(level='kappa0')\\\n",
      "\t.agg([at.binom_conf_lower, at.binom_mean, at.binom_conf_upper])\\\n",
      "\t.stack(0)\\\n",
      "\t.rename(columns={\n",
      "\t    'binom_conf_lower': 'lower',\n",
      "\t    'binom_mean': 'median',\n",
      "\t    'binom_conf_upper': 'upper'\n",
      "\t})\n",
      "    return stats"
     ],
     "language": "python",
     "outputs": []
    },
    {
     "cell_type": "code",
     "collapsed": false,
     "input": [
      "expA = exp.groupby('mode').get_group('experimentA')\n",
      "expB = exp.groupby('mode').get_group('experimentB')\n",
      "expC = exp.groupby('mode').get_group('experimentC')"
     ],
     "language": "python",
     "outputs": []
    },
    {
     "cell_type": "code",
     "collapsed": false,
     "input": [
      "expA_stats = fall_stats(expA)\n",
      "expB_stats = fall_stats(expB)\n",
      "expC_stats = mass_stats(expC)"
     ],
     "language": "python",
     "outputs": []
    },
    {
     "cell_type": "code",
     "collapsed": false,
     "input": [
      "simA_stats = model_fall_stats(choose_kappa(pfell_a, expA))\n",
      "simB_stats = model_fall_stats(choose_kappa(pfell_b, expB))\n",
      "simC_stats = model_fall_stats(choose_kappa(pfell_b, expC))"
     ],
     "language": "python",
     "outputs": []
    },
    {
     "cell_type": "code",
     "collapsed": false,
     "input": [
      "fbA = choose_kappa(fb_a, expA)\n",
      "fbB = choose_kappa(fb_b, expB)\n",
      "fbC = choose_kappa(fb_b, expC)"
     ],
     "language": "python",
     "outputs": []
    },
    {
     "cell_type": "code",
     "collapsed": false,
     "input": [
      "# sanity check -- make sure the feedback people saw is the same as\n",
      "# what we have from our simulations\n",
      "check_fb(fbA, expA)\n",
      "check_fb(fbB, expB)\n",
      "check_fb(fbC, expC)"
     ],
     "language": "python",
     "outputs": []
    },
    {
     "cell_type": "code",
     "collapsed": false,
     "input": [
      "def merge_stats(exp, sim):\n",
      "    arr = pd.DataFrame({\n",
      "\t'human': exp.stack(),\n",
      "\t'model': sim.stack()\n",
      "    }).unstack()\n",
      "    return arr"
     ],
     "language": "python",
     "outputs": []
    },
    {
     "cell_type": "code",
     "collapsed": false,
     "input": [
      "def plot_fall(arr):\n",
      "    fig, ax = plt.subplots()\n",
      "    for key, group in arr.groupby(level='kappa0'):\n",
      "\thm = group['human', 'median']\n",
      "\tmm = group['model', 'median']\n",
      "\thl = hm - group['human', 'lower']\n",
      "\thu = group['human', 'upper'] - hm\n",
      "\tax.errorbar(hm, mm, xerr=[hl, hu], label=key, ls='', marker='o')\n",
      "    ax.set_xlim(1, 7)\n",
      "    ax.set_ylim(0, 1)\n",
      "    ax.set_xlabel(\"Human\")\n",
      "    ax.set_ylabel(\"Model\")\n",
      "    ax.legend(loc=0, title='kappa0')"
     ],
     "language": "python",
     "outputs": []
    },
    {
     "cell_type": "code",
     "collapsed": false,
     "input": [
      "A_stats = merge_stats(expA_stats, simA_stats)\n",
      "B_stats = merge_stats(expB_stats, simB_stats)"
     ],
     "language": "python",
     "outputs": []
    },
    {
     "cell_type": "code",
     "collapsed": false,
     "input": [
      "print A_stats.xs('median', level=1, axis=1).groupby(level='kappa0').corr()\n",
      "plot_fall(A_stats)"
     ],
     "language": "python",
     "outputs": []
    },
    {
     "cell_type": "code",
     "collapsed": false,
     "input": [
      "print B_stats.xs('median', level=1, axis=1).groupby(level='kappa0').corr()\n",
      "plot_fall(B_stats)"
     ],
     "language": "python",
     "outputs": []
    },
    {
     "cell_type": "code",
     "collapsed": false,
     "input": [
      "fig, ax = plt.subplots()\n",
      "colors = ['r', 'b']\n",
      "\n",
      "for i, (kappa0, df) in enumerate(expC_stats.groupby(level='kappa0')):\n",
      "    X = df.reset_index('kappa0', drop=True).index\n",
      "    lower = np.asarray(df['lower'])\n",
      "    upper = np.asarray(df['upper'])\n",
      "    median = np.asarray(df['median'])\n",
      "\n",
      "    ax.fill_between(X, lower, upper, alpha=0.2, color=colors[i])\n",
      "    ax.plot(X, median, label=kappa0, color=colors[i], lw=2)\n",
      "\n",
      "ax.set_xlim(1, 20)\n",
      "ax.set_xlabel(\"Trial\")\n",
      "ax.set_ylabel(\"<-- color 0 heavy     color 1 heavy -->\")\n",
      "ax.legend(loc=0, title='kappa0')"
     ],
     "language": "python",
     "outputs": []
    }
   ]
  }
 ]
}