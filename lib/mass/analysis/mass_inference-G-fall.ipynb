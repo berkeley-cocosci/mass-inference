{
 "metadata": {
  "name": ""
 },
 "nbformat": 3,
 "nbformat_minor": 0,
 "worksheets": [
  {
   "cells": [
    {
     "cell_type": "code",
     "collapsed": false,
     "input": [
      "%matplotlib inline"
     ],
     "language": "python",
     "outputs": [],
     "prompt_number": 1
    },
    {
     "cell_type": "code",
     "collapsed": false,
     "input": [
      "# Builtins\n",
      "from itertools import izip\n",
      "from datetime import timedelta\n",
      "import time\n",
      "import pickle\n",
      "# External\n",
      "import pandas as pd\n",
      "import matplotlib.pyplot as plt\n",
      "from path import path\n",
      "from IPython.display import Image\n",
      "import pymc\n",
      "# Local\n",
      "import analysis_tools as at\n",
      "from snippets import datapackage as dpkg\n",
      "from mass import DATA_PATH\n",
      "from mass.model import IPE, Feedback, NoFeedback, ObserverModel, FallModel\n",
      "from snippets.safemath import normalize"
     ],
     "language": "python",
     "outputs": [
      {
       "output_type": "stream",
       "stream": "stdout",
       "text": [
        "Couldn't import dot_parser, loading of dot files will not be possible.\n"
       ]
      }
     ],
     "prompt_number": 2
    },
    {
     "cell_type": "code",
     "collapsed": false,
     "input": [
      "from IPython import parallel\n",
      "rc = parallel.Client()\n",
      "dview = rc[:]\n",
      "lbview = rc.load_balanced_view()"
     ],
     "language": "python",
     "outputs": [],
     "prompt_number": 3
    },
    {
     "cell_type": "code",
     "collapsed": false,
     "input": [
      "with dview.sync_imports():\n",
      "    import numpy as np"
     ],
     "language": "python",
     "outputs": [
      {
       "output_type": "stream",
       "stream": "stdout",
       "text": [
        "importing numpy on engine(s)\n"
       ]
      }
     ],
     "prompt_number": 4
    },
    {
     "cell_type": "code",
     "collapsed": false,
     "input": [
      "np.random.seed(23048)"
     ],
     "language": "python",
     "outputs": [],
     "prompt_number": 5
    },
    {
     "cell_type": "code",
     "collapsed": false,
     "input": [
      "exp_dp = dpkg.DataPackage.load(DATA_PATH.joinpath(\n",
      "    \"human/mass_inference-G.dpkg\"))\n",
      "exp_all = exp_dp.load_resource(\"experiment.csv\")"
     ],
     "language": "python",
     "outputs": [],
     "prompt_number": 6
    },
    {
     "cell_type": "code",
     "collapsed": false,
     "input": [
      "def get_fall(arr):\n",
      "    return arr.pivot_table(\n",
      "\trows=['kappa0', 'pid'],\n",
      "\tcols='stimulus',\n",
      "\tvalues='fall? response')\n",
      "\n",
      "def get_mass(arr):\n",
      "    return arr.pivot_table(\n",
      "\trows=['kappa0', 'pid'],\n",
      "\tcols='trial',\n",
      "\tvalues='mass? response')\n",
      "\n",
      "def get_trials(arr):\n",
      "    return arr.pivot(\n",
      "\tindex='trial', \n",
      "\tcolumns='pid', \n",
      "\tvalues='stimulus')"
     ],
     "language": "python",
     "outputs": [],
     "prompt_number": 7
    },
    {
     "cell_type": "code",
     "collapsed": false,
     "input": [
      "exp = {\n",
      "    'A': exp_all.groupby('mode').get_group('experimentA'),\n",
      "    'B': exp_all.groupby('mode').get_group('experimentB'),\n",
      "    'C': exp_all.groupby('mode').get_group('experimentC')\n",
      "}"
     ],
     "language": "python",
     "outputs": [],
     "prompt_number": 8
    },
    {
     "cell_type": "code",
     "collapsed": false,
     "input": [
      "trials = {mode: get_trials(exp[mode]).dropna() for mode in exp}"
     ],
     "language": "python",
     "outputs": [],
     "prompt_number": 9
    },
    {
     "cell_type": "code",
     "collapsed": false,
     "input": [
      "ipe = {\n",
      "    'A': IPE(\"mass_inference-G-a_ipe_fall\", sigma=0.04, phi=0.2),\n",
      "    'B': IPE(\"mass_inference-G-b_ipe_fall\", sigma=0.04, phi=0.2),\n",
      "    'C': IPE(\"mass_inference-G-b_ipe_fall\", sigma=0.04, phi=0.2)\n",
      "}\n",
      "\n",
      "fb = {\n",
      "    'A': NoFeedback(\"mass_inference-G-a_truth_fall\"),\n",
      "    'B': NoFeedback(\"mass_inference-G-b_truth_fall\"),\n",
      "    'C': Feedback(\"mass_inference-G-b_truth_fall\"),\n",
      "}"
     ],
     "language": "python",
     "outputs": [],
     "prompt_number": 10
    },
    {
     "cell_type": "code",
     "collapsed": false,
     "input": [
      "ipe['B'].plot(0)"
     ],
     "language": "python",
     "outputs": [
      {
       "output_type": "display_data",
       "png": "[encoded data removed]",
       "text": [
        "<matplotlib.figure.Figure at 0x112bf5550>"
       ]
      }
     ],
     "prompt_number": 11
    },
    {
     "cell_type": "code",
     "collapsed": false,
     "input": [
      "pid = 'ARXGC76QE55LG'\n",
      "model = FallModel(\n",
      "    ipe['B'],\n",
      "    get_fall(exp['B']).reset_index('kappa0', drop=True).T[pid],\n",
      "    trials['B'][pid][:3])"
     ],
     "language": "python",
     "outputs": [],
     "prompt_number": 12
    },
    {
     "cell_type": "code",
     "collapsed": false,
     "input": [
      "pymc.graph.graph(pymc.Model(model), format='png')\n",
      "Image(\"container.png\")"
     ],
     "language": "python",
     "outputs": [
      {
       "output_type": "pyout",
       "png": "[encoded data removed]",
       "prompt_number": 13,
       "text": [
        "<IPython.core.display.Image at 0x117bd2a10>"
       ]
      }
     ],
     "prompt_number": 13
    },
    {
     "cell_type": "code",
     "collapsed": false,
     "input": [
      "models = {}\n",
      "for (kappa0, pid), df in get_fall(exp['B']).groupby(level=['kappa0', 'pid']):\n",
      "    m = ipe['B']\n",
      "    h = df.T[kappa0, pid]\n",
      "\n",
      "    prior = np.ones(27) / 27\n",
      "    if kappa0 < 0:\n",
      "    \tprior[:13] += 1\n",
      "    elif kappa0 > 0:\n",
      "    \tprior[-13:] += 1\n",
      "    prior = np.exp(normalize(np.log(prior))[1])\n",
      "\n",
      "    models[(kappa0, pid)] = FallModel(m, h, trials['B'][pid], prior=prior)"
     ],
     "language": "python",
     "outputs": [],
     "prompt_number": 14
    },
    {
     "cell_type": "code",
     "collapsed": false,
     "input": [
      "def fit(task):\n",
      "    (kappa0, pid), model = task\n",
      "    np.random.seed(23048)\n",
      "    model.fit()\n",
      "    return (kappa0, pid), model"
     ],
     "language": "python",
     "outputs": [],
     "prompt_number": 15
    },
    {
     "cell_type": "code",
     "collapsed": false,
     "input": [
      "def show_progress(jobs):\n",
      "    msg_base = \"%d / %d complete, %ds elapsed\"\n",
      "    \n",
      "    msg = msg_base % (0, len(models), 0)\n",
      "    sys.stdout.write(msg + \"\\r\")\n",
      "    sys.stdout.flush()\n",
      "\n",
      "    for i, result in enumerate(jobs):\n",
      "\tsys.stdout.write(\" \" * len(msg) + \"\\r\")\n",
      "\tptime = jobs.elapsed\n",
      "\tmsg = msg_base % (i+1, len(models), ptime)\n",
      "\tsys.stdout.write(msg + \"\\r\")\n",
      "\tsys.stdout.flush()"
     ],
     "language": "python",
     "outputs": [],
     "prompt_number": 16
    },
    {
     "cell_type": "code",
     "collapsed": false,
     "input": [
      "jobs = lbview.map(fit, models.iteritems(), ordered=False)"
     ],
     "language": "python",
     "outputs": []
    },
    {
     "cell_type": "code",
     "collapsed": false,
     "input": [
      "show_progress(jobs)\n",
      "models = dict(jobs.result)"
     ],
     "language": "python",
     "outputs": [
      {
       "output_type": "stream",
       "stream": "stdout",
       "text": [
        "0 / 69 complete, 0s elapsed\r"
       ]
      },
      {
       "output_type": "stream",
       "stream": "stdout",
       "text": [
        "                           \r",
        "1 / 69 complete, 224s elapsed\r"
       ]
      },
      {
       "output_type": "stream",
       "stream": "stdout",
       "text": [
        "                             \r",
        "2 / 69 complete, 224s elapsed\r"
       ]
      },
      {
       "output_type": "stream",
       "stream": "stdout",
       "text": [
        "                             \r",
        "3 / 69 complete, 224s elapsed\r"
       ]
      },
      {
       "output_type": "stream",
       "stream": "stdout",
       "text": [
        "                             \r",
        "4 / 69 complete, 224s elapsed\r"
       ]
      },
      {
       "output_type": "stream",
       "stream": "stdout",
       "text": [
        "                             \r",
        "5 / 69 complete, 224s elapsed\r"
       ]
      },
      {
       "output_type": "stream",
       "stream": "stdout",
       "text": [
        "                             \r",
        "6 / 69 complete, 224s elapsed\r"
       ]
      },
      {
       "output_type": "stream",
       "stream": "stdout",
       "text": [
        "                             \r",
        "7 / 69 complete, 224s elapsed\r"
       ]
      },
      {
       "output_type": "stream",
       "stream": "stdout",
       "text": [
        "                             \r",
        "8 / 69 complete, 224s elapsed\r"
       ]
      },
      {
       "output_type": "stream",
       "stream": "stdout",
       "text": [
        "                             \r",
        "9 / 69 complete, 224s elapsed\r"
       ]
      },
      {
       "output_type": "stream",
       "stream": "stdout",
       "text": [
        "                             \r",
        "10 / 69 complete, 224s elapsed\r"
       ]
      },
      {
       "output_type": "stream",
       "stream": "stdout",
       "text": [
        "                              \r",
        "11 / 69 complete, 224s elapsed\r"
       ]
      },
      {
       "output_type": "stream",
       "stream": "stdout",
       "text": [
        "                              \r",
        "12 / 69 complete, 224s elapsed\r"
       ]
      },
      {
       "output_type": "stream",
       "stream": "stdout",
       "text": [
        "                              \r",
        "13 / 69 complete, 224s elapsed\r"
       ]
      },
      {
       "output_type": "stream",
       "stream": "stdout",
       "text": [
        "                              \r",
        "14 / 69 complete, 224s elapsed\r"
       ]
      },
      {
       "output_type": "stream",
       "stream": "stdout",
       "text": [
        "                              \r",
        "15 / 69 complete, 224s elapsed\r"
       ]
      },
      {
       "output_type": "stream",
       "stream": "stdout",
       "text": [
        "                              \r",
        "16 / 69 complete, 224s elapsed\r"
       ]
      },
      {
       "output_type": "stream",
       "stream": "stdout",
       "text": [
        "                              \r",
        "17 / 69 complete, 224s elapsed\r"
       ]
      },
      {
       "output_type": "stream",
       "stream": "stdout",
       "text": [
        "                              \r",
        "18 / 69 complete, 224s elapsed\r"
       ]
      },
      {
       "output_type": "stream",
       "stream": "stdout",
       "text": [
        "                              \r",
        "19 / 69 complete, 224s elapsed\r"
       ]
      },
      {
       "output_type": "stream",
       "stream": "stdout",
       "text": [
        "                              \r",
        "20 / 69 complete, 224s elapsed\r"
       ]
      },
      {
       "output_type": "stream",
       "stream": "stdout",
       "text": [
        "                              \r",
        "21 / 69 complete, 224s elapsed\r"
       ]
      },
      {
       "output_type": "stream",
       "stream": "stdout",
       "text": [
        "                              \r",
        "22 / 69 complete, 224s elapsed\r"
       ]
      },
      {
       "output_type": "stream",
       "stream": "stdout",
       "text": [
        "                              \r",
        "23 / 69 complete, 224s elapsed\r"
       ]
      },
      {
       "output_type": "stream",
       "stream": "stdout",
       "text": [
        "                              \r",
        "24 / 69 complete, 224s elapsed\r"
       ]
      },
      {
       "output_type": "stream",
       "stream": "stdout",
       "text": [
        "                              \r",
        "25 / 69 complete, 224s elapsed\r"
       ]
      },
      {
       "output_type": "stream",
       "stream": "stdout",
       "text": [
        "                              \r",
        "26 / 69 complete, 224s elapsed\r"
       ]
      },
      {
       "output_type": "stream",
       "stream": "stdout",
       "text": [
        "                              \r",
        "27 / 69 complete, 224s elapsed\r"
       ]
      },
      {
       "output_type": "stream",
       "stream": "stdout",
       "text": [
        "                              \r",
        "28 / 69 complete, 224s elapsed\r"
       ]
      },
      {
       "output_type": "stream",
       "stream": "stdout",
       "text": [
        "                              \r",
        "29 / 69 complete, 224s elapsed\r"
       ]
      },
      {
       "output_type": "stream",
       "stream": "stdout",
       "text": [
        "                              \r",
        "30 / 69 complete, 224s elapsed\r"
       ]
      },
      {
       "output_type": "stream",
       "stream": "stdout",
       "text": [
        "                              \r",
        "31 / 69 complete, 224s elapsed\r"
       ]
      },
      {
       "output_type": "stream",
       "stream": "stdout",
       "text": [
        "                              \r",
        "32 / 69 complete, 224s elapsed\r"
       ]
      },
      {
       "output_type": "stream",
       "stream": "stdout",
       "text": [
        "                              \r",
        "33 / 69 complete, 224s elapsed\r"
       ]
      },
      {
       "output_type": "stream",
       "stream": "stdout",
       "text": [
        "                              \r",
        "34 / 69 complete, 224s elapsed\r"
       ]
      },
      {
       "output_type": "stream",
       "stream": "stdout",
       "text": [
        "                              \r",
        "35 / 69 complete, 224s elapsed\r"
       ]
      },
      {
       "output_type": "stream",
       "stream": "stdout",
       "text": [
        "                              \r",
        "36 / 69 complete, 224s elapsed\r"
       ]
      },
      {
       "output_type": "stream",
       "stream": "stdout",
       "text": [
        "                              \r",
        "37 / 69 complete, 224s elapsed\r"
       ]
      },
      {
       "output_type": "stream",
       "stream": "stdout",
       "text": [
        "                              \r",
        "38 / 69 complete, 224s elapsed\r"
       ]
      },
      {
       "output_type": "stream",
       "stream": "stdout",
       "text": [
        "                              \r",
        "39 / 69 complete, 224s elapsed\r"
       ]
      },
      {
       "output_type": "stream",
       "stream": "stdout",
       "text": [
        "                              \r",
        "40 / 69 complete, 224s elapsed\r"
       ]
      },
      {
       "output_type": "stream",
       "stream": "stdout",
       "text": [
        "                              \r",
        "41 / 69 complete, 224s elapsed\r"
       ]
      },
      {
       "output_type": "stream",
       "stream": "stdout",
       "text": [
        "                              \r",
        "42 / 69 complete, 224s elapsed\r"
       ]
      },
      {
       "output_type": "stream",
       "stream": "stdout",
       "text": [
        "                              \r",
        "43 / 69 complete, 224s elapsed\r"
       ]
      },
      {
       "output_type": "stream",
       "stream": "stdout",
       "text": [
        "                              \r",
        "44 / 69 complete, 224s elapsed\r"
       ]
      },
      {
       "output_type": "stream",
       "stream": "stdout",
       "text": [
        "                              \r",
        "45 / 69 complete, 224s elapsed\r"
       ]
      },
      {
       "output_type": "stream",
       "stream": "stdout",
       "text": [
        "                              \r",
        "46 / 69 complete, 224s elapsed\r"
       ]
      },
      {
       "output_type": "stream",
       "stream": "stdout",
       "text": [
        "                              \r",
        "47 / 69 complete, 224s elapsed\r"
       ]
      },
      {
       "output_type": "stream",
       "stream": "stdout",
       "text": [
        "                              \r",
        "48 / 69 complete, 224s elapsed\r"
       ]
      },
      {
       "output_type": "stream",
       "stream": "stdout",
       "text": [
        "                              \r",
        "49 / 69 complete, 224s elapsed\r"
       ]
      },
      {
       "output_type": "stream",
       "stream": "stdout",
       "text": [
        "                              \r",
        "50 / 69 complete, 224s elapsed\r"
       ]
      },
      {
       "output_type": "stream",
       "stream": "stdout",
       "text": [
        "                              \r",
        "51 / 69 complete, 224s elapsed\r"
       ]
      },
      {
       "output_type": "stream",
       "stream": "stdout",
       "text": [
        "                              \r",
        "52 / 69 complete, 224s elapsed\r"
       ]
      },
      {
       "output_type": "stream",
       "stream": "stdout",
       "text": [
        "                              \r",
        "53 / 69 complete, 224s elapsed\r"
       ]
      },
      {
       "output_type": "stream",
       "stream": "stdout",
       "text": [
        "                              \r",
        "54 / 69 complete, 224s elapsed\r"
       ]
      },
      {
       "output_type": "stream",
       "stream": "stdout",
       "text": [
        "                              \r",
        "55 / 69 complete, 224s elapsed\r"
       ]
      },
      {
       "output_type": "stream",
       "stream": "stdout",
       "text": [
        "                              \r",
        "56 / 69 complete, 224s elapsed\r"
       ]
      },
      {
       "output_type": "stream",
       "stream": "stdout",
       "text": [
        "                              \r",
        "57 / 69 complete, 226s elapsed\r"
       ]
      },
      {
       "output_type": "stream",
       "stream": "stdout",
       "text": [
        "                              \r",
        "58 / 69 complete, 226s elapsed\r"
       ]
      },
      {
       "output_type": "stream",
       "stream": "stdout",
       "text": [
        "                              \r",
        "59 / 69 complete, 234s elapsed\r"
       ]
      },
      {
       "output_type": "stream",
       "stream": "stdout",
       "text": [
        "                              \r",
        "60 / 69 complete, 234s elapsed\r"
       ]
      },
      {
       "output_type": "stream",
       "stream": "stdout",
       "text": [
        "                              \r",
        "61 / 69 complete, 242s elapsed\r"
       ]
      },
      {
       "output_type": "stream",
       "stream": "stdout",
       "text": [
        "                              \r",
        "62 / 69 complete, 243s elapsed\r"
       ]
      },
      {
       "output_type": "stream",
       "stream": "stdout",
       "text": [
        "                              \r",
        "63 / 69 complete, 251s elapsed\r"
       ]
      },
      {
       "output_type": "stream",
       "stream": "stdout",
       "text": [
        "                              \r",
        "64 / 69 complete, 251s elapsed\r"
       ]
      },
      {
       "output_type": "stream",
       "stream": "stdout",
       "text": [
        "                              \r",
        "65 / 69 complete, 252s elapsed\r"
       ]
      },
      {
       "output_type": "stream",
       "stream": "stdout",
       "text": [
        "                              \r",
        "66 / 69 complete, 259s elapsed\r"
       ]
      },
      {
       "output_type": "stream",
       "stream": "stdout",
       "text": [
        "                              \r",
        "67 / 69 complete, 260s elapsed\r"
       ]
      },
      {
       "output_type": "stream",
       "stream": "stdout",
       "text": [
        "                              \r",
        "68 / 69 complete, 267s elapsed\r"
       ]
      },
      {
       "output_type": "stream",
       "stream": "stdout",
       "text": [
        "                              \r",
        "69 / 69 complete, 269s elapsed\r"
       ]
      }
     ],
     "prompt_number": 18
    },
    {
     "cell_type": "code",
     "collapsed": false,
     "input": [
      "with open(\"MAP_results.pkl\", \"w\") as fh:\n",
      "    pickle.dump(models, fh)"
     ],
     "language": "python",
     "outputs": [],
     "prompt_number": 19
    },
    {
     "cell_type": "code",
     "collapsed": false,
     "input": [
      "with open(\"MAP_results.pkl\", \"r\") as fh:\n",
      "    results = pickle.load(fh)\n",
      "\n",
      "ik = [k + (v.kappas[int(v.k.value)],) for k, v in results.iteritems()]\n",
      "ik = pd.DataFrame(ik, columns=['kappa0', 'pid', 'kappa'])\\\n",
      "       .pivot('pid', 'kappa0', 'kappa')\n",
      "\n",
      "ik"
     ],
     "language": "python",
     "outputs": [
      {
       "html": [
        "<pre>\n",
        "&lt;class 'pandas.core.frame.DataFrame'&gt;\n",
        "Index: 69 entries, A11CD84PA4R2BU to AWSMNU51EUCA6\n",
        "Data columns (total 2 columns):\n",
        "-1.0    30  non-null values\n",
        "1.0     39  non-null values\n",
        "dtypes: float64(2)\n",
        "</pre>"
       ],
       "output_type": "pyout",
       "prompt_number": 25,
       "text": [
        "<class 'pandas.core.frame.DataFrame'>\n",
        "Index: 69 entries, A11CD84PA4R2BU to AWSMNU51EUCA6\n",
        "Data columns (total 2 columns):\n",
        "-1.0    30  non-null values\n",
        "1.0     39  non-null values\n",
        "dtypes: float64(2)"
       ]
      }
     ],
     "prompt_number": 25
    },
    {
     "cell_type": "code",
     "collapsed": false,
     "input": [
      "ik.hist()"
     ],
     "language": "python",
     "outputs": [
      {
       "output_type": "pyout",
       "prompt_number": 26,
       "text": [
        "array([[<matplotlib.axes.AxesSubplot object at 0x11d0aa5d0>,\n",
        "        <matplotlib.axes.AxesSubplot object at 0x11e47c490>]], dtype=object)"
       ]
      },
      {
       "output_type": "display_data",
       "png": "[encoded data removed]",
       "text": [
        "<matplotlib.figure.Figure at 0x11da84f90>"
       ]
      }
     ],
     "prompt_number": 26
    }
   ]
  }
 ]
}